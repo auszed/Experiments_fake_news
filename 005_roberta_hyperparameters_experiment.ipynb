{
 "cells": [
  {
   "cell_type": "markdown",
   "id": "c52669539e283167",
   "metadata": {
    "id": "c52669539e283167"
   },
   "source": [
    "# Roberta hyperparameters\n",
    "In this experiment, we will create two baseline machine learning models to predict the values, providing a foundation for future iterations.\n",
    "Now that we have everything ready, we will export the dataset.\n",
    "\n",
    "- **MODEL_NAME**: `\"roberta-base\"`\n",
    "- **NAME_EXPERIMENTS**: `\"Fake news comments\"`\n",
    "- **DATASET_NAME**: `\"X_train_cleaned_2\"`\n",
    "- **HYPERPARAMETERS_EXPERIMENTS**: `20`\n",
    "- **BATCH_SIZE**: `8`\n",
    "- **NUM_LABELS**: `1`\n",
    "- **EPOCHS**: `3`\n",
    "- **THRESHOLD_PROBABILITIES_MODEL**: `0.5`\n",
    "- **COMMENTS**: `\"Some hyperparameter tuning with the clean dataset where we take out some values\"`\n",
    "- **PATIENCE_EARLY_STOP**: `3`\n",
    "- **LEARNING_RATE**: `1e-10 to 1e-2`\n",
    "- **WEIGHT_DECAY**: `1e-12 to 1e-2`\n",
    "- **DROPOUT_VALUE**: `0.1 to 0.3`\n",
    "- **WARMUP_RATIO**: `0.0 to 0.2`\n",
    "- **OPTIMIZER_NAME**: `\"AdamW\"`, `\"SGD\"`, `\"RMSprop\"`\n",
    "\n",
    "\n",
    "Also, we will be adding just 30% of the training dataset, but for the training we had all the dataset."
   ]
  },
  {
   "cell_type": "code",
   "execution_count": null,
   "id": "evpgMd9r17SF",
   "metadata": {
    "id": "evpgMd9r17SF"
   },
   "outputs": [],
   "source": [
    "%%capture\n",
    "!pip install mlflow dagshub wandb optuna"
   ]
  },
  {
   "cell_type": "code",
   "execution_count": null,
   "id": "initial_id",
   "metadata": {
    "colab": {
     "base_uri": "https://localhost:8080/",
     "height": 548,
     "referenced_widgets": [
      "a650509c37c04c26bfbf48913f9eda66",
      "bc39dbe2d7e145cebc9045fc26576c0b"
     ]
    },
    "collapsed": true,
    "id": "initial_id",
    "outputId": "607adecc-db3b-4b09-f580-5d735aaac8fe"
   },
   "outputs": [
    {
     "output_type": "stream",
     "name": "stdout",
     "text": [
      "Mounted at /content/drive\n"
     ]
    },
    {
     "output_type": "stream",
     "name": "stderr",
     "text": [
      "[nltk_data] Downloading package stopwords to /root/nltk_data...\n",
      "[nltk_data]   Unzipping corpora/stopwords.zip.\n"
     ]
    },
    {
     "output_type": "stream",
     "name": "stdout",
     "text": [
      "Number of available CPU cores: 12\n",
      "Setting num_workers to: 11\n"
     ]
    },
    {
     "output_type": "stream",
     "name": "stderr",
     "text": [
      "\u001B[34m\u001B[1mwandb\u001B[0m: Using wandb-core as the SDK backend.  Please refer to https://wandb.me/wandb-core for more information.\n"
     ]
    },
    {
     "output_type": "display_data",
     "data": {
      "text/plain": [
       "<IPython.core.display.Javascript object>"
      ],
      "application/javascript": [
       "\n",
       "        window._wandbApiKey = new Promise((resolve, reject) => {\n",
       "            function loadScript(url) {\n",
       "            return new Promise(function(resolve, reject) {\n",
       "                let newScript = document.createElement(\"script\");\n",
       "                newScript.onerror = reject;\n",
       "                newScript.onload = resolve;\n",
       "                document.body.appendChild(newScript);\n",
       "                newScript.src = url;\n",
       "            });\n",
       "            }\n",
       "            loadScript(\"https://cdn.jsdelivr.net/npm/postmate/build/postmate.min.js\").then(() => {\n",
       "            const iframe = document.createElement('iframe')\n",
       "            iframe.style.cssText = \"width:0;height:0;border:none\"\n",
       "            document.body.appendChild(iframe)\n",
       "            const handshake = new Postmate({\n",
       "                container: iframe,\n",
       "                url: 'https://wandb.ai/authorize'\n",
       "            });\n",
       "            const timeout = setTimeout(() => reject(\"Couldn't auto authenticate\"), 5000)\n",
       "            handshake.then(function(child) {\n",
       "                child.on('authorize', data => {\n",
       "                    clearTimeout(timeout)\n",
       "                    resolve(data)\n",
       "                });\n",
       "            });\n",
       "            })\n",
       "        });\n",
       "    "
      ]
     },
     "metadata": {}
    },
    {
     "output_type": "stream",
     "name": "stderr",
     "text": [
      "\u001B[34m\u001B[1mwandb\u001B[0m: Logging into wandb.ai. (Learn how to deploy a W&B server locally: https://wandb.me/wandb-server)\n",
      "\u001B[34m\u001B[1mwandb\u001B[0m: You can find your API key in your browser here: https://wandb.ai/authorize\n",
      "wandb: Paste an API key from your profile and hit enter, or press ctrl+c to quit:"
     ]
    },
    {
     "name": "stdout",
     "output_type": "stream",
     "text": [
      " ··········\n"
     ]
    },
    {
     "output_type": "stream",
     "name": "stderr",
     "text": [
      "\u001B[34m\u001B[1mwandb\u001B[0m: Appending key for api.wandb.ai to your netrc file: /root/.netrc\n"
     ]
    },
    {
     "output_type": "display_data",
     "data": {
      "text/plain": [
       "                                       \u001B[1m❗❗❗ AUTHORIZATION REQUIRED ❗❗❗\u001B[0m                                        \n"
      ],
      "text/html": [
       "<pre style=\"white-space:pre;overflow-x:auto;line-height:normal;font-family:Menlo,'DejaVu Sans Mono',consolas,'Courier New',monospace\">                                       <span style=\"font-weight: bold\">❗❗❗ AUTHORIZATION REQUIRED ❗❗❗</span>                                        \n",
       "</pre>\n"
      ]
     },
     "metadata": {}
    },
    {
     "output_type": "display_data",
     "data": {
      "text/plain": [
       "Output()"
      ],
      "application/vnd.jupyter.widget-view+json": {
       "version_major": 2,
       "version_minor": 0,
       "model_id": "a650509c37c04c26bfbf48913f9eda66"
      }
     },
     "metadata": {}
    },
    {
     "output_type": "stream",
     "name": "stdout",
     "text": [
      "\n",
      "\n",
      "Open the following link in your browser to authorize the client:\n",
      "https://dagshub.com/login/oauth/authorize?state=fe656b57-85d5-4866-83ae-287216bdc403&client_id=32b60ba385aa7cecf24046d8195a71c07dd345d9657977863b52e7748e0f0f28&middleman_request_id=7c36659b6bf4dbb8305b9ad1de0cde087d9a0a0703336218877edb42cdbcfbd5\n",
      "\n",
      "\n"
     ]
    },
    {
     "output_type": "display_data",
     "data": {
      "text/plain": [],
      "text/html": [
       "<pre style=\"white-space:pre;overflow-x:auto;line-height:normal;font-family:Menlo,'DejaVu Sans Mono',consolas,'Courier New',monospace\"></pre>\n"
      ]
     },
     "metadata": {}
    },
    {
     "output_type": "display_data",
     "data": {
      "text/plain": [
       "Accessing as auszed\n"
      ],
      "text/html": [
       "<pre style=\"white-space:pre;overflow-x:auto;line-height:normal;font-family:Menlo,'DejaVu Sans Mono',consolas,'Courier New',monospace\">Accessing as auszed\n",
       "</pre>\n"
      ]
     },
     "metadata": {}
    },
    {
     "output_type": "display_data",
     "data": {
      "text/plain": [
       "Initialized MLflow to track repo \u001B[32m\"auszed/Experiments_fake_news\"\u001B[0m\n"
      ],
      "text/html": [
       "<pre style=\"white-space:pre;overflow-x:auto;line-height:normal;font-family:Menlo,'DejaVu Sans Mono',consolas,'Courier New',monospace\">Initialized MLflow to track repo <span style=\"color: #008000; text-decoration-color: #008000\">\"auszed/Experiments_fake_news\"</span>\n",
       "</pre>\n"
      ]
     },
     "metadata": {}
    },
    {
     "output_type": "display_data",
     "data": {
      "text/plain": [
       "Repository auszed/Experiments_fake_news initialized!\n"
      ],
      "text/html": [
       "<pre style=\"white-space:pre;overflow-x:auto;line-height:normal;font-family:Menlo,'DejaVu Sans Mono',consolas,'Courier New',monospace\">Repository auszed/Experiments_fake_news initialized!\n",
       "</pre>\n"
      ]
     },
     "metadata": {}
    },
    {
     "output_type": "stream",
     "name": "stderr",
     "text": [
      "[nltk_data] Downloading package stopwords to /root/nltk_data...\n",
      "[nltk_data]   Package stopwords is already up-to-date!\n"
     ]
    },
    {
     "output_type": "stream",
     "name": "stdout",
     "text": [
      "(26759, 1) (26759, 1)\n",
      "(5734, 1) (5734, 1)\n",
      "(5735, 1) (5735, 1)\n"
     ]
    },
    {
     "output_type": "execute_result",
     "data": {
      "text/plain": [
       "[(0.21176470588235294, 0.807843137254902, 0.5411764705882353),\n",
       " (0.4549019607843137, 0.21176470588235294, 0.9607843137254902),\n",
       " (0.21568627450980393, 0.21176470588235294, 0.9568627450980393),\n",
       " (0.21176470588235294, 0.6823529411764706, 0.9607843137254902),\n",
       " (0.7019607843137254, 0.21176470588235294, 0.9607843137254902),\n",
       " (0.9725490196078431, 0.08627450980392157, 0.3686274509803922),\n",
       " (0.21176470588235294, 0.4392156862745098, 0.6039215686274509),\n",
       " (0.21176470588235294, 0.4470588235294118, 0.9607843137254902),\n",
       " (0.47843137254901963, 0.807843137254902, 0.36470588235294116)]"
      ],
      "text/html": [
       "<svg  width=\"495\" height=\"55\"><rect x=\"0\" y=\"0\" width=\"55\" height=\"55\" style=\"fill:#36ce8a;stroke-width:2;stroke:rgb(255,255,255)\"/><rect x=\"55\" y=\"0\" width=\"55\" height=\"55\" style=\"fill:#7436f5;stroke-width:2;stroke:rgb(255,255,255)\"/><rect x=\"110\" y=\"0\" width=\"55\" height=\"55\" style=\"fill:#3736f4;stroke-width:2;stroke:rgb(255,255,255)\"/><rect x=\"165\" y=\"0\" width=\"55\" height=\"55\" style=\"fill:#36aef5;stroke-width:2;stroke:rgb(255,255,255)\"/><rect x=\"220\" y=\"0\" width=\"55\" height=\"55\" style=\"fill:#b336f5;stroke-width:2;stroke:rgb(255,255,255)\"/><rect x=\"275\" y=\"0\" width=\"55\" height=\"55\" style=\"fill:#f8165e;stroke-width:2;stroke:rgb(255,255,255)\"/><rect x=\"330\" y=\"0\" width=\"55\" height=\"55\" style=\"fill:#36709a;stroke-width:2;stroke:rgb(255,255,255)\"/><rect x=\"385\" y=\"0\" width=\"55\" height=\"55\" style=\"fill:#3672f5;stroke-width:2;stroke:rgb(255,255,255)\"/><rect x=\"440\" y=\"0\" width=\"55\" height=\"55\" style=\"fill:#7ace5d;stroke-width:2;stroke:rgb(255,255,255)\"/></svg>"
      ]
     },
     "metadata": {},
     "execution_count": 2
    }
   ],
   "source": [
    "# Standard Library Imports\n",
    "import math\n",
    "import os\n",
    "from typing import Dict, List\n",
    "\n",
    "# Third-party Libraries\n",
    "import mlflow\n",
    "import mlflow.pytorch\n",
    "import nltk\n",
    "import numpy as np\n",
    "import optuna\n",
    "import pandas as pd\n",
    "import seaborn as sns\n",
    "import torch\n",
    "import wandb\n",
    "from matplotlib.colors import LinearSegmentedColormap\n",
    "import matplotlib.pyplot as plt\n",
    "from sklearn.metrics import accuracy_score, confusion_matrix, f1_score, recall_score\n",
    "from torch.optim import AdamW, RMSprop, SGD\n",
    "from torch.utils.data import DataLoader, Dataset\n",
    "from wordcloud import WordCloud\n",
    "\n",
    "# Hugging Face Transformers\n",
    "from transformers import (\n",
    "    AdamW,\n",
    "    AutoModel,\n",
    "    AutoTokenizer,\n",
    "    BertModel,\n",
    "    BertTokenizer,\n",
    "    get_linear_schedule_with_warmup\n",
    ")\n",
    "\n",
    "# PyTorch Libraries\n",
    "import torch.nn as nn\n",
    "import torch.nn.functional as F\n",
    "\n",
    "\n",
    "# import google drive\n",
    "from google.colab import drive, files\n",
    "drive.mount('/content/drive')\n",
    "device = torch.device('cuda' if torch.cuda.is_available() else 'cpu')\n",
    "\n",
    "\"\"\"Import the modules from google colab\"\"\"\n",
    "import sys\n",
    "PATH_helper = \"/content/drive/MyDrive/turing_college_experiments/16/helper\"\n",
    "sys.path.append(PATH_helper)\n",
    "# Custom imports\n",
    "from helper_eda import (proportion_balance_classes, extractions_text_description, histogram_bins,\n",
    "                                plot_distribution_tokens_per_word, dimensionality_reduction_chart_tsne,\n",
    "                               components_pca_3d_chart)\n",
    "\n",
    "\"\"\"\n",
    "Verify the cores and gpu in the colab\n",
    "\"\"\"\n",
    "num_cores = os.cpu_count()  # Get the number of CPU cores\n",
    "print(f'Number of available CPU cores: {num_cores}')\n",
    "NUM_WORKERS = num_cores - 1\n",
    "print(f'Setting num_workers to: {NUM_WORKERS}')\n",
    "\n",
    "num_gpus_colab = torch.cuda.device_count()\n",
    "GPU_LIST = [torch.cuda.get_device_name(i) for i in range(num_gpus_colab)]\n",
    "NUM_WORKERS, GPU_LIST\n",
    "\n",
    "enable_code_paths = True\n",
    "enable_block = False\n",
    "\n",
    "# weight and biases\n",
    "wandb.login()\n",
    "\n",
    "# ml versioning control\n",
    "import dagshub\n",
    "import mlflow\n",
    "import mlflow.sklearn\n",
    "dagshub.init(repo_owner='auszed', repo_name='Experiments_fake_news', mlflow=True)\n",
    "\n",
    "# tracking experiments\n",
    "os.environ['MLFLOW_TRACKING_USERNAME'] = 'auszed'\n",
    "os.environ['MLFLOW_TRACKING_PASSWORD'] = '4390ce1796189f46f62a5e643463dcaffede3ebf'\n",
    "os.environ['MLFLOW_TRACKING_URI'] = 'https://dagshub.com/auszed/Experiments_fake_news.mlflow'\n",
    "\n",
    "\n",
    "# Download the stopwords if you haven't already\n",
    "nltk.download('stopwords')\n",
    "\n",
    "# Inline plotting for Jupyter Notebooks\n",
    "%matplotlib inline\n",
    "custom_colors = ['#36CE8A', \"#7436F5\",\"#3736F4\",   \"#36AEF5\", \"#B336F5\", \"#f8165e\", \"#36709A\",  \"#3672F5\", \"#7ACE5D\"]\n",
    "gradient_colors = [ \"#36CE8A\", '#7436F5']\n",
    "color_palette_custom  = sns.set_palette(custom_colors)\n",
    "theme_color = sns.color_palette(color_palette_custom, 9)\n",
    "cmap_theme = LinearSegmentedColormap.from_list('custom_colormap', gradient_colors)\n",
    "\n",
    "# File paths\n",
    "X_train = pd.read_csv(\"/content/drive/MyDrive/turing_college_experiments/16/dataset/X_train_cleaned_2.csv\")\n",
    "y_train = pd.read_csv(\"/content/drive/MyDrive/turing_college_experiments/16/dataset/y_train.csv\")\n",
    "X_val = pd.read_csv(\"/content/drive/MyDrive/turing_college_experiments/16/dataset/X_val_cleaned_2.csv\")\n",
    "y_val = pd.read_csv(\"/content/drive/MyDrive/turing_college_experiments/16/dataset/y_val.csv\")\n",
    "X_test = pd.read_csv(\"/content/drive/MyDrive/turing_college_experiments/16/dataset/X_test_cleaned_2.csv\")\n",
    "y_test = pd.read_csv(\"/content/drive/MyDrive/turing_college_experiments/16/dataset/y_test.csv\")\n",
    "\n",
    "X_train = X_train[[\"title_text_join\"]]\n",
    "X_val = X_val[[\"title_text_join\"]]\n",
    "X_test = X_test[[\"title_text_join\"]]\n",
    "\n",
    "print(X_train.shape,y_train.shape )\n",
    "print(X_val.shape,y_val.shape )\n",
    "print(X_test.shape,y_test.shape )\n",
    "theme_color"
   ]
  },
  {
   "cell_type": "code",
   "execution_count": null,
   "id": "6dcbd7a0cc15f927",
   "metadata": {
    "colab": {
     "base_uri": "https://localhost:8080/",
     "height": 310
    },
    "id": "6dcbd7a0cc15f927",
    "outputId": "16397bb3-f6d5-44aa-9c42-ee9e6ae278f1"
   },
   "outputs": [
    {
     "output_type": "stream",
     "name": "stdout",
     "text": [
      "TRAIN Dataset: (8028, 1)\n",
      "VALIDATION Dataset: (5734, 1)\n",
      "TEST Dataset: (5735, 1)\n",
      "TRAIN Dataset y: (8028, 1)\n",
      "VALIDATION Dataset y: (5734, 1)\n",
      "TEST Dataset y: (5735, 1)\n"
     ]
    },
    {
     "output_type": "execute_result",
     "data": {
      "text/plain": [
       "                                        title_text_join\n",
       "3685  china ope mocks turning rooster , ’ hilario lo...\n",
       "4733  u.s. spy chief 'resolute ' rsia cyber attack ,...\n",
       "6727  bernie vows keep fighting despite huge super t...\n",
       "4331  ‘ apprentice ’ contestants reveal shocking inf...\n",
       "5519   : u.s. , southeast asia advance 'shared visio..."
      ],
      "text/html": [
       "\n",
       "  <div id=\"df-8c893926-75b0-4b18-9fc3-8584f215346f\" class=\"colab-df-container\">\n",
       "    <div>\n",
       "<style scoped>\n",
       "    .dataframe tbody tr th:only-of-type {\n",
       "        vertical-align: middle;\n",
       "    }\n",
       "\n",
       "    .dataframe tbody tr th {\n",
       "        vertical-align: top;\n",
       "    }\n",
       "\n",
       "    .dataframe thead th {\n",
       "        text-align: right;\n",
       "    }\n",
       "</style>\n",
       "<table border=\"1\" class=\"dataframe\">\n",
       "  <thead>\n",
       "    <tr style=\"text-align: right;\">\n",
       "      <th></th>\n",
       "      <th>title_text_join</th>\n",
       "    </tr>\n",
       "  </thead>\n",
       "  <tbody>\n",
       "    <tr>\n",
       "      <th>3685</th>\n",
       "      <td>china ope mocks turning rooster , ’ hilario lo...</td>\n",
       "    </tr>\n",
       "    <tr>\n",
       "      <th>4733</th>\n",
       "      <td>u.s. spy chief 'resolute ' rsia cyber attack ,...</td>\n",
       "    </tr>\n",
       "    <tr>\n",
       "      <th>6727</th>\n",
       "      <td>bernie vows keep fighting despite huge super t...</td>\n",
       "    </tr>\n",
       "    <tr>\n",
       "      <th>4331</th>\n",
       "      <td>‘ apprentice ’ contestants reveal shocking inf...</td>\n",
       "    </tr>\n",
       "    <tr>\n",
       "      <th>5519</th>\n",
       "      <td>: u.s. , southeast asia advance 'shared visio...</td>\n",
       "    </tr>\n",
       "  </tbody>\n",
       "</table>\n",
       "</div>\n",
       "    <div class=\"colab-df-buttons\">\n",
       "\n",
       "  <div class=\"colab-df-container\">\n",
       "    <button class=\"colab-df-convert\" onclick=\"convertToInteractive('df-8c893926-75b0-4b18-9fc3-8584f215346f')\"\n",
       "            title=\"Convert this dataframe to an interactive table.\"\n",
       "            style=\"display:none;\">\n",
       "\n",
       "  <svg xmlns=\"http://www.w3.org/2000/svg\" height=\"24px\" viewBox=\"0 -960 960 960\">\n",
       "    <path d=\"M120-120v-720h720v720H120Zm60-500h600v-160H180v160Zm220 220h160v-160H400v160Zm0 220h160v-160H400v160ZM180-400h160v-160H180v160Zm440 0h160v-160H620v160ZM180-180h160v-160H180v160Zm440 0h160v-160H620v160Z\"/>\n",
       "  </svg>\n",
       "    </button>\n",
       "\n",
       "  <style>\n",
       "    .colab-df-container {\n",
       "      display:flex;\n",
       "      gap: 12px;\n",
       "    }\n",
       "\n",
       "    .colab-df-convert {\n",
       "      background-color: #E8F0FE;\n",
       "      border: none;\n",
       "      border-radius: 50%;\n",
       "      cursor: pointer;\n",
       "      display: none;\n",
       "      fill: #1967D2;\n",
       "      height: 32px;\n",
       "      padding: 0 0 0 0;\n",
       "      width: 32px;\n",
       "    }\n",
       "\n",
       "    .colab-df-convert:hover {\n",
       "      background-color: #E2EBFA;\n",
       "      box-shadow: 0px 1px 2px rgba(60, 64, 67, 0.3), 0px 1px 3px 1px rgba(60, 64, 67, 0.15);\n",
       "      fill: #174EA6;\n",
       "    }\n",
       "\n",
       "    .colab-df-buttons div {\n",
       "      margin-bottom: 4px;\n",
       "    }\n",
       "\n",
       "    [theme=dark] .colab-df-convert {\n",
       "      background-color: #3B4455;\n",
       "      fill: #D2E3FC;\n",
       "    }\n",
       "\n",
       "    [theme=dark] .colab-df-convert:hover {\n",
       "      background-color: #434B5C;\n",
       "      box-shadow: 0px 1px 3px 1px rgba(0, 0, 0, 0.15);\n",
       "      filter: drop-shadow(0px 1px 2px rgba(0, 0, 0, 0.3));\n",
       "      fill: #FFFFFF;\n",
       "    }\n",
       "  </style>\n",
       "\n",
       "    <script>\n",
       "      const buttonEl =\n",
       "        document.querySelector('#df-8c893926-75b0-4b18-9fc3-8584f215346f button.colab-df-convert');\n",
       "      buttonEl.style.display =\n",
       "        google.colab.kernel.accessAllowed ? 'block' : 'none';\n",
       "\n",
       "      async function convertToInteractive(key) {\n",
       "        const element = document.querySelector('#df-8c893926-75b0-4b18-9fc3-8584f215346f');\n",
       "        const dataTable =\n",
       "          await google.colab.kernel.invokeFunction('convertToInteractive',\n",
       "                                                    [key], {});\n",
       "        if (!dataTable) return;\n",
       "\n",
       "        const docLinkHtml = 'Like what you see? Visit the ' +\n",
       "          '<a target=\"_blank\" href=https://colab.research.google.com/notebooks/data_table.ipynb>data table notebook</a>'\n",
       "          + ' to learn more about interactive tables.';\n",
       "        element.innerHTML = '';\n",
       "        dataTable['output_type'] = 'display_data';\n",
       "        await google.colab.output.renderOutput(dataTable, element);\n",
       "        const docLink = document.createElement('div');\n",
       "        docLink.innerHTML = docLinkHtml;\n",
       "        element.appendChild(docLink);\n",
       "      }\n",
       "    </script>\n",
       "  </div>\n",
       "\n",
       "\n",
       "<div id=\"df-9f0002f8-ad50-4027-b278-1ef3e0c94c0c\">\n",
       "  <button class=\"colab-df-quickchart\" onclick=\"quickchart('df-9f0002f8-ad50-4027-b278-1ef3e0c94c0c')\"\n",
       "            title=\"Suggest charts\"\n",
       "            style=\"display:none;\">\n",
       "\n",
       "<svg xmlns=\"http://www.w3.org/2000/svg\" height=\"24px\"viewBox=\"0 0 24 24\"\n",
       "     width=\"24px\">\n",
       "    <g>\n",
       "        <path d=\"M19 3H5c-1.1 0-2 .9-2 2v14c0 1.1.9 2 2 2h14c1.1 0 2-.9 2-2V5c0-1.1-.9-2-2-2zM9 17H7v-7h2v7zm4 0h-2V7h2v10zm4 0h-2v-4h2v4z\"/>\n",
       "    </g>\n",
       "</svg>\n",
       "  </button>\n",
       "\n",
       "<style>\n",
       "  .colab-df-quickchart {\n",
       "      --bg-color: #E8F0FE;\n",
       "      --fill-color: #1967D2;\n",
       "      --hover-bg-color: #E2EBFA;\n",
       "      --hover-fill-color: #174EA6;\n",
       "      --disabled-fill-color: #AAA;\n",
       "      --disabled-bg-color: #DDD;\n",
       "  }\n",
       "\n",
       "  [theme=dark] .colab-df-quickchart {\n",
       "      --bg-color: #3B4455;\n",
       "      --fill-color: #D2E3FC;\n",
       "      --hover-bg-color: #434B5C;\n",
       "      --hover-fill-color: #FFFFFF;\n",
       "      --disabled-bg-color: #3B4455;\n",
       "      --disabled-fill-color: #666;\n",
       "  }\n",
       "\n",
       "  .colab-df-quickchart {\n",
       "    background-color: var(--bg-color);\n",
       "    border: none;\n",
       "    border-radius: 50%;\n",
       "    cursor: pointer;\n",
       "    display: none;\n",
       "    fill: var(--fill-color);\n",
       "    height: 32px;\n",
       "    padding: 0;\n",
       "    width: 32px;\n",
       "  }\n",
       "\n",
       "  .colab-df-quickchart:hover {\n",
       "    background-color: var(--hover-bg-color);\n",
       "    box-shadow: 0 1px 2px rgba(60, 64, 67, 0.3), 0 1px 3px 1px rgba(60, 64, 67, 0.15);\n",
       "    fill: var(--button-hover-fill-color);\n",
       "  }\n",
       "\n",
       "  .colab-df-quickchart-complete:disabled,\n",
       "  .colab-df-quickchart-complete:disabled:hover {\n",
       "    background-color: var(--disabled-bg-color);\n",
       "    fill: var(--disabled-fill-color);\n",
       "    box-shadow: none;\n",
       "  }\n",
       "\n",
       "  .colab-df-spinner {\n",
       "    border: 2px solid var(--fill-color);\n",
       "    border-color: transparent;\n",
       "    border-bottom-color: var(--fill-color);\n",
       "    animation:\n",
       "      spin 1s steps(1) infinite;\n",
       "  }\n",
       "\n",
       "  @keyframes spin {\n",
       "    0% {\n",
       "      border-color: transparent;\n",
       "      border-bottom-color: var(--fill-color);\n",
       "      border-left-color: var(--fill-color);\n",
       "    }\n",
       "    20% {\n",
       "      border-color: transparent;\n",
       "      border-left-color: var(--fill-color);\n",
       "      border-top-color: var(--fill-color);\n",
       "    }\n",
       "    30% {\n",
       "      border-color: transparent;\n",
       "      border-left-color: var(--fill-color);\n",
       "      border-top-color: var(--fill-color);\n",
       "      border-right-color: var(--fill-color);\n",
       "    }\n",
       "    40% {\n",
       "      border-color: transparent;\n",
       "      border-right-color: var(--fill-color);\n",
       "      border-top-color: var(--fill-color);\n",
       "    }\n",
       "    60% {\n",
       "      border-color: transparent;\n",
       "      border-right-color: var(--fill-color);\n",
       "    }\n",
       "    80% {\n",
       "      border-color: transparent;\n",
       "      border-right-color: var(--fill-color);\n",
       "      border-bottom-color: var(--fill-color);\n",
       "    }\n",
       "    90% {\n",
       "      border-color: transparent;\n",
       "      border-bottom-color: var(--fill-color);\n",
       "    }\n",
       "  }\n",
       "</style>\n",
       "\n",
       "  <script>\n",
       "    async function quickchart(key) {\n",
       "      const quickchartButtonEl =\n",
       "        document.querySelector('#' + key + ' button');\n",
       "      quickchartButtonEl.disabled = true;  // To prevent multiple clicks.\n",
       "      quickchartButtonEl.classList.add('colab-df-spinner');\n",
       "      try {\n",
       "        const charts = await google.colab.kernel.invokeFunction(\n",
       "            'suggestCharts', [key], {});\n",
       "      } catch (error) {\n",
       "        console.error('Error during call to suggestCharts:', error);\n",
       "      }\n",
       "      quickchartButtonEl.classList.remove('colab-df-spinner');\n",
       "      quickchartButtonEl.classList.add('colab-df-quickchart-complete');\n",
       "    }\n",
       "    (() => {\n",
       "      let quickchartButtonEl =\n",
       "        document.querySelector('#df-9f0002f8-ad50-4027-b278-1ef3e0c94c0c button');\n",
       "      quickchartButtonEl.style.display =\n",
       "        google.colab.kernel.accessAllowed ? 'block' : 'none';\n",
       "    })();\n",
       "  </script>\n",
       "</div>\n",
       "\n",
       "    </div>\n",
       "  </div>\n"
      ],
      "application/vnd.google.colaboratory.intrinsic+json": {
       "type": "dataframe",
       "summary": "{\n  \"name\": \"X_train\",\n  \"rows\": 5,\n  \"fields\": [\n    {\n      \"column\": \"title_text_join\",\n      \"properties\": {\n        \"dtype\": \"string\",\n        \"num_unique_values\": 5,\n        \"samples\": [\n          \"u.s. spy chief 'resolute ' rsia cyber attack , differs washington top u.s. intelligence official said thursday \\u201c even resolute \\u201d belief rsia staged cyber attacks democrats 2016 election campaign , rebuking persistent skepticism republican elect whether moscow involved . james clapper , director national intelligence , said high level confidence rsia hacked democratic party campaign staff email , disseminated propaganda fake news aimed nov. 8 election . \\u201c assessment even resolute \\u201d oct. 7 government first publi acced rsia , clapper told hearing senate armed servicesmittee . said motives attack would made public next week . thursday morning called \\u201c big fan \\u201d intelligence agencies . cast doubt assessments rsia targeted campaign opponent , former secretary state hillary , drawing ire fellow republicans well democrats wary moscow distrt \\u2019 praise rsian vladimir putin . intelligence officials thursday \\u2019 hearing said worried lack support atop government could prompt valued staff members leave agencies . \\u201c \\u2019 difference healthy skepticism ... disparagement , \\u201d clapper said . vice elect mike pence ed expression \\u201c healthy skepticism \\u201d defend \\u2019 criticism intelligence findings . central intelligence agency director john brennan , speaking university chicago institute politics thursday , said never served government , unfamiliar intelligence profession . \\u201c \\u2019 bother someone going skeptical challenge work maybe disagree views , expect s recognize cia intelligencemunity established statute important reason , \\u201d congressional hearing overseen republican senator john mccain , vocifero rsia critic . first promised series briefings hearings allegations rsia tried disrupt influence u.s. campaign , one ter recent history . moscow denies allegations . mccain told reporters senator lindsey graham , also vocal critic moscow , would chair new armed services sumittee dedicated cyber issues . briefed intelligence agency chiefs friday hacks . barack received report matter thursday . unclassified version made public ea next week . \\u201c \\u2019 think \\u2019 ever encountered aggressive direct campaign interfere election process \\u2019 seen case , \\u201d said clapper , leaves bes jan. 20. clapper stopped short declaring rsia \\u2019 actions \\u201c act war , \\u201d saying determination beyond scope office . clapper two officials testified , national security agency director admiral mike rogers , marcel lettre , undersecretary defense intelligence , say made u.s. intelligence confident rsia behind cyber attacks , conclion also reached several private firms . last week ordered expulsion 35 spected rsian spies imposed sanctions two rsian intelligence agencies said involved hacking u.s. political groups democratic nationalmittee . cia identified rsian officials fed material hacked dnc democratic party leaders wikileaks putin \\u2019 direction third parties , according new u.s. intelligence report , senior u.s. officials said . documents stolen dnc \\u2019 campaign chairman , john podesta , posted internet election , embarrassing campaign . tweet wednesday , skeptical rsian role affair , writing : \\u201c wikileaks founder julian assange said \\u2018 14 year old could hacked podesta \\u2019 dnc careless ? also said rsians give info ! \\u201d thursday , said another twitter post intelligence agencies agreement assange . \\u201c media lies make look like \\u2018 intelligence \\u2019 fact big fan ! \\u201d tweeted . clapper said assange put lives danger deserved credibility . mccain lawmakers also blasted assange . senator claire mccaskill , democrat , said would \\u201c howls \\u201d republicans democrat described intelligence officials . u.s. intelligence officials said rsian cyber attacks specifica aimed helping beat . several republicans acknowledged rsian hacking linked effort help win . top advisers believe democrats trying delegitimize victory accing rsia helping . senator tim kaine , armed services member \\u2019 vice ial running mate , said : \\u201c hope congress willing stand bipartisan way integrity electoral process . \\u201d graham said \\u2019 actions moscow fell short . \\u201c think throw pebble . \\u2019 ready throw rock , \\u201d graham said . \\u201c putin good better stopped . \\u201d\",\n          \" : u.s. , southeast asia advance 'shared vision ' maritime disputesrancho mirage , calif. barack said monday s southeast asian nations advance shared vision rules norms resolving maritime disputes peacefu . made reference south china sea , china several southeast asian states conflicting overlapping claims , beginning summit leaders association southeast asian nations asean .\",\n          \"bernie vows keep fighting despite huge super tuesday loss \\u2019 good thing last night , hillary democratic nomination . yes yes yes feel bern , debbie wasserman schultz evil , superdelegates unfair , hillary mt cheated , etc . etc . etc . aside , clear kept coalition less intact going land nomination . without support blackmunity non millennial voters , bernie path victory extrem narrow factor superdelegates . believe , believe nate silver fivethirtyeight , gold standard political statistical ansis last several years.so sanders quit go home , right ? good lord , ! even though losing primaries , winning debate democratic party still needs . ba.love kind like one rea hates left , sanders correct says democratic party little cozy big money . problem corporate media loves loves pretend democrats far left gop right , total bullshit . democratic partyforta left social issues center left bares economics . serio issuees making necessarypromises republicans get anything done . middle ground sits squar right , course , entire point republicans go far fringe first place .what bernie , brillian , drag entire process left democratic party . never say loud , course , bernie never rea intended win primaries . entire campaign designed influence politics left . heresy bernie true believers let honest , bernie kept democratic party arm length decades , constan poking like gad . winning superdelegates necessary win nomination never achievable goal even trying . ? winning election goal , showing democratic party ope embrace democratic socialism immediat burned stake was.and working . well.in case noticed , bernie sanders ope advocating socialism sent country shock . corporate media keeps trying poo attack sanders persistent consistent message mediamie ! nonsense getting drowned . top , negative connotations socialismplet lost millennials , aka , group people controlling politics decade so.bernie continue fight tooth nail every state higher delegate count , stronger message despite lead continue hold even without superdelegates . concedes sometime summer got war chest go far ease , urge followers support democratic party continue hold feet fire . campaigned left would norma long enough moving far back center general election hurt help.like , sanders playing long game . may even around see seeds planted take root long pulls hillary democratic politics left , already even nominee.featured image courtesy michael vadon via wikimediamons .\"\n        ],\n        \"semantic_type\": \"\",\n        \"description\": \"\"\n      }\n    }\n  ]\n}"
      }
     },
     "metadata": {},
     "execution_count": 3
    }
   ],
   "source": [
    "#@title sample dataset for experiments\n",
    "# sample size\n",
    "enable_samples: bool = True #@param\n",
    "SAMPLE_PERCENTAGE_X_train = 0.3 #@param\n",
    "SAMPLE_PERCENTAGE_X_val = 1 #@param\n",
    "SAMPLE_PERCENTAGE_X_test = 1 #@param\n",
    "\n",
    "MODEL_NAME = \"roberta-base\" #@param\n",
    "VERSION_MODEL = \"005\" #@param\n",
    "NAME_EXPERIMENTS = \"Fake news comments\" #@param\n",
    "DATASET_NAME = \"X_train_cleaned_2\" #@param title\n",
    "HYPERPARAMETERS_EXPERIMENTS = 20 #@param\n",
    "BATCH_SIZE = 8 #@param\n",
    "NUM_LABELS = 1 #@param\n",
    "EPOCHS = 3 #@param\n",
    "THRESHOLD_PROBABILITIES_MODEL = 0.5 #@param\n",
    "\n",
    "COMMENTS = \"Some parameter tunning with the clean dataset where we take out some values\" #@param\n",
    "# COMMENTS = \"Experiment\" #@param\n",
    "PATIENCE_EARLY_STOP = 3 #@param\n",
    "LEARNING_RATE_INIT = 1e-10 #@param\n",
    "LEARNING_RATE_END = 1e-2 #@param\n",
    "WEIGHT_DECAY_INIT = 1e-12 #@param\n",
    "WEIGHT_DECAY_END = 1e-2 #@param\n",
    "DROPOUT_VALUE_INIT = 0.1 #@param\n",
    "DROPOUT_VALUE_END = 0.3 #@param\n",
    "WARMUP_RATIO_INIT = 0.0 #@param\n",
    "WARMUP_RATIO_END = 0.2 #@param\n",
    "OPTIMIZER_NAME_1 = \"AdamW\" #@param\n",
    "OPTIMIZER_NAME_2 = \"SGD\" #@param\n",
    "OPTIMIZER_NAME_3 = \"RMSprop\" #@param\n",
    "\n",
    "URL_SAVE_MODEL = f\"/content/drive/MyDrive/turing_college_experiments/16/model_save/{MODEL_NAME}_{VERSION_MODEL}.pth\"\n",
    "\n",
    "if enable_samples:\n",
    "    # Concatenating the datasets\n",
    "    concat_values_train = pd.concat([X_train, y_train], axis=1)\n",
    "    concat_values_val = pd.concat([X_val, y_val], axis=1)\n",
    "    concat_values_test = pd.concat([X_test, y_test], axis=1)\n",
    "\n",
    "    # Sampling the datasets\n",
    "    concat_values_train = concat_values_train.sample(frac=SAMPLE_PERCENTAGE_X_train, random_state=42)\n",
    "    concat_values_val = concat_values_val.sample(frac=SAMPLE_PERCENTAGE_X_val, random_state=42)\n",
    "    concat_values_test = concat_values_test.sample(frac=SAMPLE_PERCENTAGE_X_test, random_state=42)\n",
    "\n",
    "    # Resetting the index without using inplace\n",
    "    concat_values_train = concat_values_train.reset_index(drop=True)\n",
    "    concat_values_val = concat_values_val.reset_index(drop=True)\n",
    "    concat_values_test = concat_values_test.reset_index(drop=True)\n",
    "\n",
    "    # Extracting features and targets\n",
    "    X_train = pd.DataFrame(concat_values_train[\"title_text_join\"])\n",
    "    X_val = pd.DataFrame(concat_values_val[\"title_text_join\"])\n",
    "    X_test = pd.DataFrame(concat_values_test[\"title_text_join\"])\n",
    "\n",
    "    y_train = pd.DataFrame(concat_values_train[\"target_variable\"])\n",
    "    y_val = pd.DataFrame(concat_values_val[\"target_variable\"])\n",
    "    y_test = pd.DataFrame(concat_values_test[\"target_variable\"])\n",
    "\n",
    "\n",
    "print(\"TRAIN Dataset: {}\".format(X_train.shape))\n",
    "print(\"VALIDATION Dataset: {}\".format(X_val.shape))\n",
    "print(\"TEST Dataset: {}\".format(X_test.shape))\n",
    "print(\"TRAIN Dataset y: {}\".format(y_train.shape))\n",
    "print(\"VALIDATION Dataset y: {}\".format(y_val.shape))\n",
    "print(\"TEST Dataset y: {}\".format(y_test.shape))\n",
    "\n",
    "sample_data = 5 #@param\n",
    "X_train.sample(sample_data)"
   ]
  },
  {
   "cell_type": "code",
   "execution_count": null,
   "id": "MC9gtviLLxZh",
   "metadata": {
    "colab": {
     "base_uri": "https://localhost:8080/",
     "height": 380
    },
    "id": "MC9gtviLLxZh",
    "outputId": "690e94c8-1cae-4d18-9add-b9fbfa275e86"
   },
   "outputs": [
    {
     "output_type": "display_data",
     "data": {
      "text/plain": [
       "<Figure size 1800x600 with 3 Axes>"
      ],
      "image/png": "[encoded data removed]"
     },
     "metadata": {}
    }
   ],
   "source": [
    "#@title Split of the dataset\n",
    "# Get counts for each dataset\n",
    "train_counts = y_train.value_counts().reset_index()\n",
    "val_counts = y_val.value_counts().reset_index()\n",
    "test_counts = y_test.value_counts().reset_index()\n",
    "train_counts.columns = ['Class', 'Frequency']\n",
    "val_counts.columns = ['Class', 'Frequency']\n",
    "test_counts.columns = ['Class', 'Frequency']\n",
    "\n",
    "real_values = train_counts['Frequency'][0]\n",
    "fake_values = train_counts['Frequency'][1]\n",
    "total_values = train_counts['Frequency'].sum()\n",
    "real_percentage = (real_values / total_values)\n",
    "fake_percentage = (fake_values / total_values)\n",
    "\n",
    "normalized_weights = torch.tensor([real_percentage, fake_percentage], dtype=torch.float)\n",
    "\n",
    "fig, ax = plt.subplots(1, 3, figsize=(18, 6))\n",
    "\n",
    "# Plot for train data\n",
    "ax[0].bar(train_counts['Class'], train_counts['Frequency'])\n",
    "ax[0].set_title('Train Data Counts')\n",
    "ax[0].set_xlabel('Class')\n",
    "ax[0].set_ylabel('Frequency')\n",
    "\n",
    "# Plot for validation data\n",
    "ax[1].bar(val_counts['Class'], val_counts['Frequency'])\n",
    "ax[1].set_title('Validation Data Counts')\n",
    "ax[1].set_xlabel('Class')\n",
    "ax[1].set_ylabel('Frequency')\n",
    "\n",
    "# Plot for test data\n",
    "ax[2].bar(test_counts['Class'], test_counts['Frequency'])\n",
    "ax[2].set_title('Test Data Counts')\n",
    "ax[2].set_xlabel('Class')\n",
    "ax[2].set_ylabel('Frequency')\n",
    "\n",
    "# Show the plots\n",
    "plt.tight_layout()\n",
    "plt.show()"
   ]
  },
  {
   "cell_type": "code",
   "execution_count": null,
   "id": "iB2SY0BdzVxt",
   "metadata": {
    "colab": {
     "base_uri": "https://localhost:8080/",
     "height": 423,
     "referenced_widgets": [
      "b3b151594a904d2c81ff294c19769b60",
      "d10da0225c774dd39703a4e9de05f148",
      "6555266ef5c14e378b081eace677fccc",
      "fa78aeca1619462bb6da66e0e2716098",
      "34ac2c186bd2406a8862642c61e5d634",
      "cd62ed9a74a14129adae1f58efd0fc54",
      "c35116b341244be8985ca974e7cf7b17",
      "5a684bd049c74ca7b69321770894ddc9",
      "ff910b9fe33b4cc88e5634f504038fbd",
      "5c7d3a443d79473b835d785a3a7c2085",
      "b2d4202727c94d93bbf08d9b7f4e78ad",
      "4cccbf4c0024455a853567076e0fbace",
      "8a50e2912d77494898814c5b36c2df31",
      "b42c7339a5d44fe39a55b56120f3d503",
      "96f833a1f60c4acfbea735ffe7b21d45",
      "c7dcfca427994cd5ad99e92b0b89a3fa",
      "59bf95b00c6b413799ea5dd0e3f4f98c",
      "309e003b63864294bab9ac0515ce1547",
      "bd81fb378ad14d9cba136ff4269f02dd",
      "cba70ff05200435dbae166faab297851",
      "3bd962caf1c441669af23bafc274a74b",
      "95924ec5b30a4c2db8630f8330170151",
      "b23a22485db5425480c09757b7088ce1",
      "cdab833f0fa24ca8a457257593f2240a",
      "681e692393234609a1757a5a2e05528b",
      "3e8ba151a13d457a8e32cb200a2ec10f",
      "9674bb7189e841368430bd16b0264fa7",
      "5e0ad693ef2b4120b6e6aaeca1bd1fb9",
      "2d62d32aecfe4c36976ff0e9ec76fd6b",
      "48923fdf210c456dbcd0645240389095",
      "b298a085e37b46f8b627beff4c364c52",
      "09554d8d791e4439ac3c83a3d5a88c57",
      "665c6a0cd3914d5d80c7c1fd66b38e5c",
      "2e5b5828b9f44365a842dcf65fd30582",
      "70a5ed12a5574e6c9fa368fe99b42add",
      "59e5fc96e72a4074bb48634476e5a4a4",
      "f788ded8262b42d9a67eb4977572e50d",
      "6269db16750a4ea8a81dabadaed1d7cf",
      "ba1836e810d64b88a978908b3346fcff",
      "8fbef517a08c4bbaa379cc02cff30622",
      "345dea83ee674009ac18b68b6f2e2158",
      "ca9c92b488984a838757cbe7dbdbb251",
      "45621735668c4e09b09e180029b57010",
      "c13ad335cb834effbdab64fdd9f682f4",
      "c7c8212f90964c2b8a35d730720721d0",
      "cdf4f93abc404f5fb42643433a8e64f5",
      "d234c2d2bb4142c2be6d929b163083af",
      "fe9ebbead1e3487588eb592ef33f58cf",
      "c119f5d07e7247aba5d05cdc3c7b6e7c",
      "2854b93cc5f249e6a891dcabe5e1a393",
      "431b9d96521f4d7e8059d0a5cc1e6699",
      "661a87a54493479e9c4f9a8227d214d0",
      "89a88105887d482dbc0c601192dd1ec3",
      "5ea6047e58ba47a2982f9e28f376ef7f",
      "ff340e1e7bba4de3a3d60f8222c129fc"
     ]
    },
    "id": "iB2SY0BdzVxt",
    "outputId": "7a7e3050-bf5a-427c-a0eb-cb531ad0b844"
   },
   "outputs": [
    {
     "output_type": "stream",
     "name": "stderr",
     "text": [
      "/usr/local/lib/python3.10/dist-packages/huggingface_hub/utils/_auth.py:94: UserWarning: \n",
      "The secret `HF_TOKEN` does not exist in your Colab secrets.\n",
      "To authenticate with the Hugging Face Hub, create a token in your settings tab (https://huggingface.co/settings/tokens), set it as secret in your Google Colab and restart your session.\n",
      "You will be able to reuse this secret in all of your notebooks.\n",
      "Please note that authentication is recommended but still optional to access public models or datasets.\n",
      "  warnings.warn(\n"
     ]
    },
    {
     "output_type": "display_data",
     "data": {
      "text/plain": [
       "tokenizer_config.json:   0%|          | 0.00/25.0 [00:00<?, ?B/s]"
      ],
      "application/vnd.jupyter.widget-view+json": {
       "version_major": 2,
       "version_minor": 0,
       "model_id": "b3b151594a904d2c81ff294c19769b60"
      }
     },
     "metadata": {}
    },
    {
     "output_type": "display_data",
     "data": {
      "text/plain": [
       "config.json:   0%|          | 0.00/481 [00:00<?, ?B/s]"
      ],
      "application/vnd.jupyter.widget-view+json": {
       "version_major": 2,
       "version_minor": 0,
       "model_id": "4cccbf4c0024455a853567076e0fbace"
      }
     },
     "metadata": {}
    },
    {
     "output_type": "display_data",
     "data": {
      "text/plain": [
       "vocab.json:   0%|          | 0.00/899k [00:00<?, ?B/s]"
      ],
      "application/vnd.jupyter.widget-view+json": {
       "version_major": 2,
       "version_minor": 0,
       "model_id": "b23a22485db5425480c09757b7088ce1"
      }
     },
     "metadata": {}
    },
    {
     "output_type": "display_data",
     "data": {
      "text/plain": [
       "merges.txt:   0%|          | 0.00/456k [00:00<?, ?B/s]"
      ],
      "application/vnd.jupyter.widget-view+json": {
       "version_major": 2,
       "version_minor": 0,
       "model_id": "2e5b5828b9f44365a842dcf65fd30582"
      }
     },
     "metadata": {}
    },
    {
     "output_type": "display_data",
     "data": {
      "text/plain": [
       "tokenizer.json:   0%|          | 0.00/1.36M [00:00<?, ?B/s]"
      ],
      "application/vnd.jupyter.widget-view+json": {
       "version_major": 2,
       "version_minor": 0,
       "model_id": "c7c8212f90964c2b8a35d730720721d0"
      }
     },
     "metadata": {}
    },
    {
     "output_type": "stream",
     "name": "stderr",
     "text": [
      "Token indices sequence length is longer than the specified maximum sequence length for this model (560 > 512). Running this sequence through the model will result in indexing errors\n"
     ]
    },
    {
     "output_type": "stream",
     "name": "stdout",
     "text": [
      "Dataset train length: 8028\n",
      "Dataset val length: 5734\n",
      "Dataset test length: 5735\n",
      "Sample input IDs shape: torch.Size([5, 256])\n",
      "Sample attention masks shape: torch.Size([5, 256])\n",
      "Sample labels: tensor([1.])\n"
     ]
    }
   ],
   "source": [
    "#@title Dataloader\n",
    "class CustomDataset(Dataset):\n",
    "    def __init__(self, dataframe: pd.DataFrame, comment_str_title: str, tokenizer, target_variable: pd.DataFrame, max_token_len=256):\n",
    "\n",
    "        self.dataframe = dataframe\n",
    "        self.tokenizer = tokenizer\n",
    "        self.max_token_len = max_token_len\n",
    "        self.target_variable = target_variable\n",
    "        self.comment_str_title = comment_str_title\n",
    "\n",
    "    def chunk_text(self, text, max_length, stride):\n",
    "        tokens = self.tokenizer.encode_plus(\n",
    "            text,\n",
    "            add_special_tokens=False,\n",
    "            max_length=None,\n",
    "            truncation=False,\n",
    "            return_attention_mask=False,\n",
    "            return_token_type_ids=False\n",
    "        )['input_ids']\n",
    "\n",
    "        chunks = []\n",
    "        for i in range(0, len(tokens), stride):\n",
    "            chunk = tokens[i:i + max_length]\n",
    "            if len(chunk) < max_length:\n",
    "                chunk += [self.tokenizer.pad_token_id] * (max_length - len(chunk))  # Padding\n",
    "            chunks.append(chunk)\n",
    "        return chunks\n",
    "\n",
    "    def __len__(self):\n",
    "        \"\"\"Length of the dataset\"\"\"\n",
    "        return len(self.dataframe)\n",
    "\n",
    "    def __getitem__(self, index):\n",
    "        \"\"\"Get a single item\"\"\"\n",
    "        data_row = self.dataframe.iloc[index]\n",
    "        comment = str(data_row[self.comment_str_title])\n",
    "        data_row_target = torch.tensor(self.target_variable.iloc[index].values, dtype=torch.float)\n",
    "\n",
    "        # Split the comment into chunks\n",
    "        chunks = self.chunk_text(comment, max_length=self.max_token_len, stride=self.max_token_len // 2)\n",
    "\n",
    "        input_ids = []\n",
    "        attention_masks = []\n",
    "\n",
    "        for chunk in chunks:\n",
    "            # Here, `chunk` is already tokenized, so we directly create tensors\n",
    "            tokens = {\n",
    "                \"input_ids\": torch.tensor(chunk, dtype=torch.long),\n",
    "                \"attention_mask\": torch.tensor([1 if id != self.tokenizer.pad_token_id else 0 for id in chunk], dtype=torch.long)\n",
    "            }\n",
    "            input_ids.append(tokens[\"input_ids\"])\n",
    "            attention_masks.append(tokens[\"attention_mask\"])\n",
    "\n",
    "        return {\n",
    "            \"input_ids\": torch.stack(input_ids),\n",
    "            \"attention_masks\": torch.stack(attention_masks),\n",
    "            \"labels\": data_row_target\n",
    "        }\n",
    "\n",
    "# Model configuration\n",
    "model_name = MODEL_NAME\n",
    "tokenizer_model = AutoTokenizer.from_pretrained(model_name)\n",
    "\n",
    "# dataloaders for training, val, test\n",
    "dataset_loader_X_train = CustomDataset(\n",
    "    dataframe=X_train,\n",
    "    comment_str_title='title_text_join',\n",
    "    target_variable=y_train,\n",
    "    tokenizer=tokenizer_model,\n",
    "    max_token_len=256\n",
    ")\n",
    "dataset_loader_X_val = CustomDataset(\n",
    "    dataframe=X_val,\n",
    "    comment_str_title='title_text_join',\n",
    "    target_variable=y_val,\n",
    "    tokenizer=tokenizer_model,\n",
    "    max_token_len=256\n",
    ")\n",
    "dataset_loader_X_test = CustomDataset(\n",
    "    dataframe=X_test,\n",
    "    comment_str_title='title_text_join',\n",
    "    target_variable=y_test,\n",
    "    tokenizer=tokenizer_model,\n",
    "    max_token_len=256\n",
    ")\n",
    "\n",
    "# Test the dataset\n",
    "print(\"Dataset train length:\", len(dataset_loader_X_train))\n",
    "print(\"Dataset val length:\", len(dataset_loader_X_val))\n",
    "print(\"Dataset test length:\", len(dataset_loader_X_test))\n",
    "sample = dataset_loader_X_train[0]\n",
    "print(\"Sample input IDs shape:\", sample[\"input_ids\"].shape)\n",
    "print(\"Sample attention masks shape:\", sample[\"attention_masks\"].shape)\n",
    "print(\"Sample labels:\", sample[\"labels\"])\n"
   ]
  },
  {
   "cell_type": "code",
   "execution_count": null,
   "id": "uVXGGEW4Hngk",
   "metadata": {
    "colab": {
     "base_uri": "https://localhost:8080/"
    },
    "id": "uVXGGEW4Hngk",
    "outputId": "4e889116-4b31-4b47-b793-be1b54175882"
   },
   "outputs": [
    {
     "output_type": "stream",
     "name": "stdout",
     "text": [
      "1003 train_loader batch\n",
      "716 val_loader batch\n",
      "716 test_loader batch\n"
     ]
    }
   ],
   "source": [
    "#@title Batches\n",
    "def custom_collate_fn(batch: List[Dict]) -> Dict:\n",
    "    \"\"\"\n",
    "    Custom collate function to handle variable number of chunks per sample.\n",
    "    \"\"\"\n",
    "    # Get the max number of chunks in this batch\n",
    "    max_chunks = max(sample[\"input_ids\"].size(0) for sample in batch)\n",
    "\n",
    "    # Get batch size and sequence length\n",
    "    batch_size = len(batch)\n",
    "    seq_length = batch[0][\"input_ids\"].size(1)\n",
    "\n",
    "    # Initialize tensors to hold padded data\n",
    "    padded_input_ids = torch.zeros((batch_size, max_chunks, seq_length), dtype=torch.long)\n",
    "    padded_attention_masks = torch.zeros((batch_size, max_chunks, seq_length), dtype=torch.long)\n",
    "\n",
    "    # Collect labels\n",
    "    labels = torch.stack([sample[\"labels\"] for sample in batch])\n",
    "\n",
    "    # Create chunk attention mask to identify valid chunks\n",
    "    chunk_attention_mask = torch.zeros((batch_size, max_chunks), dtype=torch.long)\n",
    "\n",
    "    # Fill in the tensors with actual data\n",
    "    for i, sample in enumerate(batch):\n",
    "        num_chunks = sample[\"input_ids\"].size(0)\n",
    "        padded_input_ids[i, :num_chunks, :] = sample[\"input_ids\"]\n",
    "        padded_attention_masks[i, :num_chunks, :] = sample[\"attention_masks\"]\n",
    "        chunk_attention_mask[i, :num_chunks] = 1\n",
    "\n",
    "    return {\n",
    "        \"input_ids\": padded_input_ids,\n",
    "        \"attention_masks\": padded_attention_masks,\n",
    "        \"chunk_attention_mask\": chunk_attention_mask,\n",
    "        \"labels\": labels\n",
    "    }\n",
    "\n",
    "\n",
    "# Create DataLoader with custom collate function\n",
    "train_loader = DataLoader(\n",
    "    dataset=dataset_loader_X_train,\n",
    "    batch_size=BATCH_SIZE,  # Adjust based on your GPU memory\n",
    "    shuffle=True,\n",
    "    collate_fn=custom_collate_fn,\n",
    "    num_workers= NUM_WORKERS,  # Adjust based on your CPU cores\n",
    "    pin_memory=True,  # Set to True if using GPU\n",
    "    drop_last=True\n",
    ")\n",
    "val_loader = DataLoader(\n",
    "    dataset=dataset_loader_X_val,\n",
    "    batch_size=BATCH_SIZE,\n",
    "    shuffle=True,\n",
    "    collate_fn=custom_collate_fn,\n",
    "    num_workers= NUM_WORKERS,\n",
    "    pin_memory=True,\n",
    "    drop_last=True\n",
    ")\n",
    "test_loader = DataLoader(\n",
    "    dataset=dataset_loader_X_test,\n",
    "    batch_size=BATCH_SIZE,\n",
    "    shuffle=False,\n",
    "    collate_fn=custom_collate_fn,\n",
    "    num_workers= NUM_WORKERS,\n",
    "    pin_memory=True,\n",
    "    drop_last=True\n",
    ")\n",
    "\n",
    "print(len(train_loader), \"train_loader batch\")\n",
    "print(len(val_loader), \"val_loader batch\")\n",
    "print(len(test_loader), \"test_loader batch\")"
   ]
  },
  {
   "cell_type": "code",
   "execution_count": null,
   "id": "rGMaOjuPzYix",
   "metadata": {
    "id": "rGMaOjuPzYix"
   },
   "outputs": [],
   "source": [
    "# value_review = 22\n",
    "# print(X_train.iloc[value_review])\n",
    "# print(y_train.iloc[value_review])\n",
    "# dataset_loader_X_train.__getitem__(value_review)"
   ]
  },
  {
   "cell_type": "code",
   "execution_count": null,
   "id": "rpIIZ9ZwcgQE",
   "metadata": {
    "colab": {
     "base_uri": "https://localhost:8080/",
     "height": 972,
     "referenced_widgets": [
      "c8747f8b3c934c339e2af0692de1a887",
      "86a32e3ee9844045a264592cbbaa5371",
      "e476f2a3346c48d4974495344eb05c64",
      "9c45c9675eff4f0586ea245da4cb74c2",
      "ed2c798d14f6420d9fcef397e0f25b21",
      "4c4735c5c5a149179559347cb9939a69",
      "352bd76f3e084efb85c30e31e131f27a",
      "6d2c44ed0efe4b1c8f48ddad2d5db8a2",
      "aaceddd2a8854682bd7791f3448706e3",
      "de10b4da46764c20b7785dc3c35df015",
      "ac8aacccaba0413b92c3c2796d99fc17"
     ]
    },
    "id": "rpIIZ9ZwcgQE",
    "outputId": "2528dd88-42ff-4af6-9116-58e6f25bd6ad"
   },
   "outputs": [
    {
     "output_type": "stream",
     "name": "stdout",
     "text": [
      "y_train shape: (8028, 1)\n",
      "Sample label: target_variable    1\n",
      "Name: 0, dtype: int64\n"
     ]
    },
    {
     "output_type": "display_data",
     "data": {
      "text/plain": [
       "model.safetensors:   0%|          | 0.00/499M [00:00<?, ?B/s]"
      ],
      "application/vnd.jupyter.widget-view+json": {
       "version_major": 2,
       "version_minor": 0,
       "model_id": "c8747f8b3c934c339e2af0692de1a887"
      }
     },
     "metadata": {}
    },
    {
     "output_type": "stream",
     "name": "stderr",
     "text": [
      "Some weights of RobertaModel were not initialized from the model checkpoint at roberta-base and are newly initialized: ['roberta.pooler.dense.bias', 'roberta.pooler.dense.weight']\n",
      "You should probably TRAIN this model on a down-stream task to be able to use it for predictions and inference.\n"
     ]
    },
    {
     "output_type": "execute_result",
     "data": {
      "text/plain": [
       "ClassifierModel(\n",
       "  (pretrained_model): RobertaModel(\n",
       "    (embeddings): RobertaEmbeddings(\n",
       "      (word_embeddings): Embedding(50265, 768, padding_idx=1)\n",
       "      (position_embeddings): Embedding(514, 768, padding_idx=1)\n",
       "      (token_type_embeddings): Embedding(1, 768)\n",
       "      (LayerNorm): LayerNorm((768,), eps=1e-05, elementwise_affine=True)\n",
       "      (dropout): Dropout(p=0.1, inplace=False)\n",
       "    )\n",
       "    (encoder): RobertaEncoder(\n",
       "      (layer): ModuleList(\n",
       "        (0-11): 12 x RobertaLayer(\n",
       "          (attention): RobertaAttention(\n",
       "            (self): RobertaSdpaSelfAttention(\n",
       "              (query): Linear(in_features=768, out_features=768, bias=True)\n",
       "              (key): Linear(in_features=768, out_features=768, bias=True)\n",
       "              (value): Linear(in_features=768, out_features=768, bias=True)\n",
       "              (dropout): Dropout(p=0.1, inplace=False)\n",
       "            )\n",
       "            (output): RobertaSelfOutput(\n",
       "              (dense): Linear(in_features=768, out_features=768, bias=True)\n",
       "              (LayerNorm): LayerNorm((768,), eps=1e-05, elementwise_affine=True)\n",
       "              (dropout): Dropout(p=0.1, inplace=False)\n",
       "            )\n",
       "          )\n",
       "          (intermediate): RobertaIntermediate(\n",
       "            (dense): Linear(in_features=768, out_features=3072, bias=True)\n",
       "            (intermediate_act_fn): GELUActivation()\n",
       "          )\n",
       "          (output): RobertaOutput(\n",
       "            (dense): Linear(in_features=3072, out_features=768, bias=True)\n",
       "            (LayerNorm): LayerNorm((768,), eps=1e-05, elementwise_affine=True)\n",
       "            (dropout): Dropout(p=0.1, inplace=False)\n",
       "          )\n",
       "        )\n",
       "      )\n",
       "    )\n",
       "    (pooler): RobertaPooler(\n",
       "      (dense): Linear(in_features=768, out_features=768, bias=True)\n",
       "      (activation): Tanh()\n",
       "    )\n",
       "  )\n",
       "  (hidden): Linear(in_features=768, out_features=768, bias=True)\n",
       "  (classification): Linear(in_features=768, out_features=1, bias=True)\n",
       "  (loss_function): BCEWithLogitsLoss()\n",
       "  (dropout): Dropout(p=0.1, inplace=False)\n",
       ")"
      ]
     },
     "metadata": {},
     "execution_count": 8
    }
   ],
   "source": [
    "#@title Model architecture\n",
    "\n",
    "class ClassifierModel(nn.Module):\n",
    "    def __init__(self, config):\n",
    "        super(ClassifierModel, self).__init__()\n",
    "        self.config = config\n",
    "\n",
    "        # Pretrained model\n",
    "        self.pretrained_model = AutoModel.from_pretrained(config['model_name'], return_dict=True)\n",
    "\n",
    "        # Layers\n",
    "        self.hidden = nn.Linear(self.pretrained_model.config.hidden_size, self.pretrained_model.config.hidden_size)\n",
    "        self.classification = nn.Linear(self.pretrained_model.config.hidden_size, self.config['n_labels'])\n",
    "\n",
    "        # Initialize weights\n",
    "        nn.init.xavier_uniform_(self.hidden.weight)  # Use Xavier initialization\n",
    "        nn.init.zeros_(self.hidden.bias)  # Initialize bias to zero\n",
    "        nn.init.xavier_uniform_(self.classification.weight)  # Use Xavier initialization\n",
    "        nn.init.zeros_(self.classification.bias)  # Initialize bias to zero\n",
    "\n",
    "        # Loss function\n",
    "        # self.loss_function = nn.BCEWithLogitsLoss(weight=normalized_weights)\n",
    "        self.loss_function = nn.BCEWithLogitsLoss()\n",
    "\n",
    "        # Dropout\n",
    "        self.dropout = nn.Dropout(config['dropout_vals'])\n",
    "\n",
    "    def forward(self, input_ids, attention_mask, chunk_attention_mask=None):\n",
    "        batch_size, num_chunks, seq_length = input_ids.size()\n",
    "        input_ids = input_ids.view(-1, seq_length)\n",
    "        attention_mask = attention_mask.view(-1, seq_length)\n",
    "\n",
    "        # Forward pass through the pretrained model\n",
    "        output = self.pretrained_model(input_ids=input_ids, attention_mask=attention_mask)\n",
    "        pooled_output = torch.mean(output.last_hidden_state, 1)\n",
    "        pooled_output = pooled_output.view(batch_size, num_chunks, -1)\n",
    "        pooled_output = self.dropout(pooled_output)\n",
    "\n",
    "        if chunk_attention_mask is not None:\n",
    "            chunk_attention_mask = chunk_attention_mask.float().unsqueeze(-1)\n",
    "            pooled_output = (pooled_output * chunk_attention_mask).sum(dim=1) / chunk_attention_mask.sum(dim=1).clamp(min=1)\n",
    "        else:\n",
    "            pooled_output = pooled_output.mean(dim=1)\n",
    "\n",
    "        # Classification layers\n",
    "        pooled_output = self.hidden(pooled_output)\n",
    "        pooled_output = F.relu(pooled_output)\n",
    "        pooled_output = F.normalize(pooled_output)\n",
    "        logits = self.classification(pooled_output)\n",
    "        logits = F.sigmoid(logits)\n",
    "        return logits\n",
    "\n",
    "\n",
    "print(\"y_train shape:\", y_train.shape)\n",
    "print(\"Sample label:\", y_train.iloc[0])\n",
    "\n",
    "config = {\n",
    "    \"model_name\": MODEL_NAME,\n",
    "    \"n_labels\": NUM_LABELS,\n",
    "    \"lr\": LEARNING_RATE_INIT,\n",
    "    \"w_decay\": WEIGHT_DECAY_INIT,\n",
    "    \"dropout_vals\": DROPOUT_VALUE_INIT,\n",
    "    \"batch_size\": BATCH_SIZE,\n",
    "    \"epochs\": EPOCHS,\n",
    "    \"train_size\": len(dataset_loader_X_train),\n",
    "    \"warmup\": WARMUP_RATIO_INIT\n",
    "}\n",
    "\n",
    "\n",
    "# Reinitialize the model with the updated config\n",
    "model = ClassifierModel(config)\n",
    "model.to(device)\n",
    "model"
   ]
  },
  {
   "cell_type": "code",
   "execution_count": null,
   "id": "lW51WO_nIY76",
   "metadata": {
    "colab": {
     "base_uri": "https://localhost:8080/"
    },
    "id": "lW51WO_nIY76",
    "outputId": "2f4a1d46-9f5d-4fdb-86dd-b717885de163"
   },
   "outputs": [
    {
     "output_type": "stream",
     "name": "stdout",
     "text": [
      "Trainable Parameters:\n",
      "pretrained_model.embeddings.word_embeddings.weight: Frozen\n",
      "pretrained_model.embeddings.position_embeddings.weight: Frozen\n",
      "pretrained_model.embeddings.token_type_embeddings.weight: Frozen\n",
      "pretrained_model.embeddings.LayerNorm.weight: Frozen\n",
      "pretrained_model.embeddings.LayerNorm.bias: Frozen\n",
      "pretrained_model.encoder.layer.0.attention.self.query.weight: Frozen\n",
      "pretrained_model.encoder.layer.0.attention.self.query.bias: Frozen\n",
      "pretrained_model.encoder.layer.0.attention.self.key.weight: Frozen\n",
      "pretrained_model.encoder.layer.0.attention.self.key.bias: Frozen\n",
      "pretrained_model.encoder.layer.0.attention.self.value.weight: Frozen\n",
      "pretrained_model.encoder.layer.0.attention.self.value.bias: Frozen\n",
      "pretrained_model.encoder.layer.0.attention.output.dense.weight: Frozen\n",
      "pretrained_model.encoder.layer.0.attention.output.dense.bias: Frozen\n",
      "pretrained_model.encoder.layer.0.attention.output.LayerNorm.weight: Frozen\n",
      "pretrained_model.encoder.layer.0.attention.output.LayerNorm.bias: Frozen\n",
      "pretrained_model.encoder.layer.0.intermediate.dense.weight: Frozen\n",
      "pretrained_model.encoder.layer.0.intermediate.dense.bias: Frozen\n",
      "pretrained_model.encoder.layer.0.output.dense.weight: Frozen\n",
      "pretrained_model.encoder.layer.0.output.dense.bias: Frozen\n",
      "pretrained_model.encoder.layer.0.output.LayerNorm.weight: Frozen\n",
      "pretrained_model.encoder.layer.0.output.LayerNorm.bias: Frozen\n",
      "pretrained_model.encoder.layer.1.attention.self.query.weight: Frozen\n",
      "pretrained_model.encoder.layer.1.attention.self.query.bias: Frozen\n",
      "pretrained_model.encoder.layer.1.attention.self.key.weight: Frozen\n",
      "pretrained_model.encoder.layer.1.attention.self.key.bias: Frozen\n",
      "pretrained_model.encoder.layer.1.attention.self.value.weight: Frozen\n",
      "pretrained_model.encoder.layer.1.attention.self.value.bias: Frozen\n",
      "pretrained_model.encoder.layer.1.attention.output.dense.weight: Frozen\n",
      "pretrained_model.encoder.layer.1.attention.output.dense.bias: Frozen\n",
      "pretrained_model.encoder.layer.1.attention.output.LayerNorm.weight: Frozen\n",
      "pretrained_model.encoder.layer.1.attention.output.LayerNorm.bias: Frozen\n",
      "pretrained_model.encoder.layer.1.intermediate.dense.weight: Frozen\n",
      "pretrained_model.encoder.layer.1.intermediate.dense.bias: Frozen\n",
      "pretrained_model.encoder.layer.1.output.dense.weight: Frozen\n",
      "pretrained_model.encoder.layer.1.output.dense.bias: Frozen\n",
      "pretrained_model.encoder.layer.1.output.LayerNorm.weight: Frozen\n",
      "pretrained_model.encoder.layer.1.output.LayerNorm.bias: Frozen\n",
      "pretrained_model.encoder.layer.2.attention.self.query.weight: Frozen\n",
      "pretrained_model.encoder.layer.2.attention.self.query.bias: Frozen\n",
      "pretrained_model.encoder.layer.2.attention.self.key.weight: Frozen\n",
      "pretrained_model.encoder.layer.2.attention.self.key.bias: Frozen\n",
      "pretrained_model.encoder.layer.2.attention.self.value.weight: Frozen\n",
      "pretrained_model.encoder.layer.2.attention.self.value.bias: Frozen\n",
      "pretrained_model.encoder.layer.2.attention.output.dense.weight: Frozen\n",
      "pretrained_model.encoder.layer.2.attention.output.dense.bias: Frozen\n",
      "pretrained_model.encoder.layer.2.attention.output.LayerNorm.weight: Frozen\n",
      "pretrained_model.encoder.layer.2.attention.output.LayerNorm.bias: Frozen\n",
      "pretrained_model.encoder.layer.2.intermediate.dense.weight: Frozen\n",
      "pretrained_model.encoder.layer.2.intermediate.dense.bias: Frozen\n",
      "pretrained_model.encoder.layer.2.output.dense.weight: Frozen\n",
      "pretrained_model.encoder.layer.2.output.dense.bias: Frozen\n",
      "pretrained_model.encoder.layer.2.output.LayerNorm.weight: Frozen\n",
      "pretrained_model.encoder.layer.2.output.LayerNorm.bias: Frozen\n",
      "pretrained_model.encoder.layer.3.attention.self.query.weight: Frozen\n",
      "pretrained_model.encoder.layer.3.attention.self.query.bias: Frozen\n",
      "pretrained_model.encoder.layer.3.attention.self.key.weight: Frozen\n",
      "pretrained_model.encoder.layer.3.attention.self.key.bias: Frozen\n",
      "pretrained_model.encoder.layer.3.attention.self.value.weight: Frozen\n",
      "pretrained_model.encoder.layer.3.attention.self.value.bias: Frozen\n",
      "pretrained_model.encoder.layer.3.attention.output.dense.weight: Frozen\n",
      "pretrained_model.encoder.layer.3.attention.output.dense.bias: Frozen\n",
      "pretrained_model.encoder.layer.3.attention.output.LayerNorm.weight: Frozen\n",
      "pretrained_model.encoder.layer.3.attention.output.LayerNorm.bias: Frozen\n",
      "pretrained_model.encoder.layer.3.intermediate.dense.weight: Frozen\n",
      "pretrained_model.encoder.layer.3.intermediate.dense.bias: Frozen\n",
      "pretrained_model.encoder.layer.3.output.dense.weight: Frozen\n",
      "pretrained_model.encoder.layer.3.output.dense.bias: Frozen\n",
      "pretrained_model.encoder.layer.3.output.LayerNorm.weight: Frozen\n",
      "pretrained_model.encoder.layer.3.output.LayerNorm.bias: Frozen\n",
      "pretrained_model.encoder.layer.4.attention.self.query.weight: Frozen\n",
      "pretrained_model.encoder.layer.4.attention.self.query.bias: Frozen\n",
      "pretrained_model.encoder.layer.4.attention.self.key.weight: Frozen\n",
      "pretrained_model.encoder.layer.4.attention.self.key.bias: Frozen\n",
      "pretrained_model.encoder.layer.4.attention.self.value.weight: Frozen\n",
      "pretrained_model.encoder.layer.4.attention.self.value.bias: Frozen\n",
      "pretrained_model.encoder.layer.4.attention.output.dense.weight: Frozen\n",
      "pretrained_model.encoder.layer.4.attention.output.dense.bias: Frozen\n",
      "pretrained_model.encoder.layer.4.attention.output.LayerNorm.weight: Frozen\n",
      "pretrained_model.encoder.layer.4.attention.output.LayerNorm.bias: Frozen\n",
      "pretrained_model.encoder.layer.4.intermediate.dense.weight: Frozen\n",
      "pretrained_model.encoder.layer.4.intermediate.dense.bias: Frozen\n",
      "pretrained_model.encoder.layer.4.output.dense.weight: Frozen\n",
      "pretrained_model.encoder.layer.4.output.dense.bias: Frozen\n",
      "pretrained_model.encoder.layer.4.output.LayerNorm.weight: Frozen\n",
      "pretrained_model.encoder.layer.4.output.LayerNorm.bias: Frozen\n",
      "pretrained_model.encoder.layer.5.attention.self.query.weight: Frozen\n",
      "pretrained_model.encoder.layer.5.attention.self.query.bias: Frozen\n",
      "pretrained_model.encoder.layer.5.attention.self.key.weight: Frozen\n",
      "pretrained_model.encoder.layer.5.attention.self.key.bias: Frozen\n",
      "pretrained_model.encoder.layer.5.attention.self.value.weight: Frozen\n",
      "pretrained_model.encoder.layer.5.attention.self.value.bias: Frozen\n",
      "pretrained_model.encoder.layer.5.attention.output.dense.weight: Frozen\n",
      "pretrained_model.encoder.layer.5.attention.output.dense.bias: Frozen\n",
      "pretrained_model.encoder.layer.5.attention.output.LayerNorm.weight: Frozen\n",
      "pretrained_model.encoder.layer.5.attention.output.LayerNorm.bias: Frozen\n",
      "pretrained_model.encoder.layer.5.intermediate.dense.weight: Frozen\n",
      "pretrained_model.encoder.layer.5.intermediate.dense.bias: Frozen\n",
      "pretrained_model.encoder.layer.5.output.dense.weight: Frozen\n",
      "pretrained_model.encoder.layer.5.output.dense.bias: Frozen\n",
      "pretrained_model.encoder.layer.5.output.LayerNorm.weight: Frozen\n",
      "pretrained_model.encoder.layer.5.output.LayerNorm.bias: Frozen\n",
      "pretrained_model.encoder.layer.6.attention.self.query.weight: Frozen\n",
      "pretrained_model.encoder.layer.6.attention.self.query.bias: Frozen\n",
      "pretrained_model.encoder.layer.6.attention.self.key.weight: Frozen\n",
      "pretrained_model.encoder.layer.6.attention.self.key.bias: Frozen\n",
      "pretrained_model.encoder.layer.6.attention.self.value.weight: Frozen\n",
      "pretrained_model.encoder.layer.6.attention.self.value.bias: Frozen\n",
      "pretrained_model.encoder.layer.6.attention.output.dense.weight: Frozen\n",
      "pretrained_model.encoder.layer.6.attention.output.dense.bias: Frozen\n",
      "pretrained_model.encoder.layer.6.attention.output.LayerNorm.weight: Frozen\n",
      "pretrained_model.encoder.layer.6.attention.output.LayerNorm.bias: Frozen\n",
      "pretrained_model.encoder.layer.6.intermediate.dense.weight: Frozen\n",
      "pretrained_model.encoder.layer.6.intermediate.dense.bias: Frozen\n",
      "pretrained_model.encoder.layer.6.output.dense.weight: Frozen\n",
      "pretrained_model.encoder.layer.6.output.dense.bias: Frozen\n",
      "pretrained_model.encoder.layer.6.output.LayerNorm.weight: Frozen\n",
      "pretrained_model.encoder.layer.6.output.LayerNorm.bias: Frozen\n",
      "pretrained_model.encoder.layer.7.attention.self.query.weight: Frozen\n",
      "pretrained_model.encoder.layer.7.attention.self.query.bias: Frozen\n",
      "pretrained_model.encoder.layer.7.attention.self.key.weight: Frozen\n",
      "pretrained_model.encoder.layer.7.attention.self.key.bias: Frozen\n",
      "pretrained_model.encoder.layer.7.attention.self.value.weight: Frozen\n",
      "pretrained_model.encoder.layer.7.attention.self.value.bias: Frozen\n",
      "pretrained_model.encoder.layer.7.attention.output.dense.weight: Frozen\n",
      "pretrained_model.encoder.layer.7.attention.output.dense.bias: Frozen\n",
      "pretrained_model.encoder.layer.7.attention.output.LayerNorm.weight: Frozen\n",
      "pretrained_model.encoder.layer.7.attention.output.LayerNorm.bias: Frozen\n",
      "pretrained_model.encoder.layer.7.intermediate.dense.weight: Frozen\n",
      "pretrained_model.encoder.layer.7.intermediate.dense.bias: Frozen\n",
      "pretrained_model.encoder.layer.7.output.dense.weight: Frozen\n",
      "pretrained_model.encoder.layer.7.output.dense.bias: Frozen\n",
      "pretrained_model.encoder.layer.7.output.LayerNorm.weight: Frozen\n",
      "pretrained_model.encoder.layer.7.output.LayerNorm.bias: Frozen\n",
      "pretrained_model.encoder.layer.8.attention.self.query.weight: Frozen\n",
      "pretrained_model.encoder.layer.8.attention.self.query.bias: Frozen\n",
      "pretrained_model.encoder.layer.8.attention.self.key.weight: Frozen\n",
      "pretrained_model.encoder.layer.8.attention.self.key.bias: Frozen\n",
      "pretrained_model.encoder.layer.8.attention.self.value.weight: Frozen\n",
      "pretrained_model.encoder.layer.8.attention.self.value.bias: Frozen\n",
      "pretrained_model.encoder.layer.8.attention.output.dense.weight: Frozen\n",
      "pretrained_model.encoder.layer.8.attention.output.dense.bias: Frozen\n",
      "pretrained_model.encoder.layer.8.attention.output.LayerNorm.weight: Frozen\n",
      "pretrained_model.encoder.layer.8.attention.output.LayerNorm.bias: Frozen\n",
      "pretrained_model.encoder.layer.8.intermediate.dense.weight: Frozen\n",
      "pretrained_model.encoder.layer.8.intermediate.dense.bias: Frozen\n",
      "pretrained_model.encoder.layer.8.output.dense.weight: Frozen\n",
      "pretrained_model.encoder.layer.8.output.dense.bias: Frozen\n",
      "pretrained_model.encoder.layer.8.output.LayerNorm.weight: Frozen\n",
      "pretrained_model.encoder.layer.8.output.LayerNorm.bias: Frozen\n",
      "pretrained_model.encoder.layer.9.attention.self.query.weight: Frozen\n",
      "pretrained_model.encoder.layer.9.attention.self.query.bias: Frozen\n",
      "pretrained_model.encoder.layer.9.attention.self.key.weight: Frozen\n",
      "pretrained_model.encoder.layer.9.attention.self.key.bias: Frozen\n",
      "pretrained_model.encoder.layer.9.attention.self.value.weight: Frozen\n",
      "pretrained_model.encoder.layer.9.attention.self.value.bias: Frozen\n",
      "pretrained_model.encoder.layer.9.attention.output.dense.weight: Frozen\n",
      "pretrained_model.encoder.layer.9.attention.output.dense.bias: Frozen\n",
      "pretrained_model.encoder.layer.9.attention.output.LayerNorm.weight: Frozen\n",
      "pretrained_model.encoder.layer.9.attention.output.LayerNorm.bias: Frozen\n",
      "pretrained_model.encoder.layer.9.intermediate.dense.weight: Frozen\n",
      "pretrained_model.encoder.layer.9.intermediate.dense.bias: Frozen\n",
      "pretrained_model.encoder.layer.9.output.dense.weight: Frozen\n",
      "pretrained_model.encoder.layer.9.output.dense.bias: Frozen\n",
      "pretrained_model.encoder.layer.9.output.LayerNorm.weight: Frozen\n",
      "pretrained_model.encoder.layer.9.output.LayerNorm.bias: Frozen\n",
      "pretrained_model.encoder.layer.10.attention.self.query.weight: Trainable\n",
      "pretrained_model.encoder.layer.10.attention.self.query.bias: Trainable\n",
      "pretrained_model.encoder.layer.10.attention.self.key.weight: Trainable\n",
      "pretrained_model.encoder.layer.10.attention.self.key.bias: Trainable\n",
      "pretrained_model.encoder.layer.10.attention.self.value.weight: Trainable\n",
      "pretrained_model.encoder.layer.10.attention.self.value.bias: Trainable\n",
      "pretrained_model.encoder.layer.10.attention.output.dense.weight: Trainable\n",
      "pretrained_model.encoder.layer.10.attention.output.dense.bias: Trainable\n",
      "pretrained_model.encoder.layer.10.attention.output.LayerNorm.weight: Trainable\n",
      "pretrained_model.encoder.layer.10.attention.output.LayerNorm.bias: Trainable\n",
      "pretrained_model.encoder.layer.10.intermediate.dense.weight: Trainable\n",
      "pretrained_model.encoder.layer.10.intermediate.dense.bias: Trainable\n",
      "pretrained_model.encoder.layer.10.output.dense.weight: Trainable\n",
      "pretrained_model.encoder.layer.10.output.dense.bias: Trainable\n",
      "pretrained_model.encoder.layer.10.output.LayerNorm.weight: Trainable\n",
      "pretrained_model.encoder.layer.10.output.LayerNorm.bias: Trainable\n",
      "pretrained_model.encoder.layer.11.attention.self.query.weight: Trainable\n",
      "pretrained_model.encoder.layer.11.attention.self.query.bias: Trainable\n",
      "pretrained_model.encoder.layer.11.attention.self.key.weight: Trainable\n",
      "pretrained_model.encoder.layer.11.attention.self.key.bias: Trainable\n",
      "pretrained_model.encoder.layer.11.attention.self.value.weight: Trainable\n",
      "pretrained_model.encoder.layer.11.attention.self.value.bias: Trainable\n",
      "pretrained_model.encoder.layer.11.attention.output.dense.weight: Trainable\n",
      "pretrained_model.encoder.layer.11.attention.output.dense.bias: Trainable\n",
      "pretrained_model.encoder.layer.11.attention.output.LayerNorm.weight: Trainable\n",
      "pretrained_model.encoder.layer.11.attention.output.LayerNorm.bias: Trainable\n",
      "pretrained_model.encoder.layer.11.intermediate.dense.weight: Trainable\n",
      "pretrained_model.encoder.layer.11.intermediate.dense.bias: Trainable\n",
      "pretrained_model.encoder.layer.11.output.dense.weight: Trainable\n",
      "pretrained_model.encoder.layer.11.output.dense.bias: Trainable\n",
      "pretrained_model.encoder.layer.11.output.LayerNorm.weight: Trainable\n",
      "pretrained_model.encoder.layer.11.output.LayerNorm.bias: Trainable\n",
      "pretrained_model.pooler.dense.weight: Trainable\n",
      "pretrained_model.pooler.dense.bias: Trainable\n",
      "hidden.weight: Trainable\n",
      "hidden.bias: Trainable\n",
      "classification.weight: Trainable\n",
      "classification.bias: Trainable\n"
     ]
    }
   ],
   "source": [
    "\n",
    "# Freeze all layers initially\n",
    "for param in model.pretrained_model.parameters():\n",
    "    param.requires_grad = False\n",
    "\n",
    "# Enable only the 10th and 11th layers\n",
    "for layer_idx in [10, 11]:\n",
    "    for param in model.pretrained_model.encoder.layer[layer_idx].parameters():\n",
    "        param.requires_grad = True\n",
    "\n",
    "# Enable the pooler layer\n",
    "for param in model.pretrained_model.pooler.parameters():\n",
    "    param.requires_grad = True\n",
    "\n",
    "# Verify which layers are trainable\n",
    "print(\"Trainable Parameters:\")\n",
    "for name, param in model.named_parameters():\n",
    "    status = \"Trainable\" if param.requires_grad else \"Frozen\"\n",
    "    print(f\"{name}: {status}\")"
   ]
  },
  {
   "cell_type": "code",
   "execution_count": null,
   "id": "z_JtW5bmAPnK",
   "metadata": {
    "id": "z_JtW5bmAPnK"
   },
   "outputs": [],
   "source": [
    "#@title Evaluation and training the model\n",
    "def pytorch_metrics_calculations(all_labels, all_preds):\n",
    "    \"\"\"Convert to pytorch tensors if not already\"\"\"\n",
    "\n",
    "    # convert to bool\n",
    "    all_preds = torch.tensor(all_preds, dtype=torch.bool)\n",
    "    all_labels = torch.tensor(all_labels, dtype=torch.bool)\n",
    "\n",
    "    # predictions\n",
    "    true_positives = torch.logical_and(all_preds == 1, all_labels == 1).sum().float()\n",
    "    predicted_positives = (all_preds == 1).sum().float()\n",
    "    actual_positives = (all_labels == 1).sum().float()\n",
    "\n",
    "    # Calculate accuracy\n",
    "    accuracy = (all_preds == all_labels).float().mean()\n",
    "\n",
    "    # precision and recall\n",
    "    precision = true_positives / predicted_positives if predicted_positives > 0 else torch.tensor(0.0)\n",
    "    recall = true_positives / actual_positives if actual_positives > 0 else torch.tensor(0.0)\n",
    "\n",
    "    # Calculate F1 score\n",
    "    f1 = 2 * (precision * recall) / (precision + recall) if (precision + recall) > 0 else torch.tensor(0.0)\n",
    "\n",
    "    return accuracy, f1, precision, recall, true_positives, predicted_positives, actual_positives\n",
    "\n",
    "def train_model(model, dataloader, optimizer, scheduler, device):\n",
    "    model.train()\n",
    "    total_loss = 0\n",
    "    all_preds, all_labels = [], []\n",
    "\n",
    "    for batch in dataloader:\n",
    "        if len(batch['input_ids']) < dataloader.batch_size:\n",
    "            break\n",
    "        input_ids = batch['input_ids'].to(device)\n",
    "        attention_masks = batch['attention_masks'].to(device)\n",
    "        chunk_attention_mask = batch['chunk_attention_mask'].to(device)\n",
    "        labels = batch['labels'].float().to(device)\n",
    "\n",
    "        optimizer.zero_grad()\n",
    "        logits = model(input_ids, attention_masks, chunk_attention_mask)\n",
    "        loss = model.loss_function(logits, labels)\n",
    "        loss.backward()\n",
    "\n",
    "        optimizer.step()\n",
    "\n",
    "        total_loss += loss.item()\n",
    "        # preds = (torch.sigmoid(logits) > THRESHOLD_PROBABILITIES_MODEL).float()\n",
    "        preds = (logits > THRESHOLD_PROBABILITIES_MODEL).float()\n",
    "\n",
    "        all_preds.extend(preds.squeeze().tolist())\n",
    "        all_labels.extend(labels.squeeze().tolist())\n",
    "\n",
    "    avg_loss = total_loss / len(dataloader)\n",
    "    accuracy, f1, _, _, _, _, _ = pytorch_metrics_calculations(all_labels, all_preds)\n",
    "    return avg_loss, accuracy, f1\n",
    "\n",
    "def evaluate_model(model, dataloader, device):\n",
    "    model.eval()\n",
    "    total_loss = 0\n",
    "    all_preds, all_labels, all_predict_prob = [], [], []\n",
    "\n",
    "\n",
    "    with torch.no_grad():\n",
    "        for batch in dataloader:\n",
    "            input_ids = batch['input_ids'].to(device)\n",
    "            attention_masks = batch['attention_masks'].to(device)\n",
    "            chunk_attention_mask = batch['chunk_attention_mask'].to(device)\n",
    "            labels = batch['labels'].float().to(device)\n",
    "            logits = model(input_ids, attention_masks, chunk_attention_mask)\n",
    "            # preds = (torch.sigmoid(logits) > THRESHOLD_PROBABILITIES_MODEL).float()\n",
    "            preds = (logits > THRESHOLD_PROBABILITIES_MODEL).float()\n",
    "            all_preds.extend(preds.squeeze().tolist())\n",
    "            all_labels.extend(labels.squeeze().tolist())\n",
    "            all_predict_prob.extend(logits.squeeze().tolist())\n",
    "\n",
    "    accuracy, f1, _, _, _, _, _ = pytorch_metrics_calculations(all_labels, all_preds)\n",
    "    return accuracy, f1, all_preds, all_labels, all_predict_prob"
   ]
  },
  {
   "cell_type": "code",
   "execution_count": null,
   "id": "IBCcYKCXfHN9",
   "metadata": {
    "colab": {
     "base_uri": "https://localhost:8080/",
     "height": 1000,
     "referenced_widgets": [
      "324c0d44bb2948b1a5a68a4c8e6a6a0c",
      "790f386cda71403db207addd7eaa4c9b",
      "58cb10610d254b5a88397f193bdc68cd",
      "63e32a1c91a94d9f98512c4d4444260d",
      "af79e8821bde4d37b517ae70278fa403",
      "93186532ae7844fcac2fd55b9b4b2e99",
      "cc578461eb1a4616b068d5345ac482c0",
      "ba13548176cb412a8c44b4cb507c83d6"
     ]
    },
    "id": "IBCcYKCXfHN9",
    "outputId": "21367613-8502-4323-db6c-880876952a8a"
   },
   "outputs": [
    {
     "output_type": "stream",
     "name": "stderr",
     "text": [
      "[I 2025-01-15 05:47:18,448] A new study created in memory with name: no-name-6396d164-6df3-4f8c-87b3-4d3f9648c371\n",
      "\u001B[34m\u001B[1mwandb\u001B[0m: Currently logged in as: \u001B[33mhannsflip\u001B[0m (\u001B[33mhannsflip-none\u001B[0m). Use \u001B[1m`wandb login --relogin`\u001B[0m to force relogin\n"
     ]
    },
    {
     "output_type": "display_data",
     "data": {
      "text/plain": [
       "VBox(children=(Label(value='Waiting for wandb.init()...\\r'), FloatProgress(value=0.011112978311112126, max=1.0…"
      ],
      "application/vnd.jupyter.widget-view+json": {
       "version_major": 2,
       "version_minor": 0,
       "model_id": "324c0d44bb2948b1a5a68a4c8e6a6a0c"
      }
     },
     "metadata": {}
    },
    {
     "output_type": "display_data",
     "data": {
      "text/plain": [
       "<IPython.core.display.HTML object>"
      ],
      "text/html": [
       "Tracking run with wandb version 0.19.1"
      ]
     },
     "metadata": {}
    },
    {
     "output_type": "display_data",
     "data": {
      "text/plain": [
       "<IPython.core.display.HTML object>"
      ],
      "text/html": [
       "Run data is saved locally in <code>/content/wandb/run-20250115_054718-laleicr6</code>"
      ]
     },
     "metadata": {}
    },
    {
     "output_type": "display_data",
     "data": {
      "text/plain": [
       "<IPython.core.display.HTML object>"
      ],
      "text/html": [
       "Syncing run <strong><a href='https://wandb.ai/hannsflip-none/Fake%20news%20comments/runs/laleicr6' target=\"_blank\">training_Fake news comments_trial_0</a></strong> to <a href='https://wandb.ai/hannsflip-none/Fake%20news%20comments' target=\"_blank\">Weights & Biases</a> (<a href='https://wandb.me/developer-guide' target=\"_blank\">docs</a>)<br>"
      ]
     },
     "metadata": {}
    },
    {
     "output_type": "display_data",
     "data": {
      "text/plain": [
       "<IPython.core.display.HTML object>"
      ],
      "text/html": [
       " View project at <a href='https://wandb.ai/hannsflip-none/Fake%20news%20comments' target=\"_blank\">https://wandb.ai/hannsflip-none/Fake%20news%20comments</a>"
      ]
     },
     "metadata": {}
    },
    {
     "output_type": "display_data",
     "data": {
      "text/plain": [
       "<IPython.core.display.HTML object>"
      ],
      "text/html": [
       " View run at <a href='https://wandb.ai/hannsflip-none/Fake%20news%20comments/runs/laleicr6' target=\"_blank\">https://wandb.ai/hannsflip-none/Fake%20news%20comments/runs/laleicr6</a>"
      ]
     },
     "metadata": {}
    },
    {
     "output_type": "stream",
     "name": "stdout",
     "text": [
      "Epoch 1: Train Loss=0.7032443710481182, Accuracy=0.544242262840271, F1 Score=0.7042458057403564\n",
      "Epoch 1: Accuracy=0.5452165007591248, F1 Score=0.7056829929351807\n",
      "Early stopping counter: 1/3\n",
      "Epoch 2: Train Loss=0.703056967329765, Accuracy=0.5437437891960144, F1 Score=0.7040181159973145\n"
     ]
    },
    {
     "output_type": "stream",
     "name": "stderr",
     "text": [
      "WARNING:urllib3.connectionpool:Retrying (Retry(total=4, connect=5, read=4, redirect=5, status=5)) after connection broken by 'RemoteDisconnected('Remote end closed connection without response')': /auszed/Experiments_fake_news.mlflow/api/2.0/mlflow/runs/log-batch\n"
     ]
    },
    {
     "output_type": "stream",
     "name": "stdout",
     "text": [
      "Epoch 2: Accuracy=0.5445181727409363, F1 Score=0.7050977349281311\n",
      "Early stopping counter: 2/3\n",
      "Epoch 3: Train Loss=0.7031968933932209, Accuracy=0.5433698892593384, F1 Score=0.703847348690033\n",
      "Epoch 3: Accuracy=0.5448673367500305, F1 Score=0.705390453338623\n",
      "Early stopping counter: 3/3\n",
      "Early stopping triggered. Stopping training.\n"
     ]
    },
    {
     "output_type": "stream",
     "name": "stderr",
     "text": [
      "2025/01/15 06:21:29 WARNING mlflow.utils.requirements_utils: Found torch version (2.5.1+cu121) contains a local version label (+cu121). MLflow logged a pip requirement for this package as 'torch==2.5.1' without the local version label to make it installable from PyPI. To specify pip requirements containing local version labels, please use `conda_env` or `pip_requirements`.\n",
      "2025/01/15 06:21:45 WARNING mlflow.utils.requirements_utils: The following packages were not found in the public PyPI package index as of 2024-12-04; if these packages are not present in the public PyPI index, you must install them manually before loading your model: {'google-genai'}\n",
      "2025/01/15 06:21:45 WARNING mlflow.utils.requirements_utils: Found torchvision version (0.20.1+cu121) contains a local version label (+cu121). MLflow logged a pip requirement for this package as 'torchvision==0.20.1' without the local version label to make it installable from PyPI. To specify pip requirements containing local version labels, please use `conda_env` or `pip_requirements`.\n",
      "\u001B[31m2025/01/15 06:21:45 WARNING mlflow.models.model: Model logged without a signature and input example. Please set `input_example` parameter when logging the model to auto infer the model signature.\u001B[0m\n"
     ]
    },
    {
     "output_type": "stream",
     "name": "stdout",
     "text": [
      "🏃 View run roberta_model at: https://dagshub.com/auszed/Experiments_fake_news.mlflow/#/experiments/0/runs/735dbb328b0d407c92886bc6ede5ce45\n",
      "🧪 View experiment at: https://dagshub.com/auszed/Experiments_fake_news.mlflow/#/experiments/0\n"
     ]
    },
    {
     "output_type": "display_data",
     "data": {
      "text/plain": [
       "<IPython.core.display.HTML object>"
      ],
      "text/html": []
     },
     "metadata": {}
    },
    {
     "output_type": "display_data",
     "data": {
      "text/plain": [
       "<IPython.core.display.HTML object>"
      ],
      "text/html": [
       "<br>    <style><br>        .wandb-row {<br>            display: flex;<br>            flex-direction: row;<br>            flex-wrap: wrap;<br>            justify-content: flex-start;<br>            width: 100%;<br>        }<br>        .wandb-col {<br>            display: flex;<br>            flex-direction: column;<br>            flex-basis: 100%;<br>            flex: 1;<br>            padding: 10px;<br>        }<br>    </style><br><div class=\"wandb-row\"><div class=\"wandb-col\"><h3>Run history:</h3><br/><table class=\"wandb\"><tr><td>epochs</td><td>▁▅█</td></tr><tr><td>train_accuracy</td><td>█▄▁</td></tr><tr><td>train_f1</td><td>█▄▁</td></tr><tr><td>train_loss</td><td>█▁▆</td></tr><tr><td>val_accuracy</td><td>█▁▅</td></tr><tr><td>val_f1</td><td>█▁▅</td></tr></table><br/></div><div class=\"wandb-col\"><h3>Run summary:</h3><br/><table class=\"wandb\"><tr><td>epochs</td><td>3</td></tr><tr><td>train_accuracy</td><td>0.54337</td></tr><tr><td>train_f1</td><td>0.70385</td></tr><tr><td>train_loss</td><td>0.7032</td></tr><tr><td>val_accuracy</td><td>0.54487</td></tr><tr><td>val_f1</td><td>0.70539</td></tr></table><br/></div></div>"
      ]
     },
     "metadata": {}
    },
    {
     "output_type": "display_data",
     "data": {
      "text/plain": [
       "<IPython.core.display.HTML object>"
      ],
      "text/html": [
       " View run <strong style=\"color:#cdcd00\">training_Fake news comments_trial_0</strong> at: <a href='https://wandb.ai/hannsflip-none/Fake%20news%20comments/runs/laleicr6' target=\"_blank\">https://wandb.ai/hannsflip-none/Fake%20news%20comments/runs/laleicr6</a><br> View project at: <a href='https://wandb.ai/hannsflip-none/Fake%20news%20comments' target=\"_blank\">https://wandb.ai/hannsflip-none/Fake%20news%20comments</a><br>Synced 5 W&B file(s), 0 media file(s), 0 artifact file(s) and 0 other file(s)"
      ]
     },
     "metadata": {}
    },
    {
     "output_type": "display_data",
     "data": {
      "text/plain": [
       "<IPython.core.display.HTML object>"
      ],
      "text/html": [
       "Find logs at: <code>./wandb/run-20250115_054718-laleicr6/logs</code>"
      ]
     },
     "metadata": {}
    },
    {
     "output_type": "stream",
     "name": "stderr",
     "text": [
      "[I 2025-01-15 06:22:58,451] Trial 0 finished with value: 0.7056829929351807 and parameters: {'lr': 1e-10, 'w_decay': 0.01, 'dropout_vals': 0.2094903546860852, 'warmup': 0.1456804615825149, 'optimizer_name': 'SGD'}. Best is trial 0 with value: 0.7056829929351807.\n"
     ]
    },
    {
     "output_type": "display_data",
     "data": {
      "text/plain": [
       "<IPython.core.display.HTML object>"
      ],
      "text/html": [
       "Tracking run with wandb version 0.19.1"
      ]
     },
     "metadata": {}
    },
    {
     "output_type": "display_data",
     "data": {
      "text/plain": [
       "<IPython.core.display.HTML object>"
      ],
      "text/html": [
       "Run data is saved locally in <code>/content/wandb/run-20250115_062258-tfr67evw</code>"
      ]
     },
     "metadata": {}
    },
    {
     "output_type": "display_data",
     "data": {
      "text/plain": [
       "<IPython.core.display.HTML object>"
      ],
      "text/html": [
       "Syncing run <strong><a href='https://wandb.ai/hannsflip-none/Fake%20news%20comments/runs/tfr67evw' target=\"_blank\">training_Fake news comments_trial_1</a></strong> to <a href='https://wandb.ai/hannsflip-none/Fake%20news%20comments' target=\"_blank\">Weights & Biases</a> (<a href='https://wandb.me/developer-guide' target=\"_blank\">docs</a>)<br>"
      ]
     },
     "metadata": {}
    },
    {
     "output_type": "display_data",
     "data": {
      "text/plain": [
       "<IPython.core.display.HTML object>"
      ],
      "text/html": [
       " View project at <a href='https://wandb.ai/hannsflip-none/Fake%20news%20comments' target=\"_blank\">https://wandb.ai/hannsflip-none/Fake%20news%20comments</a>"
      ]
     },
     "metadata": {}
    },
    {
     "output_type": "display_data",
     "data": {
      "text/plain": [
       "<IPython.core.display.HTML object>"
      ],
      "text/html": [
       " View run at <a href='https://wandb.ai/hannsflip-none/Fake%20news%20comments/runs/tfr67evw' target=\"_blank\">https://wandb.ai/hannsflip-none/Fake%20news%20comments/runs/tfr67evw</a>"
      ]
     },
     "metadata": {}
    },
    {
     "output_type": "stream",
     "name": "stdout",
     "text": [
      "Epoch 1: Train Loss=0.7031793601491515, Accuracy=0.5437437891960144, F1 Score=0.7038744688034058\n"
     ]
    },
    {
     "output_type": "stream",
     "name": "stderr",
     "text": [
      "WARNING:urllib3.connectionpool:Retrying (Retry(total=4, connect=5, read=4, redirect=5, status=5)) after connection broken by 'RemoteDisconnected('Remote end closed connection without response')': /auszed/Experiments_fake_news.mlflow/api/2.0/mlflow/runs/log-batch\n"
     ]
    },
    {
     "output_type": "stream",
     "name": "stdout",
     "text": [
      "Epoch 1: Accuracy=0.5448673367500305, F1 Score=0.705390453338623\n",
      "Early stopping counter: 1/3\n",
      "Epoch 2: Train Loss=0.7023291355175368, Accuracy=0.5120887160301208, F1 Score=0.5309692621231079\n",
      "Epoch 2: Accuracy=0.45495811104774475, F1 Score=0.0\n",
      "Early stopping counter: 2/3\n",
      "Epoch 3: Train Loss=0.6998959299871477, Accuracy=0.4566301107406616, F1 Score=0.00045850526657886803\n"
     ]
    },
    {
     "output_type": "stream",
     "name": "stderr",
     "text": [
      "WARNING:urllib3.connectionpool:Retrying (Retry(total=4, connect=5, read=4, redirect=5, status=5)) after connection broken by 'RemoteDisconnected('Remote end closed connection without response')': /auszed/Experiments_fake_news.mlflow/api/2.0/mlflow/runs/log-batch\n"
     ]
    },
    {
     "output_type": "stream",
     "name": "stdout",
     "text": [
      "Epoch 3: Accuracy=0.45513269305229187, F1 Score=0.0\n",
      "Early stopping counter: 3/3\n",
      "Early stopping triggered. Stopping training.\n"
     ]
    },
    {
     "output_type": "stream",
     "name": "stderr",
     "text": [
      "2025/01/15 06:57:09 WARNING mlflow.utils.requirements_utils: Found torch version (2.5.1+cu121) contains a local version label (+cu121). MLflow logged a pip requirement for this package as 'torch==2.5.1' without the local version label to make it installable from PyPI. To specify pip requirements containing local version labels, please use `conda_env` or `pip_requirements`.\n",
      "2025/01/15 06:57:21 WARNING mlflow.utils.requirements_utils: The following packages were not found in the public PyPI package index as of 2024-12-04; if these packages are not present in the public PyPI index, you must install them manually before loading your model: {'google-genai'}\n",
      "2025/01/15 06:57:21 WARNING mlflow.utils.requirements_utils: Found torchvision version (0.20.1+cu121) contains a local version label (+cu121). MLflow logged a pip requirement for this package as 'torchvision==0.20.1' without the local version label to make it installable from PyPI. To specify pip requirements containing local version labels, please use `conda_env` or `pip_requirements`.\n",
      "\u001B[31m2025/01/15 06:57:21 WARNING mlflow.models.model: Model logged without a signature and input example. Please set `input_example` parameter when logging the model to auto infer the model signature.\u001B[0m\n"
     ]
    },
    {
     "output_type": "stream",
     "name": "stdout",
     "text": [
      "🏃 View run roberta_model at: https://dagshub.com/auszed/Experiments_fake_news.mlflow/#/experiments/0/runs/020f1a8564ca4bd1b2c44ad5fa2262e4\n",
      "🧪 View experiment at: https://dagshub.com/auszed/Experiments_fake_news.mlflow/#/experiments/0\n"
     ]
    },
    {
     "output_type": "display_data",
     "data": {
      "text/plain": [
       "<IPython.core.display.HTML object>"
      ],
      "text/html": []
     },
     "metadata": {}
    },
    {
     "output_type": "display_data",
     "data": {
      "text/plain": [
       "<IPython.core.display.HTML object>"
      ],
      "text/html": [
       "<br>    <style><br>        .wandb-row {<br>            display: flex;<br>            flex-direction: row;<br>            flex-wrap: wrap;<br>            justify-content: flex-start;<br>            width: 100%;<br>        }<br>        .wandb-col {<br>            display: flex;<br>            flex-direction: column;<br>            flex-basis: 100%;<br>            flex: 1;<br>            padding: 10px;<br>        }<br>    </style><br><div class=\"wandb-row\"><div class=\"wandb-col\"><h3>Run history:</h3><br/><table class=\"wandb\"><tr><td>epochs</td><td>▁▅█</td></tr><tr><td>train_accuracy</td><td>█▅▁</td></tr><tr><td>train_f1</td><td>█▆▁</td></tr><tr><td>train_loss</td><td>█▆▁</td></tr><tr><td>val_accuracy</td><td>█▁▁</td></tr><tr><td>val_f1</td><td>█▁▁</td></tr></table><br/></div><div class=\"wandb-col\"><h3>Run summary:</h3><br/><table class=\"wandb\"><tr><td>epochs</td><td>3</td></tr><tr><td>train_accuracy</td><td>0.45663</td></tr><tr><td>train_f1</td><td>0.00046</td></tr><tr><td>train_loss</td><td>0.6999</td></tr><tr><td>val_accuracy</td><td>0.45513</td></tr><tr><td>val_f1</td><td>0</td></tr></table><br/></div></div>"
      ]
     },
     "metadata": {}
    },
    {
     "output_type": "display_data",
     "data": {
      "text/plain": [
       "<IPython.core.display.HTML object>"
      ],
      "text/html": [
       " View run <strong style=\"color:#cdcd00\">training_Fake news comments_trial_1</strong> at: <a href='https://wandb.ai/hannsflip-none/Fake%20news%20comments/runs/tfr67evw' target=\"_blank\">https://wandb.ai/hannsflip-none/Fake%20news%20comments/runs/tfr67evw</a><br> View project at: <a href='https://wandb.ai/hannsflip-none/Fake%20news%20comments' target=\"_blank\">https://wandb.ai/hannsflip-none/Fake%20news%20comments</a><br>Synced 5 W&B file(s), 0 media file(s), 0 artifact file(s) and 0 other file(s)"
      ]
     },
     "metadata": {}
    },
    {
     "output_type": "display_data",
     "data": {
      "text/plain": [
       "<IPython.core.display.HTML object>"
      ],
      "text/html": [
       "Find logs at: <code>./wandb/run-20250115_062258-tfr67evw/logs</code>"
      ]
     },
     "metadata": {}
    },
    {
     "output_type": "stream",
     "name": "stderr",
     "text": [
      "[I 2025-01-15 06:58:18,320] Trial 1 finished with value: 0.705390453338623 and parameters: {'lr': 0.007500000025, 'w_decay': 1e-12, 'dropout_vals': 0.1823748396143986, 'warmup': 0.10500087952943647, 'optimizer_name': 'SGD'}. Best is trial 0 with value: 0.7056829929351807.\n"
     ]
    },
    {
     "output_type": "display_data",
     "data": {
      "text/plain": [
       "<IPython.core.display.HTML object>"
      ],
      "text/html": [
       "Tracking run with wandb version 0.19.1"
      ]
     },
     "metadata": {}
    },
    {
     "output_type": "display_data",
     "data": {
      "text/plain": [
       "<IPython.core.display.HTML object>"
      ],
      "text/html": [
       "Run data is saved locally in <code>/content/wandb/run-20250115_065818-lzwz8nzq</code>"
      ]
     },
     "metadata": {}
    },
    {
     "output_type": "display_data",
     "data": {
      "text/plain": [
       "<IPython.core.display.HTML object>"
      ],
      "text/html": [
       "Syncing run <strong><a href='https://wandb.ai/hannsflip-none/Fake%20news%20comments/runs/lzwz8nzq' target=\"_blank\">training_Fake news comments_trial_2</a></strong> to <a href='https://wandb.ai/hannsflip-none/Fake%20news%20comments' target=\"_blank\">Weights & Biases</a> (<a href='https://wandb.me/developer-guide' target=\"_blank\">docs</a>)<br>"
      ]
     },
     "metadata": {}
    },
    {
     "output_type": "display_data",
     "data": {
      "text/plain": [
       "<IPython.core.display.HTML object>"
      ],
      "text/html": [
       " View project at <a href='https://wandb.ai/hannsflip-none/Fake%20news%20comments' target=\"_blank\">https://wandb.ai/hannsflip-none/Fake%20news%20comments</a>"
      ]
     },
     "metadata": {}
    },
    {
     "output_type": "display_data",
     "data": {
      "text/plain": [
       "<IPython.core.display.HTML object>"
      ],
      "text/html": [
       " View run at <a href='https://wandb.ai/hannsflip-none/Fake%20news%20comments/runs/lzwz8nzq' target=\"_blank\">https://wandb.ai/hannsflip-none/Fake%20news%20comments/runs/lzwz8nzq</a>"
      ]
     },
     "metadata": {}
    },
    {
     "output_type": "stream",
     "name": "stdout",
     "text": [
      "Epoch 1: Train Loss=0.698598906888087, Accuracy=0.45675474405288696, F1 Score=0.0\n"
     ]
    },
    {
     "output_type": "stream",
     "name": "stderr",
     "text": [
      "WARNING:urllib3.connectionpool:Retrying (Retry(total=4, connect=5, read=4, redirect=5, status=5)) after connection broken by 'RemoteDisconnected('Remote end closed connection without response')': /auszed/Experiments_fake_news.mlflow/api/2.0/mlflow/runs/log-batch\n"
     ]
    },
    {
     "output_type": "stream",
     "name": "stdout",
     "text": [
      "Epoch 1: Accuracy=0.4554818570613861, F1 Score=0.0\n",
      "Early stopping counter: 1/3\n",
      "Epoch 2: Train Loss=0.6985420141357962, Accuracy=0.4566301107406616, F1 Score=0.0\n"
     ]
    },
    {
     "output_type": "stream",
     "name": "stderr",
     "text": [
      "WARNING:urllib3.connectionpool:Retrying (Retry(total=4, connect=5, read=4, redirect=5, status=5)) after connection broken by 'RemoteDisconnected('Remote end closed connection without response')': /auszed/Experiments_fake_news.mlflow/api/2.0/mlflow/runs/log-batch\n"
     ]
    },
    {
     "output_type": "stream",
     "name": "stdout",
     "text": [
      "Epoch 2: Accuracy=0.45495811104774475, F1 Score=0.0\n",
      "Early stopping counter: 2/3\n",
      "Epoch 3: Train Loss=0.698568747145823, Accuracy=0.4566301107406616, F1 Score=0.0\n"
     ]
    },
    {
     "output_type": "stream",
     "name": "stderr",
     "text": [
      "WARNING:urllib3.connectionpool:Retrying (Retry(total=4, connect=5, read=4, redirect=5, status=5)) after connection broken by 'RemoteDisconnected('Remote end closed connection without response')': /auszed/Experiments_fake_news.mlflow/api/2.0/mlflow/runs/log-batch\n"
     ]
    },
    {
     "output_type": "stream",
     "name": "stdout",
     "text": [
      "Epoch 3: Accuracy=0.455307275056839, F1 Score=0.0\n",
      "Early stopping counter: 3/3\n",
      "Early stopping triggered. Stopping training.\n"
     ]
    },
    {
     "output_type": "stream",
     "name": "stderr",
     "text": [
      "2025/01/15 07:32:32 WARNING mlflow.utils.requirements_utils: Found torch version (2.5.1+cu121) contains a local version label (+cu121). MLflow logged a pip requirement for this package as 'torch==2.5.1' without the local version label to make it installable from PyPI. To specify pip requirements containing local version labels, please use `conda_env` or `pip_requirements`.\n",
      "2025/01/15 07:32:43 WARNING mlflow.utils.requirements_utils: The following packages were not found in the public PyPI package index as of 2024-12-04; if these packages are not present in the public PyPI index, you must install them manually before loading your model: {'google-genai'}\n",
      "2025/01/15 07:32:43 WARNING mlflow.utils.requirements_utils: Found torchvision version (0.20.1+cu121) contains a local version label (+cu121). MLflow logged a pip requirement for this package as 'torchvision==0.20.1' without the local version label to make it installable from PyPI. To specify pip requirements containing local version labels, please use `conda_env` or `pip_requirements`.\n",
      "\u001B[31m2025/01/15 07:32:44 WARNING mlflow.models.model: Model logged without a signature and input example. Please set `input_example` parameter when logging the model to auto infer the model signature.\u001B[0m\n"
     ]
    },
    {
     "output_type": "stream",
     "name": "stdout",
     "text": [
      "🏃 View run roberta_model at: https://dagshub.com/auszed/Experiments_fake_news.mlflow/#/experiments/0/runs/ab022f4086074eff81ff2307e886c8bc\n",
      "🧪 View experiment at: https://dagshub.com/auszed/Experiments_fake_news.mlflow/#/experiments/0\n"
     ]
    },
    {
     "output_type": "display_data",
     "data": {
      "text/plain": [
       "<IPython.core.display.HTML object>"
      ],
      "text/html": []
     },
     "metadata": {}
    },
    {
     "output_type": "display_data",
     "data": {
      "text/plain": [
       "<IPython.core.display.HTML object>"
      ],
      "text/html": [
       "<br>    <style><br>        .wandb-row {<br>            display: flex;<br>            flex-direction: row;<br>            flex-wrap: wrap;<br>            justify-content: flex-start;<br>            width: 100%;<br>        }<br>        .wandb-col {<br>            display: flex;<br>            flex-direction: column;<br>            flex-basis: 100%;<br>            flex: 1;<br>            padding: 10px;<br>        }<br>    </style><br><div class=\"wandb-row\"><div class=\"wandb-col\"><h3>Run history:</h3><br/><table class=\"wandb\"><tr><td>epochs</td><td>▁▅█</td></tr><tr><td>train_accuracy</td><td>█▁▁</td></tr><tr><td>train_f1</td><td>▁▁▁</td></tr><tr><td>train_loss</td><td>█▁▄</td></tr><tr><td>val_accuracy</td><td>█▁▆</td></tr><tr><td>val_f1</td><td>▁▁▁</td></tr></table><br/></div><div class=\"wandb-col\"><h3>Run summary:</h3><br/><table class=\"wandb\"><tr><td>epochs</td><td>3</td></tr><tr><td>train_accuracy</td><td>0.45663</td></tr><tr><td>train_f1</td><td>0</td></tr><tr><td>train_loss</td><td>0.69857</td></tr><tr><td>val_accuracy</td><td>0.45531</td></tr><tr><td>val_f1</td><td>0</td></tr></table><br/></div></div>"
      ]
     },
     "metadata": {}
    },
    {
     "output_type": "display_data",
     "data": {
      "text/plain": [
       "<IPython.core.display.HTML object>"
      ],
      "text/html": [
       " View run <strong style=\"color:#cdcd00\">training_Fake news comments_trial_2</strong> at: <a href='https://wandb.ai/hannsflip-none/Fake%20news%20comments/runs/lzwz8nzq' target=\"_blank\">https://wandb.ai/hannsflip-none/Fake%20news%20comments/runs/lzwz8nzq</a><br> View project at: <a href='https://wandb.ai/hannsflip-none/Fake%20news%20comments' target=\"_blank\">https://wandb.ai/hannsflip-none/Fake%20news%20comments</a><br>Synced 5 W&B file(s), 0 media file(s), 0 artifact file(s) and 0 other file(s)"
      ]
     },
     "metadata": {}
    },
    {
     "output_type": "display_data",
     "data": {
      "text/plain": [
       "<IPython.core.display.HTML object>"
      ],
      "text/html": [
       "Find logs at: <code>./wandb/run-20250115_065818-lzwz8nzq/logs</code>"
      ]
     },
     "metadata": {}
    },
    {
     "output_type": "stream",
     "name": "stderr",
     "text": [
      "[I 2025-01-15 07:33:44,966] Trial 2 finished with value: 0.0 and parameters: {'lr': 1e-10, 'w_decay': 0.00750000000025, 'dropout_vals': 0.24067982687566505, 'warmup': 0.013873457641862298, 'optimizer_name': 'SGD'}. Best is trial 0 with value: 0.7056829929351807.\n",
      "/usr/local/lib/python3.10/dist-packages/transformers/optimization.py:591: FutureWarning: This implementation of AdamW is deprecated and will be removed in a future version. Use the PyTorch implementation torch.optim.AdamW instead, or set `no_deprecation_warning=True` to disable this warning\n",
      "  warnings.warn(\n"
     ]
    },
    {
     "output_type": "display_data",
     "data": {
      "text/plain": [
       "<IPython.core.display.HTML object>"
      ],
      "text/html": [
       "Tracking run with wandb version 0.19.1"
      ]
     },
     "metadata": {}
    },
    {
     "output_type": "display_data",
     "data": {
      "text/plain": [
       "<IPython.core.display.HTML object>"
      ],
      "text/html": [
       "Run data is saved locally in <code>/content/wandb/run-20250115_073344-4eot8x7u</code>"
      ]
     },
     "metadata": {}
    },
    {
     "output_type": "display_data",
     "data": {
      "text/plain": [
       "<IPython.core.display.HTML object>"
      ],
      "text/html": [
       "Syncing run <strong><a href='https://wandb.ai/hannsflip-none/Fake%20news%20comments/runs/4eot8x7u' target=\"_blank\">training_Fake news comments_trial_3</a></strong> to <a href='https://wandb.ai/hannsflip-none/Fake%20news%20comments' target=\"_blank\">Weights & Biases</a> (<a href='https://wandb.me/developer-guide' target=\"_blank\">docs</a>)<br>"
      ]
     },
     "metadata": {}
    },
    {
     "output_type": "display_data",
     "data": {
      "text/plain": [
       "<IPython.core.display.HTML object>"
      ],
      "text/html": [
       " View project at <a href='https://wandb.ai/hannsflip-none/Fake%20news%20comments' target=\"_blank\">https://wandb.ai/hannsflip-none/Fake%20news%20comments</a>"
      ]
     },
     "metadata": {}
    },
    {
     "output_type": "display_data",
     "data": {
      "text/plain": [
       "<IPython.core.display.HTML object>"
      ],
      "text/html": [
       " View run at <a href='https://wandb.ai/hannsflip-none/Fake%20news%20comments/runs/4eot8x7u' target=\"_blank\">https://wandb.ai/hannsflip-none/Fake%20news%20comments/runs/4eot8x7u</a>"
      ]
     },
     "metadata": {}
    },
    {
     "output_type": "stream",
     "name": "stdout",
     "text": [
      "Epoch 1: Train Loss=0.6985528417979019, Accuracy=0.4566301107406616, F1 Score=0.0\n"
     ]
    },
    {
     "output_type": "stream",
     "name": "stderr",
     "text": [
      "WARNING:urllib3.connectionpool:Retrying (Retry(total=4, connect=5, read=4, redirect=5, status=5)) after connection broken by 'RemoteDisconnected('Remote end closed connection without response')': /auszed/Experiments_fake_news.mlflow/api/2.0/mlflow/runs/log-batch\n"
     ]
    },
    {
     "output_type": "stream",
     "name": "stdout",
     "text": [
      "Epoch 1: Accuracy=0.4554818570613861, F1 Score=0.0\n",
      "Early stopping counter: 1/3\n",
      "Epoch 2: Train Loss=0.5640435300225156, Accuracy=0.9704636335372925, F1 Score=0.9723421931266785\n",
      "Epoch 2: Accuracy=0.9910963773727417, F1 Score=0.9917728900909424\n",
      "Early stopping counter: 2/3\n",
      "Epoch 3: Train Loss=0.5268938762478433, Accuracy=0.9617397785186768, F1 Score=0.9640305042266846\n",
      "Epoch 3: Accuracy=0.9149790406227112, F1 Score=0.9154072999954224\n",
      "Early stopping counter: 3/3\n",
      "Early stopping triggered. Stopping training.\n"
     ]
    },
    {
     "output_type": "stream",
     "name": "stderr",
     "text": [
      "2025/01/15 08:08:03 WARNING mlflow.utils.requirements_utils: Found torch version (2.5.1+cu121) contains a local version label (+cu121). MLflow logged a pip requirement for this package as 'torch==2.5.1' without the local version label to make it installable from PyPI. To specify pip requirements containing local version labels, please use `conda_env` or `pip_requirements`.\n",
      "2025/01/15 08:08:14 WARNING mlflow.utils.requirements_utils: The following packages were not found in the public PyPI package index as of 2024-12-04; if these packages are not present in the public PyPI index, you must install them manually before loading your model: {'google-genai'}\n",
      "2025/01/15 08:08:14 WARNING mlflow.utils.requirements_utils: Found torchvision version (0.20.1+cu121) contains a local version label (+cu121). MLflow logged a pip requirement for this package as 'torchvision==0.20.1' without the local version label to make it installable from PyPI. To specify pip requirements containing local version labels, please use `conda_env` or `pip_requirements`.\n",
      "\u001B[31m2025/01/15 08:08:14 WARNING mlflow.models.model: Model logged without a signature and input example. Please set `input_example` parameter when logging the model to auto infer the model signature.\u001B[0m\n"
     ]
    },
    {
     "output_type": "stream",
     "name": "stdout",
     "text": [
      "🏃 View run roberta_model at: https://dagshub.com/auszed/Experiments_fake_news.mlflow/#/experiments/0/runs/e49287df0e514251a85de1e48dd3fae4\n",
      "🧪 View experiment at: https://dagshub.com/auszed/Experiments_fake_news.mlflow/#/experiments/0\n"
     ]
    },
    {
     "output_type": "display_data",
     "data": {
      "text/plain": [
       "<IPython.core.display.HTML object>"
      ],
      "text/html": []
     },
     "metadata": {}
    },
    {
     "output_type": "display_data",
     "data": {
      "text/plain": [
       "<IPython.core.display.HTML object>"
      ],
      "text/html": [
       "<br>    <style><br>        .wandb-row {<br>            display: flex;<br>            flex-direction: row;<br>            flex-wrap: wrap;<br>            justify-content: flex-start;<br>            width: 100%;<br>        }<br>        .wandb-col {<br>            display: flex;<br>            flex-direction: column;<br>            flex-basis: 100%;<br>            flex: 1;<br>            padding: 10px;<br>        }<br>    </style><br><div class=\"wandb-row\"><div class=\"wandb-col\"><h3>Run history:</h3><br/><table class=\"wandb\"><tr><td>epochs</td><td>▁▅█</td></tr><tr><td>train_accuracy</td><td>▁██</td></tr><tr><td>train_f1</td><td>▁██</td></tr><tr><td>train_loss</td><td>█▃▁</td></tr><tr><td>val_accuracy</td><td>▁█▇</td></tr><tr><td>val_f1</td><td>▁█▇</td></tr></table><br/></div><div class=\"wandb-col\"><h3>Run summary:</h3><br/><table class=\"wandb\"><tr><td>epochs</td><td>3</td></tr><tr><td>train_accuracy</td><td>0.96174</td></tr><tr><td>train_f1</td><td>0.96403</td></tr><tr><td>train_loss</td><td>0.52689</td></tr><tr><td>val_accuracy</td><td>0.91498</td></tr><tr><td>val_f1</td><td>0.91541</td></tr></table><br/></div></div>"
      ]
     },
     "metadata": {}
    },
    {
     "output_type": "display_data",
     "data": {
      "text/plain": [
       "<IPython.core.display.HTML object>"
      ],
      "text/html": [
       " View run <strong style=\"color:#cdcd00\">training_Fake news comments_trial_3</strong> at: <a href='https://wandb.ai/hannsflip-none/Fake%20news%20comments/runs/4eot8x7u' target=\"_blank\">https://wandb.ai/hannsflip-none/Fake%20news%20comments/runs/4eot8x7u</a><br> View project at: <a href='https://wandb.ai/hannsflip-none/Fake%20news%20comments' target=\"_blank\">https://wandb.ai/hannsflip-none/Fake%20news%20comments</a><br>Synced 5 W&B file(s), 0 media file(s), 0 artifact file(s) and 0 other file(s)"
      ]
     },
     "metadata": {}
    },
    {
     "output_type": "display_data",
     "data": {
      "text/plain": [
       "<IPython.core.display.HTML object>"
      ],
      "text/html": [
       "Find logs at: <code>./wandb/run-20250115_073344-4eot8x7u/logs</code>"
      ]
     },
     "metadata": {}
    },
    {
     "output_type": "stream",
     "name": "stderr",
     "text": [
      "[I 2025-01-15 08:09:12,937] Trial 3 finished with value: 0.9917728900909424 and parameters: {'lr': 0.01, 'w_decay': 0.00750000000025, 'dropout_vals': 0.2962668233174748, 'warmup': 0.18037567782788547, 'optimizer_name': 'AdamW'}. Best is trial 3 with value: 0.9917728900909424.\n"
     ]
    },
    {
     "output_type": "display_data",
     "data": {
      "text/plain": [
       "<IPython.core.display.HTML object>"
      ],
      "text/html": [
       "Tracking run with wandb version 0.19.1"
      ]
     },
     "metadata": {}
    },
    {
     "output_type": "display_data",
     "data": {
      "text/plain": [
       "<IPython.core.display.HTML object>"
      ],
      "text/html": [
       "Run data is saved locally in <code>/content/wandb/run-20250115_080912-b44nc26k</code>"
      ]
     },
     "metadata": {}
    },
    {
     "output_type": "display_data",
     "data": {
      "text/plain": [
       "<IPython.core.display.HTML object>"
      ],
      "text/html": [
       "Syncing run <strong><a href='https://wandb.ai/hannsflip-none/Fake%20news%20comments/runs/b44nc26k' target=\"_blank\">training_Fake news comments_trial_4</a></strong> to <a href='https://wandb.ai/hannsflip-none/Fake%20news%20comments' target=\"_blank\">Weights & Biases</a> (<a href='https://wandb.me/developer-guide' target=\"_blank\">docs</a>)<br>"
      ]
     },
     "metadata": {}
    },
    {
     "output_type": "display_data",
     "data": {
      "text/plain": [
       "<IPython.core.display.HTML object>"
      ],
      "text/html": [
       " View project at <a href='https://wandb.ai/hannsflip-none/Fake%20news%20comments' target=\"_blank\">https://wandb.ai/hannsflip-none/Fake%20news%20comments</a>"
      ]
     },
     "metadata": {}
    },
    {
     "output_type": "display_data",
     "data": {
      "text/plain": [
       "<IPython.core.display.HTML object>"
      ],
      "text/html": [
       " View run at <a href='https://wandb.ai/hannsflip-none/Fake%20news%20comments/runs/b44nc26k' target=\"_blank\">https://wandb.ai/hannsflip-none/Fake%20news%20comments/runs/b44nc26k</a>"
      ]
     },
     "metadata": {}
    },
    {
     "output_type": "stream",
     "name": "stdout",
     "text": [
      "Epoch 1: Train Loss=0.5482430440835202, Accuracy=0.8662761449813843, F1 Score=0.8596468567848206\n"
     ]
    },
    {
     "output_type": "stream",
     "name": "stderr",
     "text": [
      "WARNING:urllib3.connectionpool:Retrying (Retry(total=4, connect=5, read=4, redirect=5, status=5)) after connection broken by 'RemoteDisconnected('Remote end closed connection without response')': /auszed/Experiments_fake_news.mlflow/api/2.0/mlflow/runs/log-batch\n"
     ]
    },
    {
     "output_type": "stream",
     "name": "stdout",
     "text": [
      "Epoch 1: Accuracy=0.9149790406227112, F1 Score=0.915348470211029\n",
      "Early stopping counter: 1/3\n",
      "Epoch 2: Train Loss=0.5484112528183406, Accuracy=0.865902304649353, F1 Score=0.8591991662979126\n"
     ]
    },
    {
     "output_type": "stream",
     "name": "stderr",
     "text": [
      "WARNING:urllib3.connectionpool:Retrying (Retry(total=4, connect=5, read=4, redirect=5, status=5)) after connection broken by 'RemoteDisconnected('Remote end closed connection without response')': /auszed/Experiments_fake_news.mlflow/api/2.0/mlflow/runs/log-batch\n"
     ]
    },
    {
     "output_type": "stream",
     "name": "stdout",
     "text": [
      "Epoch 2: Accuracy=0.9153282046318054, F1 Score=0.9156961441040039\n",
      "Early stopping counter: 2/3\n",
      "Epoch 3: Train Loss=0.5480343398163587, Accuracy=0.8671485781669617, F1 Score=0.8606899976730347\n"
     ]
    },
    {
     "output_type": "stream",
     "name": "stderr",
     "text": [
      "WARNING:urllib3.connectionpool:Retrying (Retry(total=4, connect=5, read=4, redirect=5, status=5)) after connection broken by 'RemoteDisconnected('Remote end closed connection without response')': /auszed/Experiments_fake_news.mlflow/api/2.0/mlflow/runs/log-batch\n"
     ]
    },
    {
     "output_type": "stream",
     "name": "stdout",
     "text": [
      "Epoch 3: Accuracy=0.9148044586181641, F1 Score=0.9151600003242493\n",
      "Early stopping counter: 3/3\n",
      "Early stopping triggered. Stopping training.\n"
     ]
    },
    {
     "output_type": "stream",
     "name": "stderr",
     "text": [
      "2025/01/15 08:43:21 WARNING mlflow.utils.requirements_utils: Found torch version (2.5.1+cu121) contains a local version label (+cu121). MLflow logged a pip requirement for this package as 'torch==2.5.1' without the local version label to make it installable from PyPI. To specify pip requirements containing local version labels, please use `conda_env` or `pip_requirements`.\n",
      "2025/01/15 08:43:33 WARNING mlflow.utils.requirements_utils: The following packages were not found in the public PyPI package index as of 2024-12-04; if these packages are not present in the public PyPI index, you must install them manually before loading your model: {'google-genai'}\n",
      "2025/01/15 08:43:33 WARNING mlflow.utils.requirements_utils: Found torchvision version (0.20.1+cu121) contains a local version label (+cu121). MLflow logged a pip requirement for this package as 'torchvision==0.20.1' without the local version label to make it installable from PyPI. To specify pip requirements containing local version labels, please use `conda_env` or `pip_requirements`.\n",
      "\u001B[31m2025/01/15 08:43:33 WARNING mlflow.models.model: Model logged without a signature and input example. Please set `input_example` parameter when logging the model to auto infer the model signature.\u001B[0m\n"
     ]
    },
    {
     "output_type": "stream",
     "name": "stdout",
     "text": [
      "🏃 View run roberta_model at: https://dagshub.com/auszed/Experiments_fake_news.mlflow/#/experiments/0/runs/405be7ff13b84cb3920854bfaea42f68\n",
      "🧪 View experiment at: https://dagshub.com/auszed/Experiments_fake_news.mlflow/#/experiments/0\n"
     ]
    },
    {
     "output_type": "display_data",
     "data": {
      "text/plain": [
       "<IPython.core.display.HTML object>"
      ],
      "text/html": []
     },
     "metadata": {}
    },
    {
     "output_type": "display_data",
     "data": {
      "text/plain": [
       "<IPython.core.display.HTML object>"
      ],
      "text/html": [
       "<br>    <style><br>        .wandb-row {<br>            display: flex;<br>            flex-direction: row;<br>            flex-wrap: wrap;<br>            justify-content: flex-start;<br>            width: 100%;<br>        }<br>        .wandb-col {<br>            display: flex;<br>            flex-direction: column;<br>            flex-basis: 100%;<br>            flex: 1;<br>            padding: 10px;<br>        }<br>    </style><br><div class=\"wandb-row\"><div class=\"wandb-col\"><h3>Run history:</h3><br/><table class=\"wandb\"><tr><td>epochs</td><td>▁▅█</td></tr><tr><td>train_accuracy</td><td>▃▁█</td></tr><tr><td>train_f1</td><td>▃▁█</td></tr><tr><td>train_loss</td><td>▅█▁</td></tr><tr><td>val_accuracy</td><td>▃█▁</td></tr><tr><td>val_f1</td><td>▃█▁</td></tr></table><br/></div><div class=\"wandb-col\"><h3>Run summary:</h3><br/><table class=\"wandb\"><tr><td>epochs</td><td>3</td></tr><tr><td>train_accuracy</td><td>0.86715</td></tr><tr><td>train_f1</td><td>0.86069</td></tr><tr><td>train_loss</td><td>0.54803</td></tr><tr><td>val_accuracy</td><td>0.9148</td></tr><tr><td>val_f1</td><td>0.91516</td></tr></table><br/></div></div>"
      ]
     },
     "metadata": {}
    },
    {
     "output_type": "display_data",
     "data": {
      "text/plain": [
       "<IPython.core.display.HTML object>"
      ],
      "text/html": [
       " View run <strong style=\"color:#cdcd00\">training_Fake news comments_trial_4</strong> at: <a href='https://wandb.ai/hannsflip-none/Fake%20news%20comments/runs/b44nc26k' target=\"_blank\">https://wandb.ai/hannsflip-none/Fake%20news%20comments/runs/b44nc26k</a><br> View project at: <a href='https://wandb.ai/hannsflip-none/Fake%20news%20comments' target=\"_blank\">https://wandb.ai/hannsflip-none/Fake%20news%20comments</a><br>Synced 5 W&B file(s), 0 media file(s), 0 artifact file(s) and 0 other file(s)"
      ]
     },
     "metadata": {}
    },
    {
     "output_type": "display_data",
     "data": {
      "text/plain": [
       "<IPython.core.display.HTML object>"
      ],
      "text/html": [
       "Find logs at: <code>./wandb/run-20250115_080912-b44nc26k/logs</code>"
      ]
     },
     "metadata": {}
    },
    {
     "output_type": "stream",
     "name": "stderr",
     "text": [
      "[I 2025-01-15 08:44:37,165] Trial 4 finished with value: 0.9156961441040039 and parameters: {'lr': 1e-10, 'w_decay': 0.00750000000025, 'dropout_vals': 0.2664123838236434, 'warmup': 0.03196053956086775, 'optimizer_name': 'SGD'}. Best is trial 3 with value: 0.9917728900909424.\n"
     ]
    },
    {
     "output_type": "display_data",
     "data": {
      "text/plain": [
       "<IPython.core.display.HTML object>"
      ],
      "text/html": [
       "Tracking run with wandb version 0.19.1"
      ]
     },
     "metadata": {}
    },
    {
     "output_type": "display_data",
     "data": {
      "text/plain": [
       "<IPython.core.display.HTML object>"
      ],
      "text/html": [
       "Run data is saved locally in <code>/content/wandb/run-20250115_084437-epld8c56</code>"
      ]
     },
     "metadata": {}
    },
    {
     "output_type": "display_data",
     "data": {
      "text/plain": [
       "<IPython.core.display.HTML object>"
      ],
      "text/html": [
       "Syncing run <strong><a href='https://wandb.ai/hannsflip-none/Fake%20news%20comments/runs/epld8c56' target=\"_blank\">training_Fake news comments_trial_5</a></strong> to <a href='https://wandb.ai/hannsflip-none/Fake%20news%20comments' target=\"_blank\">Weights & Biases</a> (<a href='https://wandb.me/developer-guide' target=\"_blank\">docs</a>)<br>"
      ]
     },
     "metadata": {}
    },
    {
     "output_type": "display_data",
     "data": {
      "text/plain": [
       "<IPython.core.display.HTML object>"
      ],
      "text/html": [
       " View project at <a href='https://wandb.ai/hannsflip-none/Fake%20news%20comments' target=\"_blank\">https://wandb.ai/hannsflip-none/Fake%20news%20comments</a>"
      ]
     },
     "metadata": {}
    },
    {
     "output_type": "display_data",
     "data": {
      "text/plain": [
       "<IPython.core.display.HTML object>"
      ],
      "text/html": [
       " View run at <a href='https://wandb.ai/hannsflip-none/Fake%20news%20comments/runs/epld8c56' target=\"_blank\">https://wandb.ai/hannsflip-none/Fake%20news%20comments/runs/epld8c56</a>"
      ]
     },
     "metadata": {}
    },
    {
     "output_type": "stream",
     "name": "stdout",
     "text": [
      "Epoch 1: Train Loss=0.5480153051651606, Accuracy=0.866899311542511, F1 Score=0.8604286313056946\n",
      "Epoch 1: Accuracy=0.9148044586181641, F1 Score=0.9151894450187683\n",
      "Early stopping counter: 1/3\n",
      "Epoch 2: Train Loss=0.5082841474536884, Accuracy=0.9798105955123901, F1 Score=0.9811232686042786\n"
     ]
    },
    {
     "output_type": "stream",
     "name": "stderr",
     "text": [
      "WARNING:urllib3.connectionpool:Retrying (Retry(total=4, connect=5, read=4, redirect=5, status=5)) after connection broken by 'RemoteDisconnected('Remote end closed connection without response')': /auszed/Experiments_fake_news.mlflow/api/2.0/mlflow/runs/log-batch\n"
     ]
    },
    {
     "output_type": "stream",
     "name": "stdout",
     "text": [
      "Epoch 2: Accuracy=0.99301677942276, F1 Score=0.9936122298240662\n",
      "Early stopping counter: 2/3\n",
      "Epoch 3: Train Loss=0.5004071211470208, Accuracy=0.9926470518112183, F1 Score=0.9932223558425903\n"
     ]
    },
    {
     "output_type": "stream",
     "name": "stderr",
     "text": [
      "WARNING:urllib3.connectionpool:Retrying (Retry(total=4, connect=5, read=4, redirect=5, status=5)) after connection broken by 'RemoteDisconnected('Remote end closed connection without response')': /auszed/Experiments_fake_news.mlflow/api/2.0/mlflow/runs/log-batch\n"
     ]
    },
    {
     "output_type": "stream",
     "name": "stdout",
     "text": [
      "Epoch 3: Accuracy=0.995635449886322, F1 Score=0.995985209941864\n",
      "Early stopping counter: 3/3\n",
      "Early stopping triggered. Stopping training.\n"
     ]
    },
    {
     "output_type": "stream",
     "name": "stderr",
     "text": [
      "2025/01/15 09:18:52 WARNING mlflow.utils.requirements_utils: Found torch version (2.5.1+cu121) contains a local version label (+cu121). MLflow logged a pip requirement for this package as 'torch==2.5.1' without the local version label to make it installable from PyPI. To specify pip requirements containing local version labels, please use `conda_env` or `pip_requirements`.\n",
      "2025/01/15 09:19:04 WARNING mlflow.utils.requirements_utils: The following packages were not found in the public PyPI package index as of 2024-12-04; if these packages are not present in the public PyPI index, you must install them manually before loading your model: {'google-genai'}\n",
      "2025/01/15 09:19:04 WARNING mlflow.utils.requirements_utils: Found torchvision version (0.20.1+cu121) contains a local version label (+cu121). MLflow logged a pip requirement for this package as 'torchvision==0.20.1' without the local version label to make it installable from PyPI. To specify pip requirements containing local version labels, please use `conda_env` or `pip_requirements`.\n",
      "\u001B[31m2025/01/15 09:19:04 WARNING mlflow.models.model: Model logged without a signature and input example. Please set `input_example` parameter when logging the model to auto infer the model signature.\u001B[0m\n"
     ]
    },
    {
     "output_type": "stream",
     "name": "stdout",
     "text": [
      "🏃 View run roberta_model at: https://dagshub.com/auszed/Experiments_fake_news.mlflow/#/experiments/0/runs/82dab6040b0a44bc8fc2927636c48571\n",
      "🧪 View experiment at: https://dagshub.com/auszed/Experiments_fake_news.mlflow/#/experiments/0\n"
     ]
    },
    {
     "output_type": "display_data",
     "data": {
      "text/plain": [
       "<IPython.core.display.HTML object>"
      ],
      "text/html": []
     },
     "metadata": {}
    },
    {
     "output_type": "display_data",
     "data": {
      "text/plain": [
       "<IPython.core.display.HTML object>"
      ],
      "text/html": [
       "<br>    <style><br>        .wandb-row {<br>            display: flex;<br>            flex-direction: row;<br>            flex-wrap: wrap;<br>            justify-content: flex-start;<br>            width: 100%;<br>        }<br>        .wandb-col {<br>            display: flex;<br>            flex-direction: column;<br>            flex-basis: 100%;<br>            flex: 1;<br>            padding: 10px;<br>        }<br>    </style><br><div class=\"wandb-row\"><div class=\"wandb-col\"><h3>Run history:</h3><br/><table class=\"wandb\"><tr><td>epochs</td><td>▁▅█</td></tr><tr><td>train_accuracy</td><td>▁▇█</td></tr><tr><td>train_f1</td><td>▁▇█</td></tr><tr><td>train_loss</td><td>█▂▁</td></tr><tr><td>val_accuracy</td><td>▁██</td></tr><tr><td>val_f1</td><td>▁██</td></tr></table><br/></div><div class=\"wandb-col\"><h3>Run summary:</h3><br/><table class=\"wandb\"><tr><td>epochs</td><td>3</td></tr><tr><td>train_accuracy</td><td>0.99265</td></tr><tr><td>train_f1</td><td>0.99322</td></tr><tr><td>train_loss</td><td>0.50041</td></tr><tr><td>val_accuracy</td><td>0.99564</td></tr><tr><td>val_f1</td><td>0.99599</td></tr></table><br/></div></div>"
      ]
     },
     "metadata": {}
    },
    {
     "output_type": "display_data",
     "data": {
      "text/plain": [
       "<IPython.core.display.HTML object>"
      ],
      "text/html": [
       " View run <strong style=\"color:#cdcd00\">training_Fake news comments_trial_5</strong> at: <a href='https://wandb.ai/hannsflip-none/Fake%20news%20comments/runs/epld8c56' target=\"_blank\">https://wandb.ai/hannsflip-none/Fake%20news%20comments/runs/epld8c56</a><br> View project at: <a href='https://wandb.ai/hannsflip-none/Fake%20news%20comments' target=\"_blank\">https://wandb.ai/hannsflip-none/Fake%20news%20comments</a><br>Synced 5 W&B file(s), 0 media file(s), 0 artifact file(s) and 0 other file(s)"
      ]
     },
     "metadata": {}
    },
    {
     "output_type": "display_data",
     "data": {
      "text/plain": [
       "<IPython.core.display.HTML object>"
      ],
      "text/html": [
       "Find logs at: <code>./wandb/run-20250115_084437-epld8c56/logs</code>"
      ]
     },
     "metadata": {}
    },
    {
     "output_type": "stream",
     "name": "stderr",
     "text": [
      "[I 2025-01-15 09:20:00,755] Trial 5 finished with value: 0.995985209941864 and parameters: {'lr': 0.002500000075, 'w_decay': 0.01, 'dropout_vals': 0.13916430558206644, 'warmup': 0.19260576083072473, 'optimizer_name': 'AdamW'}. Best is trial 5 with value: 0.995985209941864.\n"
     ]
    },
    {
     "output_type": "display_data",
     "data": {
      "text/plain": [
       "<IPython.core.display.HTML object>"
      ],
      "text/html": [
       "Tracking run with wandb version 0.19.1"
      ]
     },
     "metadata": {}
    },
    {
     "output_type": "display_data",
     "data": {
      "text/plain": [
       "<IPython.core.display.HTML object>"
      ],
      "text/html": [
       "Run data is saved locally in <code>/content/wandb/run-20250115_092000-g7gemlhh</code>"
      ]
     },
     "metadata": {}
    },
    {
     "output_type": "display_data",
     "data": {
      "text/plain": [
       "<IPython.core.display.HTML object>"
      ],
      "text/html": [
       "Syncing run <strong><a href='https://wandb.ai/hannsflip-none/Fake%20news%20comments/runs/g7gemlhh' target=\"_blank\">training_Fake news comments_trial_6</a></strong> to <a href='https://wandb.ai/hannsflip-none/Fake%20news%20comments' target=\"_blank\">Weights & Biases</a> (<a href='https://wandb.me/developer-guide' target=\"_blank\">docs</a>)<br>"
      ]
     },
     "metadata": {}
    },
    {
     "output_type": "display_data",
     "data": {
      "text/plain": [
       "<IPython.core.display.HTML object>"
      ],
      "text/html": [
       " View project at <a href='https://wandb.ai/hannsflip-none/Fake%20news%20comments' target=\"_blank\">https://wandb.ai/hannsflip-none/Fake%20news%20comments</a>"
      ]
     },
     "metadata": {}
    },
    {
     "output_type": "display_data",
     "data": {
      "text/plain": [
       "<IPython.core.display.HTML object>"
      ],
      "text/html": [
       " View run at <a href='https://wandb.ai/hannsflip-none/Fake%20news%20comments/runs/g7gemlhh' target=\"_blank\">https://wandb.ai/hannsflip-none/Fake%20news%20comments/runs/g7gemlhh</a>"
      ]
     },
     "metadata": {}
    },
    {
     "output_type": "stream",
     "name": "stdout",
     "text": [
      "Epoch 1: Train Loss=0.4986740826431324, Accuracy=0.9917746782302856, F1 Score=0.9923892617225647\n"
     ]
    },
    {
     "output_type": "stream",
     "name": "stderr",
     "text": [
      "WARNING:urllib3.connectionpool:Retrying (Retry(total=4, connect=5, read=4, redirect=5, status=5)) after connection broken by 'RemoteDisconnected('Remote end closed connection without response')': /auszed/Experiments_fake_news.mlflow/api/2.0/mlflow/runs/log-batch\n"
     ]
    },
    {
     "output_type": "stream",
     "name": "stdout",
     "text": [
      "Epoch 1: Accuracy=0.995635449886322, F1 Score=0.9959877729415894\n",
      "Early stopping counter: 1/3\n",
      "Epoch 2: Train Loss=0.5308578118072788, Accuracy=0.9355682730674744, F1 Score=0.939694344997406\n"
     ]
    },
    {
     "output_type": "stream",
     "name": "stderr",
     "text": [
      "WARNING:urllib3.connectionpool:Retrying (Retry(total=4, connect=5, read=4, redirect=5, status=5)) after connection broken by 'RemoteDisconnected('Remote end closed connection without response')': /auszed/Experiments_fake_news.mlflow/api/2.0/mlflow/runs/log-batch\n"
     ]
    },
    {
     "output_type": "stream",
     "name": "stdout",
     "text": [
      "Epoch 2: Accuracy=0.7903282046318054, F1 Score=0.8386403918266296\n",
      "Early stopping counter: 2/3\n",
      "Epoch 3: Train Loss=0.5326789568214568, Accuracy=0.935817539691925, F1 Score=0.940276026725769\n",
      "Epoch 3: Accuracy=0.9863826632499695, F1 Score=0.9874477386474609\n",
      "Early stopping counter: 3/3\n",
      "Early stopping triggered. Stopping training.\n"
     ]
    },
    {
     "output_type": "stream",
     "name": "stderr",
     "text": [
      "2025/01/15 09:54:16 WARNING mlflow.utils.requirements_utils: Found torch version (2.5.1+cu121) contains a local version label (+cu121). MLflow logged a pip requirement for this package as 'torch==2.5.1' without the local version label to make it installable from PyPI. To specify pip requirements containing local version labels, please use `conda_env` or `pip_requirements`.\n",
      "2025/01/15 09:54:27 WARNING mlflow.utils.requirements_utils: The following packages were not found in the public PyPI package index as of 2024-12-04; if these packages are not present in the public PyPI index, you must install them manually before loading your model: {'google-genai'}\n",
      "2025/01/15 09:54:27 WARNING mlflow.utils.requirements_utils: Found torchvision version (0.20.1+cu121) contains a local version label (+cu121). MLflow logged a pip requirement for this package as 'torchvision==0.20.1' without the local version label to make it installable from PyPI. To specify pip requirements containing local version labels, please use `conda_env` or `pip_requirements`.\n",
      "\u001B[31m2025/01/15 09:54:28 WARNING mlflow.models.model: Model logged without a signature and input example. Please set `input_example` parameter when logging the model to auto infer the model signature.\u001B[0m\n"
     ]
    },
    {
     "output_type": "stream",
     "name": "stdout",
     "text": [
      "🏃 View run roberta_model at: https://dagshub.com/auszed/Experiments_fake_news.mlflow/#/experiments/0/runs/3d28a9384d014b21957d54957ea8beb8\n",
      "🧪 View experiment at: https://dagshub.com/auszed/Experiments_fake_news.mlflow/#/experiments/0\n"
     ]
    },
    {
     "output_type": "display_data",
     "data": {
      "text/plain": [
       "<IPython.core.display.HTML object>"
      ],
      "text/html": []
     },
     "metadata": {}
    },
    {
     "output_type": "display_data",
     "data": {
      "text/plain": [
       "<IPython.core.display.HTML object>"
      ],
      "text/html": [
       "<br>    <style><br>        .wandb-row {<br>            display: flex;<br>            flex-direction: row;<br>            flex-wrap: wrap;<br>            justify-content: flex-start;<br>            width: 100%;<br>        }<br>        .wandb-col {<br>            display: flex;<br>            flex-direction: column;<br>            flex-basis: 100%;<br>            flex: 1;<br>            padding: 10px;<br>        }<br>    </style><br><div class=\"wandb-row\"><div class=\"wandb-col\"><h3>Run history:</h3><br/><table class=\"wandb\"><tr><td>epochs</td><td>▁▅█</td></tr><tr><td>train_accuracy</td><td>█▁▁</td></tr><tr><td>train_f1</td><td>█▁▁</td></tr><tr><td>train_loss</td><td>▁██</td></tr><tr><td>val_accuracy</td><td>█▁█</td></tr><tr><td>val_f1</td><td>█▁█</td></tr></table><br/></div><div class=\"wandb-col\"><h3>Run summary:</h3><br/><table class=\"wandb\"><tr><td>epochs</td><td>3</td></tr><tr><td>train_accuracy</td><td>0.93582</td></tr><tr><td>train_f1</td><td>0.94028</td></tr><tr><td>train_loss</td><td>0.53268</td></tr><tr><td>val_accuracy</td><td>0.98638</td></tr><tr><td>val_f1</td><td>0.98745</td></tr></table><br/></div></div>"
      ]
     },
     "metadata": {}
    },
    {
     "output_type": "display_data",
     "data": {
      "text/plain": [
       "<IPython.core.display.HTML object>"
      ],
      "text/html": [
       " View run <strong style=\"color:#cdcd00\">training_Fake news comments_trial_6</strong> at: <a href='https://wandb.ai/hannsflip-none/Fake%20news%20comments/runs/g7gemlhh' target=\"_blank\">https://wandb.ai/hannsflip-none/Fake%20news%20comments/runs/g7gemlhh</a><br> View project at: <a href='https://wandb.ai/hannsflip-none/Fake%20news%20comments' target=\"_blank\">https://wandb.ai/hannsflip-none/Fake%20news%20comments</a><br>Synced 5 W&B file(s), 0 media file(s), 0 artifact file(s) and 0 other file(s)"
      ]
     },
     "metadata": {}
    },
    {
     "output_type": "display_data",
     "data": {
      "text/plain": [
       "<IPython.core.display.HTML object>"
      ],
      "text/html": [
       "Find logs at: <code>./wandb/run-20250115_092000-g7gemlhh/logs</code>"
      ]
     },
     "metadata": {}
    },
    {
     "output_type": "stream",
     "name": "stderr",
     "text": [
      "[I 2025-01-15 09:55:27,579] Trial 6 finished with value: 0.9959877729415894 and parameters: {'lr': 0.007500000025, 'w_decay': 0.00250000000075, 'dropout_vals': 0.15717967839685965, 'warmup': 0.018933320464126793, 'optimizer_name': 'RMSprop'}. Best is trial 6 with value: 0.9959877729415894.\n"
     ]
    },
    {
     "output_type": "display_data",
     "data": {
      "text/plain": [
       "<IPython.core.display.HTML object>"
      ],
      "text/html": [
       "Tracking run with wandb version 0.19.1"
      ]
     },
     "metadata": {}
    },
    {
     "output_type": "display_data",
     "data": {
      "text/plain": [
       "<IPython.core.display.HTML object>"
      ],
      "text/html": [
       "Run data is saved locally in <code>/content/wandb/run-20250115_095527-oen8bxwc</code>"
      ]
     },
     "metadata": {}
    },
    {
     "output_type": "display_data",
     "data": {
      "text/plain": [
       "<IPython.core.display.HTML object>"
      ],
      "text/html": [
       "Syncing run <strong><a href='https://wandb.ai/hannsflip-none/Fake%20news%20comments/runs/oen8bxwc' target=\"_blank\">training_Fake news comments_trial_7</a></strong> to <a href='https://wandb.ai/hannsflip-none/Fake%20news%20comments' target=\"_blank\">Weights & Biases</a> (<a href='https://wandb.me/developer-guide' target=\"_blank\">docs</a>)<br>"
      ]
     },
     "metadata": {}
    },
    {
     "output_type": "display_data",
     "data": {
      "text/plain": [
       "<IPython.core.display.HTML object>"
      ],
      "text/html": [
       " View project at <a href='https://wandb.ai/hannsflip-none/Fake%20news%20comments' target=\"_blank\">https://wandb.ai/hannsflip-none/Fake%20news%20comments</a>"
      ]
     },
     "metadata": {}
    },
    {
     "output_type": "display_data",
     "data": {
      "text/plain": [
       "<IPython.core.display.HTML object>"
      ],
      "text/html": [
       " View run at <a href='https://wandb.ai/hannsflip-none/Fake%20news%20comments/runs/oen8bxwc' target=\"_blank\">https://wandb.ai/hannsflip-none/Fake%20news%20comments/runs/oen8bxwc</a>"
      ]
     },
     "metadata": {}
    },
    {
     "output_type": "stream",
     "name": "stdout",
     "text": [
      "Epoch 1: Train Loss=0.5117031339396271, Accuracy=0.9781904220581055, F1 Score=0.9795775413513184\n"
     ]
    },
    {
     "output_type": "stream",
     "name": "stderr",
     "text": [
      "WARNING:urllib3.connectionpool:Retrying (Retry(total=4, connect=5, read=4, redirect=5, status=5)) after connection broken by 'RemoteDisconnected('Remote end closed connection without response')': /auszed/Experiments_fake_news.mlflow/api/2.0/mlflow/runs/log-batch\n"
     ]
    },
    {
     "output_type": "stream",
     "name": "stdout",
     "text": [
      "Epoch 1: Accuracy=0.9863826632499695, F1 Score=0.9874477386474609\n",
      "Early stopping counter: 1/3\n",
      "Epoch 2: Train Loss=0.5060006611844002, Accuracy=0.9862911105155945, F1 Score=0.9873067140579224\n",
      "Epoch 2: Accuracy=0.9902234673500061, F1 Score=0.9910657405853271\n",
      "Early stopping counter: 2/3\n",
      "Epoch 3: Train Loss=0.49956251343606356, Accuracy=0.9879112839698792, F1 Score=0.9887951612472534\n"
     ]
    },
    {
     "output_type": "stream",
     "name": "stderr",
     "text": [
      "WARNING:urllib3.connectionpool:Retrying (Retry(total=4, connect=5, read=4, redirect=5, status=5)) after connection broken by 'RemoteDisconnected('Remote end closed connection without response')': /auszed/Experiments_fake_news.mlflow/api/2.0/mlflow/runs/log-batch\n"
     ]
    },
    {
     "output_type": "stream",
     "name": "stdout",
     "text": [
      "Epoch 3: Accuracy=0.9891759753227234, F1 Score=0.9900000095367432\n",
      "Early stopping counter: 3/3\n",
      "Early stopping triggered. Stopping training.\n"
     ]
    },
    {
     "output_type": "stream",
     "name": "stderr",
     "text": [
      "2025/01/15 10:29:30 WARNING mlflow.utils.requirements_utils: Found torch version (2.5.1+cu121) contains a local version label (+cu121). MLflow logged a pip requirement for this package as 'torch==2.5.1' without the local version label to make it installable from PyPI. To specify pip requirements containing local version labels, please use `conda_env` or `pip_requirements`.\n",
      "2025/01/15 10:29:42 WARNING mlflow.utils.requirements_utils: The following packages were not found in the public PyPI package index as of 2024-12-04; if these packages are not present in the public PyPI index, you must install them manually before loading your model: {'google-genai'}\n",
      "2025/01/15 10:29:42 WARNING mlflow.utils.requirements_utils: Found torchvision version (0.20.1+cu121) contains a local version label (+cu121). MLflow logged a pip requirement for this package as 'torchvision==0.20.1' without the local version label to make it installable from PyPI. To specify pip requirements containing local version labels, please use `conda_env` or `pip_requirements`.\n",
      "\u001B[31m2025/01/15 10:29:42 WARNING mlflow.models.model: Model logged without a signature and input example. Please set `input_example` parameter when logging the model to auto infer the model signature.\u001B[0m\n"
     ]
    },
    {
     "output_type": "stream",
     "name": "stdout",
     "text": [
      "🏃 View run roberta_model at: https://dagshub.com/auszed/Experiments_fake_news.mlflow/#/experiments/0/runs/e7cfe019d99c4a70899b7745efadfd50\n",
      "🧪 View experiment at: https://dagshub.com/auszed/Experiments_fake_news.mlflow/#/experiments/0\n"
     ]
    },
    {
     "output_type": "display_data",
     "data": {
      "text/plain": [
       "<IPython.core.display.HTML object>"
      ],
      "text/html": []
     },
     "metadata": {}
    },
    {
     "output_type": "display_data",
     "data": {
      "text/plain": [
       "<IPython.core.display.HTML object>"
      ],
      "text/html": [
       "<br>    <style><br>        .wandb-row {<br>            display: flex;<br>            flex-direction: row;<br>            flex-wrap: wrap;<br>            justify-content: flex-start;<br>            width: 100%;<br>        }<br>        .wandb-col {<br>            display: flex;<br>            flex-direction: column;<br>            flex-basis: 100%;<br>            flex: 1;<br>            padding: 10px;<br>        }<br>    </style><br><div class=\"wandb-row\"><div class=\"wandb-col\"><h3>Run history:</h3><br/><table class=\"wandb\"><tr><td>epochs</td><td>▁▅█</td></tr><tr><td>train_accuracy</td><td>▁▇█</td></tr><tr><td>train_f1</td><td>▁▇█</td></tr><tr><td>train_loss</td><td>█▅▁</td></tr><tr><td>val_accuracy</td><td>▁█▆</td></tr><tr><td>val_f1</td><td>▁█▆</td></tr></table><br/></div><div class=\"wandb-col\"><h3>Run summary:</h3><br/><table class=\"wandb\"><tr><td>epochs</td><td>3</td></tr><tr><td>train_accuracy</td><td>0.98791</td></tr><tr><td>train_f1</td><td>0.9888</td></tr><tr><td>train_loss</td><td>0.49956</td></tr><tr><td>val_accuracy</td><td>0.98918</td></tr><tr><td>val_f1</td><td>0.99</td></tr></table><br/></div></div>"
      ]
     },
     "metadata": {}
    },
    {
     "output_type": "display_data",
     "data": {
      "text/plain": [
       "<IPython.core.display.HTML object>"
      ],
      "text/html": [
       " View run <strong style=\"color:#cdcd00\">training_Fake news comments_trial_7</strong> at: <a href='https://wandb.ai/hannsflip-none/Fake%20news%20comments/runs/oen8bxwc' target=\"_blank\">https://wandb.ai/hannsflip-none/Fake%20news%20comments/runs/oen8bxwc</a><br> View project at: <a href='https://wandb.ai/hannsflip-none/Fake%20news%20comments' target=\"_blank\">https://wandb.ai/hannsflip-none/Fake%20news%20comments</a><br>Synced 5 W&B file(s), 0 media file(s), 0 artifact file(s) and 0 other file(s)"
      ]
     },
     "metadata": {}
    },
    {
     "output_type": "display_data",
     "data": {
      "text/plain": [
       "<IPython.core.display.HTML object>"
      ],
      "text/html": [
       "Find logs at: <code>./wandb/run-20250115_095527-oen8bxwc/logs</code>"
      ]
     },
     "metadata": {}
    },
    {
     "output_type": "stream",
     "name": "stderr",
     "text": [
      "[I 2025-01-15 10:30:41,585] Trial 7 finished with value: 0.9910657405853271 and parameters: {'lr': 0.00500000005, 'w_decay': 1e-12, 'dropout_vals': 0.15311210318802443, 'warmup': 0.15574448946216038, 'optimizer_name': 'AdamW'}. Best is trial 6 with value: 0.9959877729415894.\n"
     ]
    },
    {
     "output_type": "display_data",
     "data": {
      "text/plain": [
       "<IPython.core.display.HTML object>"
      ],
      "text/html": [
       "Tracking run with wandb version 0.19.1"
      ]
     },
     "metadata": {}
    },
    {
     "output_type": "display_data",
     "data": {
      "text/plain": [
       "<IPython.core.display.HTML object>"
      ],
      "text/html": [
       "Run data is saved locally in <code>/content/wandb/run-20250115_103041-ferndhc4</code>"
      ]
     },
     "metadata": {}
    },
    {
     "output_type": "display_data",
     "data": {
      "text/plain": [
       "<IPython.core.display.HTML object>"
      ],
      "text/html": [
       "Syncing run <strong><a href='https://wandb.ai/hannsflip-none/Fake%20news%20comments/runs/ferndhc4' target=\"_blank\">training_Fake news comments_trial_8</a></strong> to <a href='https://wandb.ai/hannsflip-none/Fake%20news%20comments' target=\"_blank\">Weights & Biases</a> (<a href='https://wandb.me/developer-guide' target=\"_blank\">docs</a>)<br>"
      ]
     },
     "metadata": {}
    },
    {
     "output_type": "display_data",
     "data": {
      "text/plain": [
       "<IPython.core.display.HTML object>"
      ],
      "text/html": [
       " View project at <a href='https://wandb.ai/hannsflip-none/Fake%20news%20comments' target=\"_blank\">https://wandb.ai/hannsflip-none/Fake%20news%20comments</a>"
      ]
     },
     "metadata": {}
    },
    {
     "output_type": "display_data",
     "data": {
      "text/plain": [
       "<IPython.core.display.HTML object>"
      ],
      "text/html": [
       " View run at <a href='https://wandb.ai/hannsflip-none/Fake%20news%20comments/runs/ferndhc4' target=\"_blank\">https://wandb.ai/hannsflip-none/Fake%20news%20comments/runs/ferndhc4</a>"
      ]
     },
     "metadata": {}
    },
    {
     "output_type": "stream",
     "name": "stdout",
     "text": [
      "Epoch 1: Train Loss=0.4986343138655304, Accuracy=0.9825523495674133, F1 Score=0.9836981892585754\n"
     ]
    },
    {
     "output_type": "stream",
     "name": "stderr",
     "text": [
      "WARNING:urllib3.connectionpool:Retrying (Retry(total=4, connect=5, read=4, redirect=5, status=5)) after connection broken by 'RemoteDisconnected('Remote end closed connection without response')': /auszed/Experiments_fake_news.mlflow/api/2.0/mlflow/runs/log-batch\n"
     ]
    },
    {
     "output_type": "stream",
     "name": "stdout",
     "text": [
      "Epoch 1: Accuracy=0.9891759753227234, F1 Score=0.9899967908859253\n",
      "Early stopping counter: 1/3\n",
      "Epoch 2: Train Loss=0.4984364793640548, Accuracy=0.9840478301048279, F1 Score=0.9851058721542358\n",
      "Epoch 2: Accuracy=0.9891759753227234, F1 Score=0.9900000095367432\n",
      "Early stopping counter: 2/3\n",
      "Epoch 3: Train Loss=0.49988471448480903, Accuracy=0.9796859622001648, F1 Score=0.9809735417366028\n"
     ]
    },
    {
     "output_type": "stream",
     "name": "stderr",
     "text": [
      "WARNING:urllib3.connectionpool:Retrying (Retry(total=4, connect=5, read=4, redirect=5, status=5)) after connection broken by 'RemoteDisconnected('Remote end closed connection without response')': /auszed/Experiments_fake_news.mlflow/api/2.0/mlflow/runs/log-batch\n"
     ]
    },
    {
     "output_type": "stream",
     "name": "stdout",
     "text": [
      "Epoch 3: Accuracy=0.9893505573272705, F1 Score=0.9901597499847412\n",
      "Early stopping counter: 3/3\n",
      "Early stopping triggered. Stopping training.\n"
     ]
    },
    {
     "output_type": "stream",
     "name": "stderr",
     "text": [
      "2025/01/15 11:04:48 WARNING mlflow.utils.requirements_utils: Found torch version (2.5.1+cu121) contains a local version label (+cu121). MLflow logged a pip requirement for this package as 'torch==2.5.1' without the local version label to make it installable from PyPI. To specify pip requirements containing local version labels, please use `conda_env` or `pip_requirements`.\n",
      "2025/01/15 11:05:00 WARNING mlflow.utils.requirements_utils: The following packages were not found in the public PyPI package index as of 2024-12-04; if these packages are not present in the public PyPI index, you must install them manually before loading your model: {'google-genai'}\n",
      "2025/01/15 11:05:00 WARNING mlflow.utils.requirements_utils: Found torchvision version (0.20.1+cu121) contains a local version label (+cu121). MLflow logged a pip requirement for this package as 'torchvision==0.20.1' without the local version label to make it installable from PyPI. To specify pip requirements containing local version labels, please use `conda_env` or `pip_requirements`.\n",
      "\u001B[31m2025/01/15 11:05:00 WARNING mlflow.models.model: Model logged without a signature and input example. Please set `input_example` parameter when logging the model to auto infer the model signature.\u001B[0m\n"
     ]
    },
    {
     "output_type": "stream",
     "name": "stdout",
     "text": [
      "🏃 View run roberta_model at: https://dagshub.com/auszed/Experiments_fake_news.mlflow/#/experiments/0/runs/a1f1f36067a644859265b67aae1439d4\n",
      "🧪 View experiment at: https://dagshub.com/auszed/Experiments_fake_news.mlflow/#/experiments/0\n"
     ]
    },
    {
     "output_type": "display_data",
     "data": {
      "text/plain": [
       "<IPython.core.display.HTML object>"
      ],
      "text/html": []
     },
     "metadata": {}
    },
    {
     "output_type": "display_data",
     "data": {
      "text/plain": [
       "<IPython.core.display.HTML object>"
      ],
      "text/html": [
       "<br>    <style><br>        .wandb-row {<br>            display: flex;<br>            flex-direction: row;<br>            flex-wrap: wrap;<br>            justify-content: flex-start;<br>            width: 100%;<br>        }<br>        .wandb-col {<br>            display: flex;<br>            flex-direction: column;<br>            flex-basis: 100%;<br>            flex: 1;<br>            padding: 10px;<br>        }<br>    </style><br><div class=\"wandb-row\"><div class=\"wandb-col\"><h3>Run history:</h3><br/><table class=\"wandb\"><tr><td>epochs</td><td>▁▅█</td></tr><tr><td>train_accuracy</td><td>▆█▁</td></tr><tr><td>train_f1</td><td>▆█▁</td></tr><tr><td>train_loss</td><td>▂▁█</td></tr><tr><td>val_accuracy</td><td>▁▁█</td></tr><tr><td>val_f1</td><td>▁▁█</td></tr></table><br/></div><div class=\"wandb-col\"><h3>Run summary:</h3><br/><table class=\"wandb\"><tr><td>epochs</td><td>3</td></tr><tr><td>train_accuracy</td><td>0.97969</td></tr><tr><td>train_f1</td><td>0.98097</td></tr><tr><td>train_loss</td><td>0.49988</td></tr><tr><td>val_accuracy</td><td>0.98935</td></tr><tr><td>val_f1</td><td>0.99016</td></tr></table><br/></div></div>"
      ]
     },
     "metadata": {}
    },
    {
     "output_type": "display_data",
     "data": {
      "text/plain": [
       "<IPython.core.display.HTML object>"
      ],
      "text/html": [
       " View run <strong style=\"color:#cdcd00\">training_Fake news comments_trial_8</strong> at: <a href='https://wandb.ai/hannsflip-none/Fake%20news%20comments/runs/ferndhc4' target=\"_blank\">https://wandb.ai/hannsflip-none/Fake%20news%20comments/runs/ferndhc4</a><br> View project at: <a href='https://wandb.ai/hannsflip-none/Fake%20news%20comments' target=\"_blank\">https://wandb.ai/hannsflip-none/Fake%20news%20comments</a><br>Synced 5 W&B file(s), 0 media file(s), 0 artifact file(s) and 0 other file(s)"
      ]
     },
     "metadata": {}
    },
    {
     "output_type": "display_data",
     "data": {
      "text/plain": [
       "<IPython.core.display.HTML object>"
      ],
      "text/html": [
       "Find logs at: <code>./wandb/run-20250115_103041-ferndhc4/logs</code>"
      ]
     },
     "metadata": {}
    },
    {
     "output_type": "stream",
     "name": "stderr",
     "text": [
      "[I 2025-01-15 11:06:00,912] Trial 8 finished with value: 0.9901597499847412 and parameters: {'lr': 1e-10, 'w_decay': 0.00250000000075, 'dropout_vals': 0.16319230691539383, 'warmup': 0.1648067909064315, 'optimizer_name': 'RMSprop'}. Best is trial 6 with value: 0.9959877729415894.\n"
     ]
    },
    {
     "output_type": "display_data",
     "data": {
      "text/plain": [
       "<IPython.core.display.HTML object>"
      ],
      "text/html": [
       "Tracking run with wandb version 0.19.1"
      ]
     },
     "metadata": {}
    },
    {
     "output_type": "display_data",
     "data": {
      "text/plain": [
       "<IPython.core.display.HTML object>"
      ],
      "text/html": [
       "Run data is saved locally in <code>/content/wandb/run-20250115_110600-i3aenjna</code>"
      ]
     },
     "metadata": {}
    },
    {
     "output_type": "display_data",
     "data": {
      "text/plain": [
       "<IPython.core.display.HTML object>"
      ],
      "text/html": [
       "Syncing run <strong><a href='https://wandb.ai/hannsflip-none/Fake%20news%20comments/runs/i3aenjna' target=\"_blank\">training_Fake news comments_trial_9</a></strong> to <a href='https://wandb.ai/hannsflip-none/Fake%20news%20comments' target=\"_blank\">Weights & Biases</a> (<a href='https://wandb.me/developer-guide' target=\"_blank\">docs</a>)<br>"
      ]
     },
     "metadata": {}
    },
    {
     "output_type": "display_data",
     "data": {
      "text/plain": [
       "<IPython.core.display.HTML object>"
      ],
      "text/html": [
       " View project at <a href='https://wandb.ai/hannsflip-none/Fake%20news%20comments' target=\"_blank\">https://wandb.ai/hannsflip-none/Fake%20news%20comments</a>"
      ]
     },
     "metadata": {}
    },
    {
     "output_type": "display_data",
     "data": {
      "text/plain": [
       "<IPython.core.display.HTML object>"
      ],
      "text/html": [
       " View run at <a href='https://wandb.ai/hannsflip-none/Fake%20news%20comments/runs/i3aenjna' target=\"_blank\">https://wandb.ai/hannsflip-none/Fake%20news%20comments/runs/i3aenjna</a>"
      ]
     },
     "metadata": {}
    },
    {
     "output_type": "stream",
     "name": "stdout",
     "text": [
      "Epoch 1: Train Loss=0.4994457676962152, Accuracy=0.9805583357810974, F1 Score=0.9817969799041748\n",
      "Epoch 1: Accuracy=0.9891759753227234, F1 Score=0.9900000095367432\n",
      "Early stopping counter: 1/3\n",
      "Epoch 2: Train Loss=0.4989062741116536, Accuracy=0.9823030829429626, F1 Score=0.9834691286087036\n"
     ]
    },
    {
     "output_type": "stream",
     "name": "stderr",
     "text": [
      "WARNING:urllib3.connectionpool:Retrying (Retry(total=4, connect=5, read=4, redirect=5, status=5)) after connection broken by 'RemoteDisconnected('Remote end closed connection without response')': /auszed/Experiments_fake_news.mlflow/api/2.0/mlflow/runs/log-batch\n"
     ]
    },
    {
     "output_type": "stream",
     "name": "stdout",
     "text": [
      "Epoch 2: Accuracy=0.9891759753227234, F1 Score=0.9899935722351074\n",
      "Early stopping counter: 2/3\n",
      "Epoch 3: Train Loss=0.49914786855458976, Accuracy=0.981804609298706, F1 Score=0.9829796552658081\n",
      "Epoch 3: Accuracy=0.9891759753227234, F1 Score=0.9899967908859253\n",
      "Early stopping counter: 3/3\n",
      "Early stopping triggered. Stopping training.\n"
     ]
    },
    {
     "output_type": "stream",
     "name": "stderr",
     "text": [
      "2025/01/15 11:40:07 WARNING mlflow.utils.requirements_utils: Found torch version (2.5.1+cu121) contains a local version label (+cu121). MLflow logged a pip requirement for this package as 'torch==2.5.1' without the local version label to make it installable from PyPI. To specify pip requirements containing local version labels, please use `conda_env` or `pip_requirements`.\n",
      "2025/01/15 11:40:19 WARNING mlflow.utils.requirements_utils: The following packages were not found in the public PyPI package index as of 2024-12-04; if these packages are not present in the public PyPI index, you must install them manually before loading your model: {'google-genai'}\n",
      "2025/01/15 11:40:19 WARNING mlflow.utils.requirements_utils: Found torchvision version (0.20.1+cu121) contains a local version label (+cu121). MLflow logged a pip requirement for this package as 'torchvision==0.20.1' without the local version label to make it installable from PyPI. To specify pip requirements containing local version labels, please use `conda_env` or `pip_requirements`.\n",
      "\u001B[31m2025/01/15 11:40:19 WARNING mlflow.models.model: Model logged without a signature and input example. Please set `input_example` parameter when logging the model to auto infer the model signature.\u001B[0m\n"
     ]
    },
    {
     "output_type": "stream",
     "name": "stdout",
     "text": [
      "🏃 View run roberta_model at: https://dagshub.com/auszed/Experiments_fake_news.mlflow/#/experiments/0/runs/a8fe8c51ca0043079a59afc500e6cb99\n",
      "🧪 View experiment at: https://dagshub.com/auszed/Experiments_fake_news.mlflow/#/experiments/0\n"
     ]
    },
    {
     "output_type": "display_data",
     "data": {
      "text/plain": [
       "<IPython.core.display.HTML object>"
      ],
      "text/html": []
     },
     "metadata": {}
    },
    {
     "output_type": "display_data",
     "data": {
      "text/plain": [
       "<IPython.core.display.HTML object>"
      ],
      "text/html": [
       "<br>    <style><br>        .wandb-row {<br>            display: flex;<br>            flex-direction: row;<br>            flex-wrap: wrap;<br>            justify-content: flex-start;<br>            width: 100%;<br>        }<br>        .wandb-col {<br>            display: flex;<br>            flex-direction: column;<br>            flex-basis: 100%;<br>            flex: 1;<br>            padding: 10px;<br>        }<br>    </style><br><div class=\"wandb-row\"><div class=\"wandb-col\"><h3>Run history:</h3><br/><table class=\"wandb\"><tr><td>epochs</td><td>▁▅█</td></tr><tr><td>train_accuracy</td><td>▁█▆</td></tr><tr><td>train_f1</td><td>▁█▆</td></tr><tr><td>train_loss</td><td>█▁▄</td></tr><tr><td>val_accuracy</td><td>▁▁▁</td></tr><tr><td>val_f1</td><td>█▁▅</td></tr></table><br/></div><div class=\"wandb-col\"><h3>Run summary:</h3><br/><table class=\"wandb\"><tr><td>epochs</td><td>3</td></tr><tr><td>train_accuracy</td><td>0.9818</td></tr><tr><td>train_f1</td><td>0.98298</td></tr><tr><td>train_loss</td><td>0.49915</td></tr><tr><td>val_accuracy</td><td>0.98918</td></tr><tr><td>val_f1</td><td>0.99</td></tr></table><br/></div></div>"
      ]
     },
     "metadata": {}
    },
    {
     "output_type": "display_data",
     "data": {
      "text/plain": [
       "<IPython.core.display.HTML object>"
      ],
      "text/html": [
       " View run <strong style=\"color:#cdcd00\">training_Fake news comments_trial_9</strong> at: <a href='https://wandb.ai/hannsflip-none/Fake%20news%20comments/runs/i3aenjna' target=\"_blank\">https://wandb.ai/hannsflip-none/Fake%20news%20comments/runs/i3aenjna</a><br> View project at: <a href='https://wandb.ai/hannsflip-none/Fake%20news%20comments' target=\"_blank\">https://wandb.ai/hannsflip-none/Fake%20news%20comments</a><br>Synced 5 W&B file(s), 0 media file(s), 0 artifact file(s) and 0 other file(s)"
      ]
     },
     "metadata": {}
    },
    {
     "output_type": "display_data",
     "data": {
      "text/plain": [
       "<IPython.core.display.HTML object>"
      ],
      "text/html": [
       "Find logs at: <code>./wandb/run-20250115_110600-i3aenjna/logs</code>"
      ]
     },
     "metadata": {}
    },
    {
     "output_type": "stream",
     "name": "stderr",
     "text": [
      "[I 2025-01-15 11:41:21,769] Trial 9 finished with value: 0.9900000095367432 and parameters: {'lr': 1e-10, 'w_decay': 1e-12, 'dropout_vals': 0.2673909123099135, 'warmup': 0.08746685921856437, 'optimizer_name': 'SGD'}. Best is trial 6 with value: 0.9959877729415894.\n"
     ]
    },
    {
     "output_type": "display_data",
     "data": {
      "text/plain": [
       "<IPython.core.display.HTML object>"
      ],
      "text/html": [
       "Tracking run with wandb version 0.19.1"
      ]
     },
     "metadata": {}
    },
    {
     "output_type": "display_data",
     "data": {
      "text/plain": [
       "<IPython.core.display.HTML object>"
      ],
      "text/html": [
       "Run data is saved locally in <code>/content/wandb/run-20250115_114121-vlda0w8e</code>"
      ]
     },
     "metadata": {}
    },
    {
     "output_type": "display_data",
     "data": {
      "text/plain": [
       "<IPython.core.display.HTML object>"
      ],
      "text/html": [
       "Syncing run <strong><a href='https://wandb.ai/hannsflip-none/Fake%20news%20comments/runs/vlda0w8e' target=\"_blank\">training_Fake news comments_trial_10</a></strong> to <a href='https://wandb.ai/hannsflip-none/Fake%20news%20comments' target=\"_blank\">Weights & Biases</a> (<a href='https://wandb.me/developer-guide' target=\"_blank\">docs</a>)<br>"
      ]
     },
     "metadata": {}
    },
    {
     "output_type": "display_data",
     "data": {
      "text/plain": [
       "<IPython.core.display.HTML object>"
      ],
      "text/html": [
       " View project at <a href='https://wandb.ai/hannsflip-none/Fake%20news%20comments' target=\"_blank\">https://wandb.ai/hannsflip-none/Fake%20news%20comments</a>"
      ]
     },
     "metadata": {}
    },
    {
     "output_type": "display_data",
     "data": {
      "text/plain": [
       "<IPython.core.display.HTML object>"
      ],
      "text/html": [
       " View run at <a href='https://wandb.ai/hannsflip-none/Fake%20news%20comments/runs/vlda0w8e' target=\"_blank\">https://wandb.ai/hannsflip-none/Fake%20news%20comments/runs/vlda0w8e</a>"
      ]
     },
     "metadata": {}
    },
    {
     "output_type": "stream",
     "name": "stdout",
     "text": [
      "Epoch 1: Train Loss=0.49939285398480426, Accuracy=0.9808076024055481, F1 Score=0.9820513129234314\n"
     ]
    },
    {
     "output_type": "stream",
     "name": "stderr",
     "text": [
      "WARNING:urllib3.connectionpool:Retrying (Retry(total=4, connect=5, read=4, redirect=5, status=5)) after connection broken by 'RemoteDisconnected('Remote end closed connection without response')': /auszed/Experiments_fake_news.mlflow/api/2.0/mlflow/runs/log-batch\n"
     ]
    },
    {
     "output_type": "stream",
     "name": "stdout",
     "text": [
      "Epoch 1: Accuracy=0.9891759753227234, F1 Score=0.9899967908859253\n",
      "Early stopping counter: 1/3\n",
      "Epoch 2: Train Loss=0.5067266507792925, Accuracy=0.9840478301048279, F1 Score=0.9852193593978882\n",
      "Epoch 2: Accuracy=0.9907472133636475, F1 Score=0.9915105104446411\n",
      "Early stopping counter: 2/3\n",
      "Epoch 3: Train Loss=0.5137376917799116, Accuracy=0.9758225083351135, F1 Score=0.977644681930542\n"
     ]
    },
    {
     "output_type": "stream",
     "name": "stderr",
     "text": [
      "WARNING:urllib3.connectionpool:Retrying (Retry(total=4, connect=5, read=4, redirect=5, status=5)) after connection broken by 'RemoteDisconnected('Remote end closed connection without response')': /auszed/Experiments_fake_news.mlflow/api/2.0/mlflow/runs/log-batch\n"
     ]
    },
    {
     "output_type": "stream",
     "name": "stdout",
     "text": [
      "Epoch 3: Accuracy=0.9933659434318542, F1 Score=0.9939082860946655\n",
      "Early stopping counter: 3/3\n",
      "Early stopping triggered. Stopping training.\n"
     ]
    },
    {
     "output_type": "stream",
     "name": "stderr",
     "text": [
      "2025/01/15 12:15:33 WARNING mlflow.utils.requirements_utils: Found torch version (2.5.1+cu121) contains a local version label (+cu121). MLflow logged a pip requirement for this package as 'torch==2.5.1' without the local version label to make it installable from PyPI. To specify pip requirements containing local version labels, please use `conda_env` or `pip_requirements`.\n",
      "2025/01/15 12:15:44 WARNING mlflow.utils.requirements_utils: The following packages were not found in the public PyPI package index as of 2024-12-04; if these packages are not present in the public PyPI index, you must install them manually before loading your model: {'google-genai'}\n",
      "2025/01/15 12:15:44 WARNING mlflow.utils.requirements_utils: Found torchvision version (0.20.1+cu121) contains a local version label (+cu121). MLflow logged a pip requirement for this package as 'torchvision==0.20.1' without the local version label to make it installable from PyPI. To specify pip requirements containing local version labels, please use `conda_env` or `pip_requirements`.\n",
      "\u001B[31m2025/01/15 12:15:45 WARNING mlflow.models.model: Model logged without a signature and input example. Please set `input_example` parameter when logging the model to auto infer the model signature.\u001B[0m\n"
     ]
    },
    {
     "output_type": "stream",
     "name": "stdout",
     "text": [
      "🏃 View run roberta_model at: https://dagshub.com/auszed/Experiments_fake_news.mlflow/#/experiments/0/runs/4cf712735c474dd0a0e1e17242d79e6a\n",
      "🧪 View experiment at: https://dagshub.com/auszed/Experiments_fake_news.mlflow/#/experiments/0\n"
     ]
    },
    {
     "output_type": "display_data",
     "data": {
      "text/plain": [
       "<IPython.core.display.HTML object>"
      ],
      "text/html": []
     },
     "metadata": {}
    },
    {
     "output_type": "display_data",
     "data": {
      "text/plain": [
       "<IPython.core.display.HTML object>"
      ],
      "text/html": [
       "<br>    <style><br>        .wandb-row {<br>            display: flex;<br>            flex-direction: row;<br>            flex-wrap: wrap;<br>            justify-content: flex-start;<br>            width: 100%;<br>        }<br>        .wandb-col {<br>            display: flex;<br>            flex-direction: column;<br>            flex-basis: 100%;<br>            flex: 1;<br>            padding: 10px;<br>        }<br>    </style><br><div class=\"wandb-row\"><div class=\"wandb-col\"><h3>Run history:</h3><br/><table class=\"wandb\"><tr><td>epochs</td><td>▁▅█</td></tr><tr><td>train_accuracy</td><td>▅█▁</td></tr><tr><td>train_f1</td><td>▅█▁</td></tr><tr><td>train_loss</td><td>▁▅█</td></tr><tr><td>val_accuracy</td><td>▁▄█</td></tr><tr><td>val_f1</td><td>▁▄█</td></tr></table><br/></div><div class=\"wandb-col\"><h3>Run summary:</h3><br/><table class=\"wandb\"><tr><td>epochs</td><td>3</td></tr><tr><td>train_accuracy</td><td>0.97582</td></tr><tr><td>train_f1</td><td>0.97764</td></tr><tr><td>train_loss</td><td>0.51374</td></tr><tr><td>val_accuracy</td><td>0.99337</td></tr><tr><td>val_f1</td><td>0.99391</td></tr></table><br/></div></div>"
      ]
     },
     "metadata": {}
    },
    {
     "output_type": "display_data",
     "data": {
      "text/plain": [
       "<IPython.core.display.HTML object>"
      ],
      "text/html": [
       " View run <strong style=\"color:#cdcd00\">training_Fake news comments_trial_10</strong> at: <a href='https://wandb.ai/hannsflip-none/Fake%20news%20comments/runs/vlda0w8e' target=\"_blank\">https://wandb.ai/hannsflip-none/Fake%20news%20comments/runs/vlda0w8e</a><br> View project at: <a href='https://wandb.ai/hannsflip-none/Fake%20news%20comments' target=\"_blank\">https://wandb.ai/hannsflip-none/Fake%20news%20comments</a><br>Synced 5 W&B file(s), 0 media file(s), 0 artifact file(s) and 0 other file(s)"
      ]
     },
     "metadata": {}
    },
    {
     "output_type": "display_data",
     "data": {
      "text/plain": [
       "<IPython.core.display.HTML object>"
      ],
      "text/html": [
       "Find logs at: <code>./wandb/run-20250115_114121-vlda0w8e/logs</code>"
      ]
     },
     "metadata": {}
    },
    {
     "output_type": "stream",
     "name": "stderr",
     "text": [
      "[I 2025-01-15 12:16:45,840] Trial 10 finished with value: 0.9939082860946655 and parameters: {'lr': 0.01, 'w_decay': 0.00250000000075, 'dropout_vals': 0.1011523131657452, 'warmup': 0.05037806554149765, 'optimizer_name': 'RMSprop'}. Best is trial 6 with value: 0.9959877729415894.\n"
     ]
    },
    {
     "output_type": "display_data",
     "data": {
      "text/plain": [
       "<IPython.core.display.HTML object>"
      ],
      "text/html": [
       "Tracking run with wandb version 0.19.1"
      ]
     },
     "metadata": {}
    },
    {
     "output_type": "display_data",
     "data": {
      "text/plain": [
       "<IPython.core.display.HTML object>"
      ],
      "text/html": [
       "Run data is saved locally in <code>/content/wandb/run-20250115_121645-mcaiudii</code>"
      ]
     },
     "metadata": {}
    },
    {
     "output_type": "display_data",
     "data": {
      "text/plain": [
       "<IPython.core.display.HTML object>"
      ],
      "text/html": [
       "Syncing run <strong><a href='https://wandb.ai/hannsflip-none/Fake%20news%20comments/runs/mcaiudii' target=\"_blank\">training_Fake news comments_trial_11</a></strong> to <a href='https://wandb.ai/hannsflip-none/Fake%20news%20comments' target=\"_blank\">Weights & Biases</a> (<a href='https://wandb.me/developer-guide' target=\"_blank\">docs</a>)<br>"
      ]
     },
     "metadata": {}
    },
    {
     "output_type": "display_data",
     "data": {
      "text/plain": [
       "<IPython.core.display.HTML object>"
      ],
      "text/html": [
       " View project at <a href='https://wandb.ai/hannsflip-none/Fake%20news%20comments' target=\"_blank\">https://wandb.ai/hannsflip-none/Fake%20news%20comments</a>"
      ]
     },
     "metadata": {}
    },
    {
     "output_type": "display_data",
     "data": {
      "text/plain": [
       "<IPython.core.display.HTML object>"
      ],
      "text/html": [
       " View run at <a href='https://wandb.ai/hannsflip-none/Fake%20news%20comments/runs/mcaiudii' target=\"_blank\">https://wandb.ai/hannsflip-none/Fake%20news%20comments/runs/mcaiudii</a>"
      ]
     },
     "metadata": {}
    },
    {
     "output_type": "stream",
     "name": "stdout",
     "text": [
      "Epoch 1: Train Loss=0.5067500536843526, Accuracy=0.9901545643806458, F1 Score=0.9908850193023682\n",
      "Epoch 1: Accuracy=0.9933659434318542, F1 Score=0.9939160943031311\n",
      "Early stopping counter: 1/3\n",
      "Epoch 2: Train Loss=0.5041355993134431, Accuracy=0.990902304649353, F1 Score=0.9916044473648071\n"
     ]
    },
    {
     "output_type": "stream",
     "name": "stderr",
     "text": [
      "WARNING:urllib3.connectionpool:Retrying (Retry(total=4, connect=5, read=4, redirect=5, status=5)) after connection broken by 'RemoteDisconnected('Remote end closed connection without response')': /auszed/Experiments_fake_news.mlflow/api/2.0/mlflow/runs/log-batch\n"
     ]
    },
    {
     "output_type": "stream",
     "name": "stdout",
     "text": [
      "Epoch 2: Accuracy=0.99301677942276, F1 Score=0.9935999512672424\n",
      "Early stopping counter: 2/3\n",
      "Epoch 3: Train Loss=0.4992493908640632, Accuracy=0.9904037714004517, F1 Score=0.991138219833374\n",
      "Epoch 3: Accuracy=0.9942388534545898, F1 Score=0.9947124123573303\n",
      "Early stopping counter: 3/3\n",
      "Early stopping triggered. Stopping training.\n"
     ]
    },
    {
     "output_type": "stream",
     "name": "stderr",
     "text": [
      "2025/01/15 12:50:54 WARNING mlflow.utils.requirements_utils: Found torch version (2.5.1+cu121) contains a local version label (+cu121). MLflow logged a pip requirement for this package as 'torch==2.5.1' without the local version label to make it installable from PyPI. To specify pip requirements containing local version labels, please use `conda_env` or `pip_requirements`.\n",
      "2025/01/15 12:51:05 WARNING mlflow.utils.requirements_utils: The following packages were not found in the public PyPI package index as of 2024-12-04; if these packages are not present in the public PyPI index, you must install them manually before loading your model: {'google-genai'}\n",
      "2025/01/15 12:51:05 WARNING mlflow.utils.requirements_utils: Found torchvision version (0.20.1+cu121) contains a local version label (+cu121). MLflow logged a pip requirement for this package as 'torchvision==0.20.1' without the local version label to make it installable from PyPI. To specify pip requirements containing local version labels, please use `conda_env` or `pip_requirements`.\n",
      "\u001B[31m2025/01/15 12:51:05 WARNING mlflow.models.model: Model logged without a signature and input example. Please set `input_example` parameter when logging the model to auto infer the model signature.\u001B[0m\n"
     ]
    },
    {
     "output_type": "stream",
     "name": "stdout",
     "text": [
      "🏃 View run roberta_model at: https://dagshub.com/auszed/Experiments_fake_news.mlflow/#/experiments/0/runs/de93d4ec76234cc49077c4c78d985935\n",
      "🧪 View experiment at: https://dagshub.com/auszed/Experiments_fake_news.mlflow/#/experiments/0\n"
     ]
    },
    {
     "output_type": "display_data",
     "data": {
      "text/plain": [
       "<IPython.core.display.HTML object>"
      ],
      "text/html": []
     },
     "metadata": {}
    },
    {
     "output_type": "display_data",
     "data": {
      "text/plain": [
       "<IPython.core.display.HTML object>"
      ],
      "text/html": [
       "<br>    <style><br>        .wandb-row {<br>            display: flex;<br>            flex-direction: row;<br>            flex-wrap: wrap;<br>            justify-content: flex-start;<br>            width: 100%;<br>        }<br>        .wandb-col {<br>            display: flex;<br>            flex-direction: column;<br>            flex-basis: 100%;<br>            flex: 1;<br>            padding: 10px;<br>        }<br>    </style><br><div class=\"wandb-row\"><div class=\"wandb-col\"><h3>Run history:</h3><br/><table class=\"wandb\"><tr><td>epochs</td><td>▁▅█</td></tr><tr><td>train_accuracy</td><td>▁█▃</td></tr><tr><td>train_f1</td><td>▁█▃</td></tr><tr><td>train_loss</td><td>█▆▁</td></tr><tr><td>val_accuracy</td><td>▃▁█</td></tr><tr><td>val_f1</td><td>▃▁█</td></tr></table><br/></div><div class=\"wandb-col\"><h3>Run summary:</h3><br/><table class=\"wandb\"><tr><td>epochs</td><td>3</td></tr><tr><td>train_accuracy</td><td>0.9904</td></tr><tr><td>train_f1</td><td>0.99114</td></tr><tr><td>train_loss</td><td>0.49925</td></tr><tr><td>val_accuracy</td><td>0.99424</td></tr><tr><td>val_f1</td><td>0.99471</td></tr></table><br/></div></div>"
      ]
     },
     "metadata": {}
    },
    {
     "output_type": "display_data",
     "data": {
      "text/plain": [
       "<IPython.core.display.HTML object>"
      ],
      "text/html": [
       " View run <strong style=\"color:#cdcd00\">training_Fake news comments_trial_11</strong> at: <a href='https://wandb.ai/hannsflip-none/Fake%20news%20comments/runs/mcaiudii' target=\"_blank\">https://wandb.ai/hannsflip-none/Fake%20news%20comments/runs/mcaiudii</a><br> View project at: <a href='https://wandb.ai/hannsflip-none/Fake%20news%20comments' target=\"_blank\">https://wandb.ai/hannsflip-none/Fake%20news%20comments</a><br>Synced 5 W&B file(s), 0 media file(s), 0 artifact file(s) and 0 other file(s)"
      ]
     },
     "metadata": {}
    },
    {
     "output_type": "display_data",
     "data": {
      "text/plain": [
       "<IPython.core.display.HTML object>"
      ],
      "text/html": [
       "Find logs at: <code>./wandb/run-20250115_121645-mcaiudii/logs</code>"
      ]
     },
     "metadata": {}
    },
    {
     "output_type": "stream",
     "name": "stderr",
     "text": [
      "[I 2025-01-15 12:52:05,624] Trial 11 finished with value: 0.9947124123573303 and parameters: {'lr': 0.00500000005, 'w_decay': 0.0050000000005, 'dropout_vals': 0.12182506320146913, 'warmup': 0.19881249201609352, 'optimizer_name': 'AdamW'}. Best is trial 6 with value: 0.9959877729415894.\n"
     ]
    },
    {
     "output_type": "display_data",
     "data": {
      "text/plain": [
       "<IPython.core.display.HTML object>"
      ],
      "text/html": [
       "Tracking run with wandb version 0.19.1"
      ]
     },
     "metadata": {}
    },
    {
     "output_type": "display_data",
     "data": {
      "text/plain": [
       "<IPython.core.display.HTML object>"
      ],
      "text/html": [
       "Run data is saved locally in <code>/content/wandb/run-20250115_125205-nwe0h9hu</code>"
      ]
     },
     "metadata": {}
    },
    {
     "output_type": "display_data",
     "data": {
      "text/plain": [
       "<IPython.core.display.HTML object>"
      ],
      "text/html": [
       "Syncing run <strong><a href='https://wandb.ai/hannsflip-none/Fake%20news%20comments/runs/nwe0h9hu' target=\"_blank\">training_Fake news comments_trial_12</a></strong> to <a href='https://wandb.ai/hannsflip-none/Fake%20news%20comments' target=\"_blank\">Weights & Biases</a> (<a href='https://wandb.me/developer-guide' target=\"_blank\">docs</a>)<br>"
      ]
     },
     "metadata": {}
    },
    {
     "output_type": "display_data",
     "data": {
      "text/plain": [
       "<IPython.core.display.HTML object>"
      ],
      "text/html": [
       " View project at <a href='https://wandb.ai/hannsflip-none/Fake%20news%20comments' target=\"_blank\">https://wandb.ai/hannsflip-none/Fake%20news%20comments</a>"
      ]
     },
     "metadata": {}
    },
    {
     "output_type": "display_data",
     "data": {
      "text/plain": [
       "<IPython.core.display.HTML object>"
      ],
      "text/html": [
       " View run at <a href='https://wandb.ai/hannsflip-none/Fake%20news%20comments/runs/nwe0h9hu' target=\"_blank\">https://wandb.ai/hannsflip-none/Fake%20news%20comments/runs/nwe0h9hu</a>"
      ]
     },
     "metadata": {}
    },
    {
     "output_type": "stream",
     "name": "stdout",
     "text": [
      "Epoch 1: Train Loss=0.496735357424079, Accuracy=0.9910269379615784, F1 Score=0.991714596748352\n"
     ]
    },
    {
     "output_type": "stream",
     "name": "stderr",
     "text": [
      "WARNING:urllib3.connectionpool:Retrying (Retry(total=4, connect=5, read=4, redirect=5, status=5)) after connection broken by 'RemoteDisconnected('Remote end closed connection without response')': /auszed/Experiments_fake_news.mlflow/api/2.0/mlflow/runs/log-batch\n"
     ]
    },
    {
     "output_type": "stream",
     "name": "stdout",
     "text": [
      "Epoch 1: Accuracy=0.9942388534545898, F1 Score=0.9947140216827393\n",
      "Early stopping counter: 1/3\n",
      "Epoch 2: Train Loss=0.5018819368194607, Accuracy=0.9876620173454285, F1 Score=0.9885852336883545\n",
      "Epoch 2: Accuracy=0.9869064092636108, F1 Score=0.9879246950149536\n",
      "Early stopping counter: 2/3\n",
      "Epoch 3: Train Loss=0.5230853372770673, Accuracy=0.9831754565238953, F1 Score=0.9844380617141724\n"
     ]
    },
    {
     "output_type": "stream",
     "name": "stderr",
     "text": [
      "WARNING:urllib3.connectionpool:Retrying (Retry(total=4, connect=5, read=4, redirect=5, status=5)) after connection broken by 'RemoteDisconnected('Remote end closed connection without response')': /auszed/Experiments_fake_news.mlflow/api/2.0/mlflow/runs/log-batch\n"
     ]
    },
    {
     "output_type": "stream",
     "name": "stdout",
     "text": [
      "Epoch 3: Accuracy=0.9888268113136292, F1 Score=0.9897829294204712\n",
      "Early stopping counter: 3/3\n",
      "Early stopping triggered. Stopping training.\n"
     ]
    },
    {
     "output_type": "stream",
     "name": "stderr",
     "text": [
      "2025/01/15 13:26:09 WARNING mlflow.utils.requirements_utils: Found torch version (2.5.1+cu121) contains a local version label (+cu121). MLflow logged a pip requirement for this package as 'torch==2.5.1' without the local version label to make it installable from PyPI. To specify pip requirements containing local version labels, please use `conda_env` or `pip_requirements`.\n",
      "2025/01/15 13:26:21 WARNING mlflow.utils.requirements_utils: The following packages were not found in the public PyPI package index as of 2024-12-04; if these packages are not present in the public PyPI index, you must install them manually before loading your model: {'google-genai'}\n",
      "2025/01/15 13:26:21 WARNING mlflow.utils.requirements_utils: Found torchvision version (0.20.1+cu121) contains a local version label (+cu121). MLflow logged a pip requirement for this package as 'torchvision==0.20.1' without the local version label to make it installable from PyPI. To specify pip requirements containing local version labels, please use `conda_env` or `pip_requirements`.\n",
      "\u001B[31m2025/01/15 13:26:21 WARNING mlflow.models.model: Model logged without a signature and input example. Please set `input_example` parameter when logging the model to auto infer the model signature.\u001B[0m\n"
     ]
    },
    {
     "output_type": "stream",
     "name": "stdout",
     "text": [
      "🏃 View run roberta_model at: https://dagshub.com/auszed/Experiments_fake_news.mlflow/#/experiments/0/runs/da9c969481b14d1b83c69faef6384b9a\n",
      "🧪 View experiment at: https://dagshub.com/auszed/Experiments_fake_news.mlflow/#/experiments/0\n"
     ]
    },
    {
     "output_type": "display_data",
     "data": {
      "text/plain": [
       "<IPython.core.display.HTML object>"
      ],
      "text/html": []
     },
     "metadata": {}
    },
    {
     "output_type": "display_data",
     "data": {
      "text/plain": [
       "<IPython.core.display.HTML object>"
      ],
      "text/html": [
       "<br>    <style><br>        .wandb-row {<br>            display: flex;<br>            flex-direction: row;<br>            flex-wrap: wrap;<br>            justify-content: flex-start;<br>            width: 100%;<br>        }<br>        .wandb-col {<br>            display: flex;<br>            flex-direction: column;<br>            flex-basis: 100%;<br>            flex: 1;<br>            padding: 10px;<br>        }<br>    </style><br><div class=\"wandb-row\"><div class=\"wandb-col\"><h3>Run history:</h3><br/><table class=\"wandb\"><tr><td>epochs</td><td>▁▅█</td></tr><tr><td>train_accuracy</td><td>█▅▁</td></tr><tr><td>train_f1</td><td>█▅▁</td></tr><tr><td>train_loss</td><td>▁▂█</td></tr><tr><td>val_accuracy</td><td>█▁▃</td></tr><tr><td>val_f1</td><td>█▁▃</td></tr></table><br/></div><div class=\"wandb-col\"><h3>Run summary:</h3><br/><table class=\"wandb\"><tr><td>epochs</td><td>3</td></tr><tr><td>train_accuracy</td><td>0.98318</td></tr><tr><td>train_f1</td><td>0.98444</td></tr><tr><td>train_loss</td><td>0.52309</td></tr><tr><td>val_accuracy</td><td>0.98883</td></tr><tr><td>val_f1</td><td>0.98978</td></tr></table><br/></div></div>"
      ]
     },
     "metadata": {}
    },
    {
     "output_type": "display_data",
     "data": {
      "text/plain": [
       "<IPython.core.display.HTML object>"
      ],
      "text/html": [
       " View run <strong style=\"color:#cdcd00\">training_Fake news comments_trial_12</strong> at: <a href='https://wandb.ai/hannsflip-none/Fake%20news%20comments/runs/nwe0h9hu' target=\"_blank\">https://wandb.ai/hannsflip-none/Fake%20news%20comments/runs/nwe0h9hu</a><br> View project at: <a href='https://wandb.ai/hannsflip-none/Fake%20news%20comments' target=\"_blank\">https://wandb.ai/hannsflip-none/Fake%20news%20comments</a><br>Synced 5 W&B file(s), 0 media file(s), 0 artifact file(s) and 0 other file(s)"
      ]
     },
     "metadata": {}
    },
    {
     "output_type": "display_data",
     "data": {
      "text/plain": [
       "<IPython.core.display.HTML object>"
      ],
      "text/html": [
       "Find logs at: <code>./wandb/run-20250115_125205-nwe0h9hu/logs</code>"
      ]
     },
     "metadata": {}
    },
    {
     "output_type": "stream",
     "name": "stderr",
     "text": [
      "[I 2025-01-15 13:27:19,224] Trial 12 finished with value: 0.9947140216827393 and parameters: {'lr': 0.00500000005, 'w_decay': 0.01, 'dropout_vals': 0.13822049180665033, 'warmup': 0.10232656261226108, 'optimizer_name': 'RMSprop'}. Best is trial 6 with value: 0.9959877729415894.\n"
     ]
    },
    {
     "output_type": "display_data",
     "data": {
      "text/plain": [
       "<IPython.core.display.HTML object>"
      ],
      "text/html": [
       "Tracking run with wandb version 0.19.1"
      ]
     },
     "metadata": {}
    },
    {
     "output_type": "display_data",
     "data": {
      "text/plain": [
       "<IPython.core.display.HTML object>"
      ],
      "text/html": [
       "Run data is saved locally in <code>/content/wandb/run-20250115_132719-bdsdahki</code>"
      ]
     },
     "metadata": {}
    },
    {
     "output_type": "display_data",
     "data": {
      "text/plain": [
       "<IPython.core.display.HTML object>"
      ],
      "text/html": [
       "Syncing run <strong><a href='https://wandb.ai/hannsflip-none/Fake%20news%20comments/runs/bdsdahki' target=\"_blank\">training_Fake news comments_trial_13</a></strong> to <a href='https://wandb.ai/hannsflip-none/Fake%20news%20comments' target=\"_blank\">Weights & Biases</a> (<a href='https://wandb.me/developer-guide' target=\"_blank\">docs</a>)<br>"
      ]
     },
     "metadata": {}
    },
    {
     "output_type": "display_data",
     "data": {
      "text/plain": [
       "<IPython.core.display.HTML object>"
      ],
      "text/html": [
       " View project at <a href='https://wandb.ai/hannsflip-none/Fake%20news%20comments' target=\"_blank\">https://wandb.ai/hannsflip-none/Fake%20news%20comments</a>"
      ]
     },
     "metadata": {}
    },
    {
     "output_type": "display_data",
     "data": {
      "text/plain": [
       "<IPython.core.display.HTML object>"
      ],
      "text/html": [
       " View run at <a href='https://wandb.ai/hannsflip-none/Fake%20news%20comments/runs/bdsdahki' target=\"_blank\">https://wandb.ai/hannsflip-none/Fake%20news%20comments/runs/bdsdahki</a>"
      ]
     },
     "metadata": {}
    },
    {
     "output_type": "stream",
     "name": "stdout",
     "text": [
      "Epoch 1: Train Loss=0.5342678234857672, Accuracy=0.9877866506576538, F1 Score=0.9887356162071228\n"
     ]
    },
    {
     "output_type": "stream",
     "name": "stderr",
     "text": [
      "WARNING:urllib3.connectionpool:Retrying (Retry(total=4, connect=5, read=4, redirect=5, status=5)) after connection broken by 'RemoteDisconnected('Remote end closed connection without response')': /auszed/Experiments_fake_news.mlflow/api/2.0/mlflow/runs/log-batch\n"
     ]
    },
    {
     "output_type": "stream",
     "name": "stdout",
     "text": [
      "Epoch 1: Accuracy=0.9888268113136292, F1 Score=0.9897795915603638\n",
      "Early stopping counter: 1/3\n",
      "Epoch 2: Train Loss=0.5276677130999142, Accuracy=0.9877866506576538, F1 Score=0.9887252449989319\n",
      "Epoch 2: Accuracy=0.9844622611999512, F1 Score=0.9858663082122803\n",
      "Early stopping counter: 2/3\n",
      "Epoch 3: Train Loss=0.5217755001004886, Accuracy=0.9835493564605713, F1 Score=0.9847891330718994\n"
     ]
    },
    {
     "output_type": "stream",
     "name": "stderr",
     "text": [
      "WARNING:urllib3.connectionpool:Retrying (Retry(total=4, connect=5, read=4, redirect=5, status=5)) after connection broken by 'RemoteDisconnected('Remote end closed connection without response')': /auszed/Experiments_fake_news.mlflow/api/2.0/mlflow/runs/log-batch\n"
     ]
    },
    {
     "output_type": "stream",
     "name": "stdout",
     "text": [
      "Epoch 3: Accuracy=0.9874301552772522, F1 Score=0.9884836673736572\n",
      "Early stopping counter: 3/3\n",
      "Early stopping triggered. Stopping training.\n"
     ]
    },
    {
     "output_type": "stream",
     "name": "stderr",
     "text": [
      "2025/01/15 14:01:23 WARNING mlflow.utils.requirements_utils: Found torch version (2.5.1+cu121) contains a local version label (+cu121). MLflow logged a pip requirement for this package as 'torch==2.5.1' without the local version label to make it installable from PyPI. To specify pip requirements containing local version labels, please use `conda_env` or `pip_requirements`.\n",
      "2025/01/15 14:01:34 WARNING mlflow.utils.requirements_utils: The following packages were not found in the public PyPI package index as of 2024-12-04; if these packages are not present in the public PyPI index, you must install them manually before loading your model: {'google-genai'}\n",
      "2025/01/15 14:01:34 WARNING mlflow.utils.requirements_utils: Found torchvision version (0.20.1+cu121) contains a local version label (+cu121). MLflow logged a pip requirement for this package as 'torchvision==0.20.1' without the local version label to make it installable from PyPI. To specify pip requirements containing local version labels, please use `conda_env` or `pip_requirements`.\n",
      "\u001B[31m2025/01/15 14:01:34 WARNING mlflow.models.model: Model logged without a signature and input example. Please set `input_example` parameter when logging the model to auto infer the model signature.\u001B[0m\n"
     ]
    },
    {
     "output_type": "stream",
     "name": "stdout",
     "text": [
      "🏃 View run roberta_model at: https://dagshub.com/auszed/Experiments_fake_news.mlflow/#/experiments/0/runs/5374721160cd438f9da94e626deef0fc\n",
      "🧪 View experiment at: https://dagshub.com/auszed/Experiments_fake_news.mlflow/#/experiments/0\n"
     ]
    },
    {
     "output_type": "display_data",
     "data": {
      "text/plain": [
       "<IPython.core.display.HTML object>"
      ],
      "text/html": []
     },
     "metadata": {}
    },
    {
     "output_type": "display_data",
     "data": {
      "text/plain": [
       "<IPython.core.display.HTML object>"
      ],
      "text/html": [
       "<br>    <style><br>        .wandb-row {<br>            display: flex;<br>            flex-direction: row;<br>            flex-wrap: wrap;<br>            justify-content: flex-start;<br>            width: 100%;<br>        }<br>        .wandb-col {<br>            display: flex;<br>            flex-direction: column;<br>            flex-basis: 100%;<br>            flex: 1;<br>            padding: 10px;<br>        }<br>    </style><br><div class=\"wandb-row\"><div class=\"wandb-col\"><h3>Run history:</h3><br/><table class=\"wandb\"><tr><td>epochs</td><td>▁▅█</td></tr><tr><td>train_accuracy</td><td>██▁</td></tr><tr><td>train_f1</td><td>██▁</td></tr><tr><td>train_loss</td><td>█▄▁</td></tr><tr><td>val_accuracy</td><td>█▁▆</td></tr><tr><td>val_f1</td><td>█▁▆</td></tr></table><br/></div><div class=\"wandb-col\"><h3>Run summary:</h3><br/><table class=\"wandb\"><tr><td>epochs</td><td>3</td></tr><tr><td>train_accuracy</td><td>0.98355</td></tr><tr><td>train_f1</td><td>0.98479</td></tr><tr><td>train_loss</td><td>0.52178</td></tr><tr><td>val_accuracy</td><td>0.98743</td></tr><tr><td>val_f1</td><td>0.98848</td></tr></table><br/></div></div>"
      ]
     },
     "metadata": {}
    },
    {
     "output_type": "display_data",
     "data": {
      "text/plain": [
       "<IPython.core.display.HTML object>"
      ],
      "text/html": [
       " View run <strong style=\"color:#cdcd00\">training_Fake news comments_trial_13</strong> at: <a href='https://wandb.ai/hannsflip-none/Fake%20news%20comments/runs/bdsdahki' target=\"_blank\">https://wandb.ai/hannsflip-none/Fake%20news%20comments/runs/bdsdahki</a><br> View project at: <a href='https://wandb.ai/hannsflip-none/Fake%20news%20comments' target=\"_blank\">https://wandb.ai/hannsflip-none/Fake%20news%20comments</a><br>Synced 5 W&B file(s), 0 media file(s), 0 artifact file(s) and 0 other file(s)"
      ]
     },
     "metadata": {}
    },
    {
     "output_type": "display_data",
     "data": {
      "text/plain": [
       "<IPython.core.display.HTML object>"
      ],
      "text/html": [
       "Find logs at: <code>./wandb/run-20250115_132719-bdsdahki/logs</code>"
      ]
     },
     "metadata": {}
    },
    {
     "output_type": "stream",
     "name": "stderr",
     "text": [
      "[I 2025-01-15 14:02:32,742] Trial 13 finished with value: 0.9897795915603638 and parameters: {'lr': 0.002500000075, 'w_decay': 0.0050000000005, 'dropout_vals': 0.20385323476073136, 'warmup': 0.06864602006525686, 'optimizer_name': 'RMSprop'}. Best is trial 6 with value: 0.9959877729415894.\n"
     ]
    },
    {
     "output_type": "display_data",
     "data": {
      "text/plain": [
       "<IPython.core.display.HTML object>"
      ],
      "text/html": [
       "Tracking run with wandb version 0.19.1"
      ]
     },
     "metadata": {}
    },
    {
     "output_type": "display_data",
     "data": {
      "text/plain": [
       "<IPython.core.display.HTML object>"
      ],
      "text/html": [
       "Run data is saved locally in <code>/content/wandb/run-20250115_140232-bjh0xyj0</code>"
      ]
     },
     "metadata": {}
    },
    {
     "output_type": "display_data",
     "data": {
      "text/plain": [
       "<IPython.core.display.HTML object>"
      ],
      "text/html": [
       "Syncing run <strong><a href='https://wandb.ai/hannsflip-none/Fake%20news%20comments/runs/bjh0xyj0' target=\"_blank\">training_Fake news comments_trial_14</a></strong> to <a href='https://wandb.ai/hannsflip-none/Fake%20news%20comments' target=\"_blank\">Weights & Biases</a> (<a href='https://wandb.me/developer-guide' target=\"_blank\">docs</a>)<br>"
      ]
     },
     "metadata": {}
    },
    {
     "output_type": "display_data",
     "data": {
      "text/plain": [
       "<IPython.core.display.HTML object>"
      ],
      "text/html": [
       " View project at <a href='https://wandb.ai/hannsflip-none/Fake%20news%20comments' target=\"_blank\">https://wandb.ai/hannsflip-none/Fake%20news%20comments</a>"
      ]
     },
     "metadata": {}
    },
    {
     "output_type": "display_data",
     "data": {
      "text/plain": [
       "<IPython.core.display.HTML object>"
      ],
      "text/html": [
       " View run at <a href='https://wandb.ai/hannsflip-none/Fake%20news%20comments/runs/bjh0xyj0' target=\"_blank\">https://wandb.ai/hannsflip-none/Fake%20news%20comments/runs/bjh0xyj0</a>"
      ]
     },
     "metadata": {}
    },
    {
     "output_type": "stream",
     "name": "stdout",
     "text": [
      "Epoch 1: Train Loss=0.5196658667039539, Accuracy=0.9866650104522705, F1 Score=0.9876769781112671\n"
     ]
    },
    {
     "output_type": "stream",
     "name": "stderr",
     "text": [
      "WARNING:urllib3.connectionpool:Retrying (Retry(total=4, connect=5, read=4, redirect=5, status=5)) after connection broken by 'RemoteDisconnected('Remote end closed connection without response')': /auszed/Experiments_fake_news.mlflow/api/2.0/mlflow/runs/log-batch\n"
     ]
    },
    {
     "output_type": "stream",
     "name": "stdout",
     "text": [
      "Epoch 1: Accuracy=0.9874301552772522, F1 Score=0.9884836673736572\n",
      "Early stopping counter: 1/3\n",
      "Epoch 2: Train Loss=0.5125155710092452, Accuracy=0.9829262495040894, F1 Score=0.9841710329055786\n"
     ]
    },
    {
     "output_type": "stream",
     "name": "stderr",
     "text": [
      "WARNING:urllib3.connectionpool:Retrying (Retry(total=4, connect=5, read=4, redirect=5, status=5)) after connection broken by 'RemoteDisconnected('Remote end closed connection without response')': /auszed/Experiments_fake_news.mlflow/api/2.0/mlflow/runs/log-batch\n"
     ]
    },
    {
     "output_type": "stream",
     "name": "stdout",
     "text": [
      "Epoch 2: Accuracy=0.9893505573272705, F1 Score=0.9902008175849915\n",
      "Early stopping counter: 2/3\n",
      "Epoch 3: Train Loss=0.5004445664725774, Accuracy=0.9869142770767212, F1 Score=0.9879074096679688\n",
      "Epoch 3: Accuracy=0.9914455413818359, F1 Score=0.99211585521698\n",
      "Early stopping counter: 3/3\n",
      "Early stopping triggered. Stopping training.\n"
     ]
    },
    {
     "output_type": "stream",
     "name": "stderr",
     "text": [
      "2025/01/15 14:36:30 WARNING mlflow.utils.requirements_utils: Found torch version (2.5.1+cu121) contains a local version label (+cu121). MLflow logged a pip requirement for this package as 'torch==2.5.1' without the local version label to make it installable from PyPI. To specify pip requirements containing local version labels, please use `conda_env` or `pip_requirements`.\n",
      "2025/01/15 14:36:41 WARNING mlflow.utils.requirements_utils: The following packages were not found in the public PyPI package index as of 2024-12-04; if these packages are not present in the public PyPI index, you must install them manually before loading your model: {'google-genai'}\n",
      "2025/01/15 14:36:41 WARNING mlflow.utils.requirements_utils: Found torchvision version (0.20.1+cu121) contains a local version label (+cu121). MLflow logged a pip requirement for this package as 'torchvision==0.20.1' without the local version label to make it installable from PyPI. To specify pip requirements containing local version labels, please use `conda_env` or `pip_requirements`.\n",
      "\u001B[31m2025/01/15 14:36:41 WARNING mlflow.models.model: Model logged without a signature and input example. Please set `input_example` parameter when logging the model to auto infer the model signature.\u001B[0m\n"
     ]
    },
    {
     "output_type": "stream",
     "name": "stdout",
     "text": [
      "🏃 View run roberta_model at: https://dagshub.com/auszed/Experiments_fake_news.mlflow/#/experiments/0/runs/c18b2799bad141b6a4cee46493b4b8e9\n",
      "🧪 View experiment at: https://dagshub.com/auszed/Experiments_fake_news.mlflow/#/experiments/0\n"
     ]
    },
    {
     "output_type": "display_data",
     "data": {
      "text/plain": [
       "<IPython.core.display.HTML object>"
      ],
      "text/html": []
     },
     "metadata": {}
    },
    {
     "output_type": "display_data",
     "data": {
      "text/plain": [
       "<IPython.core.display.HTML object>"
      ],
      "text/html": [
       "<br>    <style><br>        .wandb-row {<br>            display: flex;<br>            flex-direction: row;<br>            flex-wrap: wrap;<br>            justify-content: flex-start;<br>            width: 100%;<br>        }<br>        .wandb-col {<br>            display: flex;<br>            flex-direction: column;<br>            flex-basis: 100%;<br>            flex: 1;<br>            padding: 10px;<br>        }<br>    </style><br><div class=\"wandb-row\"><div class=\"wandb-col\"><h3>Run history:</h3><br/><table class=\"wandb\"><tr><td>epochs</td><td>▁▅█</td></tr><tr><td>train_accuracy</td><td>█▁█</td></tr><tr><td>train_f1</td><td>█▁█</td></tr><tr><td>train_loss</td><td>█▅▁</td></tr><tr><td>val_accuracy</td><td>▁▄█</td></tr><tr><td>val_f1</td><td>▁▄█</td></tr></table><br/></div><div class=\"wandb-col\"><h3>Run summary:</h3><br/><table class=\"wandb\"><tr><td>epochs</td><td>3</td></tr><tr><td>train_accuracy</td><td>0.98691</td></tr><tr><td>train_f1</td><td>0.98791</td></tr><tr><td>train_loss</td><td>0.50044</td></tr><tr><td>val_accuracy</td><td>0.99145</td></tr><tr><td>val_f1</td><td>0.99212</td></tr></table><br/></div></div>"
      ]
     },
     "metadata": {}
    },
    {
     "output_type": "display_data",
     "data": {
      "text/plain": [
       "<IPython.core.display.HTML object>"
      ],
      "text/html": [
       " View run <strong style=\"color:#cdcd00\">training_Fake news comments_trial_14</strong> at: <a href='https://wandb.ai/hannsflip-none/Fake%20news%20comments/runs/bjh0xyj0' target=\"_blank\">https://wandb.ai/hannsflip-none/Fake%20news%20comments/runs/bjh0xyj0</a><br> View project at: <a href='https://wandb.ai/hannsflip-none/Fake%20news%20comments' target=\"_blank\">https://wandb.ai/hannsflip-none/Fake%20news%20comments</a><br>Synced 5 W&B file(s), 0 media file(s), 0 artifact file(s) and 0 other file(s)"
      ]
     },
     "metadata": {}
    },
    {
     "output_type": "display_data",
     "data": {
      "text/plain": [
       "<IPython.core.display.HTML object>"
      ],
      "text/html": [
       "Find logs at: <code>./wandb/run-20250115_140232-bjh0xyj0/logs</code>"
      ]
     },
     "metadata": {}
    },
    {
     "output_type": "stream",
     "name": "stderr",
     "text": [
      "[I 2025-01-15 14:37:40,211] Trial 14 finished with value: 0.99211585521698 and parameters: {'lr': 0.007500000025, 'w_decay': 0.00250000000075, 'dropout_vals': 0.17695729044385178, 'warmup': 0.12553079011211396, 'optimizer_name': 'AdamW'}. Best is trial 6 with value: 0.9959877729415894.\n"
     ]
    },
    {
     "output_type": "display_data",
     "data": {
      "text/plain": [
       "<IPython.core.display.HTML object>"
      ],
      "text/html": [
       "Tracking run with wandb version 0.19.1"
      ]
     },
     "metadata": {}
    },
    {
     "output_type": "display_data",
     "data": {
      "text/plain": [
       "<IPython.core.display.HTML object>"
      ],
      "text/html": [
       "Run data is saved locally in <code>/content/wandb/run-20250115_143740-i9r90mpy</code>"
      ]
     },
     "metadata": {}
    },
    {
     "output_type": "display_data",
     "data": {
      "text/plain": [
       "<IPython.core.display.HTML object>"
      ],
      "text/html": [
       "Syncing run <strong><a href='https://wandb.ai/hannsflip-none/Fake%20news%20comments/runs/i9r90mpy' target=\"_blank\">training_Fake news comments_trial_15</a></strong> to <a href='https://wandb.ai/hannsflip-none/Fake%20news%20comments' target=\"_blank\">Weights & Biases</a> (<a href='https://wandb.me/developer-guide' target=\"_blank\">docs</a>)<br>"
      ]
     },
     "metadata": {}
    },
    {
     "output_type": "display_data",
     "data": {
      "text/plain": [
       "<IPython.core.display.HTML object>"
      ],
      "text/html": [
       " View project at <a href='https://wandb.ai/hannsflip-none/Fake%20news%20comments' target=\"_blank\">https://wandb.ai/hannsflip-none/Fake%20news%20comments</a>"
      ]
     },
     "metadata": {}
    },
    {
     "output_type": "display_data",
     "data": {
      "text/plain": [
       "<IPython.core.display.HTML object>"
      ],
      "text/html": [
       " View run at <a href='https://wandb.ai/hannsflip-none/Fake%20news%20comments/runs/i9r90mpy' target=\"_blank\">https://wandb.ai/hannsflip-none/Fake%20news%20comments/runs/i9r90mpy</a>"
      ]
     },
     "metadata": {}
    },
    {
     "output_type": "stream",
     "name": "stdout",
     "text": [
      "Epoch 1: Train Loss=0.4973759426255288, Accuracy=0.9846709966659546, F1 Score=0.9857093095779419\n",
      "Epoch 1: Accuracy=0.9912709593772888, F1 Score=0.9919536709785461\n",
      "Early stopping counter: 1/3\n",
      "Epoch 2: Train Loss=0.5577370493504723, Accuracy=0.8850947022438049, F1 Score=0.8867599964141846\n",
      "Epoch 2: Accuracy=0.9884776473045349, F1 Score=0.9893684983253479\n",
      "Early stopping counter: 2/3\n",
      "Epoch 3: Train Loss=0.5732584013004721, Accuracy=0.8579262495040894, F1 Score=0.8612126111984253\n"
     ]
    },
    {
     "output_type": "stream",
     "name": "stderr",
     "text": [
      "WARNING:urllib3.connectionpool:Retrying (Retry(total=4, connect=5, read=4, redirect=5, status=5)) after connection broken by 'RemoteDisconnected('Remote end closed connection without response')': /auszed/Experiments_fake_news.mlflow/api/2.0/mlflow/runs/log-batch\n"
     ]
    },
    {
     "output_type": "stream",
     "name": "stdout",
     "text": [
      "Epoch 3: Accuracy=0.45513269305229187, F1 Score=0.0\n",
      "Early stopping counter: 3/3\n",
      "Early stopping triggered. Stopping training.\n"
     ]
    },
    {
     "output_type": "stream",
     "name": "stderr",
     "text": [
      "2025/01/15 15:11:48 WARNING mlflow.utils.requirements_utils: Found torch version (2.5.1+cu121) contains a local version label (+cu121). MLflow logged a pip requirement for this package as 'torch==2.5.1' without the local version label to make it installable from PyPI. To specify pip requirements containing local version labels, please use `conda_env` or `pip_requirements`.\n",
      "2025/01/15 15:11:59 WARNING mlflow.utils.requirements_utils: The following packages were not found in the public PyPI package index as of 2024-12-04; if these packages are not present in the public PyPI index, you must install them manually before loading your model: {'google-genai'}\n",
      "2025/01/15 15:11:59 WARNING mlflow.utils.requirements_utils: Found torchvision version (0.20.1+cu121) contains a local version label (+cu121). MLflow logged a pip requirement for this package as 'torchvision==0.20.1' without the local version label to make it installable from PyPI. To specify pip requirements containing local version labels, please use `conda_env` or `pip_requirements`.\n",
      "\u001B[31m2025/01/15 15:11:59 WARNING mlflow.models.model: Model logged without a signature and input example. Please set `input_example` parameter when logging the model to auto infer the model signature.\u001B[0m\n"
     ]
    },
    {
     "output_type": "stream",
     "name": "stdout",
     "text": [
      "🏃 View run roberta_model at: https://dagshub.com/auszed/Experiments_fake_news.mlflow/#/experiments/0/runs/49c4131fc889420bbd89bab4cc906d0a\n",
      "🧪 View experiment at: https://dagshub.com/auszed/Experiments_fake_news.mlflow/#/experiments/0\n"
     ]
    },
    {
     "output_type": "display_data",
     "data": {
      "text/plain": [
       "<IPython.core.display.HTML object>"
      ],
      "text/html": []
     },
     "metadata": {}
    },
    {
     "output_type": "display_data",
     "data": {
      "text/plain": [
       "<IPython.core.display.HTML object>"
      ],
      "text/html": [
       "<br>    <style><br>        .wandb-row {<br>            display: flex;<br>            flex-direction: row;<br>            flex-wrap: wrap;<br>            justify-content: flex-start;<br>            width: 100%;<br>        }<br>        .wandb-col {<br>            display: flex;<br>            flex-direction: column;<br>            flex-basis: 100%;<br>            flex: 1;<br>            padding: 10px;<br>        }<br>    </style><br><div class=\"wandb-row\"><div class=\"wandb-col\"><h3>Run history:</h3><br/><table class=\"wandb\"><tr><td>epochs</td><td>▁▅█</td></tr><tr><td>train_accuracy</td><td>█▃▁</td></tr><tr><td>train_f1</td><td>█▂▁</td></tr><tr><td>train_loss</td><td>▁▇█</td></tr><tr><td>val_accuracy</td><td>██▁</td></tr><tr><td>val_f1</td><td>██▁</td></tr></table><br/></div><div class=\"wandb-col\"><h3>Run summary:</h3><br/><table class=\"wandb\"><tr><td>epochs</td><td>3</td></tr><tr><td>train_accuracy</td><td>0.85793</td></tr><tr><td>train_f1</td><td>0.86121</td></tr><tr><td>train_loss</td><td>0.57326</td></tr><tr><td>val_accuracy</td><td>0.45513</td></tr><tr><td>val_f1</td><td>0</td></tr></table><br/></div></div>"
      ]
     },
     "metadata": {}
    },
    {
     "output_type": "display_data",
     "data": {
      "text/plain": [
       "<IPython.core.display.HTML object>"
      ],
      "text/html": [
       " View run <strong style=\"color:#cdcd00\">training_Fake news comments_trial_15</strong> at: <a href='https://wandb.ai/hannsflip-none/Fake%20news%20comments/runs/i9r90mpy' target=\"_blank\">https://wandb.ai/hannsflip-none/Fake%20news%20comments/runs/i9r90mpy</a><br> View project at: <a href='https://wandb.ai/hannsflip-none/Fake%20news%20comments' target=\"_blank\">https://wandb.ai/hannsflip-none/Fake%20news%20comments</a><br>Synced 5 W&B file(s), 0 media file(s), 0 artifact file(s) and 0 other file(s)"
      ]
     },
     "metadata": {}
    },
    {
     "output_type": "display_data",
     "data": {
      "text/plain": [
       "<IPython.core.display.HTML object>"
      ],
      "text/html": [
       "Find logs at: <code>./wandb/run-20250115_143740-i9r90mpy/logs</code>"
      ]
     },
     "metadata": {}
    },
    {
     "output_type": "stream",
     "name": "stderr",
     "text": [
      "[I 2025-01-15 15:12:56,872] Trial 15 finished with value: 0.9919536709785461 and parameters: {'lr': 0.002500000075, 'w_decay': 0.0050000000005, 'dropout_vals': 0.12102944322827418, 'warmup': 0.003583764314758847, 'optimizer_name': 'RMSprop'}. Best is trial 6 with value: 0.9959877729415894.\n"
     ]
    },
    {
     "output_type": "display_data",
     "data": {
      "text/plain": [
       "<IPython.core.display.HTML object>"
      ],
      "text/html": [
       "Tracking run with wandb version 0.19.1"
      ]
     },
     "metadata": {}
    },
    {
     "output_type": "display_data",
     "data": {
      "text/plain": [
       "<IPython.core.display.HTML object>"
      ],
      "text/html": [
       "Run data is saved locally in <code>/content/wandb/run-20250115_151256-0e80fo9z</code>"
      ]
     },
     "metadata": {}
    },
    {
     "output_type": "display_data",
     "data": {
      "text/plain": [
       "<IPython.core.display.HTML object>"
      ],
      "text/html": [
       "Syncing run <strong><a href='https://wandb.ai/hannsflip-none/Fake%20news%20comments/runs/0e80fo9z' target=\"_blank\">training_Fake news comments_trial_16</a></strong> to <a href='https://wandb.ai/hannsflip-none/Fake%20news%20comments' target=\"_blank\">Weights & Biases</a> (<a href='https://wandb.me/developer-guide' target=\"_blank\">docs</a>)<br>"
      ]
     },
     "metadata": {}
    },
    {
     "output_type": "display_data",
     "data": {
      "text/plain": [
       "<IPython.core.display.HTML object>"
      ],
      "text/html": [
       " View project at <a href='https://wandb.ai/hannsflip-none/Fake%20news%20comments' target=\"_blank\">https://wandb.ai/hannsflip-none/Fake%20news%20comments</a>"
      ]
     },
     "metadata": {}
    },
    {
     "output_type": "display_data",
     "data": {
      "text/plain": [
       "<IPython.core.display.HTML object>"
      ],
      "text/html": [
       " View run at <a href='https://wandb.ai/hannsflip-none/Fake%20news%20comments/runs/0e80fo9z' target=\"_blank\">https://wandb.ai/hannsflip-none/Fake%20news%20comments/runs/0e80fo9z</a>"
      ]
     },
     "metadata": {}
    },
    {
     "output_type": "stream",
     "name": "stdout",
     "text": [
      "Epoch 1: Train Loss=0.6947151039794816, Accuracy=0.4626121520996094, F1 Score=0.0447496697306633\n",
      "Epoch 1: Accuracy=0.45513269305229187, F1 Score=0.0\n",
      "Early stopping counter: 1/3\n",
      "Epoch 2: Train Loss=0.6930858545740722, Accuracy=0.46423229575157166, F1 Score=0.046996235847473145\n"
     ]
    },
    {
     "output_type": "stream",
     "name": "stderr",
     "text": [
      "WARNING:urllib3.connectionpool:Retrying (Retry(total=4, connect=5, read=4, redirect=5, status=5)) after connection broken by 'RemoteDisconnected('Remote end closed connection without response')': /auszed/Experiments_fake_news.mlflow/api/2.0/mlflow/runs/log-batch\n"
     ]
    },
    {
     "output_type": "stream",
     "name": "stdout",
     "text": [
      "Epoch 2: Accuracy=0.455307275056839, F1 Score=0.0\n",
      "Early stopping counter: 2/3\n",
      "Epoch 3: Train Loss=0.6900550617891199, Accuracy=0.46585243940353394, F1 Score=0.05050952360033989\n",
      "Epoch 3: Accuracy=0.455307275056839, F1 Score=0.0\n",
      "Early stopping counter: 3/3\n",
      "Early stopping triggered. Stopping training.\n"
     ]
    },
    {
     "output_type": "stream",
     "name": "stderr",
     "text": [
      "2025/01/15 15:46:51 WARNING mlflow.utils.requirements_utils: Found torch version (2.5.1+cu121) contains a local version label (+cu121). MLflow logged a pip requirement for this package as 'torch==2.5.1' without the local version label to make it installable from PyPI. To specify pip requirements containing local version labels, please use `conda_env` or `pip_requirements`.\n",
      "2025/01/15 15:47:02 WARNING mlflow.utils.requirements_utils: The following packages were not found in the public PyPI package index as of 2024-12-04; if these packages are not present in the public PyPI index, you must install them manually before loading your model: {'google-genai'}\n",
      "2025/01/15 15:47:02 WARNING mlflow.utils.requirements_utils: Found torchvision version (0.20.1+cu121) contains a local version label (+cu121). MLflow logged a pip requirement for this package as 'torchvision==0.20.1' without the local version label to make it installable from PyPI. To specify pip requirements containing local version labels, please use `conda_env` or `pip_requirements`.\n",
      "\u001B[31m2025/01/15 15:47:02 WARNING mlflow.models.model: Model logged without a signature and input example. Please set `input_example` parameter when logging the model to auto infer the model signature.\u001B[0m\n"
     ]
    },
    {
     "output_type": "stream",
     "name": "stdout",
     "text": [
      "🏃 View run roberta_model at: https://dagshub.com/auszed/Experiments_fake_news.mlflow/#/experiments/0/runs/cab33a8cc70b40c69871d45a36c1a04b\n",
      "🧪 View experiment at: https://dagshub.com/auszed/Experiments_fake_news.mlflow/#/experiments/0\n"
     ]
    },
    {
     "output_type": "display_data",
     "data": {
      "text/plain": [
       "<IPython.core.display.HTML object>"
      ],
      "text/html": []
     },
     "metadata": {}
    },
    {
     "output_type": "display_data",
     "data": {
      "text/plain": [
       "<IPython.core.display.HTML object>"
      ],
      "text/html": [
       "<br>    <style><br>        .wandb-row {<br>            display: flex;<br>            flex-direction: row;<br>            flex-wrap: wrap;<br>            justify-content: flex-start;<br>            width: 100%;<br>        }<br>        .wandb-col {<br>            display: flex;<br>            flex-direction: column;<br>            flex-basis: 100%;<br>            flex: 1;<br>            padding: 10px;<br>        }<br>    </style><br><div class=\"wandb-row\"><div class=\"wandb-col\"><h3>Run history:</h3><br/><table class=\"wandb\"><tr><td>epochs</td><td>▁▅█</td></tr><tr><td>train_accuracy</td><td>▁▅█</td></tr><tr><td>train_f1</td><td>▁▄█</td></tr><tr><td>train_loss</td><td>█▆▁</td></tr><tr><td>val_accuracy</td><td>▁██</td></tr><tr><td>val_f1</td><td>▁▁▁</td></tr></table><br/></div><div class=\"wandb-col\"><h3>Run summary:</h3><br/><table class=\"wandb\"><tr><td>epochs</td><td>3</td></tr><tr><td>train_accuracy</td><td>0.46585</td></tr><tr><td>train_f1</td><td>0.05051</td></tr><tr><td>train_loss</td><td>0.69006</td></tr><tr><td>val_accuracy</td><td>0.45531</td></tr><tr><td>val_f1</td><td>0</td></tr></table><br/></div></div>"
      ]
     },
     "metadata": {}
    },
    {
     "output_type": "display_data",
     "data": {
      "text/plain": [
       "<IPython.core.display.HTML object>"
      ],
      "text/html": [
       " View run <strong style=\"color:#cdcd00\">training_Fake news comments_trial_16</strong> at: <a href='https://wandb.ai/hannsflip-none/Fake%20news%20comments/runs/0e80fo9z' target=\"_blank\">https://wandb.ai/hannsflip-none/Fake%20news%20comments/runs/0e80fo9z</a><br> View project at: <a href='https://wandb.ai/hannsflip-none/Fake%20news%20comments' target=\"_blank\">https://wandb.ai/hannsflip-none/Fake%20news%20comments</a><br>Synced 5 W&B file(s), 0 media file(s), 0 artifact file(s) and 0 other file(s)"
      ]
     },
     "metadata": {}
    },
    {
     "output_type": "display_data",
     "data": {
      "text/plain": [
       "<IPython.core.display.HTML object>"
      ],
      "text/html": [
       "Find logs at: <code>./wandb/run-20250115_151256-0e80fo9z/logs</code>"
      ]
     },
     "metadata": {}
    },
    {
     "output_type": "stream",
     "name": "stderr",
     "text": [
      "[I 2025-01-15 15:47:59,844] Trial 16 finished with value: 0.0 and parameters: {'lr': 0.007500000025, 'w_decay': 0.01, 'dropout_vals': 0.14372056481072143, 'warmup': 0.06495264755926265, 'optimizer_name': 'AdamW'}. Best is trial 6 with value: 0.9959877729415894.\n"
     ]
    },
    {
     "output_type": "display_data",
     "data": {
      "text/plain": [
       "<IPython.core.display.HTML object>"
      ],
      "text/html": [
       "Tracking run with wandb version 0.19.1"
      ]
     },
     "metadata": {}
    },
    {
     "output_type": "display_data",
     "data": {
      "text/plain": [
       "<IPython.core.display.HTML object>"
      ],
      "text/html": [
       "Run data is saved locally in <code>/content/wandb/run-20250115_154759-2j2lvsgn</code>"
      ]
     },
     "metadata": {}
    },
    {
     "output_type": "display_data",
     "data": {
      "text/plain": [
       "<IPython.core.display.HTML object>"
      ],
      "text/html": [
       "Syncing run <strong><a href='https://wandb.ai/hannsflip-none/Fake%20news%20comments/runs/2j2lvsgn' target=\"_blank\">training_Fake news comments_trial_17</a></strong> to <a href='https://wandb.ai/hannsflip-none/Fake%20news%20comments' target=\"_blank\">Weights & Biases</a> (<a href='https://wandb.me/developer-guide' target=\"_blank\">docs</a>)<br>"
      ]
     },
     "metadata": {}
    },
    {
     "output_type": "display_data",
     "data": {
      "text/plain": [
       "<IPython.core.display.HTML object>"
      ],
      "text/html": [
       " View project at <a href='https://wandb.ai/hannsflip-none/Fake%20news%20comments' target=\"_blank\">https://wandb.ai/hannsflip-none/Fake%20news%20comments</a>"
      ]
     },
     "metadata": {}
    },
    {
     "output_type": "display_data",
     "data": {
      "text/plain": [
       "<IPython.core.display.HTML object>"
      ],
      "text/html": [
       " View run at <a href='https://wandb.ai/hannsflip-none/Fake%20news%20comments/runs/2j2lvsgn' target=\"_blank\">https://wandb.ai/hannsflip-none/Fake%20news%20comments/runs/2j2lvsgn</a>"
      ]
     },
     "metadata": {}
    },
    {
     "output_type": "stream",
     "name": "stdout",
     "text": [
      "Epoch 1: Train Loss=0.6895491578880835, Accuracy=0.46360915899276733, F1 Score=0.046521931886672974\n"
     ]
    },
    {
     "output_type": "stream",
     "name": "stderr",
     "text": [
      "WARNING:urllib3.connectionpool:Retrying (Retry(total=4, connect=5, read=4, redirect=5, status=5)) after connection broken by 'RemoteDisconnected('Remote end closed connection without response')': /auszed/Experiments_fake_news.mlflow/api/2.0/mlflow/runs/log-batch\n"
     ]
    },
    {
     "output_type": "stream",
     "name": "stdout",
     "text": [
      "Epoch 1: Accuracy=0.4556564390659332, F1 Score=0.0\n",
      "Early stopping counter: 1/3\n",
      "Epoch 2: Train Loss=0.6891943512267154, Accuracy=0.463858425617218, F1 Score=0.04611973464488983\n",
      "Epoch 2: Accuracy=0.4544343650341034, F1 Score=0.0\n",
      "Early stopping counter: 2/3\n",
      "Epoch 3: Train Loss=0.585337891981585, Accuracy=0.8330010175704956, F1 Score=0.8246073722839355\n"
     ]
    },
    {
     "output_type": "stream",
     "name": "stderr",
     "text": [
      "WARNING:urllib3.connectionpool:Retrying (Retry(total=4, connect=5, read=4, redirect=5, status=5)) after connection broken by 'RemoteDisconnected('Remote end closed connection without response')': /auszed/Experiments_fake_news.mlflow/api/2.0/mlflow/runs/log-batch\n"
     ]
    },
    {
     "output_type": "stream",
     "name": "stdout",
     "text": [
      "Epoch 3: Accuracy=0.9781773686408997, F1 Score=0.9801239967346191\n",
      "Early stopping counter: 3/3\n",
      "Early stopping triggered. Stopping training.\n"
     ]
    },
    {
     "output_type": "stream",
     "name": "stderr",
     "text": [
      "2025/01/15 16:22:00 WARNING mlflow.utils.requirements_utils: Found torch version (2.5.1+cu121) contains a local version label (+cu121). MLflow logged a pip requirement for this package as 'torch==2.5.1' without the local version label to make it installable from PyPI. To specify pip requirements containing local version labels, please use `conda_env` or `pip_requirements`.\n",
      "2025/01/15 16:22:11 WARNING mlflow.utils.requirements_utils: The following packages were not found in the public PyPI package index as of 2024-12-04; if these packages are not present in the public PyPI index, you must install them manually before loading your model: {'google-genai'}\n",
      "2025/01/15 16:22:11 WARNING mlflow.utils.requirements_utils: Found torchvision version (0.20.1+cu121) contains a local version label (+cu121). MLflow logged a pip requirement for this package as 'torchvision==0.20.1' without the local version label to make it installable from PyPI. To specify pip requirements containing local version labels, please use `conda_env` or `pip_requirements`.\n",
      "\u001B[31m2025/01/15 16:22:11 WARNING mlflow.models.model: Model logged without a signature and input example. Please set `input_example` parameter when logging the model to auto infer the model signature.\u001B[0m\n"
     ]
    },
    {
     "output_type": "stream",
     "name": "stdout",
     "text": [
      "🏃 View run roberta_model at: https://dagshub.com/auszed/Experiments_fake_news.mlflow/#/experiments/0/runs/9f8aa08f35cb41db99dcf0a155c2cc04\n",
      "🧪 View experiment at: https://dagshub.com/auszed/Experiments_fake_news.mlflow/#/experiments/0\n"
     ]
    },
    {
     "output_type": "display_data",
     "data": {
      "text/plain": [
       "<IPython.core.display.HTML object>"
      ],
      "text/html": []
     },
     "metadata": {}
    },
    {
     "output_type": "display_data",
     "data": {
      "text/plain": [
       "<IPython.core.display.HTML object>"
      ],
      "text/html": [
       "<br>    <style><br>        .wandb-row {<br>            display: flex;<br>            flex-direction: row;<br>            flex-wrap: wrap;<br>            justify-content: flex-start;<br>            width: 100%;<br>        }<br>        .wandb-col {<br>            display: flex;<br>            flex-direction: column;<br>            flex-basis: 100%;<br>            flex: 1;<br>            padding: 10px;<br>        }<br>    </style><br><div class=\"wandb-row\"><div class=\"wandb-col\"><h3>Run history:</h3><br/><table class=\"wandb\"><tr><td>epochs</td><td>▁▅█</td></tr><tr><td>train_accuracy</td><td>▁▁█</td></tr><tr><td>train_f1</td><td>▁▁█</td></tr><tr><td>train_loss</td><td>██▁</td></tr><tr><td>val_accuracy</td><td>▁▁█</td></tr><tr><td>val_f1</td><td>▁▁█</td></tr></table><br/></div><div class=\"wandb-col\"><h3>Run summary:</h3><br/><table class=\"wandb\"><tr><td>epochs</td><td>3</td></tr><tr><td>train_accuracy</td><td>0.833</td></tr><tr><td>train_f1</td><td>0.82461</td></tr><tr><td>train_loss</td><td>0.58534</td></tr><tr><td>val_accuracy</td><td>0.97818</td></tr><tr><td>val_f1</td><td>0.98012</td></tr></table><br/></div></div>"
      ]
     },
     "metadata": {}
    },
    {
     "output_type": "display_data",
     "data": {
      "text/plain": [
       "<IPython.core.display.HTML object>"
      ],
      "text/html": [
       " View run <strong style=\"color:#cdcd00\">training_Fake news comments_trial_17</strong> at: <a href='https://wandb.ai/hannsflip-none/Fake%20news%20comments/runs/2j2lvsgn' target=\"_blank\">https://wandb.ai/hannsflip-none/Fake%20news%20comments/runs/2j2lvsgn</a><br> View project at: <a href='https://wandb.ai/hannsflip-none/Fake%20news%20comments' target=\"_blank\">https://wandb.ai/hannsflip-none/Fake%20news%20comments</a><br>Synced 5 W&B file(s), 0 media file(s), 0 artifact file(s) and 0 other file(s)"
      ]
     },
     "metadata": {}
    },
    {
     "output_type": "display_data",
     "data": {
      "text/plain": [
       "<IPython.core.display.HTML object>"
      ],
      "text/html": [
       "Find logs at: <code>./wandb/run-20250115_154759-2j2lvsgn/logs</code>"
      ]
     },
     "metadata": {}
    },
    {
     "output_type": "stream",
     "name": "stderr",
     "text": [
      "[I 2025-01-15 16:23:11,326] Trial 17 finished with value: 0.9801239967346191 and parameters: {'lr': 0.002500000075, 'w_decay': 0.00250000000075, 'dropout_vals': 0.18113852953554277, 'warmup': 0.035314959846273794, 'optimizer_name': 'RMSprop'}. Best is trial 6 with value: 0.9959877729415894.\n"
     ]
    },
    {
     "output_type": "display_data",
     "data": {
      "text/plain": [
       "<IPython.core.display.HTML object>"
      ],
      "text/html": [
       "Tracking run with wandb version 0.19.1"
      ]
     },
     "metadata": {}
    },
    {
     "output_type": "display_data",
     "data": {
      "text/plain": [
       "<IPython.core.display.HTML object>"
      ],
      "text/html": [
       "Run data is saved locally in <code>/content/wandb/run-20250115_162311-8fe1iszv</code>"
      ]
     },
     "metadata": {}
    },
    {
     "output_type": "display_data",
     "data": {
      "text/plain": [
       "<IPython.core.display.HTML object>"
      ],
      "text/html": [
       "Syncing run <strong><a href='https://wandb.ai/hannsflip-none/Fake%20news%20comments/runs/8fe1iszv' target=\"_blank\">training_Fake news comments_trial_18</a></strong> to <a href='https://wandb.ai/hannsflip-none/Fake%20news%20comments' target=\"_blank\">Weights & Biases</a> (<a href='https://wandb.me/developer-guide' target=\"_blank\">docs</a>)<br>"
      ]
     },
     "metadata": {}
    },
    {
     "output_type": "display_data",
     "data": {
      "text/plain": [
       "<IPython.core.display.HTML object>"
      ],
      "text/html": [
       " View project at <a href='https://wandb.ai/hannsflip-none/Fake%20news%20comments' target=\"_blank\">https://wandb.ai/hannsflip-none/Fake%20news%20comments</a>"
      ]
     },
     "metadata": {}
    },
    {
     "output_type": "display_data",
     "data": {
      "text/plain": [
       "<IPython.core.display.HTML object>"
      ],
      "text/html": [
       " View run at <a href='https://wandb.ai/hannsflip-none/Fake%20news%20comments/runs/8fe1iszv' target=\"_blank\">https://wandb.ai/hannsflip-none/Fake%20news%20comments/runs/8fe1iszv</a>"
      ]
     },
     "metadata": {}
    },
    {
     "output_type": "stream",
     "name": "stdout",
     "text": [
      "Epoch 1: Train Loss=0.5233953117967721, Accuracy=0.9778165221214294, F1 Score=0.979559063911438\n"
     ]
    },
    {
     "output_type": "stream",
     "name": "stderr",
     "text": [
      "WARNING:urllib3.connectionpool:Retrying (Retry(total=4, connect=5, read=4, redirect=5, status=5)) after connection broken by 'RemoteDisconnected('Remote end closed connection without response')': /auszed/Experiments_fake_news.mlflow/api/2.0/mlflow/runs/log-batch\n"
     ]
    },
    {
     "output_type": "stream",
     "name": "stdout",
     "text": [
      "Epoch 1: Accuracy=0.9781773686408997, F1 Score=0.9800923466682434\n",
      "Early stopping counter: 1/3\n",
      "Epoch 2: Train Loss=0.5157992160569873, Accuracy=0.9755733013153076, F1 Score=0.9774141311645508\n",
      "Epoch 2: Accuracy=0.9827165007591248, F1 Score=0.9841928482055664\n",
      "Early stopping counter: 2/3\n",
      "Epoch 3: Train Loss=0.5055777607030669, Accuracy=0.9758225083351135, F1 Score=0.9776446223258972\n"
     ]
    },
    {
     "output_type": "stream",
     "name": "stderr",
     "text": [
      "WARNING:urllib3.connectionpool:Retrying (Retry(total=4, connect=5, read=4, redirect=5, status=5)) after connection broken by 'RemoteDisconnected('Remote end closed connection without response')': /auszed/Experiments_fake_news.mlflow/api/2.0/mlflow/runs/log-batch\n"
     ]
    },
    {
     "output_type": "stream",
     "name": "stdout",
     "text": [
      "Epoch 3: Accuracy=0.9841131567955017, F1 Score=0.9853107929229736\n",
      "Early stopping counter: 3/3\n",
      "Early stopping triggered. Stopping training.\n"
     ]
    },
    {
     "output_type": "stream",
     "name": "stderr",
     "text": [
      "2025/01/15 16:57:11 WARNING mlflow.utils.requirements_utils: Found torch version (2.5.1+cu121) contains a local version label (+cu121). MLflow logged a pip requirement for this package as 'torch==2.5.1' without the local version label to make it installable from PyPI. To specify pip requirements containing local version labels, please use `conda_env` or `pip_requirements`.\n",
      "2025/01/15 16:57:23 WARNING mlflow.utils.requirements_utils: The following packages were not found in the public PyPI package index as of 2024-12-04; if these packages are not present in the public PyPI index, you must install them manually before loading your model: {'google-genai'}\n",
      "2025/01/15 16:57:23 WARNING mlflow.utils.requirements_utils: Found torchvision version (0.20.1+cu121) contains a local version label (+cu121). MLflow logged a pip requirement for this package as 'torchvision==0.20.1' without the local version label to make it installable from PyPI. To specify pip requirements containing local version labels, please use `conda_env` or `pip_requirements`.\n",
      "\u001B[31m2025/01/15 16:57:23 WARNING mlflow.models.model: Model logged without a signature and input example. Please set `input_example` parameter when logging the model to auto infer the model signature.\u001B[0m\n"
     ]
    },
    {
     "output_type": "stream",
     "name": "stdout",
     "text": [
      "🏃 View run roberta_model at: https://dagshub.com/auszed/Experiments_fake_news.mlflow/#/experiments/0/runs/4a61793f30e741e582c3dad9271561d2\n",
      "🧪 View experiment at: https://dagshub.com/auszed/Experiments_fake_news.mlflow/#/experiments/0\n"
     ]
    },
    {
     "output_type": "display_data",
     "data": {
      "text/plain": [
       "<IPython.core.display.HTML object>"
      ],
      "text/html": []
     },
     "metadata": {}
    },
    {
     "output_type": "display_data",
     "data": {
      "text/plain": [
       "<IPython.core.display.HTML object>"
      ],
      "text/html": [
       "<br>    <style><br>        .wandb-row {<br>            display: flex;<br>            flex-direction: row;<br>            flex-wrap: wrap;<br>            justify-content: flex-start;<br>            width: 100%;<br>        }<br>        .wandb-col {<br>            display: flex;<br>            flex-direction: column;<br>            flex-basis: 100%;<br>            flex: 1;<br>            padding: 10px;<br>        }<br>    </style><br><div class=\"wandb-row\"><div class=\"wandb-col\"><h3>Run history:</h3><br/><table class=\"wandb\"><tr><td>epochs</td><td>▁▅█</td></tr><tr><td>train_accuracy</td><td>█▁▂</td></tr><tr><td>train_f1</td><td>█▁▂</td></tr><tr><td>train_loss</td><td>█▅▁</td></tr><tr><td>val_accuracy</td><td>▁▆█</td></tr><tr><td>val_f1</td><td>▁▇█</td></tr></table><br/></div><div class=\"wandb-col\"><h3>Run summary:</h3><br/><table class=\"wandb\"><tr><td>epochs</td><td>3</td></tr><tr><td>train_accuracy</td><td>0.97582</td></tr><tr><td>train_f1</td><td>0.97764</td></tr><tr><td>train_loss</td><td>0.50558</td></tr><tr><td>val_accuracy</td><td>0.98411</td></tr><tr><td>val_f1</td><td>0.98531</td></tr></table><br/></div></div>"
      ]
     },
     "metadata": {}
    },
    {
     "output_type": "display_data",
     "data": {
      "text/plain": [
       "<IPython.core.display.HTML object>"
      ],
      "text/html": [
       " View run <strong style=\"color:#cdcd00\">training_Fake news comments_trial_18</strong> at: <a href='https://wandb.ai/hannsflip-none/Fake%20news%20comments/runs/8fe1iszv' target=\"_blank\">https://wandb.ai/hannsflip-none/Fake%20news%20comments/runs/8fe1iszv</a><br> View project at: <a href='https://wandb.ai/hannsflip-none/Fake%20news%20comments' target=\"_blank\">https://wandb.ai/hannsflip-none/Fake%20news%20comments</a><br>Synced 5 W&B file(s), 0 media file(s), 0 artifact file(s) and 0 other file(s)"
      ]
     },
     "metadata": {}
    },
    {
     "output_type": "display_data",
     "data": {
      "text/plain": [
       "<IPython.core.display.HTML object>"
      ],
      "text/html": [
       "Find logs at: <code>./wandb/run-20250115_162311-8fe1iszv/logs</code>"
      ]
     },
     "metadata": {}
    },
    {
     "output_type": "stream",
     "name": "stderr",
     "text": [
      "[I 2025-01-15 16:58:21,516] Trial 18 finished with value: 0.9853107929229736 and parameters: {'lr': 0.007500000025, 'w_decay': 0.00750000000025, 'dropout_vals': 0.22667954445883884, 'warmup': 0.1285933064727395, 'optimizer_name': 'AdamW'}. Best is trial 6 with value: 0.9959877729415894.\n"
     ]
    },
    {
     "output_type": "display_data",
     "data": {
      "text/plain": [
       "<IPython.core.display.HTML object>"
      ],
      "text/html": [
       "Tracking run with wandb version 0.19.1"
      ]
     },
     "metadata": {}
    },
    {
     "output_type": "display_data",
     "data": {
      "text/plain": [
       "<IPython.core.display.HTML object>"
      ],
      "text/html": [
       "Run data is saved locally in <code>/content/wandb/run-20250115_165821-9b5lxd2w</code>"
      ]
     },
     "metadata": {}
    },
    {
     "output_type": "display_data",
     "data": {
      "text/plain": [
       "<IPython.core.display.HTML object>"
      ],
      "text/html": [
       "Syncing run <strong><a href='https://wandb.ai/hannsflip-none/Fake%20news%20comments/runs/9b5lxd2w' target=\"_blank\">training_Fake news comments_trial_19</a></strong> to <a href='https://wandb.ai/hannsflip-none/Fake%20news%20comments' target=\"_blank\">Weights & Biases</a> (<a href='https://wandb.me/developer-guide' target=\"_blank\">docs</a>)<br>"
      ]
     },
     "metadata": {}
    },
    {
     "output_type": "display_data",
     "data": {
      "text/plain": [
       "<IPython.core.display.HTML object>"
      ],
      "text/html": [
       " View project at <a href='https://wandb.ai/hannsflip-none/Fake%20news%20comments' target=\"_blank\">https://wandb.ai/hannsflip-none/Fake%20news%20comments</a>"
      ]
     },
     "metadata": {}
    },
    {
     "output_type": "display_data",
     "data": {
      "text/plain": [
       "<IPython.core.display.HTML object>"
      ],
      "text/html": [
       " View run at <a href='https://wandb.ai/hannsflip-none/Fake%20news%20comments/runs/9b5lxd2w' target=\"_blank\">https://wandb.ai/hannsflip-none/Fake%20news%20comments/runs/9b5lxd2w</a>"
      ]
     },
     "metadata": {}
    },
    {
     "output_type": "stream",
     "name": "stdout",
     "text": [
      "Epoch 1: Train Loss=0.4988878636155742, Accuracy=0.9815553426742554, F1 Score=0.9828106760978699\n"
     ]
    },
    {
     "output_type": "stream",
     "name": "stderr",
     "text": [
      "WARNING:urllib3.connectionpool:Retrying (Retry(total=4, connect=5, read=4, redirect=5, status=5)) after connection broken by 'RemoteDisconnected('Remote end closed connection without response')': /auszed/Experiments_fake_news.mlflow/api/2.0/mlflow/runs/log-batch\n"
     ]
    },
    {
     "output_type": "stream",
     "name": "stdout",
     "text": [
      "Epoch 1: Accuracy=0.9842877388000488, F1 Score=0.9854651093482971\n",
      "Early stopping counter: 1/3\n",
      "Epoch 2: Train Loss=0.4983200828135311, Accuracy=0.9861664772033691, F1 Score=0.9871957898139954\n",
      "Epoch 2: Accuracy=0.9881284832954407, F1 Score=0.9891374111175537\n",
      "Early stopping counter: 2/3\n",
      "Epoch 3: Train Loss=0.5011397909488183, Accuracy=0.9846709966659546, F1 Score=0.9858311414718628\n"
     ]
    },
    {
     "output_type": "stream",
     "name": "stderr",
     "text": [
      "WARNING:urllib3.connectionpool:Retrying (Retry(total=4, connect=5, read=4, redirect=5, status=5)) after connection broken by 'RemoteDisconnected('Remote end closed connection without response')': /auszed/Experiments_fake_news.mlflow/api/2.0/mlflow/runs/log-batch\n"
     ]
    },
    {
     "output_type": "stream",
     "name": "stdout",
     "text": [
      "Epoch 3: Accuracy=0.9890013933181763, F1 Score=0.9898989200592041\n",
      "Early stopping counter: 3/3\n",
      "Early stopping triggered. Stopping training.\n"
     ]
    },
    {
     "output_type": "stream",
     "name": "stderr",
     "text": [
      "2025/01/15 17:32:25 WARNING mlflow.utils.requirements_utils: Found torch version (2.5.1+cu121) contains a local version label (+cu121). MLflow logged a pip requirement for this package as 'torch==2.5.1' without the local version label to make it installable from PyPI. To specify pip requirements containing local version labels, please use `conda_env` or `pip_requirements`.\n",
      "2025/01/15 17:32:36 WARNING mlflow.utils.requirements_utils: The following packages were not found in the public PyPI package index as of 2024-12-04; if these packages are not present in the public PyPI index, you must install them manually before loading your model: {'google-genai'}\n",
      "2025/01/15 17:32:36 WARNING mlflow.utils.requirements_utils: Found torchvision version (0.20.1+cu121) contains a local version label (+cu121). MLflow logged a pip requirement for this package as 'torchvision==0.20.1' without the local version label to make it installable from PyPI. To specify pip requirements containing local version labels, please use `conda_env` or `pip_requirements`.\n",
      "\u001B[31m2025/01/15 17:32:37 WARNING mlflow.models.model: Model logged without a signature and input example. Please set `input_example` parameter when logging the model to auto infer the model signature.\u001B[0m\n"
     ]
    },
    {
     "output_type": "stream",
     "name": "stdout",
     "text": [
      "🏃 View run roberta_model at: https://dagshub.com/auszed/Experiments_fake_news.mlflow/#/experiments/0/runs/1645d6c2cf79431683bfa6486581730e\n",
      "🧪 View experiment at: https://dagshub.com/auszed/Experiments_fake_news.mlflow/#/experiments/0\n"
     ]
    },
    {
     "output_type": "display_data",
     "data": {
      "text/plain": [
       "<IPython.core.display.HTML object>"
      ],
      "text/html": []
     },
     "metadata": {}
    },
    {
     "output_type": "display_data",
     "data": {
      "text/plain": [
       "<IPython.core.display.HTML object>"
      ],
      "text/html": [
       "<br>    <style><br>        .wandb-row {<br>            display: flex;<br>            flex-direction: row;<br>            flex-wrap: wrap;<br>            justify-content: flex-start;<br>            width: 100%;<br>        }<br>        .wandb-col {<br>            display: flex;<br>            flex-direction: column;<br>            flex-basis: 100%;<br>            flex: 1;<br>            padding: 10px;<br>        }<br>    </style><br><div class=\"wandb-row\"><div class=\"wandb-col\"><h3>Run history:</h3><br/><table class=\"wandb\"><tr><td>epochs</td><td>▁▅█</td></tr><tr><td>train_accuracy</td><td>▁█▆</td></tr><tr><td>train_f1</td><td>▁█▆</td></tr><tr><td>train_loss</td><td>▂▁█</td></tr><tr><td>val_accuracy</td><td>▁▇█</td></tr><tr><td>val_f1</td><td>▁▇█</td></tr></table><br/></div><div class=\"wandb-col\"><h3>Run summary:</h3><br/><table class=\"wandb\"><tr><td>epochs</td><td>3</td></tr><tr><td>train_accuracy</td><td>0.98467</td></tr><tr><td>train_f1</td><td>0.98583</td></tr><tr><td>train_loss</td><td>0.50114</td></tr><tr><td>val_accuracy</td><td>0.989</td></tr><tr><td>val_f1</td><td>0.9899</td></tr></table><br/></div></div>"
      ]
     },
     "metadata": {}
    },
    {
     "output_type": "display_data",
     "data": {
      "text/plain": [
       "<IPython.core.display.HTML object>"
      ],
      "text/html": [
       " View run <strong style=\"color:#cdcd00\">training_Fake news comments_trial_19</strong> at: <a href='https://wandb.ai/hannsflip-none/Fake%20news%20comments/runs/9b5lxd2w' target=\"_blank\">https://wandb.ai/hannsflip-none/Fake%20news%20comments/runs/9b5lxd2w</a><br> View project at: <a href='https://wandb.ai/hannsflip-none/Fake%20news%20comments' target=\"_blank\">https://wandb.ai/hannsflip-none/Fake%20news%20comments</a><br>Synced 5 W&B file(s), 0 media file(s), 0 artifact file(s) and 0 other file(s)"
      ]
     },
     "metadata": {}
    },
    {
     "output_type": "display_data",
     "data": {
      "text/plain": [
       "<IPython.core.display.HTML object>"
      ],
      "text/html": [
       "Find logs at: <code>./wandb/run-20250115_165821-9b5lxd2w/logs</code>"
      ]
     },
     "metadata": {}
    },
    {
     "output_type": "stream",
     "name": "stderr",
     "text": [
      "[I 2025-01-15 17:33:38,686] Trial 19 finished with value: 0.9898989200592041 and parameters: {'lr': 0.002500000075, 'w_decay': 0.00250000000075, 'dropout_vals': 0.10373781899716575, 'warmup': 0.19857122876777294, 'optimizer_name': 'RMSprop'}. Best is trial 6 with value: 0.9959877729415894.\n"
     ]
    }
   ],
   "source": [
    "def objective(trial):\n",
    "    \"\"\"hyperparameters for the training models\"\"\"\n",
    "    lr = trial.suggest_float(\"lr\", LEARNING_RATE_INIT, LEARNING_RATE_END, step=(LEARNING_RATE_END - LEARNING_RATE_INIT) / 4, log=False)\n",
    "    w_decay = trial.suggest_float(\"w_decay\", WEIGHT_DECAY_INIT, WEIGHT_DECAY_END, step=(WEIGHT_DECAY_END - WEIGHT_DECAY_INIT) / 4, log=False)\n",
    "    dropout_vals = trial.suggest_float(\"dropout_vals\", DROPOUT_VALUE_INIT, DROPOUT_VALUE_END, log=False)\n",
    "    warmup = trial.suggest_float(\"warmup\", WARMUP_RATIO_INIT, WARMUP_RATIO_END, log=False)\n",
    "    optimizer_name = trial.suggest_categorical(\"optimizer_name\", [OPTIMIZER_NAME_1, OPTIMIZER_NAME_2, OPTIMIZER_NAME_3])\n",
    "\n",
    "    # metric to optimize\n",
    "    best_f1 = 0\n",
    "    early_stop_counter = 0\n",
    "\n",
    "    # Update config with trial values\n",
    "    config = {\n",
    "        \"model_name\": MODEL_NAME,\n",
    "        \"lr\": lr,\n",
    "        \"w_decay\": w_decay,\n",
    "        \"dropout_vals\": dropout_vals,\n",
    "        \"batch_size\": BATCH_SIZE,\n",
    "        \"warmup\": warmup,\n",
    "        \"epochs\": EPOCHS,\n",
    "        \"train_size\": len(dataset_loader_X_train)\n",
    "    }\n",
    "\n",
    "    # Select optimizer\n",
    "    if optimizer_name == \"AdamW\":\n",
    "        optimizer = AdamW(model.parameters(), lr=config['lr'], weight_decay=config['w_decay'])\n",
    "    elif optimizer_name == \"SGD\":\n",
    "        optimizer = SGD(model.parameters(), lr=config['lr'], weight_decay=config['w_decay'], momentum=0.9)\n",
    "    elif optimizer_name == \"RMSprop\":\n",
    "        optimizer = RMSprop(model.parameters(), lr=config['lr'], weight_decay=config['w_decay'])\n",
    "\n",
    "    total_steps = config['train_size'] // config['batch_size']\n",
    "    warmup_steps = int(total_steps * config['warmup'])\n",
    "    scheduler = get_linear_schedule_with_warmup(optimizer, num_warmup_steps=warmup_steps, num_training_steps=total_steps)\n",
    "\n",
    "    wandb.init(\n",
    "        project=NAME_EXPERIMENTS,\n",
    "        config={\n",
    "            \"model_name\": config['model_name'],\n",
    "            \"learning_rate\": config['lr'],\n",
    "            \"batch_size\": config['batch_size'],\n",
    "            \"dropout\": config['dropout_vals'],\n",
    "            \"epochs\": config['epochs'],\n",
    "            \"weight_decay\": config['w_decay'],\n",
    "            \"warmup\": config['warmup'],\n",
    "            \"dataset\": DATASET_NAME,\n",
    "            \"optimizer\": optimizer_name,\n",
    "            \"COMMENTS\": COMMENTS\n",
    "        },\n",
    "        name=f\"training_{NAME_EXPERIMENTS}_trial_{trial.number}\"\n",
    "    )\n",
    "\n",
    "    # Training loop\n",
    "    with mlflow.start_run(run_name = \"roberta_model\"):\n",
    "        mlflow.log_params({\"model_name\": config['model_name'],\n",
    "                        \"learning_rate\": config['lr'],\n",
    "                        \"batch_size\": config['batch_size'],\n",
    "                        \"dropout\": config['dropout_vals'],\n",
    "                        \"epochs\": config['epochs'],\n",
    "                        \"learning_rate\": config['lr'],\n",
    "                        \"weight_decay\": config['w_decay'],\n",
    "                        \"warmup\": config['warmup'],\n",
    "                        \"dataset\":  DATASET_NAME,\n",
    "                        \"optimizer\": optimizer_name\n",
    "                        })\n",
    "\n",
    "        # running the epochs\n",
    "        for epoch in range(config['epochs']):\n",
    "            train_loss, train_accuracy, train_f1 = train_model(model, train_loader, optimizer, scheduler, device)\n",
    "            print(f\"Epoch {epoch+1}: Train Loss={train_loss}, Accuracy={train_accuracy}, F1 Score={train_f1}\")\n",
    "            val_accuracy, val_f1, _, _, _  = evaluate_model(model, val_loader, device)\n",
    "            print(f\"Epoch {epoch+1}: Accuracy={val_accuracy}, F1 Score={val_f1}\")\n",
    "            scheduler.step()\n",
    "\n",
    "            # Log metrics to MLflow\n",
    "            mlflow.log_metrics({\n",
    "                \"train_loss\": train_loss,\n",
    "                \"train_accuracy\": train_accuracy,\n",
    "                \"train_f1\": train_f1,\n",
    "                \"val_accuracy\": val_accuracy,\n",
    "                \"val_f1\": val_f1\n",
    "            }, step=epoch)\n",
    "\n",
    "            # log for weight and biases\n",
    "            wandb.log({\n",
    "                \"epochs\": epoch + 1,\n",
    "                \"train_loss\": train_loss,\n",
    "                \"train_accuracy\": train_accuracy,\n",
    "                \"train_f1\": train_f1,\n",
    "                \"val_accuracy\": val_accuracy,\n",
    "                \"val_f1\": val_f1\n",
    "            })\n",
    "\n",
    "            # choose the best metric\n",
    "            best_f1 = max(best_f1, val_f1)\n",
    "\n",
    "            # Early stopping logic\n",
    "            if val_f1 > best_f1:\n",
    "                best_f1 = val_f1  # Update the best F1 score\n",
    "                early_stop_counter = 0  # Reset the counter\n",
    "                # Save the best model\n",
    "                torch.save(model.state_dict(), URL_SAVE_MODEL)\n",
    "            else:\n",
    "                early_stop_counter += 1\n",
    "                print(f\"Early stopping counter: {early_stop_counter}/{PATIENCE_EARLY_STOP}\")\n",
    "\n",
    "            if early_stop_counter >= PATIENCE_EARLY_STOP:\n",
    "                print(\"Early stopping triggered. Stopping training.\")\n",
    "                break\n",
    "\n",
    "        # Log the model\n",
    "        mlflow.pytorch.log_model(model, f\"{MODEL_NAME}_{VERSION_MODEL}\")\n",
    "\n",
    "\n",
    "    # close the services\n",
    "    wandb.finish()\n",
    "    torch.save(model.state_dict(), URL_SAVE_MODEL)\n",
    "    return best_f1\n",
    "\n",
    "# Run the Optuna study\n",
    "study = optuna.create_study(direction=\"maximize\")\n",
    "study_optimization = study.optimize(objective, n_trials= HYPERPARAMETERS_EXPERIMENTS)\n"
   ]
  },
  {
   "cell_type": "code",
   "execution_count": null,
   "id": "7oE2i1lz354y",
   "metadata": {
    "id": "7oE2i1lz354y",
    "colab": {
     "base_uri": "https://localhost:8080/"
    },
    "outputId": "f7ccc77c-e08d-4321-94ee-12e6880516fc"
   },
   "outputs": [
    {
     "output_type": "stream",
     "name": "stdout",
     "text": [
      "Best hyperparameters: {'lr': 0.007500000025, 'w_decay': 0.00250000000075, 'dropout_vals': 0.15717967839685965, 'warmup': 0.018933320464126793, 'optimizer_name': 'RMSprop'}\n"
     ]
    },
    {
     "output_type": "execute_result",
     "data": {
      "text/plain": [
       "{'lr': 0.007500000025,\n",
       " 'w_decay': 0.00250000000075,\n",
       " 'dropout_vals': 0.15717967839685965,\n",
       " 'warmup': 0.018933320464126793,\n",
       " 'optimizer_name': 'RMSprop'}"
      ]
     },
     "metadata": {},
     "execution_count": 12
    }
   ],
   "source": [
    "study.best_params# Log the best hyperparameters\n",
    "print(\"Best hyperparameters:\", study.best_params)\n",
    "\n",
    "# Train final model with best hyperparameters\n",
    "best_params = study.best_params\n",
    "config.update(best_params)\n",
    "best_params"
   ]
  },
  {
   "cell_type": "code",
   "execution_count": null,
   "id": "oKcA11Vzj1wZ",
   "metadata": {
    "id": "oKcA11Vzj1wZ",
    "colab": {
     "base_uri": "https://localhost:8080/"
    },
    "outputId": "a4f69c8e-0a83-4878-e273-75c4cddbca34"
   },
   "outputs": [
    {
     "output_type": "stream",
     "name": "stdout",
     "text": [
      "Predictions, Accuracy=0.9867318272590637, F1 Score=0.9878126978874207\n",
      "Confusion Matrix:\n"
     ]
    },
    {
     "output_type": "execute_result",
     "data": {
      "text/plain": [
       "array([[2572,   38],\n",
       "       [  38, 3080]])"
      ]
     },
     "metadata": {},
     "execution_count": 13
    }
   ],
   "source": [
    "test_accuracy, test_f1, all_preds, all_labels, all_predict_prob  = evaluate_model(model, test_loader, device)\n",
    "print(f\"Predictions, Accuracy={test_accuracy}, F1 Score={test_f1}\")\n",
    "\n",
    "conf_matrix = confusion_matrix(all_labels, all_preds)\n",
    "\n",
    "# Print the confusion matrix\n",
    "print(\"Confusion Matrix:\")\n",
    "conf_matrix\n"
   ]
  },
  {
   "cell_type": "code",
   "execution_count": null,
   "id": "dHhbuPJglgMl",
   "metadata": {
    "id": "dHhbuPJglgMl",
    "colab": {
     "base_uri": "https://localhost:8080/",
     "height": 481
    },
    "outputId": "0398d70e-773a-4209-a555-b9aeec5e31d1"
   },
   "outputs": [
    {
     "output_type": "display_data",
     "data": {
      "text/plain": [
       "<Figure size 1500x500 with 2 Axes>"
      ],
      "image/png": "[encoded data removed]"
     },
     "metadata": {}
    }
   ],
   "source": [
    "plt.figure(figsize=(15, 5))\n",
    "sns.heatmap(conf_matrix, annot=True, fmt='d', cmap='Blues', xticklabels=['Real news', 'Fake news'], yticklabels=['Real news', 'Fake news'])\n",
    "plt.title('Confusion Matrix')\n",
    "plt.xlabel('Predicted Label')\n",
    "plt.ylabel('True Label')\n",
    "plt.show()"
   ]
  },
  {
   "cell_type": "markdown",
   "id": "YvdviWbzTp2l",
   "metadata": {
    "id": "YvdviWbzTp2l"
   },
   "source": [
    "# Summary\n",
    "We just finished the experiments, and we had some models that work fine, so here are the results.\n",
    "\n",
    "| Name                                          | State   | Created                | Runtime               | batch_size | dataset             | dropout    | epochs | learning_rate | model_name | optimizer | warmup        | weight_decay | COMMENTS                                                                         | train_accuracy | train_f1   | train_loss | val_accuracy | val_f1    |\n",
    "|-----------------------------------------------|---------|------------------------|-----------------------|------------|---------------------|------------|--------|----------------|------------|-----------|---------------|--------------|----------------------------------------------------------------------------------|-----------------|------------|------------|--------------|-----------|\n",
    "| training_Fake news comments_trial_5           | finished| 2025-01-15T08:44:39.000Z | 2119                  | 8          | X_train_cleaned_2    | 0.139164306| 3      | 0.0025         | roberta-base | AdamW     | 0.192605761    | 0.01         | Some hyperparameter tunning with the clean dataset where we take out some values | 0.992647052     | 0.993222356 | 0.500407121 | 0.99563545   | 0.99598521 |\n",
    "| training_Fake news comments_trial_11          | finished| 2025-01-15T12:16:48.000Z | 2115                  | 8          | X_train_cleaned_2    | 0.121825063| 3      | 0.005          | roberta-base | AdamW     | 0.198812492    | 0.005        | Some hyperparameter tunning with the clean dataset where we take out some values | 0.990403771     | 0.99113822  | 0.499249391 | 0.994238853  | 0.994712412|\n",
    "| training_Fake news comments_trial_10          | finished| 2025-01-15T11:41:24.000Z | 2119                  | 8          | X_train_cleaned_2    | 0.101152313| 3      | 0.01           | roberta-base | RMSprop   | 0.050378066    | 0.0025       | Some hyperparameter tunning with the clean dataset where we take out some values | 0.975822508     | 0.977644682 | 0.513737692 | 0.993365943  | 0.993908286|\n",
    "| training_Fake news comments_trial_14          | finished| 2025-01-15T14:02:35.000Z | 2102                  | 8          | X_train_cleaned_2    | 0.17695729 | 3      | 0.0075         | roberta-base | AdamW     | 0.12553079     | 0.0025       | Some hyperparameter tunning with the clean dataset where we take out some values | 0.986914277     | 0.98790741  | 0.500444566 | 0.991445541  | 0.992115855|\n",
    "| training_Fake news comments_trial_8           | finished| 2025-01-15T10:30:43.000Z | 2115                  | 8          | X_train_cleaned_2    | 0.163192307| 3      | 1.00E-10       | roberta-base | RMSprop   | 0.164806791    | 0.0025       | Some hyperparameter tunning with the clean dataset where we take out some values | 0.979685962     | 0.980973542 | 0.499884714 | 0.989350557  | 0.99015975 |\n",
    "| training_Fake news comments_trial_7           | finished| 2025-01-15T09:55:30.000Z | 2109                  | 8          | X_train_cleaned_2    | 0.153112103| 3      | 0.005          | roberta-base | AdamW     | 0.155744489    | 1.00E-12     | Some hyperparameter tunning with the clean dataset where we take out some values | 0.987911284     | 0.988795161 | 0.499562513 | 0.989175975  | 0.99000001 |\n",
    "| training_Fake news comments_trial_9           | finished| 2025-01-15T11:06:03.000Z | 2116                  | 8          | X_train_cleaned_2    | 0.267390912| 3      | 1.00E-10       | roberta-base | SGD       | 0.087466859    | 1.00E-12     | Some hyperparameter tunning with the clean dataset where we take out some values | 0.981804609     | 0.982979655 | 0.499147869 | 0.989175975  | 0.989996791|\n",
    "| training_Fake news comments_trial_19          | finished| 2025-01-15T16:58:24.000Z | 2112                  | 8          | X_train_cleaned_2    | 0.103737819| 3      | 0.0025         | roberta-base | RMSprop   | 0.198571229    | 0.0025       | Some hyperparameter tunning with the clean dataset where we take out some values | 0.984670997     | 0.985831141 | 0.501139791 | 0.989001393  | 0.98989892 |\n",
    "| training_Fake news comments_trial_12          | finished| 2025-01-15T12:52:08.000Z | 2108                  | 8          | X_train_cleaned_2    | 0.138220492| 3      | 0.005          | roberta-base | RMSprop   | 0.102326563    | 0.01         | Some hyperparameter tunning with the clean dataset where we take out some values | 0.983175457     | 0.984438062 | 0.523085337 | 0.988826811  | 0.989782929|\n",
    "| training_Fake news comments_trial_13          | finished| 2025-01-15T13:27:22.000Z | 2108                  | 8          | X_train_cleaned_2    | 0.203853235| 3      | 0.0025         | roberta-base | RMSprop   | 0.06864602     | 0.005        | Some hyperparameter tunning with the clean dataset where we take out some values | 0.983549356     | 0.984789133 | 0.5217755    | 0.987430155  | 0.988483667|\n",
    "| training_Fake news comments_trial_6           | finished| 2025-01-15T09:20:03.000Z | 2122                  | 8          | X_train_cleaned_2    | 0.157179678| 3      | 0.0075         | roberta-base | RMSprop   | 0.01893332     | 0.0025       | Some hyperparameter tunning with the clean dataset where we take out some values | 0.93581754      | 0.940276027 | 0.532678957 | 0.986382663  | 0.987447739|\n",
    "| training_Fake news comments_trial_18          | finished| 2025-01-15T16:23:14.000Z | 2104                  | 8          | X_train_cleaned_2    | 0.226679544| 3      | 0.0075         | roberta-base | AdamW     | 0.128593306    | 0.0075       | Some hyperparameter tunning with the clean dataset where we take out some values | 0.975822508     | 0.977644622 | 0.505577761 | 0.984113157  | 0.985310793|\n",
    "| training_Fake news comments_trial_17          | finished| 2025-01-15T15:48:02.000Z | 2106                  | 8          | X_train_cleaned_2    | 0.18113853 | 3      | 0.0025         | roberta-base | RMSprop   | 0.03531496     | 0.0025       | Some hyperparameter tunning with the clean dataset where we take out some values | 0.833001018     | 0.824607372 | 0.585337892 | 0.978177369  | 0.980123997|\n",
    "| training_Fake news comments_trial_3           | finished| 2025-01-15T07:33:47.000Z | 2123                  | 8          | X_train_cleaned_2    | 0.296266823| 3      | 0.01           | roberta-base | AdamW     | 0.180375678    | 0.0075       | Some hyperparameter tunning with the clean dataset where we take out some values | 0.961739779     | 0.964030504 | 0.526893876 | 0.914979041  | 0.9154073  |\n",
    "| training_Fake news comments_trial_4           | finished| 2025-01-15T08:09:15.000Z | 2119                  | 8          | X_train_cleaned_2    | 0.266412384| 3      | 1.00E-10       | roberta-base | SGD       | 0.03196054     | 0.0075       | Some hyperparameter tunning with the clean dataset where we take out some values | 0.867148578     | 0.860689998 | 0.54803434  | 0.914804459  | 0.91516    |\n",
    "| training_Fake news comments_trial_0           | finished| 2025-01-15T05:47:23.000Z | 2118                  | 8          | X_train_cleaned_2    | 0.209490355| 3      | 1.00E-10       | roberta-base | SGD       | 0.145680462    | 0.01         | Some hyperparameter tunning with the clean dataset where we take out some values | 0.543369889     | 0.703847349 | 0.703196893 | 0.544867337  | 0.705390453|\n",
    "| training_Fake news comments_trial_16          | finished| 2025-01-15T15:12:59.000Z | 2098                  | 8          | X_train_cleaned_2    | 0.143720565| 3      | 0.0075         | roberta-base | AdamW     | 0.064952648    | 0.01         | Some hyperparameter tunning with the clean dataset where we take out some values | 0.465852439     | 0.050509524 | 0.690055062 | 0.455307275  | 0           |\n",
    "| training_Fake news comments_trial_15          | finished| 2025-01-15T14:37:44.000Z | 2110                  | 8          | X_train_cleaned_2    | 0.121029443| 3      | 0.0025         | roberta-base | RMSprop   | 0.003583764    | 0.005        | Some hyperparameter tunning with the clean dataset where we take out some values | 0.85792625      | 0.861212611 | 0.573258401 | 0.455132693  | 0           |\n",
    "| training_Fake news comments_trial_2           | finished| 2025-01-15T06:58:20.000Z | 2122                  | 8          | X_train_cleaned_2    | 0.240679827| 3      | 1.00E-10       | roberta-base | SGD       | 0.013873458    | 0.0075       | Some hyperparameter tunning with the clean dataset where we take out some values | 0.456630111     | 0           | 0.698568747 | 0.455307275  | 0           |\n",
    "| training_Fake news comments_trial_1           | finished| 2025-01-15T06:23:00.000Z | 2115                  | 8          | X_train_cleaned_2    | 0.18237484 | 3      | 0.0075         | roberta-base | SGD       | 0.10500088     | 1.00E-12     | Some hyperparameter tunning with the clean dataset where we take out some values | 0.456630111     | 0.000458505 | 0.69989593  | 0.455132693  | 0           |\n",
    "\n",
    "\n",
    "We can see that some experiments work fine, so in this case, we will try to train later the same parameters but with the whole dataset hoping to get a better result.\n"
   ]
  }
 ],
 "metadata": {
  "accelerator": "GPU",
  "colab": {
   "gpuType": "L4",
   "machine_shape": "hm",
   "provenance": []
  },
  "kernelspec": {
   "display_name": "Python 3",
   "name": "python3"
  },
  "language_info": {
   "codemirror_mode": {
    "name": "ipython",
    "version": 2
   },
   "file_extension": ".py",
   "mimetype": "text/x-python",
   "name": "python",
   "nbconvert_exporter": "python",
   "pygments_lexer": "ipython2",
   "version": "2.7.6"
  },
  "widgets": {
   "application/vnd.jupyter.widget-state+json": {
    "a650509c37c04c26bfbf48913f9eda66": {
     "model_module": "@jupyter-widgets/output",
     "model_name": "OutputModel",
     "model_module_version": "1.0.0",
     "state": {
      "_dom_classes": [],
      "_model_module": "@jupyter-widgets/output",
      "_model_module_version": "1.0.0",
      "_model_name": "OutputModel",
      "_view_count": null,
      "_view_module": "@jupyter-widgets/output",
      "_view_module_version": "1.0.0",
      "_view_name": "OutputView",
      "layout": "IPY_MODEL_bc39dbe2d7e145cebc9045fc26576c0b",
      "msg_id": "",
      "outputs": [
       {
        "output_type": "display_data",
        "data": {
         "text/plain": "\u001B[32m⠧\u001B[0m Waiting for authorization\n",
         "text/html": "<pre style=\"white-space:pre;overflow-x:auto;line-height:normal;font-family:Menlo,'DejaVu Sans Mono',consolas,'Courier New',monospace\"><span style=\"color: #008000; text-decoration-color: #008000\">⠧</span> Waiting for authorization\n</pre>\n"
        },
        "metadata": {}
       }
      ]
     }
    },
    "bc39dbe2d7e145cebc9045fc26576c0b": {
     "model_module": "@jupyter-widgets/base",
     "model_name": "LayoutModel",
     "model_module_version": "1.2.0",
     "state": {
      "_model_module": "@jupyter-widgets/base",
      "_model_module_version": "1.2.0",
      "_model_name": "LayoutModel",
      "_view_count": null,
      "_view_module": "@jupyter-widgets/base",
      "_view_module_version": "1.2.0",
      "_view_name": "LayoutView",
      "align_content": null,
      "align_items": null,
      "align_self": null,
      "border": null,
      "bottom": null,
      "display": null,
      "flex": null,
      "flex_flow": null,
      "grid_area": null,
      "grid_auto_columns": null,
      "grid_auto_flow": null,
      "grid_auto_rows": null,
      "grid_column": null,
      "grid_gap": null,
      "grid_row": null,
      "grid_template_areas": null,
      "grid_template_columns": null,
      "grid_template_rows": null,
      "height": null,
      "justify_content": null,
      "justify_items": null,
      "left": null,
      "margin": null,
      "max_height": null,
      "max_width": null,
      "min_height": null,
      "min_width": null,
      "object_fit": null,
      "object_position": null,
      "order": null,
      "overflow": null,
      "overflow_x": null,
      "overflow_y": null,
      "padding": null,
      "right": null,
      "top": null,
      "visibility": null,
      "width": null
     }
    },
    "b3b151594a904d2c81ff294c19769b60": {
     "model_module": "@jupyter-widgets/controls",
     "model_name": "HBoxModel",
     "model_module_version": "1.5.0",
     "state": {
      "_dom_classes": [],
      "_model_module": "@jupyter-widgets/controls",
      "_model_module_version": "1.5.0",
      "_model_name": "HBoxModel",
      "_view_count": null,
      "_view_module": "@jupyter-widgets/controls",
      "_view_module_version": "1.5.0",
      "_view_name": "HBoxView",
      "box_style": "",
      "children": [
       "IPY_MODEL_d10da0225c774dd39703a4e9de05f148",
       "IPY_MODEL_6555266ef5c14e378b081eace677fccc",
       "IPY_MODEL_fa78aeca1619462bb6da66e0e2716098"
      ],
      "layout": "IPY_MODEL_34ac2c186bd2406a8862642c61e5d634"
     }
    },
    "d10da0225c774dd39703a4e9de05f148": {
     "model_module": "@jupyter-widgets/controls",
     "model_name": "HTMLModel",
     "model_module_version": "1.5.0",
     "state": {
      "_dom_classes": [],
      "_model_module": "@jupyter-widgets/controls",
      "_model_module_version": "1.5.0",
      "_model_name": "HTMLModel",
      "_view_count": null,
      "_view_module": "@jupyter-widgets/controls",
      "_view_module_version": "1.5.0",
      "_view_name": "HTMLView",
      "description": "",
      "description_tooltip": null,
      "layout": "IPY_MODEL_cd62ed9a74a14129adae1f58efd0fc54",
      "placeholder": "​",
      "style": "IPY_MODEL_c35116b341244be8985ca974e7cf7b17",
      "value": "tokenizer_config.json: 100%"
     }
    },
    "6555266ef5c14e378b081eace677fccc": {
     "model_module": "@jupyter-widgets/controls",
     "model_name": "FloatProgressModel",
     "model_module_version": "1.5.0",
     "state": {
      "_dom_classes": [],
      "_model_module": "@jupyter-widgets/controls",
      "_model_module_version": "1.5.0",
      "_model_name": "FloatProgressModel",
      "_view_count": null,
      "_view_module": "@jupyter-widgets/controls",
      "_view_module_version": "1.5.0",
      "_view_name": "ProgressView",
      "bar_style": "success",
      "description": "",
      "description_tooltip": null,
      "layout": "IPY_MODEL_5a684bd049c74ca7b69321770894ddc9",
      "max": 25,
      "min": 0,
      "orientation": "horizontal",
      "style": "IPY_MODEL_ff910b9fe33b4cc88e5634f504038fbd",
      "value": 25
     }
    },
    "fa78aeca1619462bb6da66e0e2716098": {
     "model_module": "@jupyter-widgets/controls",
     "model_name": "HTMLModel",
     "model_module_version": "1.5.0",
     "state": {
      "_dom_classes": [],
      "_model_module": "@jupyter-widgets/controls",
      "_model_module_version": "1.5.0",
      "_model_name": "HTMLModel",
      "_view_count": null,
      "_view_module": "@jupyter-widgets/controls",
      "_view_module_version": "1.5.0",
      "_view_name": "HTMLView",
      "description": "",
      "description_tooltip": null,
      "layout": "IPY_MODEL_5c7d3a443d79473b835d785a3a7c2085",
      "placeholder": "​",
      "style": "IPY_MODEL_b2d4202727c94d93bbf08d9b7f4e78ad",
      "value": " 25.0/25.0 [00:00&lt;00:00, 2.19kB/s]"
     }
    },
    "34ac2c186bd2406a8862642c61e5d634": {
     "model_module": "@jupyter-widgets/base",
     "model_name": "LayoutModel",
     "model_module_version": "1.2.0",
     "state": {
      "_model_module": "@jupyter-widgets/base",
      "_model_module_version": "1.2.0",
      "_model_name": "LayoutModel",
      "_view_count": null,
      "_view_module": "@jupyter-widgets/base",
      "_view_module_version": "1.2.0",
      "_view_name": "LayoutView",
      "align_content": null,
      "align_items": null,
      "align_self": null,
      "border": null,
      "bottom": null,
      "display": null,
      "flex": null,
      "flex_flow": null,
      "grid_area": null,
      "grid_auto_columns": null,
      "grid_auto_flow": null,
      "grid_auto_rows": null,
      "grid_column": null,
      "grid_gap": null,
      "grid_row": null,
      "grid_template_areas": null,
      "grid_template_columns": null,
      "grid_template_rows": null,
      "height": null,
      "justify_content": null,
      "justify_items": null,
      "left": null,
      "margin": null,
      "max_height": null,
      "max_width": null,
      "min_height": null,
      "min_width": null,
      "object_fit": null,
      "object_position": null,
      "order": null,
      "overflow": null,
      "overflow_x": null,
      "overflow_y": null,
      "padding": null,
      "right": null,
      "top": null,
      "visibility": null,
      "width": null
     }
    },
    "cd62ed9a74a14129adae1f58efd0fc54": {
     "model_module": "@jupyter-widgets/base",
     "model_name": "LayoutModel",
     "model_module_version": "1.2.0",
     "state": {
      "_model_module": "@jupyter-widgets/base",
      "_model_module_version": "1.2.0",
      "_model_name": "LayoutModel",
      "_view_count": null,
      "_view_module": "@jupyter-widgets/base",
      "_view_module_version": "1.2.0",
      "_view_name": "LayoutView",
      "align_content": null,
      "align_items": null,
      "align_self": null,
      "border": null,
      "bottom": null,
      "display": null,
      "flex": null,
      "flex_flow": null,
      "grid_area": null,
      "grid_auto_columns": null,
      "grid_auto_flow": null,
      "grid_auto_rows": null,
      "grid_column": null,
      "grid_gap": null,
      "grid_row": null,
      "grid_template_areas": null,
      "grid_template_columns": null,
      "grid_template_rows": null,
      "height": null,
      "justify_content": null,
      "justify_items": null,
      "left": null,
      "margin": null,
      "max_height": null,
      "max_width": null,
      "min_height": null,
      "min_width": null,
      "object_fit": null,
      "object_position": null,
      "order": null,
      "overflow": null,
      "overflow_x": null,
      "overflow_y": null,
      "padding": null,
      "right": null,
      "top": null,
      "visibility": null,
      "width": null
     }
    },
    "c35116b341244be8985ca974e7cf7b17": {
     "model_module": "@jupyter-widgets/controls",
     "model_name": "DescriptionStyleModel",
     "model_module_version": "1.5.0",
     "state": {
      "_model_module": "@jupyter-widgets/controls",
      "_model_module_version": "1.5.0",
      "_model_name": "DescriptionStyleModel",
      "_view_count": null,
      "_view_module": "@jupyter-widgets/base",
      "_view_module_version": "1.2.0",
      "_view_name": "StyleView",
      "description_width": ""
     }
    },
    "5a684bd049c74ca7b69321770894ddc9": {
     "model_module": "@jupyter-widgets/base",
     "model_name": "LayoutModel",
     "model_module_version": "1.2.0",
     "state": {
      "_model_module": "@jupyter-widgets/base",
      "_model_module_version": "1.2.0",
      "_model_name": "LayoutModel",
      "_view_count": null,
      "_view_module": "@jupyter-widgets/base",
      "_view_module_version": "1.2.0",
      "_view_name": "LayoutView",
      "align_content": null,
      "align_items": null,
      "align_self": null,
      "border": null,
      "bottom": null,
      "display": null,
      "flex": null,
      "flex_flow": null,
      "grid_area": null,
      "grid_auto_columns": null,
      "grid_auto_flow": null,
      "grid_auto_rows": null,
      "grid_column": null,
      "grid_gap": null,
      "grid_row": null,
      "grid_template_areas": null,
      "grid_template_columns": null,
      "grid_template_rows": null,
      "height": null,
      "justify_content": null,
      "justify_items": null,
      "left": null,
      "margin": null,
      "max_height": null,
      "max_width": null,
      "min_height": null,
      "min_width": null,
      "object_fit": null,
      "object_position": null,
      "order": null,
      "overflow": null,
      "overflow_x": null,
      "overflow_y": null,
      "padding": null,
      "right": null,
      "top": null,
      "visibility": null,
      "width": null
     }
    },
    "ff910b9fe33b4cc88e5634f504038fbd": {
     "model_module": "@jupyter-widgets/controls",
     "model_name": "ProgressStyleModel",
     "model_module_version": "1.5.0",
     "state": {
      "_model_module": "@jupyter-widgets/controls",
      "_model_module_version": "1.5.0",
      "_model_name": "ProgressStyleModel",
      "_view_count": null,
      "_view_module": "@jupyter-widgets/base",
      "_view_module_version": "1.2.0",
      "_view_name": "StyleView",
      "bar_color": null,
      "description_width": ""
     }
    },
    "5c7d3a443d79473b835d785a3a7c2085": {
     "model_module": "@jupyter-widgets/base",
     "model_name": "LayoutModel",
     "model_module_version": "1.2.0",
     "state": {
      "_model_module": "@jupyter-widgets/base",
      "_model_module_version": "1.2.0",
      "_model_name": "LayoutModel",
      "_view_count": null,
      "_view_module": "@jupyter-widgets/base",
      "_view_module_version": "1.2.0",
      "_view_name": "LayoutView",
      "align_content": null,
      "align_items": null,
      "align_self": null,
      "border": null,
      "bottom": null,
      "display": null,
      "flex": null,
      "flex_flow": null,
      "grid_area": null,
      "grid_auto_columns": null,
      "grid_auto_flow": null,
      "grid_auto_rows": null,
      "grid_column": null,
      "grid_gap": null,
      "grid_row": null,
      "grid_template_areas": null,
      "grid_template_columns": null,
      "grid_template_rows": null,
      "height": null,
      "justify_content": null,
      "justify_items": null,
      "left": null,
      "margin": null,
      "max_height": null,
      "max_width": null,
      "min_height": null,
      "min_width": null,
      "object_fit": null,
      "object_position": null,
      "order": null,
      "overflow": null,
      "overflow_x": null,
      "overflow_y": null,
      "padding": null,
      "right": null,
      "top": null,
      "visibility": null,
      "width": null
     }
    },
    "b2d4202727c94d93bbf08d9b7f4e78ad": {
     "model_module": "@jupyter-widgets/controls",
     "model_name": "DescriptionStyleModel",
     "model_module_version": "1.5.0",
     "state": {
      "_model_module": "@jupyter-widgets/controls",
      "_model_module_version": "1.5.0",
      "_model_name": "DescriptionStyleModel",
      "_view_count": null,
      "_view_module": "@jupyter-widgets/base",
      "_view_module_version": "1.2.0",
      "_view_name": "StyleView",
      "description_width": ""
     }
    },
    "4cccbf4c0024455a853567076e0fbace": {
     "model_module": "@jupyter-widgets/controls",
     "model_name": "HBoxModel",
     "model_module_version": "1.5.0",
     "state": {
      "_dom_classes": [],
      "_model_module": "@jupyter-widgets/controls",
      "_model_module_version": "1.5.0",
      "_model_name": "HBoxModel",
      "_view_count": null,
      "_view_module": "@jupyter-widgets/controls",
      "_view_module_version": "1.5.0",
      "_view_name": "HBoxView",
      "box_style": "",
      "children": [
       "IPY_MODEL_8a50e2912d77494898814c5b36c2df31",
       "IPY_MODEL_b42c7339a5d44fe39a55b56120f3d503",
       "IPY_MODEL_96f833a1f60c4acfbea735ffe7b21d45"
      ],
      "layout": "IPY_MODEL_c7dcfca427994cd5ad99e92b0b89a3fa"
     }
    },
    "8a50e2912d77494898814c5b36c2df31": {
     "model_module": "@jupyter-widgets/controls",
     "model_name": "HTMLModel",
     "model_module_version": "1.5.0",
     "state": {
      "_dom_classes": [],
      "_model_module": "@jupyter-widgets/controls",
      "_model_module_version": "1.5.0",
      "_model_name": "HTMLModel",
      "_view_count": null,
      "_view_module": "@jupyter-widgets/controls",
      "_view_module_version": "1.5.0",
      "_view_name": "HTMLView",
      "description": "",
      "description_tooltip": null,
      "layout": "IPY_MODEL_59bf95b00c6b413799ea5dd0e3f4f98c",
      "placeholder": "​",
      "style": "IPY_MODEL_309e003b63864294bab9ac0515ce1547",
      "value": "config.json: 100%"
     }
    },
    "b42c7339a5d44fe39a55b56120f3d503": {
     "model_module": "@jupyter-widgets/controls",
     "model_name": "FloatProgressModel",
     "model_module_version": "1.5.0",
     "state": {
      "_dom_classes": [],
      "_model_module": "@jupyter-widgets/controls",
      "_model_module_version": "1.5.0",
      "_model_name": "FloatProgressModel",
      "_view_count": null,
      "_view_module": "@jupyter-widgets/controls",
      "_view_module_version": "1.5.0",
      "_view_name": "ProgressView",
      "bar_style": "success",
      "description": "",
      "description_tooltip": null,
      "layout": "IPY_MODEL_bd81fb378ad14d9cba136ff4269f02dd",
      "max": 481,
      "min": 0,
      "orientation": "horizontal",
      "style": "IPY_MODEL_cba70ff05200435dbae166faab297851",
      "value": 481
     }
    },
    "96f833a1f60c4acfbea735ffe7b21d45": {
     "model_module": "@jupyter-widgets/controls",
     "model_name": "HTMLModel",
     "model_module_version": "1.5.0",
     "state": {
      "_dom_classes": [],
      "_model_module": "@jupyter-widgets/controls",
      "_model_module_version": "1.5.0",
      "_model_name": "HTMLModel",
      "_view_count": null,
      "_view_module": "@jupyter-widgets/controls",
      "_view_module_version": "1.5.0",
      "_view_name": "HTMLView",
      "description": "",
      "description_tooltip": null,
      "layout": "IPY_MODEL_3bd962caf1c441669af23bafc274a74b",
      "placeholder": "​",
      "style": "IPY_MODEL_95924ec5b30a4c2db8630f8330170151",
      "value": " 481/481 [00:00&lt;00:00, 37.4kB/s]"
     }
    },
    "c7dcfca427994cd5ad99e92b0b89a3fa": {
     "model_module": "@jupyter-widgets/base",
     "model_name": "LayoutModel",
     "model_module_version": "1.2.0",
     "state": {
      "_model_module": "@jupyter-widgets/base",
      "_model_module_version": "1.2.0",
      "_model_name": "LayoutModel",
      "_view_count": null,
      "_view_module": "@jupyter-widgets/base",
      "_view_module_version": "1.2.0",
      "_view_name": "LayoutView",
      "align_content": null,
      "align_items": null,
      "align_self": null,
      "border": null,
      "bottom": null,
      "display": null,
      "flex": null,
      "flex_flow": null,
      "grid_area": null,
      "grid_auto_columns": null,
      "grid_auto_flow": null,
      "grid_auto_rows": null,
      "grid_column": null,
      "grid_gap": null,
      "grid_row": null,
      "grid_template_areas": null,
      "grid_template_columns": null,
      "grid_template_rows": null,
      "height": null,
      "justify_content": null,
      "justify_items": null,
      "left": null,
      "margin": null,
      "max_height": null,
      "max_width": null,
      "min_height": null,
      "min_width": null,
      "object_fit": null,
      "object_position": null,
      "order": null,
      "overflow": null,
      "overflow_x": null,
      "overflow_y": null,
      "padding": null,
      "right": null,
      "top": null,
      "visibility": null,
      "width": null
     }
    },
    "59bf95b00c6b413799ea5dd0e3f4f98c": {
     "model_module": "@jupyter-widgets/base",
     "model_name": "LayoutModel",
     "model_module_version": "1.2.0",
     "state": {
      "_model_module": "@jupyter-widgets/base",
      "_model_module_version": "1.2.0",
      "_model_name": "LayoutModel",
      "_view_count": null,
      "_view_module": "@jupyter-widgets/base",
      "_view_module_version": "1.2.0",
      "_view_name": "LayoutView",
      "align_content": null,
      "align_items": null,
      "align_self": null,
      "border": null,
      "bottom": null,
      "display": null,
      "flex": null,
      "flex_flow": null,
      "grid_area": null,
      "grid_auto_columns": null,
      "grid_auto_flow": null,
      "grid_auto_rows": null,
      "grid_column": null,
      "grid_gap": null,
      "grid_row": null,
      "grid_template_areas": null,
      "grid_template_columns": null,
      "grid_template_rows": null,
      "height": null,
      "justify_content": null,
      "justify_items": null,
      "left": null,
      "margin": null,
      "max_height": null,
      "max_width": null,
      "min_height": null,
      "min_width": null,
      "object_fit": null,
      "object_position": null,
      "order": null,
      "overflow": null,
      "overflow_x": null,
      "overflow_y": null,
      "padding": null,
      "right": null,
      "top": null,
      "visibility": null,
      "width": null
     }
    },
    "309e003b63864294bab9ac0515ce1547": {
     "model_module": "@jupyter-widgets/controls",
     "model_name": "DescriptionStyleModel",
     "model_module_version": "1.5.0",
     "state": {
      "_model_module": "@jupyter-widgets/controls",
      "_model_module_version": "1.5.0",
      "_model_name": "DescriptionStyleModel",
      "_view_count": null,
      "_view_module": "@jupyter-widgets/base",
      "_view_module_version": "1.2.0",
      "_view_name": "StyleView",
      "description_width": ""
     }
    },
    "bd81fb378ad14d9cba136ff4269f02dd": {
     "model_module": "@jupyter-widgets/base",
     "model_name": "LayoutModel",
     "model_module_version": "1.2.0",
     "state": {
      "_model_module": "@jupyter-widgets/base",
      "_model_module_version": "1.2.0",
      "_model_name": "LayoutModel",
      "_view_count": null,
      "_view_module": "@jupyter-widgets/base",
      "_view_module_version": "1.2.0",
      "_view_name": "LayoutView",
      "align_content": null,
      "align_items": null,
      "align_self": null,
      "border": null,
      "bottom": null,
      "display": null,
      "flex": null,
      "flex_flow": null,
      "grid_area": null,
      "grid_auto_columns": null,
      "grid_auto_flow": null,
      "grid_auto_rows": null,
      "grid_column": null,
      "grid_gap": null,
      "grid_row": null,
      "grid_template_areas": null,
      "grid_template_columns": null,
      "grid_template_rows": null,
      "height": null,
      "justify_content": null,
      "justify_items": null,
      "left": null,
      "margin": null,
      "max_height": null,
      "max_width": null,
      "min_height": null,
      "min_width": null,
      "object_fit": null,
      "object_position": null,
      "order": null,
      "overflow": null,
      "overflow_x": null,
      "overflow_y": null,
      "padding": null,
      "right": null,
      "top": null,
      "visibility": null,
      "width": null
     }
    },
    "cba70ff05200435dbae166faab297851": {
     "model_module": "@jupyter-widgets/controls",
     "model_name": "ProgressStyleModel",
     "model_module_version": "1.5.0",
     "state": {
      "_model_module": "@jupyter-widgets/controls",
      "_model_module_version": "1.5.0",
      "_model_name": "ProgressStyleModel",
      "_view_count": null,
      "_view_module": "@jupyter-widgets/base",
      "_view_module_version": "1.2.0",
      "_view_name": "StyleView",
      "bar_color": null,
      "description_width": ""
     }
    },
    "3bd962caf1c441669af23bafc274a74b": {
     "model_module": "@jupyter-widgets/base",
     "model_name": "LayoutModel",
     "model_module_version": "1.2.0",
     "state": {
      "_model_module": "@jupyter-widgets/base",
      "_model_module_version": "1.2.0",
      "_model_name": "LayoutModel",
      "_view_count": null,
      "_view_module": "@jupyter-widgets/base",
      "_view_module_version": "1.2.0",
      "_view_name": "LayoutView",
      "align_content": null,
      "align_items": null,
      "align_self": null,
      "border": null,
      "bottom": null,
      "display": null,
      "flex": null,
      "flex_flow": null,
      "grid_area": null,
      "grid_auto_columns": null,
      "grid_auto_flow": null,
      "grid_auto_rows": null,
      "grid_column": null,
      "grid_gap": null,
      "grid_row": null,
      "grid_template_areas": null,
      "grid_template_columns": null,
      "grid_template_rows": null,
      "height": null,
      "justify_content": null,
      "justify_items": null,
      "left": null,
      "margin": null,
      "max_height": null,
      "max_width": null,
      "min_height": null,
      "min_width": null,
      "object_fit": null,
      "object_position": null,
      "order": null,
      "overflow": null,
      "overflow_x": null,
      "overflow_y": null,
      "padding": null,
      "right": null,
      "top": null,
      "visibility": null,
      "width": null
     }
    },
    "95924ec5b30a4c2db8630f8330170151": {
     "model_module": "@jupyter-widgets/controls",
     "model_name": "DescriptionStyleModel",
     "model_module_version": "1.5.0",
     "state": {
      "_model_module": "@jupyter-widgets/controls",
      "_model_module_version": "1.5.0",
      "_model_name": "DescriptionStyleModel",
      "_view_count": null,
      "_view_module": "@jupyter-widgets/base",
      "_view_module_version": "1.2.0",
      "_view_name": "StyleView",
      "description_width": ""
     }
    },
    "b23a22485db5425480c09757b7088ce1": {
     "model_module": "@jupyter-widgets/controls",
     "model_name": "HBoxModel",
     "model_module_version": "1.5.0",
     "state": {
      "_dom_classes": [],
      "_model_module": "@jupyter-widgets/controls",
      "_model_module_version": "1.5.0",
      "_model_name": "HBoxModel",
      "_view_count": null,
      "_view_module": "@jupyter-widgets/controls",
      "_view_module_version": "1.5.0",
      "_view_name": "HBoxView",
      "box_style": "",
      "children": [
       "IPY_MODEL_cdab833f0fa24ca8a457257593f2240a",
       "IPY_MODEL_681e692393234609a1757a5a2e05528b",
       "IPY_MODEL_3e8ba151a13d457a8e32cb200a2ec10f"
      ],
      "layout": "IPY_MODEL_9674bb7189e841368430bd16b0264fa7"
     }
    },
    "cdab833f0fa24ca8a457257593f2240a": {
     "model_module": "@jupyter-widgets/controls",
     "model_name": "HTMLModel",
     "model_module_version": "1.5.0",
     "state": {
      "_dom_classes": [],
      "_model_module": "@jupyter-widgets/controls",
      "_model_module_version": "1.5.0",
      "_model_name": "HTMLModel",
      "_view_count": null,
      "_view_module": "@jupyter-widgets/controls",
      "_view_module_version": "1.5.0",
      "_view_name": "HTMLView",
      "description": "",
      "description_tooltip": null,
      "layout": "IPY_MODEL_5e0ad693ef2b4120b6e6aaeca1bd1fb9",
      "placeholder": "​",
      "style": "IPY_MODEL_2d62d32aecfe4c36976ff0e9ec76fd6b",
      "value": "vocab.json: 100%"
     }
    },
    "681e692393234609a1757a5a2e05528b": {
     "model_module": "@jupyter-widgets/controls",
     "model_name": "FloatProgressModel",
     "model_module_version": "1.5.0",
     "state": {
      "_dom_classes": [],
      "_model_module": "@jupyter-widgets/controls",
      "_model_module_version": "1.5.0",
      "_model_name": "FloatProgressModel",
      "_view_count": null,
      "_view_module": "@jupyter-widgets/controls",
      "_view_module_version": "1.5.0",
      "_view_name": "ProgressView",
      "bar_style": "success",
      "description": "",
      "description_tooltip": null,
      "layout": "IPY_MODEL_48923fdf210c456dbcd0645240389095",
      "max": 898823,
      "min": 0,
      "orientation": "horizontal",
      "style": "IPY_MODEL_b298a085e37b46f8b627beff4c364c52",
      "value": 898823
     }
    },
    "3e8ba151a13d457a8e32cb200a2ec10f": {
     "model_module": "@jupyter-widgets/controls",
     "model_name": "HTMLModel",
     "model_module_version": "1.5.0",
     "state": {
      "_dom_classes": [],
      "_model_module": "@jupyter-widgets/controls",
      "_model_module_version": "1.5.0",
      "_model_name": "HTMLModel",
      "_view_count": null,
      "_view_module": "@jupyter-widgets/controls",
      "_view_module_version": "1.5.0",
      "_view_name": "HTMLView",
      "description": "",
      "description_tooltip": null,
      "layout": "IPY_MODEL_09554d8d791e4439ac3c83a3d5a88c57",
      "placeholder": "​",
      "style": "IPY_MODEL_665c6a0cd3914d5d80c7c1fd66b38e5c",
      "value": " 899k/899k [00:00&lt;00:00, 3.74MB/s]"
     }
    },
    "9674bb7189e841368430bd16b0264fa7": {
     "model_module": "@jupyter-widgets/base",
     "model_name": "LayoutModel",
     "model_module_version": "1.2.0",
     "state": {
      "_model_module": "@jupyter-widgets/base",
      "_model_module_version": "1.2.0",
      "_model_name": "LayoutModel",
      "_view_count": null,
      "_view_module": "@jupyter-widgets/base",
      "_view_module_version": "1.2.0",
      "_view_name": "LayoutView",
      "align_content": null,
      "align_items": null,
      "align_self": null,
      "border": null,
      "bottom": null,
      "display": null,
      "flex": null,
      "flex_flow": null,
      "grid_area": null,
      "grid_auto_columns": null,
      "grid_auto_flow": null,
      "grid_auto_rows": null,
      "grid_column": null,
      "grid_gap": null,
      "grid_row": null,
      "grid_template_areas": null,
      "grid_template_columns": null,
      "grid_template_rows": null,
      "height": null,
      "justify_content": null,
      "justify_items": null,
      "left": null,
      "margin": null,
      "max_height": null,
      "max_width": null,
      "min_height": null,
      "min_width": null,
      "object_fit": null,
      "object_position": null,
      "order": null,
      "overflow": null,
      "overflow_x": null,
      "overflow_y": null,
      "padding": null,
      "right": null,
      "top": null,
      "visibility": null,
      "width": null
     }
    },
    "5e0ad693ef2b4120b6e6aaeca1bd1fb9": {
     "model_module": "@jupyter-widgets/base",
     "model_name": "LayoutModel",
     "model_module_version": "1.2.0",
     "state": {
      "_model_module": "@jupyter-widgets/base",
      "_model_module_version": "1.2.0",
      "_model_name": "LayoutModel",
      "_view_count": null,
      "_view_module": "@jupyter-widgets/base",
      "_view_module_version": "1.2.0",
      "_view_name": "LayoutView",
      "align_content": null,
      "align_items": null,
      "align_self": null,
      "border": null,
      "bottom": null,
      "display": null,
      "flex": null,
      "flex_flow": null,
      "grid_area": null,
      "grid_auto_columns": null,
      "grid_auto_flow": null,
      "grid_auto_rows": null,
      "grid_column": null,
      "grid_gap": null,
      "grid_row": null,
      "grid_template_areas": null,
      "grid_template_columns": null,
      "grid_template_rows": null,
      "height": null,
      "justify_content": null,
      "justify_items": null,
      "left": null,
      "margin": null,
      "max_height": null,
      "max_width": null,
      "min_height": null,
      "min_width": null,
      "object_fit": null,
      "object_position": null,
      "order": null,
      "overflow": null,
      "overflow_x": null,
      "overflow_y": null,
      "padding": null,
      "right": null,
      "top": null,
      "visibility": null,
      "width": null
     }
    },
    "2d62d32aecfe4c36976ff0e9ec76fd6b": {
     "model_module": "@jupyter-widgets/controls",
     "model_name": "DescriptionStyleModel",
     "model_module_version": "1.5.0",
     "state": {
      "_model_module": "@jupyter-widgets/controls",
      "_model_module_version": "1.5.0",
      "_model_name": "DescriptionStyleModel",
      "_view_count": null,
      "_view_module": "@jupyter-widgets/base",
      "_view_module_version": "1.2.0",
      "_view_name": "StyleView",
      "description_width": ""
     }
    },
    "48923fdf210c456dbcd0645240389095": {
     "model_module": "@jupyter-widgets/base",
     "model_name": "LayoutModel",
     "model_module_version": "1.2.0",
     "state": {
      "_model_module": "@jupyter-widgets/base",
      "_model_module_version": "1.2.0",
      "_model_name": "LayoutModel",
      "_view_count": null,
      "_view_module": "@jupyter-widgets/base",
      "_view_module_version": "1.2.0",
      "_view_name": "LayoutView",
      "align_content": null,
      "align_items": null,
      "align_self": null,
      "border": null,
      "bottom": null,
      "display": null,
      "flex": null,
      "flex_flow": null,
      "grid_area": null,
      "grid_auto_columns": null,
      "grid_auto_flow": null,
      "grid_auto_rows": null,
      "grid_column": null,
      "grid_gap": null,
      "grid_row": null,
      "grid_template_areas": null,
      "grid_template_columns": null,
      "grid_template_rows": null,
      "height": null,
      "justify_content": null,
      "justify_items": null,
      "left": null,
      "margin": null,
      "max_height": null,
      "max_width": null,
      "min_height": null,
      "min_width": null,
      "object_fit": null,
      "object_position": null,
      "order": null,
      "overflow": null,
      "overflow_x": null,
      "overflow_y": null,
      "padding": null,
      "right": null,
      "top": null,
      "visibility": null,
      "width": null
     }
    },
    "b298a085e37b46f8b627beff4c364c52": {
     "model_module": "@jupyter-widgets/controls",
     "model_name": "ProgressStyleModel",
     "model_module_version": "1.5.0",
     "state": {
      "_model_module": "@jupyter-widgets/controls",
      "_model_module_version": "1.5.0",
      "_model_name": "ProgressStyleModel",
      "_view_count": null,
      "_view_module": "@jupyter-widgets/base",
      "_view_module_version": "1.2.0",
      "_view_name": "StyleView",
      "bar_color": null,
      "description_width": ""
     }
    },
    "09554d8d791e4439ac3c83a3d5a88c57": {
     "model_module": "@jupyter-widgets/base",
     "model_name": "LayoutModel",
     "model_module_version": "1.2.0",
     "state": {
      "_model_module": "@jupyter-widgets/base",
      "_model_module_version": "1.2.0",
      "_model_name": "LayoutModel",
      "_view_count": null,
      "_view_module": "@jupyter-widgets/base",
      "_view_module_version": "1.2.0",
      "_view_name": "LayoutView",
      "align_content": null,
      "align_items": null,
      "align_self": null,
      "border": null,
      "bottom": null,
      "display": null,
      "flex": null,
      "flex_flow": null,
      "grid_area": null,
      "grid_auto_columns": null,
      "grid_auto_flow": null,
      "grid_auto_rows": null,
      "grid_column": null,
      "grid_gap": null,
      "grid_row": null,
      "grid_template_areas": null,
      "grid_template_columns": null,
      "grid_template_rows": null,
      "height": null,
      "justify_content": null,
      "justify_items": null,
      "left": null,
      "margin": null,
      "max_height": null,
      "max_width": null,
      "min_height": null,
      "min_width": null,
      "object_fit": null,
      "object_position": null,
      "order": null,
      "overflow": null,
      "overflow_x": null,
      "overflow_y": null,
      "padding": null,
      "right": null,
      "top": null,
      "visibility": null,
      "width": null
     }
    },
    "665c6a0cd3914d5d80c7c1fd66b38e5c": {
     "model_module": "@jupyter-widgets/controls",
     "model_name": "DescriptionStyleModel",
     "model_module_version": "1.5.0",
     "state": {
      "_model_module": "@jupyter-widgets/controls",
      "_model_module_version": "1.5.0",
      "_model_name": "DescriptionStyleModel",
      "_view_count": null,
      "_view_module": "@jupyter-widgets/base",
      "_view_module_version": "1.2.0",
      "_view_name": "StyleView",
      "description_width": ""
     }
    },
    "2e5b5828b9f44365a842dcf65fd30582": {
     "model_module": "@jupyter-widgets/controls",
     "model_name": "HBoxModel",
     "model_module_version": "1.5.0",
     "state": {
      "_dom_classes": [],
      "_model_module": "@jupyter-widgets/controls",
      "_model_module_version": "1.5.0",
      "_model_name": "HBoxModel",
      "_view_count": null,
      "_view_module": "@jupyter-widgets/controls",
      "_view_module_version": "1.5.0",
      "_view_name": "HBoxView",
      "box_style": "",
      "children": [
       "IPY_MODEL_70a5ed12a5574e6c9fa368fe99b42add",
       "IPY_MODEL_59e5fc96e72a4074bb48634476e5a4a4",
       "IPY_MODEL_f788ded8262b42d9a67eb4977572e50d"
      ],
      "layout": "IPY_MODEL_6269db16750a4ea8a81dabadaed1d7cf"
     }
    },
    "70a5ed12a5574e6c9fa368fe99b42add": {
     "model_module": "@jupyter-widgets/controls",
     "model_name": "HTMLModel",
     "model_module_version": "1.5.0",
     "state": {
      "_dom_classes": [],
      "_model_module": "@jupyter-widgets/controls",
      "_model_module_version": "1.5.0",
      "_model_name": "HTMLModel",
      "_view_count": null,
      "_view_module": "@jupyter-widgets/controls",
      "_view_module_version": "1.5.0",
      "_view_name": "HTMLView",
      "description": "",
      "description_tooltip": null,
      "layout": "IPY_MODEL_ba1836e810d64b88a978908b3346fcff",
      "placeholder": "​",
      "style": "IPY_MODEL_8fbef517a08c4bbaa379cc02cff30622",
      "value": "merges.txt: 100%"
     }
    },
    "59e5fc96e72a4074bb48634476e5a4a4": {
     "model_module": "@jupyter-widgets/controls",
     "model_name": "FloatProgressModel",
     "model_module_version": "1.5.0",
     "state": {
      "_dom_classes": [],
      "_model_module": "@jupyter-widgets/controls",
      "_model_module_version": "1.5.0",
      "_model_name": "FloatProgressModel",
      "_view_count": null,
      "_view_module": "@jupyter-widgets/controls",
      "_view_module_version": "1.5.0",
      "_view_name": "ProgressView",
      "bar_style": "success",
      "description": "",
      "description_tooltip": null,
      "layout": "IPY_MODEL_345dea83ee674009ac18b68b6f2e2158",
      "max": 456318,
      "min": 0,
      "orientation": "horizontal",
      "style": "IPY_MODEL_ca9c92b488984a838757cbe7dbdbb251",
      "value": 456318
     }
    },
    "f788ded8262b42d9a67eb4977572e50d": {
     "model_module": "@jupyter-widgets/controls",
     "model_name": "HTMLModel",
     "model_module_version": "1.5.0",
     "state": {
      "_dom_classes": [],
      "_model_module": "@jupyter-widgets/controls",
      "_model_module_version": "1.5.0",
      "_model_name": "HTMLModel",
      "_view_count": null,
      "_view_module": "@jupyter-widgets/controls",
      "_view_module_version": "1.5.0",
      "_view_name": "HTMLView",
      "description": "",
      "description_tooltip": null,
      "layout": "IPY_MODEL_45621735668c4e09b09e180029b57010",
      "placeholder": "​",
      "style": "IPY_MODEL_c13ad335cb834effbdab64fdd9f682f4",
      "value": " 456k/456k [00:00&lt;00:00, 983kB/s]"
     }
    },
    "6269db16750a4ea8a81dabadaed1d7cf": {
     "model_module": "@jupyter-widgets/base",
     "model_name": "LayoutModel",
     "model_module_version": "1.2.0",
     "state": {
      "_model_module": "@jupyter-widgets/base",
      "_model_module_version": "1.2.0",
      "_model_name": "LayoutModel",
      "_view_count": null,
      "_view_module": "@jupyter-widgets/base",
      "_view_module_version": "1.2.0",
      "_view_name": "LayoutView",
      "align_content": null,
      "align_items": null,
      "align_self": null,
      "border": null,
      "bottom": null,
      "display": null,
      "flex": null,
      "flex_flow": null,
      "grid_area": null,
      "grid_auto_columns": null,
      "grid_auto_flow": null,
      "grid_auto_rows": null,
      "grid_column": null,
      "grid_gap": null,
      "grid_row": null,
      "grid_template_areas": null,
      "grid_template_columns": null,
      "grid_template_rows": null,
      "height": null,
      "justify_content": null,
      "justify_items": null,
      "left": null,
      "margin": null,
      "max_height": null,
      "max_width": null,
      "min_height": null,
      "min_width": null,
      "object_fit": null,
      "object_position": null,
      "order": null,
      "overflow": null,
      "overflow_x": null,
      "overflow_y": null,
      "padding": null,
      "right": null,
      "top": null,
      "visibility": null,
      "width": null
     }
    },
    "ba1836e810d64b88a978908b3346fcff": {
     "model_module": "@jupyter-widgets/base",
     "model_name": "LayoutModel",
     "model_module_version": "1.2.0",
     "state": {
      "_model_module": "@jupyter-widgets/base",
      "_model_module_version": "1.2.0",
      "_model_name": "LayoutModel",
      "_view_count": null,
      "_view_module": "@jupyter-widgets/base",
      "_view_module_version": "1.2.0",
      "_view_name": "LayoutView",
      "align_content": null,
      "align_items": null,
      "align_self": null,
      "border": null,
      "bottom": null,
      "display": null,
      "flex": null,
      "flex_flow": null,
      "grid_area": null,
      "grid_auto_columns": null,
      "grid_auto_flow": null,
      "grid_auto_rows": null,
      "grid_column": null,
      "grid_gap": null,
      "grid_row": null,
      "grid_template_areas": null,
      "grid_template_columns": null,
      "grid_template_rows": null,
      "height": null,
      "justify_content": null,
      "justify_items": null,
      "left": null,
      "margin": null,
      "max_height": null,
      "max_width": null,
      "min_height": null,
      "min_width": null,
      "object_fit": null,
      "object_position": null,
      "order": null,
      "overflow": null,
      "overflow_x": null,
      "overflow_y": null,
      "padding": null,
      "right": null,
      "top": null,
      "visibility": null,
      "width": null
     }
    },
    "8fbef517a08c4bbaa379cc02cff30622": {
     "model_module": "@jupyter-widgets/controls",
     "model_name": "DescriptionStyleModel",
     "model_module_version": "1.5.0",
     "state": {
      "_model_module": "@jupyter-widgets/controls",
      "_model_module_version": "1.5.0",
      "_model_name": "DescriptionStyleModel",
      "_view_count": null,
      "_view_module": "@jupyter-widgets/base",
      "_view_module_version": "1.2.0",
      "_view_name": "StyleView",
      "description_width": ""
     }
    },
    "345dea83ee674009ac18b68b6f2e2158": {
     "model_module": "@jupyter-widgets/base",
     "model_name": "LayoutModel",
     "model_module_version": "1.2.0",
     "state": {
      "_model_module": "@jupyter-widgets/base",
      "_model_module_version": "1.2.0",
      "_model_name": "LayoutModel",
      "_view_count": null,
      "_view_module": "@jupyter-widgets/base",
      "_view_module_version": "1.2.0",
      "_view_name": "LayoutView",
      "align_content": null,
      "align_items": null,
      "align_self": null,
      "border": null,
      "bottom": null,
      "display": null,
      "flex": null,
      "flex_flow": null,
      "grid_area": null,
      "grid_auto_columns": null,
      "grid_auto_flow": null,
      "grid_auto_rows": null,
      "grid_column": null,
      "grid_gap": null,
      "grid_row": null,
      "grid_template_areas": null,
      "grid_template_columns": null,
      "grid_template_rows": null,
      "height": null,
      "justify_content": null,
      "justify_items": null,
      "left": null,
      "margin": null,
      "max_height": null,
      "max_width": null,
      "min_height": null,
      "min_width": null,
      "object_fit": null,
      "object_position": null,
      "order": null,
      "overflow": null,
      "overflow_x": null,
      "overflow_y": null,
      "padding": null,
      "right": null,
      "top": null,
      "visibility": null,
      "width": null
     }
    },
    "ca9c92b488984a838757cbe7dbdbb251": {
     "model_module": "@jupyter-widgets/controls",
     "model_name": "ProgressStyleModel",
     "model_module_version": "1.5.0",
     "state": {
      "_model_module": "@jupyter-widgets/controls",
      "_model_module_version": "1.5.0",
      "_model_name": "ProgressStyleModel",
      "_view_count": null,
      "_view_module": "@jupyter-widgets/base",
      "_view_module_version": "1.2.0",
      "_view_name": "StyleView",
      "bar_color": null,
      "description_width": ""
     }
    },
    "45621735668c4e09b09e180029b57010": {
     "model_module": "@jupyter-widgets/base",
     "model_name": "LayoutModel",
     "model_module_version": "1.2.0",
     "state": {
      "_model_module": "@jupyter-widgets/base",
      "_model_module_version": "1.2.0",
      "_model_name": "LayoutModel",
      "_view_count": null,
      "_view_module": "@jupyter-widgets/base",
      "_view_module_version": "1.2.0",
      "_view_name": "LayoutView",
      "align_content": null,
      "align_items": null,
      "align_self": null,
      "border": null,
      "bottom": null,
      "display": null,
      "flex": null,
      "flex_flow": null,
      "grid_area": null,
      "grid_auto_columns": null,
      "grid_auto_flow": null,
      "grid_auto_rows": null,
      "grid_column": null,
      "grid_gap": null,
      "grid_row": null,
      "grid_template_areas": null,
      "grid_template_columns": null,
      "grid_template_rows": null,
      "height": null,
      "justify_content": null,
      "justify_items": null,
      "left": null,
      "margin": null,
      "max_height": null,
      "max_width": null,
      "min_height": null,
      "min_width": null,
      "object_fit": null,
      "object_position": null,
      "order": null,
      "overflow": null,
      "overflow_x": null,
      "overflow_y": null,
      "padding": null,
      "right": null,
      "top": null,
      "visibility": null,
      "width": null
     }
    },
    "c13ad335cb834effbdab64fdd9f682f4": {
     "model_module": "@jupyter-widgets/controls",
     "model_name": "DescriptionStyleModel",
     "model_module_version": "1.5.0",
     "state": {
      "_model_module": "@jupyter-widgets/controls",
      "_model_module_version": "1.5.0",
      "_model_name": "DescriptionStyleModel",
      "_view_count": null,
      "_view_module": "@jupyter-widgets/base",
      "_view_module_version": "1.2.0",
      "_view_name": "StyleView",
      "description_width": ""
     }
    },
    "c7c8212f90964c2b8a35d730720721d0": {
     "model_module": "@jupyter-widgets/controls",
     "model_name": "HBoxModel",
     "model_module_version": "1.5.0",
     "state": {
      "_dom_classes": [],
      "_model_module": "@jupyter-widgets/controls",
      "_model_module_version": "1.5.0",
      "_model_name": "HBoxModel",
      "_view_count": null,
      "_view_module": "@jupyter-widgets/controls",
      "_view_module_version": "1.5.0",
      "_view_name": "HBoxView",
      "box_style": "",
      "children": [
       "IPY_MODEL_cdf4f93abc404f5fb42643433a8e64f5",
       "IPY_MODEL_d234c2d2bb4142c2be6d929b163083af",
       "IPY_MODEL_fe9ebbead1e3487588eb592ef33f58cf"
      ],
      "layout": "IPY_MODEL_c119f5d07e7247aba5d05cdc3c7b6e7c"
     }
    },
    "cdf4f93abc404f5fb42643433a8e64f5": {
     "model_module": "@jupyter-widgets/controls",
     "model_name": "HTMLModel",
     "model_module_version": "1.5.0",
     "state": {
      "_dom_classes": [],
      "_model_module": "@jupyter-widgets/controls",
      "_model_module_version": "1.5.0",
      "_model_name": "HTMLModel",
      "_view_count": null,
      "_view_module": "@jupyter-widgets/controls",
      "_view_module_version": "1.5.0",
      "_view_name": "HTMLView",
      "description": "",
      "description_tooltip": null,
      "layout": "IPY_MODEL_2854b93cc5f249e6a891dcabe5e1a393",
      "placeholder": "​",
      "style": "IPY_MODEL_431b9d96521f4d7e8059d0a5cc1e6699",
      "value": "tokenizer.json: 100%"
     }
    },
    "d234c2d2bb4142c2be6d929b163083af": {
     "model_module": "@jupyter-widgets/controls",
     "model_name": "FloatProgressModel",
     "model_module_version": "1.5.0",
     "state": {
      "_dom_classes": [],
      "_model_module": "@jupyter-widgets/controls",
      "_model_module_version": "1.5.0",
      "_model_name": "FloatProgressModel",
      "_view_count": null,
      "_view_module": "@jupyter-widgets/controls",
      "_view_module_version": "1.5.0",
      "_view_name": "ProgressView",
      "bar_style": "success",
      "description": "",
      "description_tooltip": null,
      "layout": "IPY_MODEL_661a87a54493479e9c4f9a8227d214d0",
      "max": 1355863,
      "min": 0,
      "orientation": "horizontal",
      "style": "IPY_MODEL_89a88105887d482dbc0c601192dd1ec3",
      "value": 1355863
     }
    },
    "fe9ebbead1e3487588eb592ef33f58cf": {
     "model_module": "@jupyter-widgets/controls",
     "model_name": "HTMLModel",
     "model_module_version": "1.5.0",
     "state": {
      "_dom_classes": [],
      "_model_module": "@jupyter-widgets/controls",
      "_model_module_version": "1.5.0",
      "_model_name": "HTMLModel",
      "_view_count": null,
      "_view_module": "@jupyter-widgets/controls",
      "_view_module_version": "1.5.0",
      "_view_name": "HTMLView",
      "description": "",
      "description_tooltip": null,
      "layout": "IPY_MODEL_5ea6047e58ba47a2982f9e28f376ef7f",
      "placeholder": "​",
      "style": "IPY_MODEL_ff340e1e7bba4de3a3d60f8222c129fc",
      "value": " 1.36M/1.36M [00:00&lt;00:00, 2.11MB/s]"
     }
    },
    "c119f5d07e7247aba5d05cdc3c7b6e7c": {
     "model_module": "@jupyter-widgets/base",
     "model_name": "LayoutModel",
     "model_module_version": "1.2.0",
     "state": {
      "_model_module": "@jupyter-widgets/base",
      "_model_module_version": "1.2.0",
      "_model_name": "LayoutModel",
      "_view_count": null,
      "_view_module": "@jupyter-widgets/base",
      "_view_module_version": "1.2.0",
      "_view_name": "LayoutView",
      "align_content": null,
      "align_items": null,
      "align_self": null,
      "border": null,
      "bottom": null,
      "display": null,
      "flex": null,
      "flex_flow": null,
      "grid_area": null,
      "grid_auto_columns": null,
      "grid_auto_flow": null,
      "grid_auto_rows": null,
      "grid_column": null,
      "grid_gap": null,
      "grid_row": null,
      "grid_template_areas": null,
      "grid_template_columns": null,
      "grid_template_rows": null,
      "height": null,
      "justify_content": null,
      "justify_items": null,
      "left": null,
      "margin": null,
      "max_height": null,
      "max_width": null,
      "min_height": null,
      "min_width": null,
      "object_fit": null,
      "object_position": null,
      "order": null,
      "overflow": null,
      "overflow_x": null,
      "overflow_y": null,
      "padding": null,
      "right": null,
      "top": null,
      "visibility": null,
      "width": null
     }
    },
    "2854b93cc5f249e6a891dcabe5e1a393": {
     "model_module": "@jupyter-widgets/base",
     "model_name": "LayoutModel",
     "model_module_version": "1.2.0",
     "state": {
      "_model_module": "@jupyter-widgets/base",
      "_model_module_version": "1.2.0",
      "_model_name": "LayoutModel",
      "_view_count": null,
      "_view_module": "@jupyter-widgets/base",
      "_view_module_version": "1.2.0",
      "_view_name": "LayoutView",
      "align_content": null,
      "align_items": null,
      "align_self": null,
      "border": null,
      "bottom": null,
      "display": null,
      "flex": null,
      "flex_flow": null,
      "grid_area": null,
      "grid_auto_columns": null,
      "grid_auto_flow": null,
      "grid_auto_rows": null,
      "grid_column": null,
      "grid_gap": null,
      "grid_row": null,
      "grid_template_areas": null,
      "grid_template_columns": null,
      "grid_template_rows": null,
      "height": null,
      "justify_content": null,
      "justify_items": null,
      "left": null,
      "margin": null,
      "max_height": null,
      "max_width": null,
      "min_height": null,
      "min_width": null,
      "object_fit": null,
      "object_position": null,
      "order": null,
      "overflow": null,
      "overflow_x": null,
      "overflow_y": null,
      "padding": null,
      "right": null,
      "top": null,
      "visibility": null,
      "width": null
     }
    },
    "431b9d96521f4d7e8059d0a5cc1e6699": {
     "model_module": "@jupyter-widgets/controls",
     "model_name": "DescriptionStyleModel",
     "model_module_version": "1.5.0",
     "state": {
      "_model_module": "@jupyter-widgets/controls",
      "_model_module_version": "1.5.0",
      "_model_name": "DescriptionStyleModel",
      "_view_count": null,
      "_view_module": "@jupyter-widgets/base",
      "_view_module_version": "1.2.0",
      "_view_name": "StyleView",
      "description_width": ""
     }
    },
    "661a87a54493479e9c4f9a8227d214d0": {
     "model_module": "@jupyter-widgets/base",
     "model_name": "LayoutModel",
     "model_module_version": "1.2.0",
     "state": {
      "_model_module": "@jupyter-widgets/base",
      "_model_module_version": "1.2.0",
      "_model_name": "LayoutModel",
      "_view_count": null,
      "_view_module": "@jupyter-widgets/base",
      "_view_module_version": "1.2.0",
      "_view_name": "LayoutView",
      "align_content": null,
      "align_items": null,
      "align_self": null,
      "border": null,
      "bottom": null,
      "display": null,
      "flex": null,
      "flex_flow": null,
      "grid_area": null,
      "grid_auto_columns": null,
      "grid_auto_flow": null,
      "grid_auto_rows": null,
      "grid_column": null,
      "grid_gap": null,
      "grid_row": null,
      "grid_template_areas": null,
      "grid_template_columns": null,
      "grid_template_rows": null,
      "height": null,
      "justify_content": null,
      "justify_items": null,
      "left": null,
      "margin": null,
      "max_height": null,
      "max_width": null,
      "min_height": null,
      "min_width": null,
      "object_fit": null,
      "object_position": null,
      "order": null,
      "overflow": null,
      "overflow_x": null,
      "overflow_y": null,
      "padding": null,
      "right": null,
      "top": null,
      "visibility": null,
      "width": null
     }
    },
    "89a88105887d482dbc0c601192dd1ec3": {
     "model_module": "@jupyter-widgets/controls",
     "model_name": "ProgressStyleModel",
     "model_module_version": "1.5.0",
     "state": {
      "_model_module": "@jupyter-widgets/controls",
      "_model_module_version": "1.5.0",
      "_model_name": "ProgressStyleModel",
      "_view_count": null,
      "_view_module": "@jupyter-widgets/base",
      "_view_module_version": "1.2.0",
      "_view_name": "StyleView",
      "bar_color": null,
      "description_width": ""
     }
    },
    "5ea6047e58ba47a2982f9e28f376ef7f": {
     "model_module": "@jupyter-widgets/base",
     "model_name": "LayoutModel",
     "model_module_version": "1.2.0",
     "state": {
      "_model_module": "@jupyter-widgets/base",
      "_model_module_version": "1.2.0",
      "_model_name": "LayoutModel",
      "_view_count": null,
      "_view_module": "@jupyter-widgets/base",
      "_view_module_version": "1.2.0",
      "_view_name": "LayoutView",
      "align_content": null,
      "align_items": null,
      "align_self": null,
      "border": null,
      "bottom": null,
      "display": null,
      "flex": null,
      "flex_flow": null,
      "grid_area": null,
      "grid_auto_columns": null,
      "grid_auto_flow": null,
      "grid_auto_rows": null,
      "grid_column": null,
      "grid_gap": null,
      "grid_row": null,
      "grid_template_areas": null,
      "grid_template_columns": null,
      "grid_template_rows": null,
      "height": null,
      "justify_content": null,
      "justify_items": null,
      "left": null,
      "margin": null,
      "max_height": null,
      "max_width": null,
      "min_height": null,
      "min_width": null,
      "object_fit": null,
      "object_position": null,
      "order": null,
      "overflow": null,
      "overflow_x": null,
      "overflow_y": null,
      "padding": null,
      "right": null,
      "top": null,
      "visibility": null,
      "width": null
     }
    },
    "ff340e1e7bba4de3a3d60f8222c129fc": {
     "model_module": "@jupyter-widgets/controls",
     "model_name": "DescriptionStyleModel",
     "model_module_version": "1.5.0",
     "state": {
      "_model_module": "@jupyter-widgets/controls",
      "_model_module_version": "1.5.0",
      "_model_name": "DescriptionStyleModel",
      "_view_count": null,
      "_view_module": "@jupyter-widgets/base",
      "_view_module_version": "1.2.0",
      "_view_name": "StyleView",
      "description_width": ""
     }
    },
    "c8747f8b3c934c339e2af0692de1a887": {
     "model_module": "@jupyter-widgets/controls",
     "model_name": "HBoxModel",
     "model_module_version": "1.5.0",
     "state": {
      "_dom_classes": [],
      "_model_module": "@jupyter-widgets/controls",
      "_model_module_version": "1.5.0",
      "_model_name": "HBoxModel",
      "_view_count": null,
      "_view_module": "@jupyter-widgets/controls",
      "_view_module_version": "1.5.0",
      "_view_name": "HBoxView",
      "box_style": "",
      "children": [
       "IPY_MODEL_86a32e3ee9844045a264592cbbaa5371",
       "IPY_MODEL_e476f2a3346c48d4974495344eb05c64",
       "IPY_MODEL_9c45c9675eff4f0586ea245da4cb74c2"
      ],
      "layout": "IPY_MODEL_ed2c798d14f6420d9fcef397e0f25b21"
     }
    },
    "86a32e3ee9844045a264592cbbaa5371": {
     "model_module": "@jupyter-widgets/controls",
     "model_name": "HTMLModel",
     "model_module_version": "1.5.0",
     "state": {
      "_dom_classes": [],
      "_model_module": "@jupyter-widgets/controls",
      "_model_module_version": "1.5.0",
      "_model_name": "HTMLModel",
      "_view_count": null,
      "_view_module": "@jupyter-widgets/controls",
      "_view_module_version": "1.5.0",
      "_view_name": "HTMLView",
      "description": "",
      "description_tooltip": null,
      "layout": "IPY_MODEL_4c4735c5c5a149179559347cb9939a69",
      "placeholder": "​",
      "style": "IPY_MODEL_352bd76f3e084efb85c30e31e131f27a",
      "value": "model.safetensors: 100%"
     }
    },
    "e476f2a3346c48d4974495344eb05c64": {
     "model_module": "@jupyter-widgets/controls",
     "model_name": "FloatProgressModel",
     "model_module_version": "1.5.0",
     "state": {
      "_dom_classes": [],
      "_model_module": "@jupyter-widgets/controls",
      "_model_module_version": "1.5.0",
      "_model_name": "FloatProgressModel",
      "_view_count": null,
      "_view_module": "@jupyter-widgets/controls",
      "_view_module_version": "1.5.0",
      "_view_name": "ProgressView",
      "bar_style": "success",
      "description": "",
      "description_tooltip": null,
      "layout": "IPY_MODEL_6d2c44ed0efe4b1c8f48ddad2d5db8a2",
      "max": 498818054,
      "min": 0,
      "orientation": "horizontal",
      "style": "IPY_MODEL_aaceddd2a8854682bd7791f3448706e3",
      "value": 498818054
     }
    },
    "9c45c9675eff4f0586ea245da4cb74c2": {
     "model_module": "@jupyter-widgets/controls",
     "model_name": "HTMLModel",
     "model_module_version": "1.5.0",
     "state": {
      "_dom_classes": [],
      "_model_module": "@jupyter-widgets/controls",
      "_model_module_version": "1.5.0",
      "_model_name": "HTMLModel",
      "_view_count": null,
      "_view_module": "@jupyter-widgets/controls",
      "_view_module_version": "1.5.0",
      "_view_name": "HTMLView",
      "description": "",
      "description_tooltip": null,
      "layout": "IPY_MODEL_de10b4da46764c20b7785dc3c35df015",
      "placeholder": "​",
      "style": "IPY_MODEL_ac8aacccaba0413b92c3c2796d99fc17",
      "value": " 499M/499M [00:02&lt;00:00, 223MB/s]"
     }
    },
    "ed2c798d14f6420d9fcef397e0f25b21": {
     "model_module": "@jupyter-widgets/base",
     "model_name": "LayoutModel",
     "model_module_version": "1.2.0",
     "state": {
      "_model_module": "@jupyter-widgets/base",
      "_model_module_version": "1.2.0",
      "_model_name": "LayoutModel",
      "_view_count": null,
      "_view_module": "@jupyter-widgets/base",
      "_view_module_version": "1.2.0",
      "_view_name": "LayoutView",
      "align_content": null,
      "align_items": null,
      "align_self": null,
      "border": null,
      "bottom": null,
      "display": null,
      "flex": null,
      "flex_flow": null,
      "grid_area": null,
      "grid_auto_columns": null,
      "grid_auto_flow": null,
      "grid_auto_rows": null,
      "grid_column": null,
      "grid_gap": null,
      "grid_row": null,
      "grid_template_areas": null,
      "grid_template_columns": null,
      "grid_template_rows": null,
      "height": null,
      "justify_content": null,
      "justify_items": null,
      "left": null,
      "margin": null,
      "max_height": null,
      "max_width": null,
      "min_height": null,
      "min_width": null,
      "object_fit": null,
      "object_position": null,
      "order": null,
      "overflow": null,
      "overflow_x": null,
      "overflow_y": null,
      "padding": null,
      "right": null,
      "top": null,
      "visibility": null,
      "width": null
     }
    },
    "4c4735c5c5a149179559347cb9939a69": {
     "model_module": "@jupyter-widgets/base",
     "model_name": "LayoutModel",
     "model_module_version": "1.2.0",
     "state": {
      "_model_module": "@jupyter-widgets/base",
      "_model_module_version": "1.2.0",
      "_model_name": "LayoutModel",
      "_view_count": null,
      "_view_module": "@jupyter-widgets/base",
      "_view_module_version": "1.2.0",
      "_view_name": "LayoutView",
      "align_content": null,
      "align_items": null,
      "align_self": null,
      "border": null,
      "bottom": null,
      "display": null,
      "flex": null,
      "flex_flow": null,
      "grid_area": null,
      "grid_auto_columns": null,
      "grid_auto_flow": null,
      "grid_auto_rows": null,
      "grid_column": null,
      "grid_gap": null,
      "grid_row": null,
      "grid_template_areas": null,
      "grid_template_columns": null,
      "grid_template_rows": null,
      "height": null,
      "justify_content": null,
      "justify_items": null,
      "left": null,
      "margin": null,
      "max_height": null,
      "max_width": null,
      "min_height": null,
      "min_width": null,
      "object_fit": null,
      "object_position": null,
      "order": null,
      "overflow": null,
      "overflow_x": null,
      "overflow_y": null,
      "padding": null,
      "right": null,
      "top": null,
      "visibility": null,
      "width": null
     }
    },
    "352bd76f3e084efb85c30e31e131f27a": {
     "model_module": "@jupyter-widgets/controls",
     "model_name": "DescriptionStyleModel",
     "model_module_version": "1.5.0",
     "state": {
      "_model_module": "@jupyter-widgets/controls",
      "_model_module_version": "1.5.0",
      "_model_name": "DescriptionStyleModel",
      "_view_count": null,
      "_view_module": "@jupyter-widgets/base",
      "_view_module_version": "1.2.0",
      "_view_name": "StyleView",
      "description_width": ""
     }
    },
    "6d2c44ed0efe4b1c8f48ddad2d5db8a2": {
     "model_module": "@jupyter-widgets/base",
     "model_name": "LayoutModel",
     "model_module_version": "1.2.0",
     "state": {
      "_model_module": "@jupyter-widgets/base",
      "_model_module_version": "1.2.0",
      "_model_name": "LayoutModel",
      "_view_count": null,
      "_view_module": "@jupyter-widgets/base",
      "_view_module_version": "1.2.0",
      "_view_name": "LayoutView",
      "align_content": null,
      "align_items": null,
      "align_self": null,
      "border": null,
      "bottom": null,
      "display": null,
      "flex": null,
      "flex_flow": null,
      "grid_area": null,
      "grid_auto_columns": null,
      "grid_auto_flow": null,
      "grid_auto_rows": null,
      "grid_column": null,
      "grid_gap": null,
      "grid_row": null,
      "grid_template_areas": null,
      "grid_template_columns": null,
      "grid_template_rows": null,
      "height": null,
      "justify_content": null,
      "justify_items": null,
      "left": null,
      "margin": null,
      "max_height": null,
      "max_width": null,
      "min_height": null,
      "min_width": null,
      "object_fit": null,
      "object_position": null,
      "order": null,
      "overflow": null,
      "overflow_x": null,
      "overflow_y": null,
      "padding": null,
      "right": null,
      "top": null,
      "visibility": null,
      "width": null
     }
    },
    "aaceddd2a8854682bd7791f3448706e3": {
     "model_module": "@jupyter-widgets/controls",
     "model_name": "ProgressStyleModel",
     "model_module_version": "1.5.0",
     "state": {
      "_model_module": "@jupyter-widgets/controls",
      "_model_module_version": "1.5.0",
      "_model_name": "ProgressStyleModel",
      "_view_count": null,
      "_view_module": "@jupyter-widgets/base",
      "_view_module_version": "1.2.0",
      "_view_name": "StyleView",
      "bar_color": null,
      "description_width": ""
     }
    },
    "de10b4da46764c20b7785dc3c35df015": {
     "model_module": "@jupyter-widgets/base",
     "model_name": "LayoutModel",
     "model_module_version": "1.2.0",
     "state": {
      "_model_module": "@jupyter-widgets/base",
      "_model_module_version": "1.2.0",
      "_model_name": "LayoutModel",
      "_view_count": null,
      "_view_module": "@jupyter-widgets/base",
      "_view_module_version": "1.2.0",
      "_view_name": "LayoutView",
      "align_content": null,
      "align_items": null,
      "align_self": null,
      "border": null,
      "bottom": null,
      "display": null,
      "flex": null,
      "flex_flow": null,
      "grid_area": null,
      "grid_auto_columns": null,
      "grid_auto_flow": null,
      "grid_auto_rows": null,
      "grid_column": null,
      "grid_gap": null,
      "grid_row": null,
      "grid_template_areas": null,
      "grid_template_columns": null,
      "grid_template_rows": null,
      "height": null,
      "justify_content": null,
      "justify_items": null,
      "left": null,
      "margin": null,
      "max_height": null,
      "max_width": null,
      "min_height": null,
      "min_width": null,
      "object_fit": null,
      "object_position": null,
      "order": null,
      "overflow": null,
      "overflow_x": null,
      "overflow_y": null,
      "padding": null,
      "right": null,
      "top": null,
      "visibility": null,
      "width": null
     }
    },
    "ac8aacccaba0413b92c3c2796d99fc17": {
     "model_module": "@jupyter-widgets/controls",
     "model_name": "DescriptionStyleModel",
     "model_module_version": "1.5.0",
     "state": {
      "_model_module": "@jupyter-widgets/controls",
      "_model_module_version": "1.5.0",
      "_model_name": "DescriptionStyleModel",
      "_view_count": null,
      "_view_module": "@jupyter-widgets/base",
      "_view_module_version": "1.2.0",
      "_view_name": "StyleView",
      "description_width": ""
     }
    },
    "324c0d44bb2948b1a5a68a4c8e6a6a0c": {
     "model_module": "@jupyter-widgets/controls",
     "model_name": "VBoxModel",
     "model_module_version": "1.5.0",
     "state": {
      "_dom_classes": [],
      "_model_module": "@jupyter-widgets/controls",
      "_model_module_version": "1.5.0",
      "_model_name": "VBoxModel",
      "_view_count": null,
      "_view_module": "@jupyter-widgets/controls",
      "_view_module_version": "1.5.0",
      "_view_name": "VBoxView",
      "box_style": "",
      "children": [
       "IPY_MODEL_790f386cda71403db207addd7eaa4c9b",
       "IPY_MODEL_58cb10610d254b5a88397f193bdc68cd"
      ],
      "layout": "IPY_MODEL_63e32a1c91a94d9f98512c4d4444260d"
     }
    },
    "790f386cda71403db207addd7eaa4c9b": {
     "model_module": "@jupyter-widgets/controls",
     "model_name": "LabelModel",
     "model_module_version": "1.5.0",
     "state": {
      "_dom_classes": [],
      "_model_module": "@jupyter-widgets/controls",
      "_model_module_version": "1.5.0",
      "_model_name": "LabelModel",
      "_view_count": null,
      "_view_module": "@jupyter-widgets/controls",
      "_view_module_version": "1.5.0",
      "_view_name": "LabelView",
      "description": "",
      "description_tooltip": null,
      "layout": "IPY_MODEL_af79e8821bde4d37b517ae70278fa403",
      "placeholder": "​",
      "style": "IPY_MODEL_93186532ae7844fcac2fd55b9b4b2e99",
      "value": "Waiting for wandb.init()...\r"
     }
    },
    "58cb10610d254b5a88397f193bdc68cd": {
     "model_module": "@jupyter-widgets/controls",
     "model_name": "FloatProgressModel",
     "model_module_version": "1.5.0",
     "state": {
      "_dom_classes": [],
      "_model_module": "@jupyter-widgets/controls",
      "_model_module_version": "1.5.0",
      "_model_name": "FloatProgressModel",
      "_view_count": null,
      "_view_module": "@jupyter-widgets/controls",
      "_view_module_version": "1.5.0",
      "_view_name": "ProgressView",
      "bar_style": "",
      "description": "",
      "description_tooltip": null,
      "layout": "IPY_MODEL_cc578461eb1a4616b068d5345ac482c0",
      "max": 1,
      "min": 0,
      "orientation": "horizontal",
      "style": "IPY_MODEL_ba13548176cb412a8c44b4cb507c83d6",
      "value": 1
     }
    },
    "63e32a1c91a94d9f98512c4d4444260d": {
     "model_module": "@jupyter-widgets/base",
     "model_name": "LayoutModel",
     "model_module_version": "1.2.0",
     "state": {
      "_model_module": "@jupyter-widgets/base",
      "_model_module_version": "1.2.0",
      "_model_name": "LayoutModel",
      "_view_count": null,
      "_view_module": "@jupyter-widgets/base",
      "_view_module_version": "1.2.0",
      "_view_name": "LayoutView",
      "align_content": null,
      "align_items": null,
      "align_self": null,
      "border": null,
      "bottom": null,
      "display": null,
      "flex": null,
      "flex_flow": null,
      "grid_area": null,
      "grid_auto_columns": null,
      "grid_auto_flow": null,
      "grid_auto_rows": null,
      "grid_column": null,
      "grid_gap": null,
      "grid_row": null,
      "grid_template_areas": null,
      "grid_template_columns": null,
      "grid_template_rows": null,
      "height": null,
      "justify_content": null,
      "justify_items": null,
      "left": null,
      "margin": null,
      "max_height": null,
      "max_width": null,
      "min_height": null,
      "min_width": null,
      "object_fit": null,
      "object_position": null,
      "order": null,
      "overflow": null,
      "overflow_x": null,
      "overflow_y": null,
      "padding": null,
      "right": null,
      "top": null,
      "visibility": null,
      "width": null
     }
    },
    "af79e8821bde4d37b517ae70278fa403": {
     "model_module": "@jupyter-widgets/base",
     "model_name": "LayoutModel",
     "model_module_version": "1.2.0",
     "state": {
      "_model_module": "@jupyter-widgets/base",
      "_model_module_version": "1.2.0",
      "_model_name": "LayoutModel",
      "_view_count": null,
      "_view_module": "@jupyter-widgets/base",
      "_view_module_version": "1.2.0",
      "_view_name": "LayoutView",
      "align_content": null,
      "align_items": null,
      "align_self": null,
      "border": null,
      "bottom": null,
      "display": null,
      "flex": null,
      "flex_flow": null,
      "grid_area": null,
      "grid_auto_columns": null,
      "grid_auto_flow": null,
      "grid_auto_rows": null,
      "grid_column": null,
      "grid_gap": null,
      "grid_row": null,
      "grid_template_areas": null,
      "grid_template_columns": null,
      "grid_template_rows": null,
      "height": null,
      "justify_content": null,
      "justify_items": null,
      "left": null,
      "margin": null,
      "max_height": null,
      "max_width": null,
      "min_height": null,
      "min_width": null,
      "object_fit": null,
      "object_position": null,
      "order": null,
      "overflow": null,
      "overflow_x": null,
      "overflow_y": null,
      "padding": null,
      "right": null,
      "top": null,
      "visibility": null,
      "width": null
     }
    },
    "93186532ae7844fcac2fd55b9b4b2e99": {
     "model_module": "@jupyter-widgets/controls",
     "model_name": "DescriptionStyleModel",
     "model_module_version": "1.5.0",
     "state": {
      "_model_module": "@jupyter-widgets/controls",
      "_model_module_version": "1.5.0",
      "_model_name": "DescriptionStyleModel",
      "_view_count": null,
      "_view_module": "@jupyter-widgets/base",
      "_view_module_version": "1.2.0",
      "_view_name": "StyleView",
      "description_width": ""
     }
    },
    "cc578461eb1a4616b068d5345ac482c0": {
     "model_module": "@jupyter-widgets/base",
     "model_name": "LayoutModel",
     "model_module_version": "1.2.0",
     "state": {
      "_model_module": "@jupyter-widgets/base",
      "_model_module_version": "1.2.0",
      "_model_name": "LayoutModel",
      "_view_count": null,
      "_view_module": "@jupyter-widgets/base",
      "_view_module_version": "1.2.0",
      "_view_name": "LayoutView",
      "align_content": null,
      "align_items": null,
      "align_self": null,
      "border": null,
      "bottom": null,
      "display": null,
      "flex": null,
      "flex_flow": null,
      "grid_area": null,
      "grid_auto_columns": null,
      "grid_auto_flow": null,
      "grid_auto_rows": null,
      "grid_column": null,
      "grid_gap": null,
      "grid_row": null,
      "grid_template_areas": null,
      "grid_template_columns": null,
      "grid_template_rows": null,
      "height": null,
      "justify_content": null,
      "justify_items": null,
      "left": null,
      "margin": null,
      "max_height": null,
      "max_width": null,
      "min_height": null,
      "min_width": null,
      "object_fit": null,
      "object_position": null,
      "order": null,
      "overflow": null,
      "overflow_x": null,
      "overflow_y": null,
      "padding": null,
      "right": null,
      "top": null,
      "visibility": null,
      "width": null
     }
    },
    "ba13548176cb412a8c44b4cb507c83d6": {
     "model_module": "@jupyter-widgets/controls",
     "model_name": "ProgressStyleModel",
     "model_module_version": "1.5.0",
     "state": {
      "_model_module": "@jupyter-widgets/controls",
      "_model_module_version": "1.5.0",
      "_model_name": "ProgressStyleModel",
      "_view_count": null,
      "_view_module": "@jupyter-widgets/base",
      "_view_module_version": "1.2.0",
      "_view_name": "StyleView",
      "bar_color": null,
      "description_width": ""
     }
    }
   }
  }
 },
 "nbformat": 4,
 "nbformat_minor": 5
}
