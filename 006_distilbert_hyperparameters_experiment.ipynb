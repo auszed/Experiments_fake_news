{
 "cells": [
  {
   "metadata": {
    "id": "c52669539e283167"
   },
   "cell_type": "markdown",
   "source": [
    "# distilbert hyperparameters\n",
    "In this experiment, we will create two baseline machine learning models to predict the values, providing a foundation for future iterations.\n",
    "Now that we have everything ready, we will export the dataset.\n",
    "\n",
    "- **MODEL_NAME**: `\"distilbert-base-uncased\"`\n",
    "- **NAME_EXPERIMENTS**: `\"Fake news comments\"`\n",
    "- **DATASET_NAME**: `\"X_train_cleaned_2\"`\n",
    "- **HYPERPARAMETERS_EXPERIMENTS**: `20`\n",
    "- **BATCH_SIZE**: `12`\n",
    "- **NUM_LABELS**: `1`\n",
    "- **EPOCHS**: `3`\n",
    "- **THRESHOLD_PROBABILITIES_MODEL**: `0.5`\n",
    "- **COMMENTS**: `\"Some hyperparameter tuning with the clean dataset where we take out some values\"`\n",
    "- **PATIENCE_EARLY_STOP**: `3`\n",
    "- **LEARNING_RATE**: `1e-10 to 1e-2`\n",
    "- **WEIGHT_DECAY**: `1e-12 to 1e-2`\n",
    "- **DROPOUT_VALUE**: `0.1 to 0.3`\n",
    "- **WARMUP_RATIO**: `0.0 to 0.2`\n",
    "- **OPTIMIZER_NAME**: `\"AdamW\"`, `\"SGD\"`, `\"RMSprop\"`\n",
    "\n",
    "\n",
    "Also, we will be adding just 30% of the training dataset, but for the training we had all the dataset."
   ],
   "id": "c52669539e283167"
  },
  {
   "cell_type": "code",
   "source": [
    "%%capture\n",
    "!pip install mlflow dagshub wandb optuna"
   ],
   "metadata": {
    "id": "evpgMd9r17SF"
   },
   "id": "evpgMd9r17SF",
   "execution_count": null,
   "outputs": []
  },
  {
   "cell_type": "code",
   "id": "initial_id",
   "metadata": {
    "collapsed": true,
    "ExecuteTime": {
     "end_time": "2025-01-09T23:12:10.838426Z",
     "start_time": "2025-01-09T23:12:08.281628Z"
    },
    "id": "initial_id",
    "colab": {
     "base_uri": "https://localhost:8080/",
     "height": 548,
     "referenced_widgets": [
      "24dc411ed1034fa5b7cbedd2ae5ecf72",
      "909d24fe0dd647d2a171fd6137c3f829"
     ]
    },
    "outputId": "eb9b11e0-2469-453d-b473-d6d702199f1a"
   },
   "source": [
    "# Standard Library Imports\n",
    "import math\n",
    "import os\n",
    "from typing import Dict, List\n",
    "\n",
    "# Third-party Libraries\n",
    "import mlflow\n",
    "import mlflow.pytorch\n",
    "import nltk\n",
    "import numpy as np\n",
    "import optuna\n",
    "import pandas as pd\n",
    "import seaborn as sns\n",
    "import torch\n",
    "import wandb\n",
    "from matplotlib.colors import LinearSegmentedColormap\n",
    "import matplotlib.pyplot as plt\n",
    "from sklearn.metrics import accuracy_score, confusion_matrix, f1_score, recall_score\n",
    "from torch.optim import AdamW, RMSprop, SGD\n",
    "from torch.utils.data import DataLoader, Dataset\n",
    "from wordcloud import WordCloud\n",
    "\n",
    "# Hugging Face Transformers\n",
    "from transformers import (\n",
    "    AdamW,\n",
    "    AutoModel,\n",
    "    AutoTokenizer,\n",
    "    BertModel,\n",
    "    BertTokenizer,\n",
    "    get_linear_schedule_with_warmup\n",
    ")\n",
    "\n",
    "# PyTorch Libraries\n",
    "import torch.nn as nn\n",
    "import torch.nn.functional as F\n",
    "\n",
    "\n",
    "# import google drive\n",
    "from google.colab import drive, files\n",
    "drive.mount('/content/drive')\n",
    "device = torch.device('cuda' if torch.cuda.is_available() else 'cpu')\n",
    "\n",
    "\"\"\"Import the modules from google colab\"\"\"\n",
    "import sys\n",
    "PATH_helper = \"/content/drive/MyDrive/turing_college_experiments/16/helper\"\n",
    "sys.path.append(PATH_helper)\n",
    "# Custom imports\n",
    "from helper_eda import (proportion_balance_classes, extractions_text_description, histogram_bins,\n",
    "                                plot_distribution_tokens_per_word, dimensionality_reduction_chart_tsne,\n",
    "                               components_pca_3d_chart)\n",
    "\n",
    "\"\"\"\n",
    "Verify the cores and gpu in the colab\n",
    "\"\"\"\n",
    "num_cores = os.cpu_count()  # Get the number of CPU cores\n",
    "print(f'Number of available CPU cores: {num_cores}')\n",
    "NUM_WORKERS = num_cores - 1\n",
    "print(f'Setting num_workers to: {NUM_WORKERS}')\n",
    "\n",
    "num_gpus_colab = torch.cuda.device_count()\n",
    "GPU_LIST = [torch.cuda.get_device_name(i) for i in range(num_gpus_colab)]\n",
    "NUM_WORKERS, GPU_LIST\n",
    "\n",
    "enable_code_paths = True\n",
    "enable_block = False\n",
    "\n",
    "# weight and biases\n",
    "wandb.login()\n",
    "\n",
    "# ml versioning control\n",
    "import dagshub\n",
    "import mlflow\n",
    "import mlflow.sklearn\n",
    "dagshub.init(repo_owner='auszed', repo_name='Experiments_fake_news', mlflow=True)\n",
    "\n",
    "# tracking experiments\n",
    "os.environ['MLFLOW_TRACKING_USERNAME'] = 'auszed'\n",
    "os.environ['MLFLOW_TRACKING_PASSWORD'] = '4390ce1796189f46f62a5e643463dcaffede3ebf'\n",
    "os.environ['MLFLOW_TRACKING_URI'] = 'https://dagshub.com/auszed/Experiments_fake_news.mlflow'\n",
    "\n",
    "\n",
    "# Download the stopwords if you haven't already\n",
    "nltk.download('stopwords')\n",
    "\n",
    "# Inline plotting for Jupyter Notebooks\n",
    "%matplotlib inline\n",
    "custom_colors = ['#36CE8A', \"#7436F5\",\"#3736F4\",   \"#36AEF5\", \"#B336F5\", \"#f8165e\", \"#36709A\",  \"#3672F5\", \"#7ACE5D\"]\n",
    "gradient_colors = [ \"#36CE8A\", '#7436F5']\n",
    "color_palette_custom  = sns.set_palette(custom_colors)\n",
    "theme_color = sns.color_palette(color_palette_custom, 9)\n",
    "cmap_theme = LinearSegmentedColormap.from_list('custom_colormap', gradient_colors)\n",
    "\n",
    "# File paths\n",
    "X_train = pd.read_csv(\"/content/drive/MyDrive/turing_college_experiments/16/dataset/X_train_cleaned_2.csv\")\n",
    "y_train = pd.read_csv(\"/content/drive/MyDrive/turing_college_experiments/16/dataset/y_train.csv\")\n",
    "X_val = pd.read_csv(\"/content/drive/MyDrive/turing_college_experiments/16/dataset/X_val_cleaned_2.csv\")\n",
    "y_val = pd.read_csv(\"/content/drive/MyDrive/turing_college_experiments/16/dataset/y_val.csv\")\n",
    "X_test = pd.read_csv(\"/content/drive/MyDrive/turing_college_experiments/16/dataset/X_test_cleaned_2.csv\")\n",
    "y_test = pd.read_csv(\"/content/drive/MyDrive/turing_college_experiments/16/dataset/y_test.csv\")\n",
    "\n",
    "X_train = X_train[[\"title_text_join\"]]\n",
    "X_val = X_val[[\"title_text_join\"]]\n",
    "X_test = X_test[[\"title_text_join\"]]\n",
    "\n",
    "print(X_train.shape,y_train.shape )\n",
    "print(X_val.shape,y_val.shape )\n",
    "print(X_test.shape,y_test.shape )\n",
    "theme_color"
   ],
   "outputs": [
    {
     "output_type": "stream",
     "name": "stdout",
     "text": [
      "Mounted at /content/drive\n"
     ]
    },
    {
     "output_type": "stream",
     "name": "stderr",
     "text": [
      "[nltk_data] Downloading package stopwords to /root/nltk_data...\n",
      "[nltk_data]   Unzipping corpora/stopwords.zip.\n"
     ]
    },
    {
     "output_type": "stream",
     "name": "stdout",
     "text": [
      "Number of available CPU cores: 12\n",
      "Setting num_workers to: 11\n"
     ]
    },
    {
     "output_type": "stream",
     "name": "stderr",
     "text": [
      "\u001B[34m\u001B[1mwandb\u001B[0m: Using wandb-core as the SDK backend.  Please refer to https://wandb.me/wandb-core for more information.\n"
     ]
    },
    {
     "output_type": "display_data",
     "data": {
      "text/plain": [
       "<IPython.core.display.Javascript object>"
      ],
      "application/javascript": [
       "\n",
       "        window._wandbApiKey = new Promise((resolve, reject) => {\n",
       "            function loadScript(url) {\n",
       "            return new Promise(function(resolve, reject) {\n",
       "                let newScript = document.createElement(\"script\");\n",
       "                newScript.onerror = reject;\n",
       "                newScript.onload = resolve;\n",
       "                document.body.appendChild(newScript);\n",
       "                newScript.src = url;\n",
       "            });\n",
       "            }\n",
       "            loadScript(\"https://cdn.jsdelivr.net/npm/postmate/build/postmate.min.js\").then(() => {\n",
       "            const iframe = document.createElement('iframe')\n",
       "            iframe.style.cssText = \"width:0;height:0;border:none\"\n",
       "            document.body.appendChild(iframe)\n",
       "            const handshake = new Postmate({\n",
       "                container: iframe,\n",
       "                url: 'https://wandb.ai/authorize'\n",
       "            });\n",
       "            const timeout = setTimeout(() => reject(\"Couldn't auto authenticate\"), 5000)\n",
       "            handshake.then(function(child) {\n",
       "                child.on('authorize', data => {\n",
       "                    clearTimeout(timeout)\n",
       "                    resolve(data)\n",
       "                });\n",
       "            });\n",
       "            })\n",
       "        });\n",
       "    "
      ]
     },
     "metadata": {}
    },
    {
     "output_type": "stream",
     "name": "stderr",
     "text": [
      "\u001B[34m\u001B[1mwandb\u001B[0m: Logging into wandb.ai. (Learn how to deploy a W&B server locally: https://wandb.me/wandb-server)\n",
      "\u001B[34m\u001B[1mwandb\u001B[0m: You can find your API key in your browser here: https://wandb.ai/authorize\n",
      "wandb: Paste an API key from your profile and hit enter, or press ctrl+c to quit:"
     ]
    },
    {
     "name": "stdout",
     "output_type": "stream",
     "text": [
      " ··········\n"
     ]
    },
    {
     "output_type": "stream",
     "name": "stderr",
     "text": [
      "\u001B[34m\u001B[1mwandb\u001B[0m: Appending key for api.wandb.ai to your netrc file: /root/.netrc\n"
     ]
    },
    {
     "output_type": "display_data",
     "data": {
      "text/plain": [
       "                                       \u001B[1m❗❗❗ AUTHORIZATION REQUIRED ❗❗❗\u001B[0m                                        \n"
      ],
      "text/html": [
       "<pre style=\"white-space:pre;overflow-x:auto;line-height:normal;font-family:Menlo,'DejaVu Sans Mono',consolas,'Courier New',monospace\">                                       <span style=\"font-weight: bold\">❗❗❗ AUTHORIZATION REQUIRED ❗❗❗</span>                                        \n",
       "</pre>\n"
      ]
     },
     "metadata": {}
    },
    {
     "output_type": "display_data",
     "data": {
      "text/plain": [
       "Output()"
      ],
      "application/vnd.jupyter.widget-view+json": {
       "version_major": 2,
       "version_minor": 0,
       "model_id": "24dc411ed1034fa5b7cbedd2ae5ecf72"
      }
     },
     "metadata": {}
    },
    {
     "output_type": "stream",
     "name": "stdout",
     "text": [
      "\n",
      "\n",
      "Open the following link in your browser to authorize the client:\n",
      "https://dagshub.com/login/oauth/authorize?state=dbcdb5c9-1128-4c5c-8def-202ca4824ed2&client_id=32b60ba385aa7cecf24046d8195a71c07dd345d9657977863b52e7748e0f0f28&middleman_request_id=cc9f9556bb3545555109c56f5e451050c0b73aa24f025a565d1c7b2f0fc1fa8c\n",
      "\n",
      "\n"
     ]
    },
    {
     "output_type": "display_data",
     "data": {
      "text/plain": [],
      "text/html": [
       "<pre style=\"white-space:pre;overflow-x:auto;line-height:normal;font-family:Menlo,'DejaVu Sans Mono',consolas,'Courier New',monospace\"></pre>\n"
      ]
     },
     "metadata": {}
    },
    {
     "output_type": "display_data",
     "data": {
      "text/plain": [
       "Accessing as auszed\n"
      ],
      "text/html": [
       "<pre style=\"white-space:pre;overflow-x:auto;line-height:normal;font-family:Menlo,'DejaVu Sans Mono',consolas,'Courier New',monospace\">Accessing as auszed\n",
       "</pre>\n"
      ]
     },
     "metadata": {}
    },
    {
     "output_type": "display_data",
     "data": {
      "text/plain": [
       "Initialized MLflow to track repo \u001B[32m\"auszed/Experiments_fake_news\"\u001B[0m\n"
      ],
      "text/html": [
       "<pre style=\"white-space:pre;overflow-x:auto;line-height:normal;font-family:Menlo,'DejaVu Sans Mono',consolas,'Courier New',monospace\">Initialized MLflow to track repo <span style=\"color: #008000; text-decoration-color: #008000\">\"auszed/Experiments_fake_news\"</span>\n",
       "</pre>\n"
      ]
     },
     "metadata": {}
    },
    {
     "output_type": "display_data",
     "data": {
      "text/plain": [
       "Repository auszed/Experiments_fake_news initialized!\n"
      ],
      "text/html": [
       "<pre style=\"white-space:pre;overflow-x:auto;line-height:normal;font-family:Menlo,'DejaVu Sans Mono',consolas,'Courier New',monospace\">Repository auszed/Experiments_fake_news initialized!\n",
       "</pre>\n"
      ]
     },
     "metadata": {}
    },
    {
     "output_type": "stream",
     "name": "stderr",
     "text": [
      "[nltk_data] Downloading package stopwords to /root/nltk_data...\n",
      "[nltk_data]   Package stopwords is already up-to-date!\n"
     ]
    },
    {
     "output_type": "stream",
     "name": "stdout",
     "text": [
      "(26759, 1) (26759, 1)\n",
      "(5734, 1) (5734, 1)\n",
      "(5735, 1) (5735, 1)\n"
     ]
    },
    {
     "output_type": "execute_result",
     "data": {
      "text/plain": [
       "[(0.21176470588235294, 0.807843137254902, 0.5411764705882353),\n",
       " (0.4549019607843137, 0.21176470588235294, 0.9607843137254902),\n",
       " (0.21568627450980393, 0.21176470588235294, 0.9568627450980393),\n",
       " (0.21176470588235294, 0.6823529411764706, 0.9607843137254902),\n",
       " (0.7019607843137254, 0.21176470588235294, 0.9607843137254902),\n",
       " (0.9725490196078431, 0.08627450980392157, 0.3686274509803922),\n",
       " (0.21176470588235294, 0.4392156862745098, 0.6039215686274509),\n",
       " (0.21176470588235294, 0.4470588235294118, 0.9607843137254902),\n",
       " (0.47843137254901963, 0.807843137254902, 0.36470588235294116)]"
      ],
      "text/html": [
       "<svg  width=\"495\" height=\"55\"><rect x=\"0\" y=\"0\" width=\"55\" height=\"55\" style=\"fill:#36ce8a;stroke-width:2;stroke:rgb(255,255,255)\"/><rect x=\"55\" y=\"0\" width=\"55\" height=\"55\" style=\"fill:#7436f5;stroke-width:2;stroke:rgb(255,255,255)\"/><rect x=\"110\" y=\"0\" width=\"55\" height=\"55\" style=\"fill:#3736f4;stroke-width:2;stroke:rgb(255,255,255)\"/><rect x=\"165\" y=\"0\" width=\"55\" height=\"55\" style=\"fill:#36aef5;stroke-width:2;stroke:rgb(255,255,255)\"/><rect x=\"220\" y=\"0\" width=\"55\" height=\"55\" style=\"fill:#b336f5;stroke-width:2;stroke:rgb(255,255,255)\"/><rect x=\"275\" y=\"0\" width=\"55\" height=\"55\" style=\"fill:#f8165e;stroke-width:2;stroke:rgb(255,255,255)\"/><rect x=\"330\" y=\"0\" width=\"55\" height=\"55\" style=\"fill:#36709a;stroke-width:2;stroke:rgb(255,255,255)\"/><rect x=\"385\" y=\"0\" width=\"55\" height=\"55\" style=\"fill:#3672f5;stroke-width:2;stroke:rgb(255,255,255)\"/><rect x=\"440\" y=\"0\" width=\"55\" height=\"55\" style=\"fill:#7ace5d;stroke-width:2;stroke:rgb(255,255,255)\"/></svg>"
      ]
     },
     "metadata": {},
     "execution_count": 5
    }
   ],
   "execution_count": null
  },
  {
   "metadata": {
    "ExecuteTime": {
     "end_time": "2025-01-09T23:12:12.474026Z",
     "start_time": "2025-01-09T23:12:10.890942Z"
    },
    "id": "6dcbd7a0cc15f927",
    "colab": {
     "base_uri": "https://localhost:8080/",
     "height": 310
    },
    "outputId": "10489ec5-fad7-411c-d3dc-50ca35055aa9"
   },
   "cell_type": "code",
   "source": [
    "#@title sample dataset for experiments\n",
    "# sample size\n",
    "enable_samples: bool = True #@param\n",
    "SAMPLE_PERCENTAGE_X_train = 0.3 #@param\n",
    "SAMPLE_PERCENTAGE_X_val = 1 #@param\n",
    "SAMPLE_PERCENTAGE_X_test = 1 #@param\n",
    "\n",
    "MODEL_NAME = \"distilbert-base-uncased\" #@param\n",
    "VERSION_MODEL = \"006\" #@param\n",
    "NAME_EXPERIMENTS = \"Fake news comments\" #@param\n",
    "DATASET_NAME = \"X_train_cleaned_2\" #@param title\n",
    "HYPERPARAMETERS_EXPERIMENTS = 20 #@param\n",
    "BATCH_SIZE = 12 #@param\n",
    "NUM_LABELS = 1 #@param\n",
    "EPOCHS = 3 #@param\n",
    "THRESHOLD_PROBABILITIES_MODEL = 0.5 #@param\n",
    "\n",
    "# COMMENTS = \"Some hyperparameter tunning with the clean dataset where we take out some values\" #@param\n",
    "COMMENTS = \"Experiment\" #@param\n",
    "PATIENCE_EARLY_STOP = 3 #@param\n",
    "LEARNING_RATE_INIT = 1e-10 #@param\n",
    "LEARNING_RATE_END = 1e-6 #@param\n",
    "WEIGHT_DECAY_INIT = 1e-12 #@param\n",
    "WEIGHT_DECAY_END = 1e-2 #@param\n",
    "DROPOUT_VALUE_INIT = 0.1 #@param\n",
    "DROPOUT_VALUE_END = 0.3 #@param\n",
    "WARMUP_RATIO_INIT = 0.0 #@param\n",
    "WARMUP_RATIO_END = 0.2 #@param\n",
    "OPTIMIZER_NAME_1 = \"AdamW\" #@param\n",
    "OPTIMIZER_NAME_2 = \"SGD\" #@param\n",
    "OPTIMIZER_NAME_3 = \"RMSprop\" #@param\n",
    "\n",
    "URL_SAVE_MODEL = f\"/content/drive/MyDrive/turing_college_experiments/16/model_save/{MODEL_NAME}_{VERSION_MODEL}.pth\"\n",
    "\n",
    "if enable_samples:\n",
    "    # Concatenating the datasets\n",
    "    concat_values_train = pd.concat([X_train, y_train], axis=1)\n",
    "    concat_values_val = pd.concat([X_val, y_val], axis=1)\n",
    "    concat_values_test = pd.concat([X_test, y_test], axis=1)\n",
    "\n",
    "    # Sampling the datasets\n",
    "    concat_values_train = concat_values_train.sample(frac=SAMPLE_PERCENTAGE_X_train, random_state=42)\n",
    "    concat_values_val = concat_values_val.sample(frac=SAMPLE_PERCENTAGE_X_val, random_state=42)\n",
    "    concat_values_test = concat_values_test.sample(frac=SAMPLE_PERCENTAGE_X_test, random_state=42)\n",
    "\n",
    "    # Resetting the index without using inplace\n",
    "    concat_values_train = concat_values_train.reset_index(drop=True)\n",
    "    concat_values_val = concat_values_val.reset_index(drop=True)\n",
    "    concat_values_test = concat_values_test.reset_index(drop=True)\n",
    "\n",
    "    # Extracting features and targets\n",
    "    X_train = pd.DataFrame(concat_values_train[\"title_text_join\"])\n",
    "    X_val = pd.DataFrame(concat_values_val[\"title_text_join\"])\n",
    "    X_test = pd.DataFrame(concat_values_test[\"title_text_join\"])\n",
    "\n",
    "    y_train = pd.DataFrame(concat_values_train[\"target_variable\"])\n",
    "    y_val = pd.DataFrame(concat_values_val[\"target_variable\"])\n",
    "    y_test = pd.DataFrame(concat_values_test[\"target_variable\"])\n",
    "\n",
    "\n",
    "print(\"TRAIN Dataset: {}\".format(X_train.shape))\n",
    "print(\"VALIDATION Dataset: {}\".format(X_val.shape))\n",
    "print(\"TEST Dataset: {}\".format(X_test.shape))\n",
    "print(\"TRAIN Dataset y: {}\".format(y_train.shape))\n",
    "print(\"VALIDATION Dataset y: {}\".format(y_val.shape))\n",
    "print(\"TEST Dataset y: {}\".format(y_test.shape))\n",
    "\n",
    "sample_data = 5 #@param\n",
    "X_train.sample(sample_data)"
   ],
   "id": "6dcbd7a0cc15f927",
   "outputs": [
    {
     "output_type": "stream",
     "name": "stdout",
     "text": [
      "TRAIN Dataset: (8028, 1)\n",
      "VALIDATION Dataset: (5734, 1)\n",
      "TEST Dataset: (5735, 1)\n",
      "TRAIN Dataset y: (8028, 1)\n",
      "VALIDATION Dataset y: (5734, 1)\n",
      "TEST Dataset y: (5735, 1)\n"
     ]
    },
    {
     "output_type": "execute_result",
     "data": {
      "text/plain": [
       "                                        title_text_join\n",
       "2447  tiffany co. takes big risk sides controversial...\n",
       "505   rob reiner best response going mexico going me...\n",
       "1049  flashback : bernie sanders ’ socialist democra...\n",
       "1568  eu mps threaten cambodia aid trade crackdownph...\n",
       "2141  black racists tried shut threatening intimidat..."
      ],
      "text/html": [
       "\n",
       "  <div id=\"df-4d1e31c9-a8b1-44c8-9913-5766f8c01435\" class=\"colab-df-container\">\n",
       "    <div>\n",
       "<style scoped>\n",
       "    .dataframe tbody tr th:only-of-type {\n",
       "        vertical-align: middle;\n",
       "    }\n",
       "\n",
       "    .dataframe tbody tr th {\n",
       "        vertical-align: top;\n",
       "    }\n",
       "\n",
       "    .dataframe thead th {\n",
       "        text-align: right;\n",
       "    }\n",
       "</style>\n",
       "<table border=\"1\" class=\"dataframe\">\n",
       "  <thead>\n",
       "    <tr style=\"text-align: right;\">\n",
       "      <th></th>\n",
       "      <th>title_text_join</th>\n",
       "    </tr>\n",
       "  </thead>\n",
       "  <tbody>\n",
       "    <tr>\n",
       "      <th>2447</th>\n",
       "      <td>tiffany co. takes big risk sides controversial...</td>\n",
       "    </tr>\n",
       "    <tr>\n",
       "      <th>505</th>\n",
       "      <td>rob reiner best response going mexico going me...</td>\n",
       "    </tr>\n",
       "    <tr>\n",
       "      <th>1049</th>\n",
       "      <td>flashback : bernie sanders ’ socialist democra...</td>\n",
       "    </tr>\n",
       "    <tr>\n",
       "      <th>1568</th>\n",
       "      <td>eu mps threaten cambodia aid trade crackdownph...</td>\n",
       "    </tr>\n",
       "    <tr>\n",
       "      <th>2141</th>\n",
       "      <td>black racists tried shut threatening intimidat...</td>\n",
       "    </tr>\n",
       "  </tbody>\n",
       "</table>\n",
       "</div>\n",
       "    <div class=\"colab-df-buttons\">\n",
       "\n",
       "  <div class=\"colab-df-container\">\n",
       "    <button class=\"colab-df-convert\" onclick=\"convertToInteractive('df-4d1e31c9-a8b1-44c8-9913-5766f8c01435')\"\n",
       "            title=\"Convert this dataframe to an interactive table.\"\n",
       "            style=\"display:none;\">\n",
       "\n",
       "  <svg xmlns=\"http://www.w3.org/2000/svg\" height=\"24px\" viewBox=\"0 -960 960 960\">\n",
       "    <path d=\"M120-120v-720h720v720H120Zm60-500h600v-160H180v160Zm220 220h160v-160H400v160Zm0 220h160v-160H400v160ZM180-400h160v-160H180v160Zm440 0h160v-160H620v160ZM180-180h160v-160H180v160Zm440 0h160v-160H620v160Z\"/>\n",
       "  </svg>\n",
       "    </button>\n",
       "\n",
       "  <style>\n",
       "    .colab-df-container {\n",
       "      display:flex;\n",
       "      gap: 12px;\n",
       "    }\n",
       "\n",
       "    .colab-df-convert {\n",
       "      background-color: #E8F0FE;\n",
       "      border: none;\n",
       "      border-radius: 50%;\n",
       "      cursor: pointer;\n",
       "      display: none;\n",
       "      fill: #1967D2;\n",
       "      height: 32px;\n",
       "      padding: 0 0 0 0;\n",
       "      width: 32px;\n",
       "    }\n",
       "\n",
       "    .colab-df-convert:hover {\n",
       "      background-color: #E2EBFA;\n",
       "      box-shadow: 0px 1px 2px rgba(60, 64, 67, 0.3), 0px 1px 3px 1px rgba(60, 64, 67, 0.15);\n",
       "      fill: #174EA6;\n",
       "    }\n",
       "\n",
       "    .colab-df-buttons div {\n",
       "      margin-bottom: 4px;\n",
       "    }\n",
       "\n",
       "    [theme=dark] .colab-df-convert {\n",
       "      background-color: #3B4455;\n",
       "      fill: #D2E3FC;\n",
       "    }\n",
       "\n",
       "    [theme=dark] .colab-df-convert:hover {\n",
       "      background-color: #434B5C;\n",
       "      box-shadow: 0px 1px 3px 1px rgba(0, 0, 0, 0.15);\n",
       "      filter: drop-shadow(0px 1px 2px rgba(0, 0, 0, 0.3));\n",
       "      fill: #FFFFFF;\n",
       "    }\n",
       "  </style>\n",
       "\n",
       "    <script>\n",
       "      const buttonEl =\n",
       "        document.querySelector('#df-4d1e31c9-a8b1-44c8-9913-5766f8c01435 button.colab-df-convert');\n",
       "      buttonEl.style.display =\n",
       "        google.colab.kernel.accessAllowed ? 'block' : 'none';\n",
       "\n",
       "      async function convertToInteractive(key) {\n",
       "        const element = document.querySelector('#df-4d1e31c9-a8b1-44c8-9913-5766f8c01435');\n",
       "        const dataTable =\n",
       "          await google.colab.kernel.invokeFunction('convertToInteractive',\n",
       "                                                    [key], {});\n",
       "        if (!dataTable) return;\n",
       "\n",
       "        const docLinkHtml = 'Like what you see? Visit the ' +\n",
       "          '<a target=\"_blank\" href=https://colab.research.google.com/notebooks/data_table.ipynb>data table notebook</a>'\n",
       "          + ' to learn more about interactive tables.';\n",
       "        element.innerHTML = '';\n",
       "        dataTable['output_type'] = 'display_data';\n",
       "        await google.colab.output.renderOutput(dataTable, element);\n",
       "        const docLink = document.createElement('div');\n",
       "        docLink.innerHTML = docLinkHtml;\n",
       "        element.appendChild(docLink);\n",
       "      }\n",
       "    </script>\n",
       "  </div>\n",
       "\n",
       "\n",
       "<div id=\"df-4bf9075c-e4b2-4c0a-94c4-cf1130d48121\">\n",
       "  <button class=\"colab-df-quickchart\" onclick=\"quickchart('df-4bf9075c-e4b2-4c0a-94c4-cf1130d48121')\"\n",
       "            title=\"Suggest charts\"\n",
       "            style=\"display:none;\">\n",
       "\n",
       "<svg xmlns=\"http://www.w3.org/2000/svg\" height=\"24px\"viewBox=\"0 0 24 24\"\n",
       "     width=\"24px\">\n",
       "    <g>\n",
       "        <path d=\"M19 3H5c-1.1 0-2 .9-2 2v14c0 1.1.9 2 2 2h14c1.1 0 2-.9 2-2V5c0-1.1-.9-2-2-2zM9 17H7v-7h2v7zm4 0h-2V7h2v10zm4 0h-2v-4h2v4z\"/>\n",
       "    </g>\n",
       "</svg>\n",
       "  </button>\n",
       "\n",
       "<style>\n",
       "  .colab-df-quickchart {\n",
       "      --bg-color: #E8F0FE;\n",
       "      --fill-color: #1967D2;\n",
       "      --hover-bg-color: #E2EBFA;\n",
       "      --hover-fill-color: #174EA6;\n",
       "      --disabled-fill-color: #AAA;\n",
       "      --disabled-bg-color: #DDD;\n",
       "  }\n",
       "\n",
       "  [theme=dark] .colab-df-quickchart {\n",
       "      --bg-color: #3B4455;\n",
       "      --fill-color: #D2E3FC;\n",
       "      --hover-bg-color: #434B5C;\n",
       "      --hover-fill-color: #FFFFFF;\n",
       "      --disabled-bg-color: #3B4455;\n",
       "      --disabled-fill-color: #666;\n",
       "  }\n",
       "\n",
       "  .colab-df-quickchart {\n",
       "    background-color: var(--bg-color);\n",
       "    border: none;\n",
       "    border-radius: 50%;\n",
       "    cursor: pointer;\n",
       "    display: none;\n",
       "    fill: var(--fill-color);\n",
       "    height: 32px;\n",
       "    padding: 0;\n",
       "    width: 32px;\n",
       "  }\n",
       "\n",
       "  .colab-df-quickchart:hover {\n",
       "    background-color: var(--hover-bg-color);\n",
       "    box-shadow: 0 1px 2px rgba(60, 64, 67, 0.3), 0 1px 3px 1px rgba(60, 64, 67, 0.15);\n",
       "    fill: var(--button-hover-fill-color);\n",
       "  }\n",
       "\n",
       "  .colab-df-quickchart-complete:disabled,\n",
       "  .colab-df-quickchart-complete:disabled:hover {\n",
       "    background-color: var(--disabled-bg-color);\n",
       "    fill: var(--disabled-fill-color);\n",
       "    box-shadow: none;\n",
       "  }\n",
       "\n",
       "  .colab-df-spinner {\n",
       "    border: 2px solid var(--fill-color);\n",
       "    border-color: transparent;\n",
       "    border-bottom-color: var(--fill-color);\n",
       "    animation:\n",
       "      spin 1s steps(1) infinite;\n",
       "  }\n",
       "\n",
       "  @keyframes spin {\n",
       "    0% {\n",
       "      border-color: transparent;\n",
       "      border-bottom-color: var(--fill-color);\n",
       "      border-left-color: var(--fill-color);\n",
       "    }\n",
       "    20% {\n",
       "      border-color: transparent;\n",
       "      border-left-color: var(--fill-color);\n",
       "      border-top-color: var(--fill-color);\n",
       "    }\n",
       "    30% {\n",
       "      border-color: transparent;\n",
       "      border-left-color: var(--fill-color);\n",
       "      border-top-color: var(--fill-color);\n",
       "      border-right-color: var(--fill-color);\n",
       "    }\n",
       "    40% {\n",
       "      border-color: transparent;\n",
       "      border-right-color: var(--fill-color);\n",
       "      border-top-color: var(--fill-color);\n",
       "    }\n",
       "    60% {\n",
       "      border-color: transparent;\n",
       "      border-right-color: var(--fill-color);\n",
       "    }\n",
       "    80% {\n",
       "      border-color: transparent;\n",
       "      border-right-color: var(--fill-color);\n",
       "      border-bottom-color: var(--fill-color);\n",
       "    }\n",
       "    90% {\n",
       "      border-color: transparent;\n",
       "      border-bottom-color: var(--fill-color);\n",
       "    }\n",
       "  }\n",
       "</style>\n",
       "\n",
       "  <script>\n",
       "    async function quickchart(key) {\n",
       "      const quickchartButtonEl =\n",
       "        document.querySelector('#' + key + ' button');\n",
       "      quickchartButtonEl.disabled = true;  // To prevent multiple clicks.\n",
       "      quickchartButtonEl.classList.add('colab-df-spinner');\n",
       "      try {\n",
       "        const charts = await google.colab.kernel.invokeFunction(\n",
       "            'suggestCharts', [key], {});\n",
       "      } catch (error) {\n",
       "        console.error('Error during call to suggestCharts:', error);\n",
       "      }\n",
       "      quickchartButtonEl.classList.remove('colab-df-spinner');\n",
       "      quickchartButtonEl.classList.add('colab-df-quickchart-complete');\n",
       "    }\n",
       "    (() => {\n",
       "      let quickchartButtonEl =\n",
       "        document.querySelector('#df-4bf9075c-e4b2-4c0a-94c4-cf1130d48121 button');\n",
       "      quickchartButtonEl.style.display =\n",
       "        google.colab.kernel.accessAllowed ? 'block' : 'none';\n",
       "    })();\n",
       "  </script>\n",
       "</div>\n",
       "\n",
       "    </div>\n",
       "  </div>\n"
      ],
      "application/vnd.google.colaboratory.intrinsic+json": {
       "type": "dataframe",
       "summary": "{\n  \"name\": \"X_train\",\n  \"rows\": 5,\n  \"fields\": [\n    {\n      \"column\": \"title_text_join\",\n      \"properties\": {\n        \"dtype\": \"string\",\n        \"num_unique_values\": 5,\n        \"samples\": [\n          \"rob reiner best response going mexico going mexico , place thinks people good rapists criminals.from beginning campaign , repeate insulted southern neighbor , even going far promise build wall along u.s. mexican border claiming force mexico pay it.after republican nominee descended escalator podium officia announce candidacy last summer , said mexican people . mexico sends people , sending best , claimed . bringing drugs . bringing crime . rapists . , assume , good people . statement drew outrage across country immediat alienated hispanic voters.but wordsing back e ass.on wednesday , plans visit mexico gave director rob reiner opportunity hilari turn words . clea sending best mexico , reiner wrote twitter . sending liars . sending narcissists . sending sociopaths . clea sending best mexico . sending liars . sending narcissists . sending sociopaths . rob reiner augt 31 , time reiner slammed .during appearance real time bill maher earlier month , reiner offered explanation saying offensive things . easy behave way menta ill , reiner said . like trying lose . help . racist incapable keeping mouth shut . insults people wherever goes somehow avoids international incident mexico would miraculo.but talking get ready embarrass .featured image via screenshot\",\n          \"black racists tried shut threatening intimidating big mistake ! conservative badass girlfriend active duty navy seal hits back hard black racists attack social media result spectacular spot . enjoy !\",\n          \"flashback : bernie sanders \\u2019 socialist democrat party asks , \\u201c peace hitler ? \\u201d found college age daughter attending bernie sanders ra , would feelthebern tuition payments shut . parents say phase eventuae around , teaching kids anything . child campaigning declared democrat socialist , whose primary goal take earned give someone else , ashamed providing financial support self absorbed child.we live greatest nation earth . hard even fathom declared democrat socialist even registering polls . great flashback video taken nyc 1941 , posted weasel zippers . perfec illtrates pacifist , socialist democrat party . imagine world would look like today majority s took people seri ? spent last 7 years watching go nation nation apologizing greatness . need another pacifist leading nation , need strong leader restore international reputation . need believes greatness everything power reverse damage current done.make sure share video friends fam .\"\n        ],\n        \"semantic_type\": \"\",\n        \"description\": \"\"\n      }\n    }\n  ]\n}"
      }
     },
     "metadata": {},
     "execution_count": 6
    }
   ],
   "execution_count": null
  },
  {
   "cell_type": "code",
   "source": [
    "#@title Split of the dataset\n",
    "# Get counts for each dataset\n",
    "train_counts = y_train.value_counts().reset_index()\n",
    "val_counts = y_val.value_counts().reset_index()\n",
    "test_counts = y_test.value_counts().reset_index()\n",
    "train_counts.columns = ['Class', 'Frequency']\n",
    "val_counts.columns = ['Class', 'Frequency']\n",
    "test_counts.columns = ['Class', 'Frequency']\n",
    "\n",
    "real_values = train_counts['Frequency'][0]\n",
    "fake_values = train_counts['Frequency'][1]\n",
    "total_values = train_counts['Frequency'].sum()\n",
    "real_percentage = (real_values / total_values)\n",
    "fake_percentage = (fake_values / total_values)\n",
    "\n",
    "normalized_weights = torch.tensor([real_percentage, fake_percentage], dtype=torch.float)\n",
    "\n",
    "fig, ax = plt.subplots(1, 3, figsize=(18, 6))\n",
    "\n",
    "# Plot for train data\n",
    "ax[0].bar(train_counts['Class'], train_counts['Frequency'])\n",
    "ax[0].set_title('Train Data Counts')\n",
    "ax[0].set_xlabel('Class')\n",
    "ax[0].set_ylabel('Frequency')\n",
    "\n",
    "# Plot for validation data\n",
    "ax[1].bar(val_counts['Class'], val_counts['Frequency'])\n",
    "ax[1].set_title('Validation Data Counts')\n",
    "ax[1].set_xlabel('Class')\n",
    "ax[1].set_ylabel('Frequency')\n",
    "\n",
    "# Plot for test data\n",
    "ax[2].bar(test_counts['Class'], test_counts['Frequency'])\n",
    "ax[2].set_title('Test Data Counts')\n",
    "ax[2].set_xlabel('Class')\n",
    "ax[2].set_ylabel('Frequency')\n",
    "\n",
    "# Show the plots\n",
    "plt.tight_layout()\n",
    "plt.show()"
   ],
   "metadata": {
    "id": "MC9gtviLLxZh",
    "cellView": "form",
    "colab": {
     "base_uri": "https://localhost:8080/",
     "height": 544
    },
    "outputId": "63d02d64-88fa-4166-920b-b4ff9e27738c"
   },
   "id": "MC9gtviLLxZh",
   "execution_count": null,
   "outputs": [
    {
     "output_type": "display_data",
     "data": {
      "text/plain": [
       "<Figure size 1800x600 with 3 Axes>"
      ],
      "image/png": "[encoded data removed]"
     },
     "metadata": {}
    }
   ]
  },
  {
   "cell_type": "code",
   "source": [
    "#@title Dataloader\n",
    "class CustomDataset(Dataset):\n",
    "    def __init__(self, dataframe: pd.DataFrame, comment_str_title: str, tokenizer, target_variable: pd.DataFrame, max_token_len=256):\n",
    "        # assert isinstance(dataframe, pd.DataFrame), \"dataframe needs to be a pandas DataFrame for this code to work\"\n",
    "        # assert isinstance(target_variable, pd.DataFrame), \"target_variable needs to be a pandas DataFrame for this code to work\"\n",
    "\n",
    "        self.dataframe = dataframe\n",
    "        self.tokenizer = tokenizer\n",
    "        self.max_token_len = max_token_len\n",
    "        self.target_variable = target_variable\n",
    "        self.comment_str_title = comment_str_title\n",
    "\n",
    "    def chunk_text(self, text, max_length, stride):\n",
    "        tokens = self.tokenizer.encode_plus(\n",
    "            text,\n",
    "            add_special_tokens=False,\n",
    "            max_length=None,\n",
    "            truncation=False,\n",
    "            return_attention_mask=False,\n",
    "            return_token_type_ids=False\n",
    "        )['input_ids']\n",
    "\n",
    "        chunks = []\n",
    "        for i in range(0, len(tokens), stride):\n",
    "            chunk = tokens[i:i + max_length]\n",
    "            if len(chunk) < max_length:\n",
    "                chunk += [self.tokenizer.pad_token_id] * (max_length - len(chunk))  # Padding\n",
    "            chunks.append(chunk)\n",
    "        return chunks\n",
    "\n",
    "    def __len__(self):\n",
    "        \"\"\"Length of the dataset\"\"\"\n",
    "        return len(self.dataframe)\n",
    "\n",
    "    def __getitem__(self, index):\n",
    "        \"\"\"Get a single item\"\"\"\n",
    "        data_row = self.dataframe.iloc[index]\n",
    "        comment = str(data_row[self.comment_str_title])\n",
    "        data_row_target = torch.tensor(self.target_variable.iloc[index].values, dtype=torch.float)\n",
    "\n",
    "        # Split the comment into chunks\n",
    "        chunks = self.chunk_text(comment, max_length=self.max_token_len, stride=self.max_token_len // 2)\n",
    "\n",
    "        input_ids = []\n",
    "        attention_masks = []\n",
    "\n",
    "        for chunk in chunks:\n",
    "            # Here, `chunk` is already tokenized, so we directly create tensors\n",
    "            tokens = {\n",
    "                \"input_ids\": torch.tensor(chunk, dtype=torch.long),\n",
    "                \"attention_mask\": torch.tensor([1 if id != self.tokenizer.pad_token_id else 0 for id in chunk], dtype=torch.long)\n",
    "            }\n",
    "            input_ids.append(tokens[\"input_ids\"])\n",
    "            attention_masks.append(tokens[\"attention_mask\"])\n",
    "\n",
    "        return {\n",
    "            \"input_ids\": torch.stack(input_ids),\n",
    "            \"attention_masks\": torch.stack(attention_masks),\n",
    "            \"labels\": data_row_target\n",
    "        }\n",
    "\n",
    "# Model configuration\n",
    "model_name = MODEL_NAME\n",
    "tokenizer_model = AutoTokenizer.from_pretrained(model_name)\n",
    "\n",
    "# dataloaders for training, val, test\n",
    "dataset_loader_X_train = CustomDataset(\n",
    "    dataframe=X_train,\n",
    "    comment_str_title='title_text_join',\n",
    "    target_variable=y_train,\n",
    "    tokenizer=tokenizer_model,\n",
    "    max_token_len=256\n",
    ")\n",
    "dataset_loader_X_val = CustomDataset(\n",
    "    dataframe=X_val,\n",
    "    comment_str_title='title_text_join',\n",
    "    target_variable=y_val,\n",
    "    tokenizer=tokenizer_model,\n",
    "    max_token_len=256\n",
    ")\n",
    "dataset_loader_X_test = CustomDataset(\n",
    "    dataframe=X_test,\n",
    "    comment_str_title='title_text_join',\n",
    "    target_variable=y_test,\n",
    "    tokenizer=tokenizer_model,\n",
    "    max_token_len=256\n",
    ")\n",
    "\n",
    "# Test the dataset\n",
    "print(\"Dataset train length:\", len(dataset_loader_X_train))\n",
    "print(\"Dataset val length:\", len(dataset_loader_X_val))\n",
    "print(\"Dataset test length:\", len(dataset_loader_X_test))\n",
    "sample = dataset_loader_X_train[0]\n",
    "print(\"Sample input IDs shape:\", sample[\"input_ids\"].shape)\n",
    "print(\"Sample attention masks shape:\", sample[\"attention_masks\"].shape)\n",
    "print(\"Sample labels:\", sample[\"labels\"])\n"
   ],
   "metadata": {
    "id": "iB2SY0BdzVxt",
    "colab": {
     "base_uri": "https://localhost:8080/",
     "height": 371,
     "referenced_widgets": [
      "8db9b0d4d93e49b28f4dc1613eedefbb",
      "7a9a1bbf01584fc3bec48bfeff9dc83a",
      "1380918043ba4082a6601909cde9c6c5",
      "39bfcb988346421d96065d88a213dbff",
      "97772728549148aebbf17bf148a0de80",
      "374a0c4094cf45c89021cb312b78bf14",
      "dee6aad5678f4d3da630c10b92e469b6",
      "0c0b7f125dfb4e7e9f5b1b92d8f09001",
      "e58b805ce2b04f44bea05f90121956fc",
      "92c5cf4a151e414c900c7eb229e2a414",
      "350a9c54fd2b443695581afd026f5fe1",
      "5652540cc9834cca95ce92c94fcff139",
      "1f21d4e044464f388f06400c4bb071ec",
      "bc5b663305ed45bbb7cfd095455e3e20",
      "6e4229d98eeb43fc9588bb026e2ba6c2",
      "5c6f7f760ac744c59a9195f399eb7792",
      "3206731148454eb284f8e80f4027dca1",
      "88402dbeef29489b822f8a7863bcc42b",
      "1aecc4ad6aa34ca5be80b01e3db5c68b",
      "686f2fb00716474db0ab427686be14f8",
      "cced4578a6ea4933b97d5c275b0c0baa",
      "026d0b05ade44f8caa28377bb35c9fa7",
      "660a055a7124428fa49c0cf44beda8ad",
      "c9c07e0dd1de4642bce07e6e61445870",
      "acef17d517414bfca0843b77c28d9f2c",
      "526ef68570df4f3284010f4fe926c01b",
      "0e1e1505eb904321b334768523fc2b6c",
      "6d02433bc5524e03a3072050bb3c1e4a",
      "2793e2fa0a8a42d09bb78f3da58bb271",
      "1a6c0f22f2c3488cab2598b97e6a636d",
      "1a32acbaf2b44533a252e6654b38f5d4",
      "f9a6b4ea75214a73b981148e478e7811",
      "4cec7bd7ae6c4cda8a07ce4824ac7e9f",
      "db75bfbccdd646a5a18ee99a695ec68c",
      "133a0f11ad6548739063c8bb9f5f76a9",
      "a99a187745034c23ad86e6b5f02ceebe",
      "d111bde7a39d441793ab0b084b53d2d8",
      "4066e46456d54e06b65484bc1cb236c3",
      "3f9b9f13aff54cd992733efd5cf8ab81",
      "5946de619a1841c4b54d6d8622e4069b",
      "57bbecbdf29a4a39b4d0a20c822a53df",
      "e0e6aaf93e4d445cb05d2a9d6860ea99",
      "fdfbfd7414694d749c09289432786f87",
      "b62f5c39d877440cbae6315b5ee7a4d0"
     ]
    },
    "outputId": "a0e0a6e2-1dd9-4789-fb36-2d3a59d52df5"
   },
   "id": "iB2SY0BdzVxt",
   "execution_count": null,
   "outputs": [
    {
     "output_type": "stream",
     "name": "stderr",
     "text": [
      "/usr/local/lib/python3.10/dist-packages/huggingface_hub/utils/_auth.py:94: UserWarning: \n",
      "The secret `HF_TOKEN` does not exist in your Colab secrets.\n",
      "To authenticate with the Hugging Face Hub, create a token in your settings tab (https://huggingface.co/settings/tokens), set it as secret in your Google Colab and restart your session.\n",
      "You will be able to reuse this secret in all of your notebooks.\n",
      "Please note that authentication is recommended but still optional to access public models or datasets.\n",
      "  warnings.warn(\n"
     ]
    },
    {
     "output_type": "display_data",
     "data": {
      "text/plain": [
       "tokenizer_config.json:   0%|          | 0.00/48.0 [00:00<?, ?B/s]"
      ],
      "application/vnd.jupyter.widget-view+json": {
       "version_major": 2,
       "version_minor": 0,
       "model_id": "8db9b0d4d93e49b28f4dc1613eedefbb"
      }
     },
     "metadata": {}
    },
    {
     "output_type": "display_data",
     "data": {
      "text/plain": [
       "config.json:   0%|          | 0.00/483 [00:00<?, ?B/s]"
      ],
      "application/vnd.jupyter.widget-view+json": {
       "version_major": 2,
       "version_minor": 0,
       "model_id": "5652540cc9834cca95ce92c94fcff139"
      }
     },
     "metadata": {}
    },
    {
     "output_type": "display_data",
     "data": {
      "text/plain": [
       "vocab.txt:   0%|          | 0.00/232k [00:00<?, ?B/s]"
      ],
      "application/vnd.jupyter.widget-view+json": {
       "version_major": 2,
       "version_minor": 0,
       "model_id": "660a055a7124428fa49c0cf44beda8ad"
      }
     },
     "metadata": {}
    },
    {
     "output_type": "display_data",
     "data": {
      "text/plain": [
       "tokenizer.json:   0%|          | 0.00/466k [00:00<?, ?B/s]"
      ],
      "application/vnd.jupyter.widget-view+json": {
       "version_major": 2,
       "version_minor": 0,
       "model_id": "db75bfbccdd646a5a18ee99a695ec68c"
      }
     },
     "metadata": {}
    },
    {
     "output_type": "stream",
     "name": "stderr",
     "text": [
      "Token indices sequence length is longer than the specified maximum sequence length for this model (530 > 512). Running this sequence through the model will result in indexing errors\n"
     ]
    },
    {
     "output_type": "stream",
     "name": "stdout",
     "text": [
      "Dataset train length: 8028\n",
      "Dataset val length: 5734\n",
      "Dataset test length: 5735\n",
      "Sample input IDs shape: torch.Size([5, 256])\n",
      "Sample attention masks shape: torch.Size([5, 256])\n",
      "Sample labels: tensor([1.])\n"
     ]
    }
   ]
  },
  {
   "cell_type": "code",
   "source": [
    "# value_review = 22\n",
    "# print(X_train.iloc[value_review])\n",
    "# print(y_train.iloc[value_review])\n",
    "# dataset_loader_X_train.__getitem__(value_review)"
   ],
   "metadata": {
    "id": "rGMaOjuPzYix"
   },
   "id": "rGMaOjuPzYix",
   "execution_count": null,
   "outputs": []
  },
  {
   "cell_type": "code",
   "source": [
    "#@title Batches\n",
    "def custom_collate_fn(batch: List[Dict]) -> Dict:\n",
    "    \"\"\"\n",
    "    Custom collate function to handle variable number of chunks per sample.\n",
    "    \"\"\"\n",
    "    # Get the max number of chunks in this batch\n",
    "    max_chunks = max(sample[\"input_ids\"].size(0) for sample in batch)\n",
    "\n",
    "    # Get batch size and sequence length\n",
    "    batch_size = len(batch)\n",
    "    seq_length = batch[0][\"input_ids\"].size(1)\n",
    "\n",
    "    # Initialize tensors to hold padded data\n",
    "    padded_input_ids = torch.zeros((batch_size, max_chunks, seq_length), dtype=torch.long)\n",
    "    padded_attention_masks = torch.zeros((batch_size, max_chunks, seq_length), dtype=torch.long)\n",
    "\n",
    "    # Collect labels\n",
    "    labels = torch.stack([sample[\"labels\"] for sample in batch])\n",
    "\n",
    "    # Create chunk attention mask to identify valid chunks\n",
    "    chunk_attention_mask = torch.zeros((batch_size, max_chunks), dtype=torch.long)\n",
    "\n",
    "    # Fill in the tensors with actual data\n",
    "    for i, sample in enumerate(batch):\n",
    "        num_chunks = sample[\"input_ids\"].size(0)\n",
    "        padded_input_ids[i, :num_chunks, :] = sample[\"input_ids\"]\n",
    "        padded_attention_masks[i, :num_chunks, :] = sample[\"attention_masks\"]\n",
    "        chunk_attention_mask[i, :num_chunks] = 1\n",
    "\n",
    "    return {\n",
    "        \"input_ids\": padded_input_ids,\n",
    "        \"attention_masks\": padded_attention_masks,\n",
    "        \"chunk_attention_mask\": chunk_attention_mask,\n",
    "        \"labels\": labels\n",
    "    }\n",
    "\n",
    "\n",
    "# Create DataLoader with custom collate function\n",
    "train_loader = DataLoader(\n",
    "    dataset=dataset_loader_X_train,\n",
    "    batch_size=BATCH_SIZE,  # Adjust based on your GPU memory\n",
    "    shuffle=True,\n",
    "    collate_fn=custom_collate_fn,\n",
    "    num_workers= NUM_WORKERS,  # Adjust based on your CPU cores\n",
    "    pin_memory=True,  # Set to True if using GPU\n",
    "    drop_last=True\n",
    ")\n",
    "val_loader = DataLoader(\n",
    "    dataset=dataset_loader_X_val,\n",
    "    batch_size=BATCH_SIZE,\n",
    "    shuffle=True,\n",
    "    collate_fn=custom_collate_fn,\n",
    "    num_workers= NUM_WORKERS,\n",
    "    pin_memory=True,\n",
    "    drop_last=True\n",
    ")\n",
    "test_loader = DataLoader(\n",
    "    dataset=dataset_loader_X_test,\n",
    "    batch_size=BATCH_SIZE,\n",
    "    shuffle=False,\n",
    "    collate_fn=custom_collate_fn,\n",
    "    num_workers= NUM_WORKERS,\n",
    "    pin_memory=True,\n",
    "    drop_last=True\n",
    ")\n",
    "\n",
    "print(len(train_loader), \"train_loader batch\")\n",
    "print(len(val_loader), \"val_loader batch\")\n",
    "print(len(test_loader), \"test_loader batch\")"
   ],
   "metadata": {
    "id": "uVXGGEW4Hngk",
    "colab": {
     "base_uri": "https://localhost:8080/"
    },
    "outputId": "75e45deb-c44c-4a08-b7c7-6cd56dd0ee09"
   },
   "id": "uVXGGEW4Hngk",
   "execution_count": null,
   "outputs": [
    {
     "output_type": "stream",
     "name": "stdout",
     "text": [
      "669 train_loader batch\n",
      "477 val_loader batch\n",
      "477 test_loader batch\n"
     ]
    }
   ]
  },
  {
   "cell_type": "code",
   "source": [
    "#@title Model architecture\n",
    "\n",
    "class ClassifierModel(nn.Module):\n",
    "    def __init__(self, config):\n",
    "        super(ClassifierModel, self).__init__()\n",
    "        self.config = config\n",
    "\n",
    "        # Pretrained model\n",
    "        self.pretrained_model = AutoModel.from_pretrained(config['model_name'], return_dict=True)\n",
    "\n",
    "        # Layers\n",
    "        self.hidden = nn.Linear(self.pretrained_model.config.hidden_size, self.pretrained_model.config.hidden_size)\n",
    "        self.classification = nn.Linear(self.pretrained_model.config.hidden_size, self.config['n_labels'])\n",
    "\n",
    "        # Initialize weights\n",
    "        nn.init.xavier_uniform_(self.hidden.weight)  # Use Xavier initialization\n",
    "        nn.init.zeros_(self.hidden.bias)  # Initialize bias to zero\n",
    "        nn.init.xavier_uniform_(self.classification.weight)  # Use Xavier initialization\n",
    "        nn.init.zeros_(self.classification.bias)  # Initialize bias to zero\n",
    "\n",
    "        # Loss function\n",
    "        self.loss_function = nn.BCEWithLogitsLoss()\n",
    "\n",
    "        # Dropout\n",
    "        self.dropout = nn.Dropout(config['dropout_vals'])\n",
    "\n",
    "    def forward(self, input_ids, attention_mask, chunk_attention_mask=None):\n",
    "        batch_size, num_chunks, seq_length = input_ids.size()\n",
    "        input_ids = input_ids.view(-1, seq_length)\n",
    "        attention_mask = attention_mask.view(-1, seq_length)\n",
    "\n",
    "        # Forward pass through the pretrained model\n",
    "        output = self.pretrained_model(input_ids=input_ids, attention_mask=attention_mask)\n",
    "        pooled_output = torch.mean(output.last_hidden_state, 1)\n",
    "        pooled_output = pooled_output.view(batch_size, num_chunks, -1)\n",
    "        if chunk_attention_mask is not None:\n",
    "            chunk_attention_mask = chunk_attention_mask.float().unsqueeze(-1)\n",
    "            pooled_output = (pooled_output * chunk_attention_mask).sum(dim=1) / chunk_attention_mask.sum(dim=1).clamp(min=1)\n",
    "        else:\n",
    "            pooled_output = pooled_output.mean(dim=1)\n",
    "\n",
    "        # Classification layers\n",
    "        pooled_output = self.dropout(pooled_output)\n",
    "        pooled_output = self.hidden(pooled_output)\n",
    "        pooled_output = F.relu(pooled_output)\n",
    "        pooled_output = F.normalize(pooled_output)\n",
    "        logits = self.classification(pooled_output)\n",
    "        logits = F.sigmoid(logits)\n",
    "\n",
    "        return logits\n",
    "\n",
    "\n",
    "\n",
    "print(\"y_train shape:\", y_train.shape)\n",
    "print(\"Sample label:\", y_train.iloc[0])\n",
    "\n",
    "config = {\n",
    "    \"model_name\": MODEL_NAME,\n",
    "    \"n_labels\": NUM_LABELS,\n",
    "    \"lr\": LEARNING_RATE_INIT,\n",
    "    \"w_decay\": WEIGHT_DECAY_INIT,\n",
    "    \"dropout_vals\": DROPOUT_VALUE_INIT,\n",
    "    \"batch_size\": BATCH_SIZE,\n",
    "    \"epochs\": EPOCHS,\n",
    "    \"train_size\": len(dataset_loader_X_train),\n",
    "    \"warmup\": WARMUP_RATIO_INIT\n",
    "}\n",
    "\n",
    "\n",
    "# Reinitialize the model with the updated config\n",
    "model = ClassifierModel(config)\n",
    "model.to(device)\n",
    "model"
   ],
   "metadata": {
    "id": "rpIIZ9ZwcgQE",
    "colab": {
     "base_uri": "https://localhost:8080/",
     "height": 709,
     "referenced_widgets": [
      "5e737a1e0c4d4de4bbe0371fe48b26e2",
      "18c348e8170f44bea05f5379f5e5d6d0",
      "96bce75a8e1f4fb2ad8991a99758f9cd",
      "e18b3832d4c141c993dc27a768a5dbd1",
      "f0325a4d43354b1fa2c25893092f273f",
      "f6cc9660d69847a98060c283ef7526df",
      "7eed3b5694e843a8aeafa8f4b39bbdde",
      "7b172a7c98b549c3834489d3176229fc",
      "32558ef41a0147dd808b9ca5130fd96e",
      "a3b91af237af418dba0b037cf086977f",
      "22d98a50fb6740399c67aa138a2a4f21"
     ]
    },
    "outputId": "e6b1031d-a499-4e63-d22c-d01e9f59fffc"
   },
   "id": "rpIIZ9ZwcgQE",
   "execution_count": null,
   "outputs": [
    {
     "output_type": "stream",
     "name": "stdout",
     "text": [
      "y_train shape: (8028, 1)\n",
      "Sample label: target_variable    1\n",
      "Name: 0, dtype: int64\n"
     ]
    },
    {
     "output_type": "display_data",
     "data": {
      "text/plain": [
       "model.safetensors:   0%|          | 0.00/268M [00:00<?, ?B/s]"
      ],
      "application/vnd.jupyter.widget-view+json": {
       "version_major": 2,
       "version_minor": 0,
       "model_id": "5e737a1e0c4d4de4bbe0371fe48b26e2"
      }
     },
     "metadata": {}
    },
    {
     "output_type": "execute_result",
     "data": {
      "text/plain": [
       "ClassifierModel(\n",
       "  (pretrained_model): DistilBertModel(\n",
       "    (embeddings): Embeddings(\n",
       "      (word_embeddings): Embedding(30522, 768, padding_idx=0)\n",
       "      (position_embeddings): Embedding(512, 768)\n",
       "      (LayerNorm): LayerNorm((768,), eps=1e-12, elementwise_affine=True)\n",
       "      (dropout): Dropout(p=0.1, inplace=False)\n",
       "    )\n",
       "    (transformer): Transformer(\n",
       "      (layer): ModuleList(\n",
       "        (0-5): 6 x TransformerBlock(\n",
       "          (attention): DistilBertSdpaAttention(\n",
       "            (dropout): Dropout(p=0.1, inplace=False)\n",
       "            (q_lin): Linear(in_features=768, out_features=768, bias=True)\n",
       "            (k_lin): Linear(in_features=768, out_features=768, bias=True)\n",
       "            (v_lin): Linear(in_features=768, out_features=768, bias=True)\n",
       "            (out_lin): Linear(in_features=768, out_features=768, bias=True)\n",
       "          )\n",
       "          (sa_layer_norm): LayerNorm((768,), eps=1e-12, elementwise_affine=True)\n",
       "          (ffn): FFN(\n",
       "            (dropout): Dropout(p=0.1, inplace=False)\n",
       "            (lin1): Linear(in_features=768, out_features=3072, bias=True)\n",
       "            (lin2): Linear(in_features=3072, out_features=768, bias=True)\n",
       "            (activation): GELUActivation()\n",
       "          )\n",
       "          (output_layer_norm): LayerNorm((768,), eps=1e-12, elementwise_affine=True)\n",
       "        )\n",
       "      )\n",
       "    )\n",
       "  )\n",
       "  (hidden): Linear(in_features=768, out_features=768, bias=True)\n",
       "  (classification): Linear(in_features=768, out_features=1, bias=True)\n",
       "  (loss_function): BCEWithLogitsLoss()\n",
       "  (dropout): Dropout(p=0.1, inplace=False)\n",
       ")"
      ]
     },
     "metadata": {},
     "execution_count": 11
    }
   ]
  },
  {
   "cell_type": "code",
   "source": [
    "# Freeze all layers initially\n",
    "for param in model.pretrained_model.parameters():\n",
    "    param.requires_grad = False\n",
    "\n",
    "# Enable only the 5th layer (index 4, zero-based indexing)\n",
    "layer_idx = 5\n",
    "for param in model.pretrained_model.transformer.layer[layer_idx].parameters():\n",
    "    param.requires_grad = True\n",
    "\n",
    "# Verify which layers are trainable\n",
    "print(\"Trainable Parameters:\")\n",
    "for name, param in model.named_parameters():\n",
    "    status = \"Trainable\" if param.requires_grad else \"Frozen\"\n",
    "    print(f\"{name}: {status}\")"
   ],
   "metadata": {
    "id": "lW51WO_nIY76",
    "colab": {
     "base_uri": "https://localhost:8080/"
    },
    "outputId": "3e0b7c41-5b95-480f-f436-edf0455c8789"
   },
   "id": "lW51WO_nIY76",
   "execution_count": null,
   "outputs": [
    {
     "output_type": "stream",
     "name": "stdout",
     "text": [
      "Trainable Parameters:\n",
      "pretrained_model.embeddings.word_embeddings.weight: Frozen\n",
      "pretrained_model.embeddings.position_embeddings.weight: Frozen\n",
      "pretrained_model.embeddings.LayerNorm.weight: Frozen\n",
      "pretrained_model.embeddings.LayerNorm.bias: Frozen\n",
      "pretrained_model.transformer.layer.0.attention.q_lin.weight: Frozen\n",
      "pretrained_model.transformer.layer.0.attention.q_lin.bias: Frozen\n",
      "pretrained_model.transformer.layer.0.attention.k_lin.weight: Frozen\n",
      "pretrained_model.transformer.layer.0.attention.k_lin.bias: Frozen\n",
      "pretrained_model.transformer.layer.0.attention.v_lin.weight: Frozen\n",
      "pretrained_model.transformer.layer.0.attention.v_lin.bias: Frozen\n",
      "pretrained_model.transformer.layer.0.attention.out_lin.weight: Frozen\n",
      "pretrained_model.transformer.layer.0.attention.out_lin.bias: Frozen\n",
      "pretrained_model.transformer.layer.0.sa_layer_norm.weight: Frozen\n",
      "pretrained_model.transformer.layer.0.sa_layer_norm.bias: Frozen\n",
      "pretrained_model.transformer.layer.0.ffn.lin1.weight: Frozen\n",
      "pretrained_model.transformer.layer.0.ffn.lin1.bias: Frozen\n",
      "pretrained_model.transformer.layer.0.ffn.lin2.weight: Frozen\n",
      "pretrained_model.transformer.layer.0.ffn.lin2.bias: Frozen\n",
      "pretrained_model.transformer.layer.0.output_layer_norm.weight: Frozen\n",
      "pretrained_model.transformer.layer.0.output_layer_norm.bias: Frozen\n",
      "pretrained_model.transformer.layer.1.attention.q_lin.weight: Frozen\n",
      "pretrained_model.transformer.layer.1.attention.q_lin.bias: Frozen\n",
      "pretrained_model.transformer.layer.1.attention.k_lin.weight: Frozen\n",
      "pretrained_model.transformer.layer.1.attention.k_lin.bias: Frozen\n",
      "pretrained_model.transformer.layer.1.attention.v_lin.weight: Frozen\n",
      "pretrained_model.transformer.layer.1.attention.v_lin.bias: Frozen\n",
      "pretrained_model.transformer.layer.1.attention.out_lin.weight: Frozen\n",
      "pretrained_model.transformer.layer.1.attention.out_lin.bias: Frozen\n",
      "pretrained_model.transformer.layer.1.sa_layer_norm.weight: Frozen\n",
      "pretrained_model.transformer.layer.1.sa_layer_norm.bias: Frozen\n",
      "pretrained_model.transformer.layer.1.ffn.lin1.weight: Frozen\n",
      "pretrained_model.transformer.layer.1.ffn.lin1.bias: Frozen\n",
      "pretrained_model.transformer.layer.1.ffn.lin2.weight: Frozen\n",
      "pretrained_model.transformer.layer.1.ffn.lin2.bias: Frozen\n",
      "pretrained_model.transformer.layer.1.output_layer_norm.weight: Frozen\n",
      "pretrained_model.transformer.layer.1.output_layer_norm.bias: Frozen\n",
      "pretrained_model.transformer.layer.2.attention.q_lin.weight: Frozen\n",
      "pretrained_model.transformer.layer.2.attention.q_lin.bias: Frozen\n",
      "pretrained_model.transformer.layer.2.attention.k_lin.weight: Frozen\n",
      "pretrained_model.transformer.layer.2.attention.k_lin.bias: Frozen\n",
      "pretrained_model.transformer.layer.2.attention.v_lin.weight: Frozen\n",
      "pretrained_model.transformer.layer.2.attention.v_lin.bias: Frozen\n",
      "pretrained_model.transformer.layer.2.attention.out_lin.weight: Frozen\n",
      "pretrained_model.transformer.layer.2.attention.out_lin.bias: Frozen\n",
      "pretrained_model.transformer.layer.2.sa_layer_norm.weight: Frozen\n",
      "pretrained_model.transformer.layer.2.sa_layer_norm.bias: Frozen\n",
      "pretrained_model.transformer.layer.2.ffn.lin1.weight: Frozen\n",
      "pretrained_model.transformer.layer.2.ffn.lin1.bias: Frozen\n",
      "pretrained_model.transformer.layer.2.ffn.lin2.weight: Frozen\n",
      "pretrained_model.transformer.layer.2.ffn.lin2.bias: Frozen\n",
      "pretrained_model.transformer.layer.2.output_layer_norm.weight: Frozen\n",
      "pretrained_model.transformer.layer.2.output_layer_norm.bias: Frozen\n",
      "pretrained_model.transformer.layer.3.attention.q_lin.weight: Frozen\n",
      "pretrained_model.transformer.layer.3.attention.q_lin.bias: Frozen\n",
      "pretrained_model.transformer.layer.3.attention.k_lin.weight: Frozen\n",
      "pretrained_model.transformer.layer.3.attention.k_lin.bias: Frozen\n",
      "pretrained_model.transformer.layer.3.attention.v_lin.weight: Frozen\n",
      "pretrained_model.transformer.layer.3.attention.v_lin.bias: Frozen\n",
      "pretrained_model.transformer.layer.3.attention.out_lin.weight: Frozen\n",
      "pretrained_model.transformer.layer.3.attention.out_lin.bias: Frozen\n",
      "pretrained_model.transformer.layer.3.sa_layer_norm.weight: Frozen\n",
      "pretrained_model.transformer.layer.3.sa_layer_norm.bias: Frozen\n",
      "pretrained_model.transformer.layer.3.ffn.lin1.weight: Frozen\n",
      "pretrained_model.transformer.layer.3.ffn.lin1.bias: Frozen\n",
      "pretrained_model.transformer.layer.3.ffn.lin2.weight: Frozen\n",
      "pretrained_model.transformer.layer.3.ffn.lin2.bias: Frozen\n",
      "pretrained_model.transformer.layer.3.output_layer_norm.weight: Frozen\n",
      "pretrained_model.transformer.layer.3.output_layer_norm.bias: Frozen\n",
      "pretrained_model.transformer.layer.4.attention.q_lin.weight: Frozen\n",
      "pretrained_model.transformer.layer.4.attention.q_lin.bias: Frozen\n",
      "pretrained_model.transformer.layer.4.attention.k_lin.weight: Frozen\n",
      "pretrained_model.transformer.layer.4.attention.k_lin.bias: Frozen\n",
      "pretrained_model.transformer.layer.4.attention.v_lin.weight: Frozen\n",
      "pretrained_model.transformer.layer.4.attention.v_lin.bias: Frozen\n",
      "pretrained_model.transformer.layer.4.attention.out_lin.weight: Frozen\n",
      "pretrained_model.transformer.layer.4.attention.out_lin.bias: Frozen\n",
      "pretrained_model.transformer.layer.4.sa_layer_norm.weight: Frozen\n",
      "pretrained_model.transformer.layer.4.sa_layer_norm.bias: Frozen\n",
      "pretrained_model.transformer.layer.4.ffn.lin1.weight: Frozen\n",
      "pretrained_model.transformer.layer.4.ffn.lin1.bias: Frozen\n",
      "pretrained_model.transformer.layer.4.ffn.lin2.weight: Frozen\n",
      "pretrained_model.transformer.layer.4.ffn.lin2.bias: Frozen\n",
      "pretrained_model.transformer.layer.4.output_layer_norm.weight: Frozen\n",
      "pretrained_model.transformer.layer.4.output_layer_norm.bias: Frozen\n",
      "pretrained_model.transformer.layer.5.attention.q_lin.weight: Trainable\n",
      "pretrained_model.transformer.layer.5.attention.q_lin.bias: Trainable\n",
      "pretrained_model.transformer.layer.5.attention.k_lin.weight: Trainable\n",
      "pretrained_model.transformer.layer.5.attention.k_lin.bias: Trainable\n",
      "pretrained_model.transformer.layer.5.attention.v_lin.weight: Trainable\n",
      "pretrained_model.transformer.layer.5.attention.v_lin.bias: Trainable\n",
      "pretrained_model.transformer.layer.5.attention.out_lin.weight: Trainable\n",
      "pretrained_model.transformer.layer.5.attention.out_lin.bias: Trainable\n",
      "pretrained_model.transformer.layer.5.sa_layer_norm.weight: Trainable\n",
      "pretrained_model.transformer.layer.5.sa_layer_norm.bias: Trainable\n",
      "pretrained_model.transformer.layer.5.ffn.lin1.weight: Trainable\n",
      "pretrained_model.transformer.layer.5.ffn.lin1.bias: Trainable\n",
      "pretrained_model.transformer.layer.5.ffn.lin2.weight: Trainable\n",
      "pretrained_model.transformer.layer.5.ffn.lin2.bias: Trainable\n",
      "pretrained_model.transformer.layer.5.output_layer_norm.weight: Trainable\n",
      "pretrained_model.transformer.layer.5.output_layer_norm.bias: Trainable\n",
      "hidden.weight: Trainable\n",
      "hidden.bias: Trainable\n",
      "classification.weight: Trainable\n",
      "classification.bias: Trainable\n"
     ]
    }
   ]
  },
  {
   "cell_type": "code",
   "source": [
    "def pytorch_metrics_calculations(all_labels, all_preds):\n",
    "    \"\"\"Convert to pytorch tensors if not already\"\"\"\n",
    "\n",
    "    # convert to bool\n",
    "    all_preds = torch.tensor(all_preds, dtype=torch.bool)\n",
    "    all_labels = torch.tensor(all_labels, dtype=torch.bool)\n",
    "\n",
    "    # predictions\n",
    "    true_positives = torch.logical_and(all_preds == 1, all_labels == 1).sum().float()\n",
    "    predicted_positives = (all_preds == 1).sum().float()\n",
    "    actual_positives = (all_labels == 1).sum().float()\n",
    "\n",
    "    # Calculate accuracy\n",
    "    accuracy = (all_preds == all_labels).float().mean()\n",
    "\n",
    "    # precision and recall\n",
    "    precision = true_positives / predicted_positives if predicted_positives > 0 else torch.tensor(0.0)\n",
    "    recall = true_positives / actual_positives if actual_positives > 0 else torch.tensor(0.0)\n",
    "\n",
    "    # Calculate F1 score\n",
    "    f1 = 2 * (precision * recall) / (precision + recall) if (precision + recall) > 0 else torch.tensor(0.0)\n",
    "\n",
    "    return accuracy, f1, precision, recall, true_positives, predicted_positives, actual_positives\n",
    "\n",
    "def train_model(model, dataloader, optimizer, scheduler, device):\n",
    "    model.train()\n",
    "    total_loss = 0\n",
    "    all_preds, all_labels = [], []\n",
    "\n",
    "    for batch in dataloader:\n",
    "        if len(batch['input_ids']) < dataloader.batch_size:\n",
    "            break\n",
    "\n",
    "        input_ids = batch['input_ids'].to(device)\n",
    "        attention_masks = batch['attention_masks'].to(device)\n",
    "        chunk_attention_mask = batch['chunk_attention_mask'].to(device)\n",
    "        labels = batch['labels'].float().to(device)\n",
    "\n",
    "        optimizer.zero_grad()\n",
    "        logits = model(input_ids, attention_masks, chunk_attention_mask)\n",
    "        loss = model.loss_function(logits, labels)\n",
    "        loss.backward()\n",
    "\n",
    "        optimizer.step()\n",
    "\n",
    "\n",
    "        total_loss += loss.item()\n",
    "        # preds = (torch.sigmoid(logits) > THRESHOLD_PROBABILITIES_MODEL).float()\n",
    "        preds = (logits > THRESHOLD_PROBABILITIES_MODEL).float()\n",
    "\n",
    "        all_preds.extend(preds.squeeze().tolist())\n",
    "        all_labels.extend(labels.squeeze().tolist())\n",
    "\n",
    "    avg_loss = total_loss / len(dataloader)\n",
    "    accuracy, f1, _, _, _, _, _ = pytorch_metrics_calculations(all_labels, all_preds)\n",
    "    return avg_loss, accuracy, f1\n",
    "\n",
    "def evaluate_model(model, dataloader, device):\n",
    "    model.eval()\n",
    "    total_loss = 0\n",
    "    all_preds, all_labels, all_predict_prob = [], [], []\n",
    "\n",
    "\n",
    "    with torch.no_grad():\n",
    "        for batch in dataloader:\n",
    "            input_ids = batch['input_ids'].to(device)\n",
    "            attention_masks = batch['attention_masks'].to(device)\n",
    "            chunk_attention_mask = batch['chunk_attention_mask'].to(device)\n",
    "            labels = batch['labels'].float().to(device)\n",
    "            logits = model(input_ids, attention_masks, chunk_attention_mask)\n",
    "            # preds = (torch.sigmoid(logits) > THRESHOLD_PROBABILITIES_MODEL).float()\n",
    "            preds = (logits > THRESHOLD_PROBABILITIES_MODEL).float()\n",
    "            all_preds.extend(preds.squeeze().tolist())\n",
    "            all_labels.extend(labels.squeeze().tolist())\n",
    "            all_predict_prob.extend(logits.squeeze().tolist())\n",
    "\n",
    "    accuracy, f1, _, _, _, _, _ = pytorch_metrics_calculations(all_labels, all_preds)\n",
    "    return accuracy, f1, all_preds, all_labels, all_predict_prob"
   ],
   "metadata": {
    "id": "z_JtW5bmAPnK"
   },
   "id": "z_JtW5bmAPnK",
   "execution_count": null,
   "outputs": []
  },
  {
   "cell_type": "code",
   "source": [
    "def objective(trial):\n",
    "    \"\"\"hyperparameters for the training models\"\"\"\n",
    "    lr = trial.suggest_float(\"lr\", LEARNING_RATE_INIT, LEARNING_RATE_END, step=(LEARNING_RATE_END - LEARNING_RATE_INIT) / 4, log=False)\n",
    "    w_decay = trial.suggest_float(\"w_decay\", WEIGHT_DECAY_INIT, WEIGHT_DECAY_END, step=(WEIGHT_DECAY_END - WEIGHT_DECAY_INIT) / 4, log=False)\n",
    "    dropout_vals = trial.suggest_float(\"dropout_vals\", DROPOUT_VALUE_INIT, DROPOUT_VALUE_END, log=False)\n",
    "    warmup = trial.suggest_float(\"warmup\", WARMUP_RATIO_INIT, WARMUP_RATIO_END, log=False)\n",
    "    optimizer_name = trial.suggest_categorical(\"optimizer_name\", [OPTIMIZER_NAME_1, OPTIMIZER_NAME_2, OPTIMIZER_NAME_3])\n",
    "\n",
    "    # metric to optimize\n",
    "    best_f1 = 0\n",
    "    early_stop_counter = 0\n",
    "\n",
    "    # Update config with trial values\n",
    "    config = {\n",
    "        \"model_name\": MODEL_NAME,\n",
    "        \"lr\": lr,\n",
    "        \"w_decay\": w_decay,\n",
    "        \"dropout_vals\": dropout_vals,\n",
    "        \"batch_size\": BATCH_SIZE,\n",
    "        \"warmup\": warmup,\n",
    "        \"epochs\": EPOCHS,\n",
    "        \"train_size\": len(dataset_loader_X_train)\n",
    "    }\n",
    "\n",
    "    # Select optimizer\n",
    "    if optimizer_name == \"AdamW\":\n",
    "        optimizer = AdamW(model.parameters(), lr=config['lr'], weight_decay=config['w_decay'])\n",
    "    elif optimizer_name == \"SGD\":\n",
    "        optimizer = SGD(model.parameters(), lr=config['lr'], weight_decay=config['w_decay'], momentum=0.9)\n",
    "    elif optimizer_name == \"RMSprop\":\n",
    "        optimizer = RMSprop(model.parameters(), lr=config['lr'], weight_decay=config['w_decay'])\n",
    "\n",
    "    total_steps = config['train_size'] // config['batch_size']\n",
    "    warmup_steps = int(total_steps * config['warmup'])\n",
    "    scheduler = get_linear_schedule_with_warmup(optimizer, num_warmup_steps=warmup_steps, num_training_steps=total_steps)\n",
    "\n",
    "    wandb.init(\n",
    "        project=NAME_EXPERIMENTS,\n",
    "        config={\n",
    "            \"model_name\": config['model_name'],\n",
    "            \"learning_rate\": config['lr'],\n",
    "            \"batch_size\": config['batch_size'],\n",
    "            \"dropout\": config['dropout_vals'],\n",
    "            \"epochs\": config['epochs'],\n",
    "            \"weight_decay\": config['w_decay'],\n",
    "            \"warmup\": config['warmup'],\n",
    "            \"dataset\": DATASET_NAME,\n",
    "            \"optimizer\": optimizer_name,\n",
    "            \"COMMENTS\": COMMENTS\n",
    "        },\n",
    "        name=f\"training_{NAME_EXPERIMENTS}_trial_{trial.number}\"\n",
    "    )\n",
    "\n",
    "    # Training loop\n",
    "    with mlflow.start_run(run_name = \"roberta_model\"):\n",
    "        mlflow.log_params({\"model_name\": config['model_name'],\n",
    "                        \"learning_rate\": config['lr'],\n",
    "                        \"batch_size\": config['batch_size'],\n",
    "                        \"dropout\": config['dropout_vals'],\n",
    "                        \"epochs\": config['epochs'],\n",
    "                        \"learning_rate\": config['lr'],\n",
    "                        \"weight_decay\": config['w_decay'],\n",
    "                        \"warmup\": config['warmup'],\n",
    "                        \"dataset\":  DATASET_NAME,\n",
    "                        \"optimizer\": optimizer_name\n",
    "                        })\n",
    "\n",
    "        # running the epochs\n",
    "        for epoch in range(config['epochs']):\n",
    "            train_loss, train_accuracy, train_f1 = train_model(model, train_loader, optimizer, scheduler, device)\n",
    "            print(f\"Epoch {epoch+1}: Train Loss={train_loss}, Accuracy={train_accuracy}, F1 Score={train_f1}\")\n",
    "            val_accuracy, val_f1, _, _, _  = evaluate_model(model, val_loader, device)\n",
    "            print(f\"Epoch {epoch+1}: Accuracy={val_accuracy}, F1 Score={val_f1}\")\n",
    "            scheduler.step()\n",
    "\n",
    "            # Log metrics to MLflow\n",
    "            mlflow.log_metrics({\n",
    "                \"train_loss\": train_loss,\n",
    "                \"train_accuracy\": train_accuracy,\n",
    "                \"train_f1\": train_f1,\n",
    "                \"val_accuracy\": val_accuracy,\n",
    "                \"val_f1\": val_f1\n",
    "            }, step=epoch)\n",
    "\n",
    "            # log for weight and biases\n",
    "            wandb.log({\n",
    "                \"epochs\": epoch + 1,\n",
    "                \"train_loss\": train_loss,\n",
    "                \"train_accuracy\": train_accuracy,\n",
    "                \"train_f1\": train_f1,\n",
    "                \"val_accuracy\": val_accuracy,\n",
    "                \"val_f1\": val_f1\n",
    "            })\n",
    "\n",
    "            # choose the best metric\n",
    "            best_f1 = max(best_f1, val_f1)\n",
    "\n",
    "            # Early stopping logic\n",
    "            if val_f1 > best_f1:\n",
    "                best_f1 = val_f1  # Update the best F1 score\n",
    "                early_stop_counter = 0  # Reset the counter\n",
    "                # Save the best model\n",
    "                torch.save(model.state_dict(), URL_SAVE_MODEL)\n",
    "            else:\n",
    "                early_stop_counter += 1\n",
    "                print(f\"Early stopping counter: {early_stop_counter}/{PATIENCE_EARLY_STOP}\")\n",
    "\n",
    "            if early_stop_counter >= PATIENCE_EARLY_STOP:\n",
    "                print(\"Early stopping triggered. Stopping training.\")\n",
    "                break\n",
    "\n",
    "        # Log the model\n",
    "        mlflow.pytorch.log_model(model, f\"{MODEL_NAME}_{VERSION_MODEL}\")\n",
    "\n",
    "\n",
    "    # close the services\n",
    "    wandb.finish()\n",
    "    torch.save(model.state_dict(), URL_SAVE_MODEL)\n",
    "    return best_f1\n",
    "\n",
    "# Run the Optuna study\n",
    "study = optuna.create_study(direction=\"maximize\")\n",
    "study_optimization = study.optimize(objective, n_trials= HYPERPARAMETERS_EXPERIMENTS)\n"
   ],
   "metadata": {
    "id": "IBCcYKCXfHN9",
    "colab": {
     "base_uri": "https://localhost:8080/",
     "height": 1000,
     "referenced_widgets": [
      "dfd4c9dde08840028aa1be1e694069a1",
      "2fae04e093a54880935f6c164a12fbe1",
      "24555e2bb4cc4a68a752edd9e5214459",
      "246c88f138a6429c8007688fa88f945d",
      "0de743f6092f4d9ba4e780ea7654236d",
      "d637c1aa6d99486996a12a33f7ec077e",
      "20c297d7702a44f6b85a19cda550dde5",
      "8010584ac6f74ec0b9a04b8637e8c1e0"
     ]
    },
    "outputId": "9e0dcf31-65f6-4516-97f4-2118b30687e5"
   },
   "id": "IBCcYKCXfHN9",
   "execution_count": null,
   "outputs": [
    {
     "output_type": "stream",
     "name": "stderr",
     "text": [
      "[I 2025-01-15 05:48:40,798] A new study created in memory with name: no-name-fb49a1b7-ac1f-48e8-b867-31d3ed820599\n",
      "\u001B[34m\u001B[1mwandb\u001B[0m: Currently logged in as: \u001B[33mhannsflip\u001B[0m (\u001B[33mhannsflip-none\u001B[0m). Use \u001B[1m`wandb login --relogin`\u001B[0m to force relogin\n"
     ]
    },
    {
     "output_type": "display_data",
     "data": {
      "text/plain": [
       "VBox(children=(Label(value='Waiting for wandb.init()...\\r'), FloatProgress(value=0.011112514388888587, max=1.0…"
      ],
      "application/vnd.jupyter.widget-view+json": {
       "version_major": 2,
       "version_minor": 0,
       "model_id": "dfd4c9dde08840028aa1be1e694069a1"
      }
     },
     "metadata": {}
    },
    {
     "output_type": "display_data",
     "data": {
      "text/plain": [
       "<IPython.core.display.HTML object>"
      ],
      "text/html": [
       "Tracking run with wandb version 0.19.1"
      ]
     },
     "metadata": {}
    },
    {
     "output_type": "display_data",
     "data": {
      "text/plain": [
       "<IPython.core.display.HTML object>"
      ],
      "text/html": [
       "Run data is saved locally in <code>/content/wandb/run-20250115_054840-qlinuqbo</code>"
      ]
     },
     "metadata": {}
    },
    {
     "output_type": "display_data",
     "data": {
      "text/plain": [
       "<IPython.core.display.HTML object>"
      ],
      "text/html": [
       "Syncing run <strong><a href='https://wandb.ai/hannsflip-none/Fake%20news%20comments/runs/qlinuqbo' target=\"_blank\">training_Fake news comments_trial_0</a></strong> to <a href='https://wandb.ai/hannsflip-none/Fake%20news%20comments' target=\"_blank\">Weights & Biases</a> (<a href='https://wandb.me/developer-guide' target=\"_blank\">docs</a>)<br>"
      ]
     },
     "metadata": {}
    },
    {
     "output_type": "display_data",
     "data": {
      "text/plain": [
       "<IPython.core.display.HTML object>"
      ],
      "text/html": [
       " View project at <a href='https://wandb.ai/hannsflip-none/Fake%20news%20comments' target=\"_blank\">https://wandb.ai/hannsflip-none/Fake%20news%20comments</a>"
      ]
     },
     "metadata": {}
    },
    {
     "output_type": "display_data",
     "data": {
      "text/plain": [
       "<IPython.core.display.HTML object>"
      ],
      "text/html": [
       " View run at <a href='https://wandb.ai/hannsflip-none/Fake%20news%20comments/runs/qlinuqbo' target=\"_blank\">https://wandb.ai/hannsflip-none/Fake%20news%20comments/runs/qlinuqbo</a>"
      ]
     },
     "metadata": {}
    },
    {
     "output_type": "stream",
     "name": "stdout",
     "text": [
      "Epoch 1: Train Loss=0.7015981377507539, Accuracy=0.5261584520339966, F1 Score=0.37557452917099\n",
      "Epoch 1: Accuracy=0.5288259983062744, F1 Score=0.3888511061668396\n",
      "Early stopping counter: 1/3\n",
      "Epoch 2: Train Loss=0.7016410440963836, Accuracy=0.5236671566963196, F1 Score=0.3767927289009094\n",
      "Epoch 2: Accuracy=0.5284765958786011, F1 Score=0.3883979022502899\n",
      "Early stopping counter: 2/3\n",
      "Epoch 3: Train Loss=0.701679926103897, Accuracy=0.514449417591095, F1 Score=0.36098361015319824\n",
      "Epoch 3: Accuracy=0.5281271934509277, F1 Score=0.38822194933891296\n",
      "Early stopping counter: 3/3\n",
      "Early stopping triggered. Stopping training.\n"
     ]
    },
    {
     "output_type": "stream",
     "name": "stderr",
     "text": [
      "2025/01/15 06:06:51 WARNING mlflow.utils.requirements_utils: Found torch version (2.5.1+cu121) contains a local version label (+cu121). MLflow logged a pip requirement for this package as 'torch==2.5.1' without the local version label to make it installable from PyPI. To specify pip requirements containing local version labels, please use `conda_env` or `pip_requirements`.\n",
      "2025/01/15 06:07:06 WARNING mlflow.utils.requirements_utils: The following packages were not found in the public PyPI package index as of 2024-12-04; if these packages are not present in the public PyPI index, you must install them manually before loading your model: {'google-genai'}\n",
      "2025/01/15 06:07:06 WARNING mlflow.utils.requirements_utils: Found torchvision version (0.20.1+cu121) contains a local version label (+cu121). MLflow logged a pip requirement for this package as 'torchvision==0.20.1' without the local version label to make it installable from PyPI. To specify pip requirements containing local version labels, please use `conda_env` or `pip_requirements`.\n",
      "\u001B[31m2025/01/15 06:07:06 WARNING mlflow.models.model: Model logged without a signature and input example. Please set `input_example` parameter when logging the model to auto infer the model signature.\u001B[0m\n"
     ]
    },
    {
     "output_type": "stream",
     "name": "stdout",
     "text": [
      "🏃 View run roberta_model at: https://dagshub.com/auszed/Experiments_fake_news.mlflow/#/experiments/0/runs/c86a8195108c4e34893acb6f7fdd9814\n",
      "🧪 View experiment at: https://dagshub.com/auszed/Experiments_fake_news.mlflow/#/experiments/0\n"
     ]
    },
    {
     "output_type": "display_data",
     "data": {
      "text/plain": [
       "<IPython.core.display.HTML object>"
      ],
      "text/html": []
     },
     "metadata": {}
    },
    {
     "output_type": "display_data",
     "data": {
      "text/plain": [
       "<IPython.core.display.HTML object>"
      ],
      "text/html": [
       "<br>    <style><br>        .wandb-row {<br>            display: flex;<br>            flex-direction: row;<br>            flex-wrap: wrap;<br>            justify-content: flex-start;<br>            width: 100%;<br>        }<br>        .wandb-col {<br>            display: flex;<br>            flex-direction: column;<br>            flex-basis: 100%;<br>            flex: 1;<br>            padding: 10px;<br>        }<br>    </style><br><div class=\"wandb-row\"><div class=\"wandb-col\"><h3>Run history:</h3><br/><table class=\"wandb\"><tr><td>epochs</td><td>▁▅█</td></tr><tr><td>train_accuracy</td><td>█▇▁</td></tr><tr><td>train_f1</td><td>▇█▁</td></tr><tr><td>train_loss</td><td>▁▅█</td></tr><tr><td>val_accuracy</td><td>█▅▁</td></tr><tr><td>val_f1</td><td>█▃▁</td></tr></table><br/></div><div class=\"wandb-col\"><h3>Run summary:</h3><br/><table class=\"wandb\"><tr><td>epochs</td><td>3</td></tr><tr><td>train_accuracy</td><td>0.51445</td></tr><tr><td>train_f1</td><td>0.36098</td></tr><tr><td>train_loss</td><td>0.70168</td></tr><tr><td>val_accuracy</td><td>0.52813</td></tr><tr><td>val_f1</td><td>0.38822</td></tr></table><br/></div></div>"
      ]
     },
     "metadata": {}
    },
    {
     "output_type": "display_data",
     "data": {
      "text/plain": [
       "<IPython.core.display.HTML object>"
      ],
      "text/html": [
       " View run <strong style=\"color:#cdcd00\">training_Fake news comments_trial_0</strong> at: <a href='https://wandb.ai/hannsflip-none/Fake%20news%20comments/runs/qlinuqbo' target=\"_blank\">https://wandb.ai/hannsflip-none/Fake%20news%20comments/runs/qlinuqbo</a><br> View project at: <a href='https://wandb.ai/hannsflip-none/Fake%20news%20comments' target=\"_blank\">https://wandb.ai/hannsflip-none/Fake%20news%20comments</a><br>Synced 5 W&B file(s), 0 media file(s), 0 artifact file(s) and 0 other file(s)"
      ]
     },
     "metadata": {}
    },
    {
     "output_type": "display_data",
     "data": {
      "text/plain": [
       "<IPython.core.display.HTML object>"
      ],
      "text/html": [
       "Find logs at: <code>./wandb/run-20250115_054840-qlinuqbo/logs</code>"
      ]
     },
     "metadata": {}
    },
    {
     "output_type": "stream",
     "name": "stderr",
     "text": [
      "[I 2025-01-15 06:07:53,314] Trial 0 finished with value: 0.3888511061668396 and parameters: {'lr': 5.0005e-07, 'w_decay': 0.0050000000005, 'dropout_vals': 0.2769435872912711, 'warmup': 0.0810398550613537, 'optimizer_name': 'SGD'}. Best is trial 0 with value: 0.3888511061668396.\n",
      "/usr/local/lib/python3.10/dist-packages/transformers/optimization.py:591: FutureWarning: This implementation of AdamW is deprecated and will be removed in a future version. Use the PyTorch implementation torch.optim.AdamW instead, or set `no_deprecation_warning=True` to disable this warning\n",
      "  warnings.warn(\n"
     ]
    },
    {
     "output_type": "display_data",
     "data": {
      "text/plain": [
       "<IPython.core.display.HTML object>"
      ],
      "text/html": [
       "Tracking run with wandb version 0.19.1"
      ]
     },
     "metadata": {}
    },
    {
     "output_type": "display_data",
     "data": {
      "text/plain": [
       "<IPython.core.display.HTML object>"
      ],
      "text/html": [
       "Run data is saved locally in <code>/content/wandb/run-20250115_060753-22odw85g</code>"
      ]
     },
     "metadata": {}
    },
    {
     "output_type": "display_data",
     "data": {
      "text/plain": [
       "<IPython.core.display.HTML object>"
      ],
      "text/html": [
       "Syncing run <strong><a href='https://wandb.ai/hannsflip-none/Fake%20news%20comments/runs/22odw85g' target=\"_blank\">training_Fake news comments_trial_1</a></strong> to <a href='https://wandb.ai/hannsflip-none/Fake%20news%20comments' target=\"_blank\">Weights & Biases</a> (<a href='https://wandb.me/developer-guide' target=\"_blank\">docs</a>)<br>"
      ]
     },
     "metadata": {}
    },
    {
     "output_type": "display_data",
     "data": {
      "text/plain": [
       "<IPython.core.display.HTML object>"
      ],
      "text/html": [
       " View project at <a href='https://wandb.ai/hannsflip-none/Fake%20news%20comments' target=\"_blank\">https://wandb.ai/hannsflip-none/Fake%20news%20comments</a>"
      ]
     },
     "metadata": {}
    },
    {
     "output_type": "display_data",
     "data": {
      "text/plain": [
       "<IPython.core.display.HTML object>"
      ],
      "text/html": [
       " View run at <a href='https://wandb.ai/hannsflip-none/Fake%20news%20comments/runs/22odw85g' target=\"_blank\">https://wandb.ai/hannsflip-none/Fake%20news%20comments/runs/22odw85g</a>"
      ]
     },
     "metadata": {}
    },
    {
     "output_type": "stream",
     "name": "stdout",
     "text": [
      "Epoch 1: Train Loss=0.7016106467075947, Accuracy=0.5227952003479004, F1 Score=0.3751427233219147\n",
      "Epoch 1: Accuracy=0.5286512970924377, F1 Score=0.3890398442745209\n",
      "Early stopping counter: 1/3\n",
      "Epoch 2: Train Loss=0.7015957353895556, Accuracy=0.5171898603439331, F1 Score=0.3563600182533264\n",
      "Epoch 2: Accuracy=0.526380181312561, F1 Score=0.3607639670372009\n",
      "Early stopping counter: 2/3\n",
      "Epoch 3: Train Loss=0.7015028112137799, Accuracy=0.5061036348342896, F1 Score=0.31436970829963684\n",
      "Epoch 3: Accuracy=0.519741415977478, F1 Score=0.3063335716724396\n",
      "Early stopping counter: 3/3\n",
      "Early stopping triggered. Stopping training.\n"
     ]
    },
    {
     "output_type": "stream",
     "name": "stderr",
     "text": [
      "2025/01/15 06:25:58 WARNING mlflow.utils.requirements_utils: Found torch version (2.5.1+cu121) contains a local version label (+cu121). MLflow logged a pip requirement for this package as 'torch==2.5.1' without the local version label to make it installable from PyPI. To specify pip requirements containing local version labels, please use `conda_env` or `pip_requirements`.\n",
      "2025/01/15 06:26:09 WARNING mlflow.utils.requirements_utils: The following packages were not found in the public PyPI package index as of 2024-12-04; if these packages are not present in the public PyPI index, you must install them manually before loading your model: {'google-genai'}\n",
      "2025/01/15 06:26:09 WARNING mlflow.utils.requirements_utils: Found torchvision version (0.20.1+cu121) contains a local version label (+cu121). MLflow logged a pip requirement for this package as 'torchvision==0.20.1' without the local version label to make it installable from PyPI. To specify pip requirements containing local version labels, please use `conda_env` or `pip_requirements`.\n",
      "\u001B[31m2025/01/15 06:26:09 WARNING mlflow.models.model: Model logged without a signature and input example. Please set `input_example` parameter when logging the model to auto infer the model signature.\u001B[0m\n"
     ]
    },
    {
     "output_type": "stream",
     "name": "stdout",
     "text": [
      "🏃 View run roberta_model at: https://dagshub.com/auszed/Experiments_fake_news.mlflow/#/experiments/0/runs/64f458ae88b04e498f42e2491ae2c329\n",
      "🧪 View experiment at: https://dagshub.com/auszed/Experiments_fake_news.mlflow/#/experiments/0\n"
     ]
    },
    {
     "output_type": "display_data",
     "data": {
      "text/plain": [
       "<IPython.core.display.HTML object>"
      ],
      "text/html": []
     },
     "metadata": {}
    },
    {
     "output_type": "display_data",
     "data": {
      "text/plain": [
       "<IPython.core.display.HTML object>"
      ],
      "text/html": [
       "<br>    <style><br>        .wandb-row {<br>            display: flex;<br>            flex-direction: row;<br>            flex-wrap: wrap;<br>            justify-content: flex-start;<br>            width: 100%;<br>        }<br>        .wandb-col {<br>            display: flex;<br>            flex-direction: column;<br>            flex-basis: 100%;<br>            flex: 1;<br>            padding: 10px;<br>        }<br>    </style><br><div class=\"wandb-row\"><div class=\"wandb-col\"><h3>Run history:</h3><br/><table class=\"wandb\"><tr><td>epochs</td><td>▁▅█</td></tr><tr><td>train_accuracy</td><td>█▆▁</td></tr><tr><td>train_f1</td><td>█▆▁</td></tr><tr><td>train_loss</td><td>█▇▁</td></tr><tr><td>val_accuracy</td><td>█▆▁</td></tr><tr><td>val_f1</td><td>█▆▁</td></tr></table><br/></div><div class=\"wandb-col\"><h3>Run summary:</h3><br/><table class=\"wandb\"><tr><td>epochs</td><td>3</td></tr><tr><td>train_accuracy</td><td>0.5061</td></tr><tr><td>train_f1</td><td>0.31437</td></tr><tr><td>train_loss</td><td>0.7015</td></tr><tr><td>val_accuracy</td><td>0.51974</td></tr><tr><td>val_f1</td><td>0.30633</td></tr></table><br/></div></div>"
      ]
     },
     "metadata": {}
    },
    {
     "output_type": "display_data",
     "data": {
      "text/plain": [
       "<IPython.core.display.HTML object>"
      ],
      "text/html": [
       " View run <strong style=\"color:#cdcd00\">training_Fake news comments_trial_1</strong> at: <a href='https://wandb.ai/hannsflip-none/Fake%20news%20comments/runs/22odw85g' target=\"_blank\">https://wandb.ai/hannsflip-none/Fake%20news%20comments/runs/22odw85g</a><br> View project at: <a href='https://wandb.ai/hannsflip-none/Fake%20news%20comments' target=\"_blank\">https://wandb.ai/hannsflip-none/Fake%20news%20comments</a><br>Synced 5 W&B file(s), 0 media file(s), 0 artifact file(s) and 0 other file(s)"
      ]
     },
     "metadata": {}
    },
    {
     "output_type": "display_data",
     "data": {
      "text/plain": [
       "<IPython.core.display.HTML object>"
      ],
      "text/html": [
       "Find logs at: <code>./wandb/run-20250115_060753-22odw85g/logs</code>"
      ]
     },
     "metadata": {}
    },
    {
     "output_type": "stream",
     "name": "stderr",
     "text": [
      "[I 2025-01-15 06:26:43,778] Trial 1 finished with value: 0.3890398442745209 and parameters: {'lr': 5.0005e-07, 'w_decay': 1e-12, 'dropout_vals': 0.11972520782208591, 'warmup': 0.141962425638116, 'optimizer_name': 'AdamW'}. Best is trial 1 with value: 0.3890398442745209.\n"
     ]
    },
    {
     "output_type": "display_data",
     "data": {
      "text/plain": [
       "<IPython.core.display.HTML object>"
      ],
      "text/html": [
       "Tracking run with wandb version 0.19.1"
      ]
     },
     "metadata": {}
    },
    {
     "output_type": "display_data",
     "data": {
      "text/plain": [
       "<IPython.core.display.HTML object>"
      ],
      "text/html": [
       "Run data is saved locally in <code>/content/wandb/run-20250115_062643-0d9w11vp</code>"
      ]
     },
     "metadata": {}
    },
    {
     "output_type": "display_data",
     "data": {
      "text/plain": [
       "<IPython.core.display.HTML object>"
      ],
      "text/html": [
       "Syncing run <strong><a href='https://wandb.ai/hannsflip-none/Fake%20news%20comments/runs/0d9w11vp' target=\"_blank\">training_Fake news comments_trial_2</a></strong> to <a href='https://wandb.ai/hannsflip-none/Fake%20news%20comments' target=\"_blank\">Weights & Biases</a> (<a href='https://wandb.me/developer-guide' target=\"_blank\">docs</a>)<br>"
      ]
     },
     "metadata": {}
    },
    {
     "output_type": "display_data",
     "data": {
      "text/plain": [
       "<IPython.core.display.HTML object>"
      ],
      "text/html": [
       " View project at <a href='https://wandb.ai/hannsflip-none/Fake%20news%20comments' target=\"_blank\">https://wandb.ai/hannsflip-none/Fake%20news%20comments</a>"
      ]
     },
     "metadata": {}
    },
    {
     "output_type": "display_data",
     "data": {
      "text/plain": [
       "<IPython.core.display.HTML object>"
      ],
      "text/html": [
       " View run at <a href='https://wandb.ai/hannsflip-none/Fake%20news%20comments/runs/0d9w11vp' target=\"_blank\">https://wandb.ai/hannsflip-none/Fake%20news%20comments/runs/0d9w11vp</a>"
      ]
     },
     "metadata": {}
    },
    {
     "output_type": "stream",
     "name": "stdout",
     "text": [
      "Epoch 1: Train Loss=0.701413344641972, Accuracy=0.5021175742149353, F1 Score=0.2762990891933441\n",
      "Epoch 1: Accuracy=0.5199161171913147, F1 Score=0.30641090869903564\n",
      "Early stopping counter: 1/3\n",
      "Epoch 2: Train Loss=0.7014264003756513, Accuracy=0.5112107396125793, F1 Score=0.2995359003543854\n",
      "Epoch 2: Accuracy=0.519741415977478, F1 Score=0.30528178811073303\n",
      "Early stopping counter: 2/3\n",
      "Epoch 3: Train Loss=0.7014281808082655, Accuracy=0.509093165397644, F1 Score=0.29284045100212097\n",
      "Epoch 3: Accuracy=0.519217312335968, F1 Score=0.3039959669113159\n",
      "Early stopping counter: 3/3\n",
      "Early stopping triggered. Stopping training.\n"
     ]
    },
    {
     "output_type": "stream",
     "name": "stderr",
     "text": [
      "2025/01/15 06:44:55 WARNING mlflow.utils.requirements_utils: Found torch version (2.5.1+cu121) contains a local version label (+cu121). MLflow logged a pip requirement for this package as 'torch==2.5.1' without the local version label to make it installable from PyPI. To specify pip requirements containing local version labels, please use `conda_env` or `pip_requirements`.\n",
      "2025/01/15 06:45:07 WARNING mlflow.utils.requirements_utils: The following packages were not found in the public PyPI package index as of 2024-12-04; if these packages are not present in the public PyPI index, you must install them manually before loading your model: {'google-genai'}\n",
      "2025/01/15 06:45:07 WARNING mlflow.utils.requirements_utils: Found torchvision version (0.20.1+cu121) contains a local version label (+cu121). MLflow logged a pip requirement for this package as 'torchvision==0.20.1' without the local version label to make it installable from PyPI. To specify pip requirements containing local version labels, please use `conda_env` or `pip_requirements`.\n",
      "\u001B[31m2025/01/15 06:45:07 WARNING mlflow.models.model: Model logged without a signature and input example. Please set `input_example` parameter when logging the model to auto infer the model signature.\u001B[0m\n"
     ]
    },
    {
     "output_type": "stream",
     "name": "stdout",
     "text": [
      "🏃 View run roberta_model at: https://dagshub.com/auszed/Experiments_fake_news.mlflow/#/experiments/0/runs/3a5e0ad9f8a642558a9a9edb1b831d7f\n",
      "🧪 View experiment at: https://dagshub.com/auszed/Experiments_fake_news.mlflow/#/experiments/0\n"
     ]
    },
    {
     "output_type": "display_data",
     "data": {
      "text/plain": [
       "<IPython.core.display.HTML object>"
      ],
      "text/html": []
     },
     "metadata": {}
    },
    {
     "output_type": "display_data",
     "data": {
      "text/plain": [
       "<IPython.core.display.HTML object>"
      ],
      "text/html": [
       "<br>    <style><br>        .wandb-row {<br>            display: flex;<br>            flex-direction: row;<br>            flex-wrap: wrap;<br>            justify-content: flex-start;<br>            width: 100%;<br>        }<br>        .wandb-col {<br>            display: flex;<br>            flex-direction: column;<br>            flex-basis: 100%;<br>            flex: 1;<br>            padding: 10px;<br>        }<br>    </style><br><div class=\"wandb-row\"><div class=\"wandb-col\"><h3>Run history:</h3><br/><table class=\"wandb\"><tr><td>epochs</td><td>▁▅█</td></tr><tr><td>train_accuracy</td><td>▁█▆</td></tr><tr><td>train_f1</td><td>▁█▆</td></tr><tr><td>train_loss</td><td>▁▇█</td></tr><tr><td>val_accuracy</td><td>█▆▁</td></tr><tr><td>val_f1</td><td>█▅▁</td></tr></table><br/></div><div class=\"wandb-col\"><h3>Run summary:</h3><br/><table class=\"wandb\"><tr><td>epochs</td><td>3</td></tr><tr><td>train_accuracy</td><td>0.50909</td></tr><tr><td>train_f1</td><td>0.29284</td></tr><tr><td>train_loss</td><td>0.70143</td></tr><tr><td>val_accuracy</td><td>0.51922</td></tr><tr><td>val_f1</td><td>0.304</td></tr></table><br/></div></div>"
      ]
     },
     "metadata": {}
    },
    {
     "output_type": "display_data",
     "data": {
      "text/plain": [
       "<IPython.core.display.HTML object>"
      ],
      "text/html": [
       " View run <strong style=\"color:#cdcd00\">training_Fake news comments_trial_2</strong> at: <a href='https://wandb.ai/hannsflip-none/Fake%20news%20comments/runs/0d9w11vp' target=\"_blank\">https://wandb.ai/hannsflip-none/Fake%20news%20comments/runs/0d9w11vp</a><br> View project at: <a href='https://wandb.ai/hannsflip-none/Fake%20news%20comments' target=\"_blank\">https://wandb.ai/hannsflip-none/Fake%20news%20comments</a><br>Synced 5 W&B file(s), 0 media file(s), 0 artifact file(s) and 0 other file(s)"
      ]
     },
     "metadata": {}
    },
    {
     "output_type": "display_data",
     "data": {
      "text/plain": [
       "<IPython.core.display.HTML object>"
      ],
      "text/html": [
       "Find logs at: <code>./wandb/run-20250115_062643-0d9w11vp/logs</code>"
      ]
     },
     "metadata": {}
    },
    {
     "output_type": "stream",
     "name": "stderr",
     "text": [
      "[I 2025-01-15 06:45:41,264] Trial 2 finished with value: 0.30641090869903564 and parameters: {'lr': 7.50025e-07, 'w_decay': 0.00250000000075, 'dropout_vals': 0.18336866880862696, 'warmup': 0.03550415579537112, 'optimizer_name': 'SGD'}. Best is trial 1 with value: 0.3890398442745209.\n"
     ]
    },
    {
     "output_type": "display_data",
     "data": {
      "text/plain": [
       "<IPython.core.display.HTML object>"
      ],
      "text/html": [
       "Tracking run with wandb version 0.19.1"
      ]
     },
     "metadata": {}
    },
    {
     "output_type": "display_data",
     "data": {
      "text/plain": [
       "<IPython.core.display.HTML object>"
      ],
      "text/html": [
       "Run data is saved locally in <code>/content/wandb/run-20250115_064541-gwnqcicq</code>"
      ]
     },
     "metadata": {}
    },
    {
     "output_type": "display_data",
     "data": {
      "text/plain": [
       "<IPython.core.display.HTML object>"
      ],
      "text/html": [
       "Syncing run <strong><a href='https://wandb.ai/hannsflip-none/Fake%20news%20comments/runs/gwnqcicq' target=\"_blank\">training_Fake news comments_trial_3</a></strong> to <a href='https://wandb.ai/hannsflip-none/Fake%20news%20comments' target=\"_blank\">Weights & Biases</a> (<a href='https://wandb.me/developer-guide' target=\"_blank\">docs</a>)<br>"
      ]
     },
     "metadata": {}
    },
    {
     "output_type": "display_data",
     "data": {
      "text/plain": [
       "<IPython.core.display.HTML object>"
      ],
      "text/html": [
       " View project at <a href='https://wandb.ai/hannsflip-none/Fake%20news%20comments' target=\"_blank\">https://wandb.ai/hannsflip-none/Fake%20news%20comments</a>"
      ]
     },
     "metadata": {}
    },
    {
     "output_type": "display_data",
     "data": {
      "text/plain": [
       "<IPython.core.display.HTML object>"
      ],
      "text/html": [
       " View run at <a href='https://wandb.ai/hannsflip-none/Fake%20news%20comments/runs/gwnqcicq' target=\"_blank\">https://wandb.ai/hannsflip-none/Fake%20news%20comments/runs/gwnqcicq</a>"
      ]
     },
     "metadata": {}
    },
    {
     "output_type": "stream",
     "name": "stdout",
     "text": [
      "Epoch 1: Train Loss=0.7014114283838258, Accuracy=0.5123318433761597, F1 Score=0.29472166299819946\n",
      "Epoch 1: Accuracy=0.5193920135498047, F1 Score=0.3044247627258301\n",
      "Early stopping counter: 1/3\n",
      "Epoch 2: Train Loss=0.7013899860360697, Accuracy=0.5118336081504822, F1 Score=0.2862866520881653\n",
      "Epoch 2: Accuracy=0.5145003199577332, F1 Score=0.2776189148426056\n",
      "Early stopping counter: 2/3\n",
      "Epoch 3: Train Loss=0.7012623072739674, Accuracy=0.5074738264083862, F1 Score=0.2545248866081238\n",
      "Epoch 3: Accuracy=0.50104820728302, F1 Score=0.2153846174478531\n",
      "Early stopping counter: 3/3\n",
      "Early stopping triggered. Stopping training.\n"
     ]
    },
    {
     "output_type": "stream",
     "name": "stderr",
     "text": [
      "2025/01/15 07:03:54 WARNING mlflow.utils.requirements_utils: Found torch version (2.5.1+cu121) contains a local version label (+cu121). MLflow logged a pip requirement for this package as 'torch==2.5.1' without the local version label to make it installable from PyPI. To specify pip requirements containing local version labels, please use `conda_env` or `pip_requirements`.\n",
      "2025/01/15 07:04:05 WARNING mlflow.utils.requirements_utils: The following packages were not found in the public PyPI package index as of 2024-12-04; if these packages are not present in the public PyPI index, you must install them manually before loading your model: {'google-genai'}\n",
      "2025/01/15 07:04:05 WARNING mlflow.utils.requirements_utils: Found torchvision version (0.20.1+cu121) contains a local version label (+cu121). MLflow logged a pip requirement for this package as 'torchvision==0.20.1' without the local version label to make it installable from PyPI. To specify pip requirements containing local version labels, please use `conda_env` or `pip_requirements`.\n",
      "\u001B[31m2025/01/15 07:04:06 WARNING mlflow.models.model: Model logged without a signature and input example. Please set `input_example` parameter when logging the model to auto infer the model signature.\u001B[0m\n"
     ]
    },
    {
     "output_type": "stream",
     "name": "stdout",
     "text": [
      "🏃 View run roberta_model at: https://dagshub.com/auszed/Experiments_fake_news.mlflow/#/experiments/0/runs/a1e3fe82637140d3854031380a7595ba\n",
      "🧪 View experiment at: https://dagshub.com/auszed/Experiments_fake_news.mlflow/#/experiments/0\n"
     ]
    },
    {
     "output_type": "display_data",
     "data": {
      "text/plain": [
       "<IPython.core.display.HTML object>"
      ],
      "text/html": []
     },
     "metadata": {}
    },
    {
     "output_type": "display_data",
     "data": {
      "text/plain": [
       "<IPython.core.display.HTML object>"
      ],
      "text/html": [
       "<br>    <style><br>        .wandb-row {<br>            display: flex;<br>            flex-direction: row;<br>            flex-wrap: wrap;<br>            justify-content: flex-start;<br>            width: 100%;<br>        }<br>        .wandb-col {<br>            display: flex;<br>            flex-direction: column;<br>            flex-basis: 100%;<br>            flex: 1;<br>            padding: 10px;<br>        }<br>    </style><br><div class=\"wandb-row\"><div class=\"wandb-col\"><h3>Run history:</h3><br/><table class=\"wandb\"><tr><td>epochs</td><td>▁▅█</td></tr><tr><td>train_accuracy</td><td>█▇▁</td></tr><tr><td>train_f1</td><td>█▇▁</td></tr><tr><td>train_loss</td><td>█▇▁</td></tr><tr><td>val_accuracy</td><td>█▆▁</td></tr><tr><td>val_f1</td><td>█▆▁</td></tr></table><br/></div><div class=\"wandb-col\"><h3>Run summary:</h3><br/><table class=\"wandb\"><tr><td>epochs</td><td>3</td></tr><tr><td>train_accuracy</td><td>0.50747</td></tr><tr><td>train_f1</td><td>0.25452</td></tr><tr><td>train_loss</td><td>0.70126</td></tr><tr><td>val_accuracy</td><td>0.50105</td></tr><tr><td>val_f1</td><td>0.21538</td></tr></table><br/></div></div>"
      ]
     },
     "metadata": {}
    },
    {
     "output_type": "display_data",
     "data": {
      "text/plain": [
       "<IPython.core.display.HTML object>"
      ],
      "text/html": [
       " View run <strong style=\"color:#cdcd00\">training_Fake news comments_trial_3</strong> at: <a href='https://wandb.ai/hannsflip-none/Fake%20news%20comments/runs/gwnqcicq' target=\"_blank\">https://wandb.ai/hannsflip-none/Fake%20news%20comments/runs/gwnqcicq</a><br> View project at: <a href='https://wandb.ai/hannsflip-none/Fake%20news%20comments' target=\"_blank\">https://wandb.ai/hannsflip-none/Fake%20news%20comments</a><br>Synced 5 W&B file(s), 0 media file(s), 0 artifact file(s) and 0 other file(s)"
      ]
     },
     "metadata": {}
    },
    {
     "output_type": "display_data",
     "data": {
      "text/plain": [
       "<IPython.core.display.HTML object>"
      ],
      "text/html": [
       "Find logs at: <code>./wandb/run-20250115_064541-gwnqcicq/logs</code>"
      ]
     },
     "metadata": {}
    },
    {
     "output_type": "stream",
     "name": "stderr",
     "text": [
      "[I 2025-01-15 07:04:42,159] Trial 3 finished with value: 0.3044247627258301 and parameters: {'lr': 5.0005e-07, 'w_decay': 1e-12, 'dropout_vals': 0.13535684173430257, 'warmup': 0.14685965316025348, 'optimizer_name': 'RMSprop'}. Best is trial 1 with value: 0.3890398442745209.\n"
     ]
    },
    {
     "output_type": "display_data",
     "data": {
      "text/plain": [
       "<IPython.core.display.HTML object>"
      ],
      "text/html": [
       "Tracking run with wandb version 0.19.1"
      ]
     },
     "metadata": {}
    },
    {
     "output_type": "display_data",
     "data": {
      "text/plain": [
       "<IPython.core.display.HTML object>"
      ],
      "text/html": [
       "Run data is saved locally in <code>/content/wandb/run-20250115_070442-sjkbt50d</code>"
      ]
     },
     "metadata": {}
    },
    {
     "output_type": "display_data",
     "data": {
      "text/plain": [
       "<IPython.core.display.HTML object>"
      ],
      "text/html": [
       "Syncing run <strong><a href='https://wandb.ai/hannsflip-none/Fake%20news%20comments/runs/sjkbt50d' target=\"_blank\">training_Fake news comments_trial_4</a></strong> to <a href='https://wandb.ai/hannsflip-none/Fake%20news%20comments' target=\"_blank\">Weights & Biases</a> (<a href='https://wandb.me/developer-guide' target=\"_blank\">docs</a>)<br>"
      ]
     },
     "metadata": {}
    },
    {
     "output_type": "display_data",
     "data": {
      "text/plain": [
       "<IPython.core.display.HTML object>"
      ],
      "text/html": [
       " View project at <a href='https://wandb.ai/hannsflip-none/Fake%20news%20comments' target=\"_blank\">https://wandb.ai/hannsflip-none/Fake%20news%20comments</a>"
      ]
     },
     "metadata": {}
    },
    {
     "output_type": "display_data",
     "data": {
      "text/plain": [
       "<IPython.core.display.HTML object>"
      ],
      "text/html": [
       " View run at <a href='https://wandb.ai/hannsflip-none/Fake%20news%20comments/runs/sjkbt50d' target=\"_blank\">https://wandb.ai/hannsflip-none/Fake%20news%20comments/runs/sjkbt50d</a>"
      ]
     },
     "metadata": {}
    },
    {
     "output_type": "stream",
     "name": "stdout",
     "text": [
      "Epoch 1: Train Loss=0.7011907869568499, Accuracy=0.5012456178665161, F1 Score=0.22523216903209686\n",
      "Epoch 1: Accuracy=0.5012229084968567, F1 Score=0.2145804762840271\n",
      "Early stopping counter: 1/3\n",
      "Epoch 2: Train Loss=0.7011683043343069, Accuracy=0.504982590675354, F1 Score=0.23281852900981903\n",
      "Epoch 2: Accuracy=0.5013976097106934, F1 Score=0.21507151424884796\n",
      "Early stopping counter: 2/3\n",
      "Epoch 3: Train Loss=0.7011929825282418, Accuracy=0.5033632516860962, F1 Score=0.22837236523628235\n",
      "Epoch 3: Accuracy=0.5013976097106934, F1 Score=0.21507151424884796\n",
      "Early stopping counter: 3/3\n",
      "Early stopping triggered. Stopping training.\n"
     ]
    },
    {
     "output_type": "stream",
     "name": "stderr",
     "text": [
      "2025/01/15 07:22:53 WARNING mlflow.utils.requirements_utils: Found torch version (2.5.1+cu121) contains a local version label (+cu121). MLflow logged a pip requirement for this package as 'torch==2.5.1' without the local version label to make it installable from PyPI. To specify pip requirements containing local version labels, please use `conda_env` or `pip_requirements`.\n",
      "2025/01/15 07:23:04 WARNING mlflow.utils.requirements_utils: The following packages were not found in the public PyPI package index as of 2024-12-04; if these packages are not present in the public PyPI index, you must install them manually before loading your model: {'google-genai'}\n",
      "2025/01/15 07:23:04 WARNING mlflow.utils.requirements_utils: Found torchvision version (0.20.1+cu121) contains a local version label (+cu121). MLflow logged a pip requirement for this package as 'torchvision==0.20.1' without the local version label to make it installable from PyPI. To specify pip requirements containing local version labels, please use `conda_env` or `pip_requirements`.\n",
      "\u001B[31m2025/01/15 07:23:04 WARNING mlflow.models.model: Model logged without a signature and input example. Please set `input_example` parameter when logging the model to auto infer the model signature.\u001B[0m\n"
     ]
    },
    {
     "output_type": "stream",
     "name": "stdout",
     "text": [
      "🏃 View run roberta_model at: https://dagshub.com/auszed/Experiments_fake_news.mlflow/#/experiments/0/runs/f41938effda44af58ed832f3b40169f5\n",
      "🧪 View experiment at: https://dagshub.com/auszed/Experiments_fake_news.mlflow/#/experiments/0\n"
     ]
    },
    {
     "output_type": "display_data",
     "data": {
      "text/plain": [
       "<IPython.core.display.HTML object>"
      ],
      "text/html": []
     },
     "metadata": {}
    },
    {
     "output_type": "display_data",
     "data": {
      "text/plain": [
       "<IPython.core.display.HTML object>"
      ],
      "text/html": [
       "<br>    <style><br>        .wandb-row {<br>            display: flex;<br>            flex-direction: row;<br>            flex-wrap: wrap;<br>            justify-content: flex-start;<br>            width: 100%;<br>        }<br>        .wandb-col {<br>            display: flex;<br>            flex-direction: column;<br>            flex-basis: 100%;<br>            flex: 1;<br>            padding: 10px;<br>        }<br>    </style><br><div class=\"wandb-row\"><div class=\"wandb-col\"><h3>Run history:</h3><br/><table class=\"wandb\"><tr><td>epochs</td><td>▁▅█</td></tr><tr><td>train_accuracy</td><td>▁█▅</td></tr><tr><td>train_f1</td><td>▁█▄</td></tr><tr><td>train_loss</td><td>▇▁█</td></tr><tr><td>val_accuracy</td><td>▁██</td></tr><tr><td>val_f1</td><td>▁██</td></tr></table><br/></div><div class=\"wandb-col\"><h3>Run summary:</h3><br/><table class=\"wandb\"><tr><td>epochs</td><td>3</td></tr><tr><td>train_accuracy</td><td>0.50336</td></tr><tr><td>train_f1</td><td>0.22837</td></tr><tr><td>train_loss</td><td>0.70119</td></tr><tr><td>val_accuracy</td><td>0.5014</td></tr><tr><td>val_f1</td><td>0.21507</td></tr></table><br/></div></div>"
      ]
     },
     "metadata": {}
    },
    {
     "output_type": "display_data",
     "data": {
      "text/plain": [
       "<IPython.core.display.HTML object>"
      ],
      "text/html": [
       " View run <strong style=\"color:#cdcd00\">training_Fake news comments_trial_4</strong> at: <a href='https://wandb.ai/hannsflip-none/Fake%20news%20comments/runs/sjkbt50d' target=\"_blank\">https://wandb.ai/hannsflip-none/Fake%20news%20comments/runs/sjkbt50d</a><br> View project at: <a href='https://wandb.ai/hannsflip-none/Fake%20news%20comments' target=\"_blank\">https://wandb.ai/hannsflip-none/Fake%20news%20comments</a><br>Synced 5 W&B file(s), 0 media file(s), 0 artifact file(s) and 0 other file(s)"
      ]
     },
     "metadata": {}
    },
    {
     "output_type": "display_data",
     "data": {
      "text/plain": [
       "<IPython.core.display.HTML object>"
      ],
      "text/html": [
       "Find logs at: <code>./wandb/run-20250115_070442-sjkbt50d/logs</code>"
      ]
     },
     "metadata": {}
    },
    {
     "output_type": "stream",
     "name": "stderr",
     "text": [
      "[I 2025-01-15 07:23:38,553] Trial 4 finished with value: 0.21507151424884796 and parameters: {'lr': 5.0005e-07, 'w_decay': 1e-12, 'dropout_vals': 0.17696518763537702, 'warmup': 0.09996851954110755, 'optimizer_name': 'SGD'}. Best is trial 1 with value: 0.3890398442745209.\n"
     ]
    },
    {
     "output_type": "display_data",
     "data": {
      "text/plain": [
       "<IPython.core.display.HTML object>"
      ],
      "text/html": [
       "Tracking run with wandb version 0.19.1"
      ]
     },
     "metadata": {}
    },
    {
     "output_type": "display_data",
     "data": {
      "text/plain": [
       "<IPython.core.display.HTML object>"
      ],
      "text/html": [
       "Run data is saved locally in <code>/content/wandb/run-20250115_072338-sm0kiaei</code>"
      ]
     },
     "metadata": {}
    },
    {
     "output_type": "display_data",
     "data": {
      "text/plain": [
       "<IPython.core.display.HTML object>"
      ],
      "text/html": [
       "Syncing run <strong><a href='https://wandb.ai/hannsflip-none/Fake%20news%20comments/runs/sm0kiaei' target=\"_blank\">training_Fake news comments_trial_5</a></strong> to <a href='https://wandb.ai/hannsflip-none/Fake%20news%20comments' target=\"_blank\">Weights & Biases</a> (<a href='https://wandb.me/developer-guide' target=\"_blank\">docs</a>)<br>"
      ]
     },
     "metadata": {}
    },
    {
     "output_type": "display_data",
     "data": {
      "text/plain": [
       "<IPython.core.display.HTML object>"
      ],
      "text/html": [
       " View project at <a href='https://wandb.ai/hannsflip-none/Fake%20news%20comments' target=\"_blank\">https://wandb.ai/hannsflip-none/Fake%20news%20comments</a>"
      ]
     },
     "metadata": {}
    },
    {
     "output_type": "display_data",
     "data": {
      "text/plain": [
       "<IPython.core.display.HTML object>"
      ],
      "text/html": [
       " View run at <a href='https://wandb.ai/hannsflip-none/Fake%20news%20comments/runs/sm0kiaei' target=\"_blank\">https://wandb.ai/hannsflip-none/Fake%20news%20comments/runs/sm0kiaei</a>"
      ]
     },
     "metadata": {}
    },
    {
     "output_type": "stream",
     "name": "stdout",
     "text": [
      "Epoch 1: Train Loss=0.701213484922332, Accuracy=0.5042351484298706, F1 Score=0.22778423130512238\n",
      "Epoch 1: Accuracy=0.50104820728302, F1 Score=0.2153846174478531\n",
      "Early stopping counter: 1/3\n",
      "Epoch 2: Train Loss=0.7011550847546758, Accuracy=0.506601870059967, F1 Score=0.23429344594478607\n",
      "Epoch 2: Accuracy=0.5, F1 Score=0.21070051193237305\n",
      "Early stopping counter: 2/3\n",
      "Epoch 3: Train Loss=0.7011619795598256, Accuracy=0.5032386779785156, F1 Score=0.22533023357391357\n",
      "Epoch 3: Accuracy=0.50052410364151, F1 Score=0.20605386793613434\n",
      "Early stopping counter: 3/3\n",
      "Early stopping triggered. Stopping training.\n"
     ]
    },
    {
     "output_type": "stream",
     "name": "stderr",
     "text": [
      "2025/01/15 07:41:48 WARNING mlflow.utils.requirements_utils: Found torch version (2.5.1+cu121) contains a local version label (+cu121). MLflow logged a pip requirement for this package as 'torch==2.5.1' without the local version label to make it installable from PyPI. To specify pip requirements containing local version labels, please use `conda_env` or `pip_requirements`.\n",
      "2025/01/15 07:41:59 WARNING mlflow.utils.requirements_utils: The following packages were not found in the public PyPI package index as of 2024-12-04; if these packages are not present in the public PyPI index, you must install them manually before loading your model: {'google-genai'}\n",
      "2025/01/15 07:41:59 WARNING mlflow.utils.requirements_utils: Found torchvision version (0.20.1+cu121) contains a local version label (+cu121). MLflow logged a pip requirement for this package as 'torchvision==0.20.1' without the local version label to make it installable from PyPI. To specify pip requirements containing local version labels, please use `conda_env` or `pip_requirements`.\n",
      "\u001B[31m2025/01/15 07:41:59 WARNING mlflow.models.model: Model logged without a signature and input example. Please set `input_example` parameter when logging the model to auto infer the model signature.\u001B[0m\n"
     ]
    },
    {
     "output_type": "stream",
     "name": "stdout",
     "text": [
      "🏃 View run roberta_model at: https://dagshub.com/auszed/Experiments_fake_news.mlflow/#/experiments/0/runs/654ed979218e49df8808bf721fcd790f\n",
      "🧪 View experiment at: https://dagshub.com/auszed/Experiments_fake_news.mlflow/#/experiments/0\n"
     ]
    },
    {
     "output_type": "display_data",
     "data": {
      "text/plain": [
       "<IPython.core.display.HTML object>"
      ],
      "text/html": []
     },
     "metadata": {}
    },
    {
     "output_type": "display_data",
     "data": {
      "text/plain": [
       "<IPython.core.display.HTML object>"
      ],
      "text/html": [
       "<br>    <style><br>        .wandb-row {<br>            display: flex;<br>            flex-direction: row;<br>            flex-wrap: wrap;<br>            justify-content: flex-start;<br>            width: 100%;<br>        }<br>        .wandb-col {<br>            display: flex;<br>            flex-direction: column;<br>            flex-basis: 100%;<br>            flex: 1;<br>            padding: 10px;<br>        }<br>    </style><br><div class=\"wandb-row\"><div class=\"wandb-col\"><h3>Run history:</h3><br/><table class=\"wandb\"><tr><td>epochs</td><td>▁▅█</td></tr><tr><td>train_accuracy</td><td>▃█▁</td></tr><tr><td>train_f1</td><td>▃█▁</td></tr><tr><td>train_loss</td><td>█▁▂</td></tr><tr><td>val_accuracy</td><td>█▁▅</td></tr><tr><td>val_f1</td><td>█▄▁</td></tr></table><br/></div><div class=\"wandb-col\"><h3>Run summary:</h3><br/><table class=\"wandb\"><tr><td>epochs</td><td>3</td></tr><tr><td>train_accuracy</td><td>0.50324</td></tr><tr><td>train_f1</td><td>0.22533</td></tr><tr><td>train_loss</td><td>0.70116</td></tr><tr><td>val_accuracy</td><td>0.50052</td></tr><tr><td>val_f1</td><td>0.20605</td></tr></table><br/></div></div>"
      ]
     },
     "metadata": {}
    },
    {
     "output_type": "display_data",
     "data": {
      "text/plain": [
       "<IPython.core.display.HTML object>"
      ],
      "text/html": [
       " View run <strong style=\"color:#cdcd00\">training_Fake news comments_trial_5</strong> at: <a href='https://wandb.ai/hannsflip-none/Fake%20news%20comments/runs/sm0kiaei' target=\"_blank\">https://wandb.ai/hannsflip-none/Fake%20news%20comments/runs/sm0kiaei</a><br> View project at: <a href='https://wandb.ai/hannsflip-none/Fake%20news%20comments' target=\"_blank\">https://wandb.ai/hannsflip-none/Fake%20news%20comments</a><br>Synced 5 W&B file(s), 0 media file(s), 0 artifact file(s) and 0 other file(s)"
      ]
     },
     "metadata": {}
    },
    {
     "output_type": "display_data",
     "data": {
      "text/plain": [
       "<IPython.core.display.HTML object>"
      ],
      "text/html": [
       "Find logs at: <code>./wandb/run-20250115_072338-sm0kiaei/logs</code>"
      ]
     },
     "metadata": {}
    },
    {
     "output_type": "stream",
     "name": "stderr",
     "text": [
      "[I 2025-01-15 07:42:33,658] Trial 5 finished with value: 0.2153846174478531 and parameters: {'lr': 2.50075e-07, 'w_decay': 0.01, 'dropout_vals': 0.2303222394394128, 'warmup': 0.08103262060771632, 'optimizer_name': 'RMSprop'}. Best is trial 1 with value: 0.3890398442745209.\n"
     ]
    },
    {
     "output_type": "display_data",
     "data": {
      "text/plain": [
       "<IPython.core.display.HTML object>"
      ],
      "text/html": [
       "Tracking run with wandb version 0.19.1"
      ]
     },
     "metadata": {}
    },
    {
     "output_type": "display_data",
     "data": {
      "text/plain": [
       "<IPython.core.display.HTML object>"
      ],
      "text/html": [
       "Run data is saved locally in <code>/content/wandb/run-20250115_074233-7z1q1ezf</code>"
      ]
     },
     "metadata": {}
    },
    {
     "output_type": "display_data",
     "data": {
      "text/plain": [
       "<IPython.core.display.HTML object>"
      ],
      "text/html": [
       "Syncing run <strong><a href='https://wandb.ai/hannsflip-none/Fake%20news%20comments/runs/7z1q1ezf' target=\"_blank\">training_Fake news comments_trial_6</a></strong> to <a href='https://wandb.ai/hannsflip-none/Fake%20news%20comments' target=\"_blank\">Weights & Biases</a> (<a href='https://wandb.me/developer-guide' target=\"_blank\">docs</a>)<br>"
      ]
     },
     "metadata": {}
    },
    {
     "output_type": "display_data",
     "data": {
      "text/plain": [
       "<IPython.core.display.HTML object>"
      ],
      "text/html": [
       " View project at <a href='https://wandb.ai/hannsflip-none/Fake%20news%20comments' target=\"_blank\">https://wandb.ai/hannsflip-none/Fake%20news%20comments</a>"
      ]
     },
     "metadata": {}
    },
    {
     "output_type": "display_data",
     "data": {
      "text/plain": [
       "<IPython.core.display.HTML object>"
      ],
      "text/html": [
       " View run at <a href='https://wandb.ai/hannsflip-none/Fake%20news%20comments/runs/7z1q1ezf' target=\"_blank\">https://wandb.ai/hannsflip-none/Fake%20news%20comments/runs/7z1q1ezf</a>"
      ]
     },
     "metadata": {}
    },
    {
     "output_type": "stream",
     "name": "stdout",
     "text": [
      "Epoch 1: Train Loss=0.7012234682103087, Accuracy=0.5026158690452576, F1 Score=0.22481070458889008\n",
      "Epoch 1: Accuracy=0.50052410364151, F1 Score=0.20605386793613434\n",
      "Early stopping counter: 1/3\n",
      "Epoch 2: Train Loss=0.7011133304982263, Accuracy=0.5048580169677734, F1 Score=0.23069480061531067\n",
      "Epoch 2: Accuracy=0.5008735060691833, F1 Score=0.2057269960641861\n",
      "Early stopping counter: 2/3\n",
      "Epoch 3: Train Loss=0.7011489944785878, Accuracy=0.5026158690452576, F1 Score=0.22026948630809784\n",
      "Epoch 3: Accuracy=0.5006988048553467, F1 Score=0.2056698054075241\n",
      "Early stopping counter: 3/3\n",
      "Early stopping triggered. Stopping training.\n"
     ]
    },
    {
     "output_type": "stream",
     "name": "stderr",
     "text": [
      "2025/01/15 08:00:47 WARNING mlflow.utils.requirements_utils: Found torch version (2.5.1+cu121) contains a local version label (+cu121). MLflow logged a pip requirement for this package as 'torch==2.5.1' without the local version label to make it installable from PyPI. To specify pip requirements containing local version labels, please use `conda_env` or `pip_requirements`.\n",
      "2025/01/15 08:00:58 WARNING mlflow.utils.requirements_utils: The following packages were not found in the public PyPI package index as of 2024-12-04; if these packages are not present in the public PyPI index, you must install them manually before loading your model: {'google-genai'}\n",
      "2025/01/15 08:00:58 WARNING mlflow.utils.requirements_utils: Found torchvision version (0.20.1+cu121) contains a local version label (+cu121). MLflow logged a pip requirement for this package as 'torchvision==0.20.1' without the local version label to make it installable from PyPI. To specify pip requirements containing local version labels, please use `conda_env` or `pip_requirements`.\n",
      "\u001B[31m2025/01/15 08:00:58 WARNING mlflow.models.model: Model logged without a signature and input example. Please set `input_example` parameter when logging the model to auto infer the model signature.\u001B[0m\n"
     ]
    },
    {
     "output_type": "stream",
     "name": "stdout",
     "text": [
      "🏃 View run roberta_model at: https://dagshub.com/auszed/Experiments_fake_news.mlflow/#/experiments/0/runs/d543d4a68bc4426984ee280d6ff87655\n",
      "🧪 View experiment at: https://dagshub.com/auszed/Experiments_fake_news.mlflow/#/experiments/0\n"
     ]
    },
    {
     "output_type": "display_data",
     "data": {
      "text/plain": [
       "<IPython.core.display.HTML object>"
      ],
      "text/html": []
     },
     "metadata": {}
    },
    {
     "output_type": "display_data",
     "data": {
      "text/plain": [
       "<IPython.core.display.HTML object>"
      ],
      "text/html": [
       "<br>    <style><br>        .wandb-row {<br>            display: flex;<br>            flex-direction: row;<br>            flex-wrap: wrap;<br>            justify-content: flex-start;<br>            width: 100%;<br>        }<br>        .wandb-col {<br>            display: flex;<br>            flex-direction: column;<br>            flex-basis: 100%;<br>            flex: 1;<br>            padding: 10px;<br>        }<br>    </style><br><div class=\"wandb-row\"><div class=\"wandb-col\"><h3>Run history:</h3><br/><table class=\"wandb\"><tr><td>epochs</td><td>▁▅█</td></tr><tr><td>train_accuracy</td><td>▁█▁</td></tr><tr><td>train_f1</td><td>▄█▁</td></tr><tr><td>train_loss</td><td>█▁▃</td></tr><tr><td>val_accuracy</td><td>▁█▅</td></tr><tr><td>val_f1</td><td>█▂▁</td></tr></table><br/></div><div class=\"wandb-col\"><h3>Run summary:</h3><br/><table class=\"wandb\"><tr><td>epochs</td><td>3</td></tr><tr><td>train_accuracy</td><td>0.50262</td></tr><tr><td>train_f1</td><td>0.22027</td></tr><tr><td>train_loss</td><td>0.70115</td></tr><tr><td>val_accuracy</td><td>0.5007</td></tr><tr><td>val_f1</td><td>0.20567</td></tr></table><br/></div></div>"
      ]
     },
     "metadata": {}
    },
    {
     "output_type": "display_data",
     "data": {
      "text/plain": [
       "<IPython.core.display.HTML object>"
      ],
      "text/html": [
       " View run <strong style=\"color:#cdcd00\">training_Fake news comments_trial_6</strong> at: <a href='https://wandb.ai/hannsflip-none/Fake%20news%20comments/runs/7z1q1ezf' target=\"_blank\">https://wandb.ai/hannsflip-none/Fake%20news%20comments/runs/7z1q1ezf</a><br> View project at: <a href='https://wandb.ai/hannsflip-none/Fake%20news%20comments' target=\"_blank\">https://wandb.ai/hannsflip-none/Fake%20news%20comments</a><br>Synced 5 W&B file(s), 0 media file(s), 0 artifact file(s) and 0 other file(s)"
      ]
     },
     "metadata": {}
    },
    {
     "output_type": "display_data",
     "data": {
      "text/plain": [
       "<IPython.core.display.HTML object>"
      ],
      "text/html": [
       "Find logs at: <code>./wandb/run-20250115_074233-7z1q1ezf/logs</code>"
      ]
     },
     "metadata": {}
    },
    {
     "output_type": "stream",
     "name": "stderr",
     "text": [
      "[I 2025-01-15 08:01:33,979] Trial 6 finished with value: 0.20605386793613434 and parameters: {'lr': 1e-10, 'w_decay': 0.01, 'dropout_vals': 0.19652267428928744, 'warmup': 0.10122881750356293, 'optimizer_name': 'RMSprop'}. Best is trial 1 with value: 0.3890398442745209.\n"
     ]
    },
    {
     "output_type": "display_data",
     "data": {
      "text/plain": [
       "<IPython.core.display.HTML object>"
      ],
      "text/html": [
       "Tracking run with wandb version 0.19.1"
      ]
     },
     "metadata": {}
    },
    {
     "output_type": "display_data",
     "data": {
      "text/plain": [
       "<IPython.core.display.HTML object>"
      ],
      "text/html": [
       "Run data is saved locally in <code>/content/wandb/run-20250115_080133-0y646d51</code>"
      ]
     },
     "metadata": {}
    },
    {
     "output_type": "display_data",
     "data": {
      "text/plain": [
       "<IPython.core.display.HTML object>"
      ],
      "text/html": [
       "Syncing run <strong><a href='https://wandb.ai/hannsflip-none/Fake%20news%20comments/runs/0y646d51' target=\"_blank\">training_Fake news comments_trial_7</a></strong> to <a href='https://wandb.ai/hannsflip-none/Fake%20news%20comments' target=\"_blank\">Weights & Biases</a> (<a href='https://wandb.me/developer-guide' target=\"_blank\">docs</a>)<br>"
      ]
     },
     "metadata": {}
    },
    {
     "output_type": "display_data",
     "data": {
      "text/plain": [
       "<IPython.core.display.HTML object>"
      ],
      "text/html": [
       " View project at <a href='https://wandb.ai/hannsflip-none/Fake%20news%20comments' target=\"_blank\">https://wandb.ai/hannsflip-none/Fake%20news%20comments</a>"
      ]
     },
     "metadata": {}
    },
    {
     "output_type": "display_data",
     "data": {
      "text/plain": [
       "<IPython.core.display.HTML object>"
      ],
      "text/html": [
       " View run at <a href='https://wandb.ai/hannsflip-none/Fake%20news%20comments/runs/0y646d51' target=\"_blank\">https://wandb.ai/hannsflip-none/Fake%20news%20comments/runs/0y646d51</a>"
      ]
     },
     "metadata": {}
    },
    {
     "output_type": "stream",
     "name": "stdout",
     "text": [
      "Epoch 1: Train Loss=0.701150742079645, Accuracy=0.5017439126968384, F1 Score=0.21259844303131104\n",
      "Epoch 1: Accuracy=0.50104820728302, F1 Score=0.2062256783246994\n",
      "Early stopping counter: 1/3\n",
      "Epoch 2: Train Loss=0.7011761200713114, Accuracy=0.5031141042709351, F1 Score=0.22105056047439575\n",
      "Epoch 2: Accuracy=0.50104820728302, F1 Score=0.2062256783246994\n",
      "Early stopping counter: 2/3\n",
      "Epoch 3: Train Loss=0.7011789554794094, Accuracy=0.4991280436515808, F1 Score=0.21998059749603271\n",
      "Epoch 3: Accuracy=0.5006988048553467, F1 Score=0.2052280306816101\n",
      "Early stopping counter: 3/3\n",
      "Early stopping triggered. Stopping training.\n"
     ]
    },
    {
     "output_type": "stream",
     "name": "stderr",
     "text": [
      "2025/01/15 08:19:44 WARNING mlflow.utils.requirements_utils: Found torch version (2.5.1+cu121) contains a local version label (+cu121). MLflow logged a pip requirement for this package as 'torch==2.5.1' without the local version label to make it installable from PyPI. To specify pip requirements containing local version labels, please use `conda_env` or `pip_requirements`.\n",
      "2025/01/15 08:19:55 WARNING mlflow.utils.requirements_utils: The following packages were not found in the public PyPI package index as of 2024-12-04; if these packages are not present in the public PyPI index, you must install them manually before loading your model: {'google-genai'}\n",
      "2025/01/15 08:19:55 WARNING mlflow.utils.requirements_utils: Found torchvision version (0.20.1+cu121) contains a local version label (+cu121). MLflow logged a pip requirement for this package as 'torchvision==0.20.1' without the local version label to make it installable from PyPI. To specify pip requirements containing local version labels, please use `conda_env` or `pip_requirements`.\n",
      "\u001B[31m2025/01/15 08:19:55 WARNING mlflow.models.model: Model logged without a signature and input example. Please set `input_example` parameter when logging the model to auto infer the model signature.\u001B[0m\n"
     ]
    },
    {
     "output_type": "stream",
     "name": "stdout",
     "text": [
      "🏃 View run roberta_model at: https://dagshub.com/auszed/Experiments_fake_news.mlflow/#/experiments/0/runs/df9e07313e70428bb174d9cb2b910561\n",
      "🧪 View experiment at: https://dagshub.com/auszed/Experiments_fake_news.mlflow/#/experiments/0\n"
     ]
    },
    {
     "output_type": "display_data",
     "data": {
      "text/plain": [
       "<IPython.core.display.HTML object>"
      ],
      "text/html": []
     },
     "metadata": {}
    },
    {
     "output_type": "display_data",
     "data": {
      "text/plain": [
       "<IPython.core.display.HTML object>"
      ],
      "text/html": [
       "<br>    <style><br>        .wandb-row {<br>            display: flex;<br>            flex-direction: row;<br>            flex-wrap: wrap;<br>            justify-content: flex-start;<br>            width: 100%;<br>        }<br>        .wandb-col {<br>            display: flex;<br>            flex-direction: column;<br>            flex-basis: 100%;<br>            flex: 1;<br>            padding: 10px;<br>        }<br>    </style><br><div class=\"wandb-row\"><div class=\"wandb-col\"><h3>Run history:</h3><br/><table class=\"wandb\"><tr><td>epochs</td><td>▁▅█</td></tr><tr><td>train_accuracy</td><td>▆█▁</td></tr><tr><td>train_f1</td><td>▁█▇</td></tr><tr><td>train_loss</td><td>▁▇█</td></tr><tr><td>val_accuracy</td><td>██▁</td></tr><tr><td>val_f1</td><td>██▁</td></tr></table><br/></div><div class=\"wandb-col\"><h3>Run summary:</h3><br/><table class=\"wandb\"><tr><td>epochs</td><td>3</td></tr><tr><td>train_accuracy</td><td>0.49913</td></tr><tr><td>train_f1</td><td>0.21998</td></tr><tr><td>train_loss</td><td>0.70118</td></tr><tr><td>val_accuracy</td><td>0.5007</td></tr><tr><td>val_f1</td><td>0.20523</td></tr></table><br/></div></div>"
      ]
     },
     "metadata": {}
    },
    {
     "output_type": "display_data",
     "data": {
      "text/plain": [
       "<IPython.core.display.HTML object>"
      ],
      "text/html": [
       " View run <strong style=\"color:#cdcd00\">training_Fake news comments_trial_7</strong> at: <a href='https://wandb.ai/hannsflip-none/Fake%20news%20comments/runs/0y646d51' target=\"_blank\">https://wandb.ai/hannsflip-none/Fake%20news%20comments/runs/0y646d51</a><br> View project at: <a href='https://wandb.ai/hannsflip-none/Fake%20news%20comments' target=\"_blank\">https://wandb.ai/hannsflip-none/Fake%20news%20comments</a><br>Synced 5 W&B file(s), 0 media file(s), 0 artifact file(s) and 0 other file(s)"
      ]
     },
     "metadata": {}
    },
    {
     "output_type": "display_data",
     "data": {
      "text/plain": [
       "<IPython.core.display.HTML object>"
      ],
      "text/html": [
       "Find logs at: <code>./wandb/run-20250115_080133-0y646d51/logs</code>"
      ]
     },
     "metadata": {}
    },
    {
     "output_type": "stream",
     "name": "stderr",
     "text": [
      "[I 2025-01-15 08:20:29,978] Trial 7 finished with value: 0.2062256783246994 and parameters: {'lr': 1e-10, 'w_decay': 1e-12, 'dropout_vals': 0.20073321889151863, 'warmup': 0.1250452387226093, 'optimizer_name': 'AdamW'}. Best is trial 1 with value: 0.3890398442745209.\n"
     ]
    },
    {
     "output_type": "display_data",
     "data": {
      "text/plain": [
       "<IPython.core.display.HTML object>"
      ],
      "text/html": [
       "Tracking run with wandb version 0.19.1"
      ]
     },
     "metadata": {}
    },
    {
     "output_type": "display_data",
     "data": {
      "text/plain": [
       "<IPython.core.display.HTML object>"
      ],
      "text/html": [
       "Run data is saved locally in <code>/content/wandb/run-20250115_082029-7ntbb393</code>"
      ]
     },
     "metadata": {}
    },
    {
     "output_type": "display_data",
     "data": {
      "text/plain": [
       "<IPython.core.display.HTML object>"
      ],
      "text/html": [
       "Syncing run <strong><a href='https://wandb.ai/hannsflip-none/Fake%20news%20comments/runs/7ntbb393' target=\"_blank\">training_Fake news comments_trial_8</a></strong> to <a href='https://wandb.ai/hannsflip-none/Fake%20news%20comments' target=\"_blank\">Weights & Biases</a> (<a href='https://wandb.me/developer-guide' target=\"_blank\">docs</a>)<br>"
      ]
     },
     "metadata": {}
    },
    {
     "output_type": "display_data",
     "data": {
      "text/plain": [
       "<IPython.core.display.HTML object>"
      ],
      "text/html": [
       " View project at <a href='https://wandb.ai/hannsflip-none/Fake%20news%20comments' target=\"_blank\">https://wandb.ai/hannsflip-none/Fake%20news%20comments</a>"
      ]
     },
     "metadata": {}
    },
    {
     "output_type": "display_data",
     "data": {
      "text/plain": [
       "<IPython.core.display.HTML object>"
      ],
      "text/html": [
       " View run at <a href='https://wandb.ai/hannsflip-none/Fake%20news%20comments/runs/7ntbb393' target=\"_blank\">https://wandb.ai/hannsflip-none/Fake%20news%20comments/runs/7ntbb393</a>"
      ]
     },
     "metadata": {}
    },
    {
     "output_type": "stream",
     "name": "stdout",
     "text": [
      "Epoch 1: Train Loss=0.7011682488280383, Accuracy=0.5002491474151611, F1 Score=0.21579357981681824\n",
      "Epoch 1: Accuracy=0.5008735060691833, F1 Score=0.20616838335990906\n",
      "Early stopping counter: 1/3\n",
      "Epoch 2: Train Loss=0.7011447277126113, Accuracy=0.5019930005073547, F1 Score=0.22005462646484375\n",
      "Epoch 2: Accuracy=0.50052410364151, F1 Score=0.2056126743555069\n",
      "Early stopping counter: 2/3\n",
      "Epoch 3: Train Loss=0.7011234754938716, Accuracy=0.49975088238716125, F1 Score=0.2147047370672226\n",
      "Epoch 3: Accuracy=0.5006988048553467, F1 Score=0.2061111181974411\n",
      "Early stopping counter: 3/3\n",
      "Early stopping triggered. Stopping training.\n"
     ]
    },
    {
     "output_type": "stream",
     "name": "stderr",
     "text": [
      "2025/01/15 08:38:40 WARNING mlflow.utils.requirements_utils: Found torch version (2.5.1+cu121) contains a local version label (+cu121). MLflow logged a pip requirement for this package as 'torch==2.5.1' without the local version label to make it installable from PyPI. To specify pip requirements containing local version labels, please use `conda_env` or `pip_requirements`.\n",
      "2025/01/15 08:38:51 WARNING mlflow.utils.requirements_utils: The following packages were not found in the public PyPI package index as of 2024-12-04; if these packages are not present in the public PyPI index, you must install them manually before loading your model: {'google-genai'}\n",
      "2025/01/15 08:38:51 WARNING mlflow.utils.requirements_utils: Found torchvision version (0.20.1+cu121) contains a local version label (+cu121). MLflow logged a pip requirement for this package as 'torchvision==0.20.1' without the local version label to make it installable from PyPI. To specify pip requirements containing local version labels, please use `conda_env` or `pip_requirements`.\n",
      "\u001B[31m2025/01/15 08:38:51 WARNING mlflow.models.model: Model logged without a signature and input example. Please set `input_example` parameter when logging the model to auto infer the model signature.\u001B[0m\n"
     ]
    },
    {
     "output_type": "stream",
     "name": "stdout",
     "text": [
      "🏃 View run roberta_model at: https://dagshub.com/auszed/Experiments_fake_news.mlflow/#/experiments/0/runs/bb3da0cbd8eb4e50b29733a0469a963f\n",
      "🧪 View experiment at: https://dagshub.com/auszed/Experiments_fake_news.mlflow/#/experiments/0\n"
     ]
    },
    {
     "output_type": "display_data",
     "data": {
      "text/plain": [
       "<IPython.core.display.HTML object>"
      ],
      "text/html": []
     },
     "metadata": {}
    },
    {
     "output_type": "display_data",
     "data": {
      "text/plain": [
       "<IPython.core.display.HTML object>"
      ],
      "text/html": [
       "<br>    <style><br>        .wandb-row {<br>            display: flex;<br>            flex-direction: row;<br>            flex-wrap: wrap;<br>            justify-content: flex-start;<br>            width: 100%;<br>        }<br>        .wandb-col {<br>            display: flex;<br>            flex-direction: column;<br>            flex-basis: 100%;<br>            flex: 1;<br>            padding: 10px;<br>        }<br>    </style><br><div class=\"wandb-row\"><div class=\"wandb-col\"><h3>Run history:</h3><br/><table class=\"wandb\"><tr><td>epochs</td><td>▁▅█</td></tr><tr><td>train_accuracy</td><td>▃█▁</td></tr><tr><td>train_f1</td><td>▂█▁</td></tr><tr><td>train_loss</td><td>█▄▁</td></tr><tr><td>val_accuracy</td><td>█▁▅</td></tr><tr><td>val_f1</td><td>█▁▇</td></tr></table><br/></div><div class=\"wandb-col\"><h3>Run summary:</h3><br/><table class=\"wandb\"><tr><td>epochs</td><td>3</td></tr><tr><td>train_accuracy</td><td>0.49975</td></tr><tr><td>train_f1</td><td>0.2147</td></tr><tr><td>train_loss</td><td>0.70112</td></tr><tr><td>val_accuracy</td><td>0.5007</td></tr><tr><td>val_f1</td><td>0.20611</td></tr></table><br/></div></div>"
      ]
     },
     "metadata": {}
    },
    {
     "output_type": "display_data",
     "data": {
      "text/plain": [
       "<IPython.core.display.HTML object>"
      ],
      "text/html": [
       " View run <strong style=\"color:#cdcd00\">training_Fake news comments_trial_8</strong> at: <a href='https://wandb.ai/hannsflip-none/Fake%20news%20comments/runs/7ntbb393' target=\"_blank\">https://wandb.ai/hannsflip-none/Fake%20news%20comments/runs/7ntbb393</a><br> View project at: <a href='https://wandb.ai/hannsflip-none/Fake%20news%20comments' target=\"_blank\">https://wandb.ai/hannsflip-none/Fake%20news%20comments</a><br>Synced 5 W&B file(s), 0 media file(s), 0 artifact file(s) and 0 other file(s)"
      ]
     },
     "metadata": {}
    },
    {
     "output_type": "display_data",
     "data": {
      "text/plain": [
       "<IPython.core.display.HTML object>"
      ],
      "text/html": [
       "Find logs at: <code>./wandb/run-20250115_082029-7ntbb393/logs</code>"
      ]
     },
     "metadata": {}
    },
    {
     "output_type": "stream",
     "name": "stderr",
     "text": [
      "[I 2025-01-15 08:39:25,403] Trial 8 finished with value: 0.20616838335990906 and parameters: {'lr': 1e-10, 'w_decay': 0.0050000000005, 'dropout_vals': 0.17552162782482905, 'warmup': 0.16059202964056984, 'optimizer_name': 'RMSprop'}. Best is trial 1 with value: 0.3890398442745209.\n"
     ]
    },
    {
     "output_type": "display_data",
     "data": {
      "text/plain": [
       "<IPython.core.display.HTML object>"
      ],
      "text/html": [
       "Tracking run with wandb version 0.19.1"
      ]
     },
     "metadata": {}
    },
    {
     "output_type": "display_data",
     "data": {
      "text/plain": [
       "<IPython.core.display.HTML object>"
      ],
      "text/html": [
       "Run data is saved locally in <code>/content/wandb/run-20250115_083925-re8tfbjy</code>"
      ]
     },
     "metadata": {}
    },
    {
     "output_type": "display_data",
     "data": {
      "text/plain": [
       "<IPython.core.display.HTML object>"
      ],
      "text/html": [
       "Syncing run <strong><a href='https://wandb.ai/hannsflip-none/Fake%20news%20comments/runs/re8tfbjy' target=\"_blank\">training_Fake news comments_trial_9</a></strong> to <a href='https://wandb.ai/hannsflip-none/Fake%20news%20comments' target=\"_blank\">Weights & Biases</a> (<a href='https://wandb.me/developer-guide' target=\"_blank\">docs</a>)<br>"
      ]
     },
     "metadata": {}
    },
    {
     "output_type": "display_data",
     "data": {
      "text/plain": [
       "<IPython.core.display.HTML object>"
      ],
      "text/html": [
       " View project at <a href='https://wandb.ai/hannsflip-none/Fake%20news%20comments' target=\"_blank\">https://wandb.ai/hannsflip-none/Fake%20news%20comments</a>"
      ]
     },
     "metadata": {}
    },
    {
     "output_type": "display_data",
     "data": {
      "text/plain": [
       "<IPython.core.display.HTML object>"
      ],
      "text/html": [
       " View run at <a href='https://wandb.ai/hannsflip-none/Fake%20news%20comments/runs/re8tfbjy' target=\"_blank\">https://wandb.ai/hannsflip-none/Fake%20news%20comments/runs/re8tfbjy</a>"
      ]
     },
     "metadata": {}
    },
    {
     "output_type": "stream",
     "name": "stdout",
     "text": [
      "Epoch 1: Train Loss=0.7011891630198389, Accuracy=0.4991280436515808, F1 Score=0.21602651476860046\n",
      "Epoch 1: Accuracy=0.5001747012138367, F1 Score=0.20593950152397156\n",
      "Early stopping counter: 1/3\n",
      "Epoch 2: Train Loss=0.7011461625897475, Accuracy=0.5047334432601929, F1 Score=0.23361603915691376\n",
      "Epoch 2: Accuracy=0.5008735060691833, F1 Score=0.20528511703014374\n",
      "Early stopping counter: 2/3\n",
      "Epoch 3: Train Loss=0.7011811383992923, Accuracy=0.5058544874191284, F1 Score=0.22805994749069214\n",
      "Epoch 3: Accuracy=0.5008735060691833, F1 Score=0.20616838335990906\n",
      "Early stopping counter: 3/3\n",
      "Early stopping triggered. Stopping training.\n"
     ]
    },
    {
     "output_type": "stream",
     "name": "stderr",
     "text": [
      "2025/01/15 08:57:38 WARNING mlflow.utils.requirements_utils: Found torch version (2.5.1+cu121) contains a local version label (+cu121). MLflow logged a pip requirement for this package as 'torch==2.5.1' without the local version label to make it installable from PyPI. To specify pip requirements containing local version labels, please use `conda_env` or `pip_requirements`.\n",
      "2025/01/15 08:57:49 WARNING mlflow.utils.requirements_utils: The following packages were not found in the public PyPI package index as of 2024-12-04; if these packages are not present in the public PyPI index, you must install them manually before loading your model: {'google-genai'}\n",
      "2025/01/15 08:57:49 WARNING mlflow.utils.requirements_utils: Found torchvision version (0.20.1+cu121) contains a local version label (+cu121). MLflow logged a pip requirement for this package as 'torchvision==0.20.1' without the local version label to make it installable from PyPI. To specify pip requirements containing local version labels, please use `conda_env` or `pip_requirements`.\n",
      "\u001B[31m2025/01/15 08:57:49 WARNING mlflow.models.model: Model logged without a signature and input example. Please set `input_example` parameter when logging the model to auto infer the model signature.\u001B[0m\n"
     ]
    },
    {
     "output_type": "stream",
     "name": "stdout",
     "text": [
      "🏃 View run roberta_model at: https://dagshub.com/auszed/Experiments_fake_news.mlflow/#/experiments/0/runs/5f2dae9b982f4d258f728b7f11cbc6b1\n",
      "🧪 View experiment at: https://dagshub.com/auszed/Experiments_fake_news.mlflow/#/experiments/0\n"
     ]
    },
    {
     "output_type": "display_data",
     "data": {
      "text/plain": [
       "<IPython.core.display.HTML object>"
      ],
      "text/html": []
     },
     "metadata": {}
    },
    {
     "output_type": "display_data",
     "data": {
      "text/plain": [
       "<IPython.core.display.HTML object>"
      ],
      "text/html": [
       "<br>    <style><br>        .wandb-row {<br>            display: flex;<br>            flex-direction: row;<br>            flex-wrap: wrap;<br>            justify-content: flex-start;<br>            width: 100%;<br>        }<br>        .wandb-col {<br>            display: flex;<br>            flex-direction: column;<br>            flex-basis: 100%;<br>            flex: 1;<br>            padding: 10px;<br>        }<br>    </style><br><div class=\"wandb-row\"><div class=\"wandb-col\"><h3>Run history:</h3><br/><table class=\"wandb\"><tr><td>epochs</td><td>▁▅█</td></tr><tr><td>train_accuracy</td><td>▁▇█</td></tr><tr><td>train_f1</td><td>▁█▆</td></tr><tr><td>train_loss</td><td>█▁▇</td></tr><tr><td>val_accuracy</td><td>▁██</td></tr><tr><td>val_f1</td><td>▆▁█</td></tr></table><br/></div><div class=\"wandb-col\"><h3>Run summary:</h3><br/><table class=\"wandb\"><tr><td>epochs</td><td>3</td></tr><tr><td>train_accuracy</td><td>0.50585</td></tr><tr><td>train_f1</td><td>0.22806</td></tr><tr><td>train_loss</td><td>0.70118</td></tr><tr><td>val_accuracy</td><td>0.50087</td></tr><tr><td>val_f1</td><td>0.20617</td></tr></table><br/></div></div>"
      ]
     },
     "metadata": {}
    },
    {
     "output_type": "display_data",
     "data": {
      "text/plain": [
       "<IPython.core.display.HTML object>"
      ],
      "text/html": [
       " View run <strong style=\"color:#cdcd00\">training_Fake news comments_trial_9</strong> at: <a href='https://wandb.ai/hannsflip-none/Fake%20news%20comments/runs/re8tfbjy' target=\"_blank\">https://wandb.ai/hannsflip-none/Fake%20news%20comments/runs/re8tfbjy</a><br> View project at: <a href='https://wandb.ai/hannsflip-none/Fake%20news%20comments' target=\"_blank\">https://wandb.ai/hannsflip-none/Fake%20news%20comments</a><br>Synced 5 W&B file(s), 0 media file(s), 0 artifact file(s) and 0 other file(s)"
      ]
     },
     "metadata": {}
    },
    {
     "output_type": "display_data",
     "data": {
      "text/plain": [
       "<IPython.core.display.HTML object>"
      ],
      "text/html": [
       "Find logs at: <code>./wandb/run-20250115_083925-re8tfbjy/logs</code>"
      ]
     },
     "metadata": {}
    },
    {
     "output_type": "stream",
     "name": "stderr",
     "text": [
      "[I 2025-01-15 08:58:25,438] Trial 9 finished with value: 0.20616838335990906 and parameters: {'lr': 1e-06, 'w_decay': 0.01, 'dropout_vals': 0.29614173807457916, 'warmup': 0.1413647948536661, 'optimizer_name': 'SGD'}. Best is trial 1 with value: 0.3890398442745209.\n"
     ]
    },
    {
     "output_type": "display_data",
     "data": {
      "text/plain": [
       "<IPython.core.display.HTML object>"
      ],
      "text/html": [
       "Tracking run with wandb version 0.19.1"
      ]
     },
     "metadata": {}
    },
    {
     "output_type": "display_data",
     "data": {
      "text/plain": [
       "<IPython.core.display.HTML object>"
      ],
      "text/html": [
       "Run data is saved locally in <code>/content/wandb/run-20250115_085825-irpur90y</code>"
      ]
     },
     "metadata": {}
    },
    {
     "output_type": "display_data",
     "data": {
      "text/plain": [
       "<IPython.core.display.HTML object>"
      ],
      "text/html": [
       "Syncing run <strong><a href='https://wandb.ai/hannsflip-none/Fake%20news%20comments/runs/irpur90y' target=\"_blank\">training_Fake news comments_trial_10</a></strong> to <a href='https://wandb.ai/hannsflip-none/Fake%20news%20comments' target=\"_blank\">Weights & Biases</a> (<a href='https://wandb.me/developer-guide' target=\"_blank\">docs</a>)<br>"
      ]
     },
     "metadata": {}
    },
    {
     "output_type": "display_data",
     "data": {
      "text/plain": [
       "<IPython.core.display.HTML object>"
      ],
      "text/html": [
       " View project at <a href='https://wandb.ai/hannsflip-none/Fake%20news%20comments' target=\"_blank\">https://wandb.ai/hannsflip-none/Fake%20news%20comments</a>"
      ]
     },
     "metadata": {}
    },
    {
     "output_type": "display_data",
     "data": {
      "text/plain": [
       "<IPython.core.display.HTML object>"
      ],
      "text/html": [
       " View run at <a href='https://wandb.ai/hannsflip-none/Fake%20news%20comments/runs/irpur90y' target=\"_blank\">https://wandb.ai/hannsflip-none/Fake%20news%20comments/runs/irpur90y</a>"
      ]
     },
     "metadata": {}
    },
    {
     "output_type": "stream",
     "name": "stdout",
     "text": [
      "Epoch 1: Train Loss=0.7011925509514118, Accuracy=0.5003737211227417, F1 Score=0.2158357799053192\n",
      "Epoch 1: Accuracy=0.50052410364151, F1 Score=0.20472879707813263\n",
      "Early stopping counter: 1/3\n",
      "Epoch 2: Train Loss=0.7011060288846939, Accuracy=0.49887892603874207, F1 Score=0.20352405309677124\n",
      "Epoch 2: Accuracy=0.49510830640792847, F1 Score=0.17475727200508118\n",
      "Early stopping counter: 2/3\n",
      "Epoch 3: Train Loss=0.7009236412108925, Accuracy=0.4953911304473877, F1 Score=0.17478100955486298\n",
      "Epoch 3: Accuracy=0.48218029737472534, F1 Score=0.10990990698337555\n",
      "Early stopping counter: 3/3\n",
      "Early stopping triggered. Stopping training.\n"
     ]
    },
    {
     "output_type": "stream",
     "name": "stderr",
     "text": [
      "2025/01/15 09:16:36 WARNING mlflow.utils.requirements_utils: Found torch version (2.5.1+cu121) contains a local version label (+cu121). MLflow logged a pip requirement for this package as 'torch==2.5.1' without the local version label to make it installable from PyPI. To specify pip requirements containing local version labels, please use `conda_env` or `pip_requirements`.\n",
      "2025/01/15 09:16:47 WARNING mlflow.utils.requirements_utils: The following packages were not found in the public PyPI package index as of 2024-12-04; if these packages are not present in the public PyPI index, you must install them manually before loading your model: {'google-genai'}\n",
      "2025/01/15 09:16:47 WARNING mlflow.utils.requirements_utils: Found torchvision version (0.20.1+cu121) contains a local version label (+cu121). MLflow logged a pip requirement for this package as 'torchvision==0.20.1' without the local version label to make it installable from PyPI. To specify pip requirements containing local version labels, please use `conda_env` or `pip_requirements`.\n",
      "\u001B[31m2025/01/15 09:16:47 WARNING mlflow.models.model: Model logged without a signature and input example. Please set `input_example` parameter when logging the model to auto infer the model signature.\u001B[0m\n"
     ]
    },
    {
     "output_type": "stream",
     "name": "stdout",
     "text": [
      "🏃 View run roberta_model at: https://dagshub.com/auszed/Experiments_fake_news.mlflow/#/experiments/0/runs/1c988a937a7c402fa0a281d94969cb9e\n",
      "🧪 View experiment at: https://dagshub.com/auszed/Experiments_fake_news.mlflow/#/experiments/0\n"
     ]
    },
    {
     "output_type": "display_data",
     "data": {
      "text/plain": [
       "<IPython.core.display.HTML object>"
      ],
      "text/html": []
     },
     "metadata": {}
    },
    {
     "output_type": "display_data",
     "data": {
      "text/plain": [
       "<IPython.core.display.HTML object>"
      ],
      "text/html": [
       "<br>    <style><br>        .wandb-row {<br>            display: flex;<br>            flex-direction: row;<br>            flex-wrap: wrap;<br>            justify-content: flex-start;<br>            width: 100%;<br>        }<br>        .wandb-col {<br>            display: flex;<br>            flex-direction: column;<br>            flex-basis: 100%;<br>            flex: 1;<br>            padding: 10px;<br>        }<br>    </style><br><div class=\"wandb-row\"><div class=\"wandb-col\"><h3>Run history:</h3><br/><table class=\"wandb\"><tr><td>epochs</td><td>▁▅█</td></tr><tr><td>train_accuracy</td><td>█▆▁</td></tr><tr><td>train_f1</td><td>█▆▁</td></tr><tr><td>train_loss</td><td>█▆▁</td></tr><tr><td>val_accuracy</td><td>█▆▁</td></tr><tr><td>val_f1</td><td>█▆▁</td></tr></table><br/></div><div class=\"wandb-col\"><h3>Run summary:</h3><br/><table class=\"wandb\"><tr><td>epochs</td><td>3</td></tr><tr><td>train_accuracy</td><td>0.49539</td></tr><tr><td>train_f1</td><td>0.17478</td></tr><tr><td>train_loss</td><td>0.70092</td></tr><tr><td>val_accuracy</td><td>0.48218</td></tr><tr><td>val_f1</td><td>0.10991</td></tr></table><br/></div></div>"
      ]
     },
     "metadata": {}
    },
    {
     "output_type": "display_data",
     "data": {
      "text/plain": [
       "<IPython.core.display.HTML object>"
      ],
      "text/html": [
       " View run <strong style=\"color:#cdcd00\">training_Fake news comments_trial_10</strong> at: <a href='https://wandb.ai/hannsflip-none/Fake%20news%20comments/runs/irpur90y' target=\"_blank\">https://wandb.ai/hannsflip-none/Fake%20news%20comments/runs/irpur90y</a><br> View project at: <a href='https://wandb.ai/hannsflip-none/Fake%20news%20comments' target=\"_blank\">https://wandb.ai/hannsflip-none/Fake%20news%20comments</a><br>Synced 5 W&B file(s), 0 media file(s), 0 artifact file(s) and 0 other file(s)"
      ]
     },
     "metadata": {}
    },
    {
     "output_type": "display_data",
     "data": {
      "text/plain": [
       "<IPython.core.display.HTML object>"
      ],
      "text/html": [
       "Find logs at: <code>./wandb/run-20250115_085825-irpur90y/logs</code>"
      ]
     },
     "metadata": {}
    },
    {
     "output_type": "stream",
     "name": "stderr",
     "text": [
      "[I 2025-01-15 09:17:25,378] Trial 10 finished with value: 0.20472879707813263 and parameters: {'lr': 1e-06, 'w_decay': 0.00250000000075, 'dropout_vals': 0.10942534517777215, 'warmup': 0.19520242701169338, 'optimizer_name': 'AdamW'}. Best is trial 1 with value: 0.3890398442745209.\n"
     ]
    },
    {
     "output_type": "display_data",
     "data": {
      "text/plain": [
       "<IPython.core.display.HTML object>"
      ],
      "text/html": [
       "Tracking run with wandb version 0.19.1"
      ]
     },
     "metadata": {}
    },
    {
     "output_type": "display_data",
     "data": {
      "text/plain": [
       "<IPython.core.display.HTML object>"
      ],
      "text/html": [
       "Run data is saved locally in <code>/content/wandb/run-20250115_091725-gvb3cvuv</code>"
      ]
     },
     "metadata": {}
    },
    {
     "output_type": "display_data",
     "data": {
      "text/plain": [
       "<IPython.core.display.HTML object>"
      ],
      "text/html": [
       "Syncing run <strong><a href='https://wandb.ai/hannsflip-none/Fake%20news%20comments/runs/gvb3cvuv' target=\"_blank\">training_Fake news comments_trial_11</a></strong> to <a href='https://wandb.ai/hannsflip-none/Fake%20news%20comments' target=\"_blank\">Weights & Biases</a> (<a href='https://wandb.me/developer-guide' target=\"_blank\">docs</a>)<br>"
      ]
     },
     "metadata": {}
    },
    {
     "output_type": "display_data",
     "data": {
      "text/plain": [
       "<IPython.core.display.HTML object>"
      ],
      "text/html": [
       " View project at <a href='https://wandb.ai/hannsflip-none/Fake%20news%20comments' target=\"_blank\">https://wandb.ai/hannsflip-none/Fake%20news%20comments</a>"
      ]
     },
     "metadata": {}
    },
    {
     "output_type": "display_data",
     "data": {
      "text/plain": [
       "<IPython.core.display.HTML object>"
      ],
      "text/html": [
       " View run at <a href='https://wandb.ai/hannsflip-none/Fake%20news%20comments/runs/gvb3cvuv' target=\"_blank\">https://wandb.ai/hannsflip-none/Fake%20news%20comments/runs/gvb3cvuv</a>"
      ]
     },
     "metadata": {}
    },
    {
     "output_type": "stream",
     "name": "stdout",
     "text": [
      "Epoch 1: Train Loss=0.7008344602335372, Accuracy=0.48878923058509827, F1 Score=0.13962264358997345\n",
      "Epoch 1: Accuracy=0.48218029737472534, F1 Score=0.1093749925494194\n",
      "Early stopping counter: 1/3\n",
      "Epoch 2: Train Loss=0.7006556474574478, Accuracy=0.48430493474006653, F1 Score=0.1187739446759224\n",
      "Epoch 2: Accuracy=0.4694269597530365, F1 Score=0.058294571936130524\n",
      "Early stopping counter: 2/3\n",
      "Epoch 3: Train Loss=0.7002458711376105, Accuracy=0.46786248683929443, F1 Score=0.04812834411859512\n",
      "Epoch 3: Accuracy=0.4592941999435425, F1 Score=0.015272033400833607\n",
      "Early stopping counter: 3/3\n",
      "Early stopping triggered. Stopping training.\n"
     ]
    },
    {
     "output_type": "stream",
     "name": "stderr",
     "text": [
      "2025/01/15 09:35:38 WARNING mlflow.utils.requirements_utils: Found torch version (2.5.1+cu121) contains a local version label (+cu121). MLflow logged a pip requirement for this package as 'torch==2.5.1' without the local version label to make it installable from PyPI. To specify pip requirements containing local version labels, please use `conda_env` or `pip_requirements`.\n",
      "2025/01/15 09:35:48 WARNING mlflow.utils.requirements_utils: The following packages were not found in the public PyPI package index as of 2024-12-04; if these packages are not present in the public PyPI index, you must install them manually before loading your model: {'google-genai'}\n",
      "2025/01/15 09:35:48 WARNING mlflow.utils.requirements_utils: Found torchvision version (0.20.1+cu121) contains a local version label (+cu121). MLflow logged a pip requirement for this package as 'torchvision==0.20.1' without the local version label to make it installable from PyPI. To specify pip requirements containing local version labels, please use `conda_env` or `pip_requirements`.\n",
      "\u001B[31m2025/01/15 09:35:49 WARNING mlflow.models.model: Model logged without a signature and input example. Please set `input_example` parameter when logging the model to auto infer the model signature.\u001B[0m\n"
     ]
    },
    {
     "output_type": "stream",
     "name": "stdout",
     "text": [
      "🏃 View run roberta_model at: https://dagshub.com/auszed/Experiments_fake_news.mlflow/#/experiments/0/runs/5dcabfba45e04f12bbadf9dbaa3dbdab\n",
      "🧪 View experiment at: https://dagshub.com/auszed/Experiments_fake_news.mlflow/#/experiments/0\n"
     ]
    },
    {
     "output_type": "display_data",
     "data": {
      "text/plain": [
       "<IPython.core.display.HTML object>"
      ],
      "text/html": []
     },
     "metadata": {}
    },
    {
     "output_type": "display_data",
     "data": {
      "text/plain": [
       "<IPython.core.display.HTML object>"
      ],
      "text/html": [
       "<br>    <style><br>        .wandb-row {<br>            display: flex;<br>            flex-direction: row;<br>            flex-wrap: wrap;<br>            justify-content: flex-start;<br>            width: 100%;<br>        }<br>        .wandb-col {<br>            display: flex;<br>            flex-direction: column;<br>            flex-basis: 100%;<br>            flex: 1;<br>            padding: 10px;<br>        }<br>    </style><br><div class=\"wandb-row\"><div class=\"wandb-col\"><h3>Run history:</h3><br/><table class=\"wandb\"><tr><td>epochs</td><td>▁▅█</td></tr><tr><td>train_accuracy</td><td>█▇▁</td></tr><tr><td>train_f1</td><td>█▆▁</td></tr><tr><td>train_loss</td><td>█▆▁</td></tr><tr><td>val_accuracy</td><td>█▄▁</td></tr><tr><td>val_f1</td><td>█▄▁</td></tr></table><br/></div><div class=\"wandb-col\"><h3>Run summary:</h3><br/><table class=\"wandb\"><tr><td>epochs</td><td>3</td></tr><tr><td>train_accuracy</td><td>0.46786</td></tr><tr><td>train_f1</td><td>0.04813</td></tr><tr><td>train_loss</td><td>0.70025</td></tr><tr><td>val_accuracy</td><td>0.45929</td></tr><tr><td>val_f1</td><td>0.01527</td></tr></table><br/></div></div>"
      ]
     },
     "metadata": {}
    },
    {
     "output_type": "display_data",
     "data": {
      "text/plain": [
       "<IPython.core.display.HTML object>"
      ],
      "text/html": [
       " View run <strong style=\"color:#cdcd00\">training_Fake news comments_trial_11</strong> at: <a href='https://wandb.ai/hannsflip-none/Fake%20news%20comments/runs/gvb3cvuv' target=\"_blank\">https://wandb.ai/hannsflip-none/Fake%20news%20comments/runs/gvb3cvuv</a><br> View project at: <a href='https://wandb.ai/hannsflip-none/Fake%20news%20comments' target=\"_blank\">https://wandb.ai/hannsflip-none/Fake%20news%20comments</a><br>Synced 5 W&B file(s), 0 media file(s), 0 artifact file(s) and 0 other file(s)"
      ]
     },
     "metadata": {}
    },
    {
     "output_type": "display_data",
     "data": {
      "text/plain": [
       "<IPython.core.display.HTML object>"
      ],
      "text/html": [
       "Find logs at: <code>./wandb/run-20250115_091725-gvb3cvuv/logs</code>"
      ]
     },
     "metadata": {}
    },
    {
     "output_type": "stream",
     "name": "stderr",
     "text": [
      "[I 2025-01-15 09:36:25,072] Trial 11 finished with value: 0.1093749925494194 and parameters: {'lr': 7.50025e-07, 'w_decay': 0.0050000000005, 'dropout_vals': 0.2771423126889018, 'warmup': 0.05513247198642183, 'optimizer_name': 'AdamW'}. Best is trial 1 with value: 0.3890398442745209.\n"
     ]
    },
    {
     "output_type": "display_data",
     "data": {
      "text/plain": [
       "<IPython.core.display.HTML object>"
      ],
      "text/html": [
       "Tracking run with wandb version 0.19.1"
      ]
     },
     "metadata": {}
    },
    {
     "output_type": "display_data",
     "data": {
      "text/plain": [
       "<IPython.core.display.HTML object>"
      ],
      "text/html": [
       "Run data is saved locally in <code>/content/wandb/run-20250115_093625-gk780wl5</code>"
      ]
     },
     "metadata": {}
    },
    {
     "output_type": "display_data",
     "data": {
      "text/plain": [
       "<IPython.core.display.HTML object>"
      ],
      "text/html": [
       "Syncing run <strong><a href='https://wandb.ai/hannsflip-none/Fake%20news%20comments/runs/gk780wl5' target=\"_blank\">training_Fake news comments_trial_12</a></strong> to <a href='https://wandb.ai/hannsflip-none/Fake%20news%20comments' target=\"_blank\">Weights & Biases</a> (<a href='https://wandb.me/developer-guide' target=\"_blank\">docs</a>)<br>"
      ]
     },
     "metadata": {}
    },
    {
     "output_type": "display_data",
     "data": {
      "text/plain": [
       "<IPython.core.display.HTML object>"
      ],
      "text/html": [
       " View project at <a href='https://wandb.ai/hannsflip-none/Fake%20news%20comments' target=\"_blank\">https://wandb.ai/hannsflip-none/Fake%20news%20comments</a>"
      ]
     },
     "metadata": {}
    },
    {
     "output_type": "display_data",
     "data": {
      "text/plain": [
       "<IPython.core.display.HTML object>"
      ],
      "text/html": [
       " View run at <a href='https://wandb.ai/hannsflip-none/Fake%20news%20comments/runs/gk780wl5' target=\"_blank\">https://wandb.ai/hannsflip-none/Fake%20news%20comments/runs/gk780wl5</a>"
      ]
     },
     "metadata": {}
    },
    {
     "output_type": "stream",
     "name": "stdout",
     "text": [
      "Epoch 1: Train Loss=0.6999932714196421, Accuracy=0.4641255736351013, F1 Score=0.029769958928227425\n",
      "Epoch 1: Accuracy=0.4592941999435425, F1 Score=0.015272033400833607\n",
      "Early stopping counter: 1/3\n",
      "Epoch 2: Train Loss=0.6994917843552092, Accuracy=0.45889386534690857, F1 Score=0.009575922973453999\n",
      "Epoch 2: Accuracy=0.45597484707832336, F1 Score=0.0025624597910791636\n",
      "Early stopping counter: 2/3\n",
      "Epoch 3: Train Loss=0.6982088427550768, Accuracy=0.457025408744812, F1 Score=0.0013745705364271998\n",
      "Epoch 3: Accuracy=0.45562544465065, F1 Score=0.0\n",
      "Early stopping counter: 3/3\n",
      "Early stopping triggered. Stopping training.\n"
     ]
    },
    {
     "output_type": "stream",
     "name": "stderr",
     "text": [
      "2025/01/15 09:54:43 WARNING mlflow.utils.requirements_utils: Found torch version (2.5.1+cu121) contains a local version label (+cu121). MLflow logged a pip requirement for this package as 'torch==2.5.1' without the local version label to make it installable from PyPI. To specify pip requirements containing local version labels, please use `conda_env` or `pip_requirements`.\n",
      "2025/01/15 09:54:55 WARNING mlflow.utils.requirements_utils: The following packages were not found in the public PyPI package index as of 2024-12-04; if these packages are not present in the public PyPI index, you must install them manually before loading your model: {'google-genai'}\n",
      "2025/01/15 09:54:55 WARNING mlflow.utils.requirements_utils: Found torchvision version (0.20.1+cu121) contains a local version label (+cu121). MLflow logged a pip requirement for this package as 'torchvision==0.20.1' without the local version label to make it installable from PyPI. To specify pip requirements containing local version labels, please use `conda_env` or `pip_requirements`.\n",
      "\u001B[31m2025/01/15 09:54:55 WARNING mlflow.models.model: Model logged without a signature and input example. Please set `input_example` parameter when logging the model to auto infer the model signature.\u001B[0m\n"
     ]
    },
    {
     "output_type": "stream",
     "name": "stdout",
     "text": [
      "🏃 View run roberta_model at: https://dagshub.com/auszed/Experiments_fake_news.mlflow/#/experiments/0/runs/e2c5542942234013ad8b7fa7876b9d8a\n",
      "🧪 View experiment at: https://dagshub.com/auszed/Experiments_fake_news.mlflow/#/experiments/0\n"
     ]
    },
    {
     "output_type": "display_data",
     "data": {
      "text/plain": [
       "<IPython.core.display.HTML object>"
      ],
      "text/html": []
     },
     "metadata": {}
    },
    {
     "output_type": "display_data",
     "data": {
      "text/plain": [
       "<IPython.core.display.HTML object>"
      ],
      "text/html": [
       "<br>    <style><br>        .wandb-row {<br>            display: flex;<br>            flex-direction: row;<br>            flex-wrap: wrap;<br>            justify-content: flex-start;<br>            width: 100%;<br>        }<br>        .wandb-col {<br>            display: flex;<br>            flex-direction: column;<br>            flex-basis: 100%;<br>            flex: 1;<br>            padding: 10px;<br>        }<br>    </style><br><div class=\"wandb-row\"><div class=\"wandb-col\"><h3>Run history:</h3><br/><table class=\"wandb\"><tr><td>epochs</td><td>▁▅█</td></tr><tr><td>train_accuracy</td><td>█▃▁</td></tr><tr><td>train_f1</td><td>█▃▁</td></tr><tr><td>train_loss</td><td>█▆▁</td></tr><tr><td>val_accuracy</td><td>█▂▁</td></tr><tr><td>val_f1</td><td>█▂▁</td></tr></table><br/></div><div class=\"wandb-col\"><h3>Run summary:</h3><br/><table class=\"wandb\"><tr><td>epochs</td><td>3</td></tr><tr><td>train_accuracy</td><td>0.45703</td></tr><tr><td>train_f1</td><td>0.00137</td></tr><tr><td>train_loss</td><td>0.69821</td></tr><tr><td>val_accuracy</td><td>0.45563</td></tr><tr><td>val_f1</td><td>0</td></tr></table><br/></div></div>"
      ]
     },
     "metadata": {}
    },
    {
     "output_type": "display_data",
     "data": {
      "text/plain": [
       "<IPython.core.display.HTML object>"
      ],
      "text/html": [
       " View run <strong style=\"color:#cdcd00\">training_Fake news comments_trial_12</strong> at: <a href='https://wandb.ai/hannsflip-none/Fake%20news%20comments/runs/gk780wl5' target=\"_blank\">https://wandb.ai/hannsflip-none/Fake%20news%20comments/runs/gk780wl5</a><br> View project at: <a href='https://wandb.ai/hannsflip-none/Fake%20news%20comments' target=\"_blank\">https://wandb.ai/hannsflip-none/Fake%20news%20comments</a><br>Synced 5 W&B file(s), 0 media file(s), 0 artifact file(s) and 0 other file(s)"
      ]
     },
     "metadata": {}
    },
    {
     "output_type": "display_data",
     "data": {
      "text/plain": [
       "<IPython.core.display.HTML object>"
      ],
      "text/html": [
       "Find logs at: <code>./wandb/run-20250115_093625-gk780wl5/logs</code>"
      ]
     },
     "metadata": {}
    },
    {
     "output_type": "stream",
     "name": "stderr",
     "text": [
      "[I 2025-01-15 09:55:31,560] Trial 12 finished with value: 0.015272033400833607 and parameters: {'lr': 2.50075e-07, 'w_decay': 0.00750000000025, 'dropout_vals': 0.2534333042857007, 'warmup': 0.006714391081221738, 'optimizer_name': 'AdamW'}. Best is trial 1 with value: 0.3890398442745209.\n"
     ]
    },
    {
     "output_type": "display_data",
     "data": {
      "text/plain": [
       "<IPython.core.display.HTML object>"
      ],
      "text/html": [
       "Tracking run with wandb version 0.19.1"
      ]
     },
     "metadata": {}
    },
    {
     "output_type": "display_data",
     "data": {
      "text/plain": [
       "<IPython.core.display.HTML object>"
      ],
      "text/html": [
       "Run data is saved locally in <code>/content/wandb/run-20250115_095531-yoke2jjf</code>"
      ]
     },
     "metadata": {}
    },
    {
     "output_type": "display_data",
     "data": {
      "text/plain": [
       "<IPython.core.display.HTML object>"
      ],
      "text/html": [
       "Syncing run <strong><a href='https://wandb.ai/hannsflip-none/Fake%20news%20comments/runs/yoke2jjf' target=\"_blank\">training_Fake news comments_trial_13</a></strong> to <a href='https://wandb.ai/hannsflip-none/Fake%20news%20comments' target=\"_blank\">Weights & Biases</a> (<a href='https://wandb.me/developer-guide' target=\"_blank\">docs</a>)<br>"
      ]
     },
     "metadata": {}
    },
    {
     "output_type": "display_data",
     "data": {
      "text/plain": [
       "<IPython.core.display.HTML object>"
      ],
      "text/html": [
       " View project at <a href='https://wandb.ai/hannsflip-none/Fake%20news%20comments' target=\"_blank\">https://wandb.ai/hannsflip-none/Fake%20news%20comments</a>"
      ]
     },
     "metadata": {}
    },
    {
     "output_type": "display_data",
     "data": {
      "text/plain": [
       "<IPython.core.display.HTML object>"
      ],
      "text/html": [
       " View run at <a href='https://wandb.ai/hannsflip-none/Fake%20news%20comments/runs/yoke2jjf' target=\"_blank\">https://wandb.ai/hannsflip-none/Fake%20news%20comments/runs/yoke2jjf</a>"
      ]
     },
     "metadata": {}
    },
    {
     "output_type": "stream",
     "name": "stdout",
     "text": [
      "Epoch 1: Train Loss=0.6974352475239023, Accuracy=0.45677629113197327, F1 Score=0.00045840017264708877\n",
      "Epoch 1: Accuracy=0.45545074343681335, F1 Score=0.0\n",
      "Early stopping counter: 1/3\n",
      "Epoch 2: Train Loss=0.6974101601160161, Accuracy=0.4566517174243927, F1 Score=0.0\n",
      "Epoch 2: Accuracy=0.45562544465065, F1 Score=0.0\n",
      "Early stopping counter: 2/3\n",
      "Epoch 3: Train Loss=0.6974108407137461, Accuracy=0.45677629113197327, F1 Score=0.00045840017264708877\n",
      "Epoch 3: Accuracy=0.45545074343681335, F1 Score=0.0\n",
      "Early stopping counter: 3/3\n",
      "Early stopping triggered. Stopping training.\n"
     ]
    },
    {
     "output_type": "stream",
     "name": "stderr",
     "text": [
      "2025/01/15 10:13:38 WARNING mlflow.utils.requirements_utils: Found torch version (2.5.1+cu121) contains a local version label (+cu121). MLflow logged a pip requirement for this package as 'torch==2.5.1' without the local version label to make it installable from PyPI. To specify pip requirements containing local version labels, please use `conda_env` or `pip_requirements`.\n",
      "2025/01/15 10:13:49 WARNING mlflow.utils.requirements_utils: The following packages were not found in the public PyPI package index as of 2024-12-04; if these packages are not present in the public PyPI index, you must install them manually before loading your model: {'google-genai'}\n",
      "2025/01/15 10:13:49 WARNING mlflow.utils.requirements_utils: Found torchvision version (0.20.1+cu121) contains a local version label (+cu121). MLflow logged a pip requirement for this package as 'torchvision==0.20.1' without the local version label to make it installable from PyPI. To specify pip requirements containing local version labels, please use `conda_env` or `pip_requirements`.\n",
      "\u001B[31m2025/01/15 10:13:49 WARNING mlflow.models.model: Model logged without a signature and input example. Please set `input_example` parameter when logging the model to auto infer the model signature.\u001B[0m\n"
     ]
    },
    {
     "output_type": "stream",
     "name": "stdout",
     "text": [
      "🏃 View run roberta_model at: https://dagshub.com/auszed/Experiments_fake_news.mlflow/#/experiments/0/runs/d238fed7e24944a4a6f6decc69ae4fc7\n",
      "🧪 View experiment at: https://dagshub.com/auszed/Experiments_fake_news.mlflow/#/experiments/0\n"
     ]
    },
    {
     "output_type": "display_data",
     "data": {
      "text/plain": [
       "<IPython.core.display.HTML object>"
      ],
      "text/html": []
     },
     "metadata": {}
    },
    {
     "output_type": "display_data",
     "data": {
      "text/plain": [
       "<IPython.core.display.HTML object>"
      ],
      "text/html": [
       "<br>    <style><br>        .wandb-row {<br>            display: flex;<br>            flex-direction: row;<br>            flex-wrap: wrap;<br>            justify-content: flex-start;<br>            width: 100%;<br>        }<br>        .wandb-col {<br>            display: flex;<br>            flex-direction: column;<br>            flex-basis: 100%;<br>            flex: 1;<br>            padding: 10px;<br>        }<br>    </style><br><div class=\"wandb-row\"><div class=\"wandb-col\"><h3>Run history:</h3><br/><table class=\"wandb\"><tr><td>epochs</td><td>▁▅█</td></tr><tr><td>train_accuracy</td><td>█▁█</td></tr><tr><td>train_f1</td><td>█▁█</td></tr><tr><td>train_loss</td><td>█▁▁</td></tr><tr><td>val_accuracy</td><td>▁█▁</td></tr><tr><td>val_f1</td><td>▁▁▁</td></tr></table><br/></div><div class=\"wandb-col\"><h3>Run summary:</h3><br/><table class=\"wandb\"><tr><td>epochs</td><td>3</td></tr><tr><td>train_accuracy</td><td>0.45678</td></tr><tr><td>train_f1</td><td>0.00046</td></tr><tr><td>train_loss</td><td>0.69741</td></tr><tr><td>val_accuracy</td><td>0.45545</td></tr><tr><td>val_f1</td><td>0</td></tr></table><br/></div></div>"
      ]
     },
     "metadata": {}
    },
    {
     "output_type": "display_data",
     "data": {
      "text/plain": [
       "<IPython.core.display.HTML object>"
      ],
      "text/html": [
       " View run <strong style=\"color:#cdcd00\">training_Fake news comments_trial_13</strong> at: <a href='https://wandb.ai/hannsflip-none/Fake%20news%20comments/runs/yoke2jjf' target=\"_blank\">https://wandb.ai/hannsflip-none/Fake%20news%20comments/runs/yoke2jjf</a><br> View project at: <a href='https://wandb.ai/hannsflip-none/Fake%20news%20comments' target=\"_blank\">https://wandb.ai/hannsflip-none/Fake%20news%20comments</a><br>Synced 5 W&B file(s), 0 media file(s), 0 artifact file(s) and 0 other file(s)"
      ]
     },
     "metadata": {}
    },
    {
     "output_type": "display_data",
     "data": {
      "text/plain": [
       "<IPython.core.display.HTML object>"
      ],
      "text/html": [
       "Find logs at: <code>./wandb/run-20250115_095531-yoke2jjf/logs</code>"
      ]
     },
     "metadata": {}
    },
    {
     "output_type": "stream",
     "name": "stderr",
     "text": [
      "[I 2025-01-15 10:14:29,960] Trial 13 finished with value: 0.0 and parameters: {'lr': 5.0005e-07, 'w_decay': 0.00250000000075, 'dropout_vals': 0.140361350014313, 'warmup': 0.1735200660784739, 'optimizer_name': 'SGD'}. Best is trial 1 with value: 0.3890398442745209.\n"
     ]
    },
    {
     "output_type": "display_data",
     "data": {
      "text/plain": [
       "<IPython.core.display.HTML object>"
      ],
      "text/html": [
       "Tracking run with wandb version 0.19.1"
      ]
     },
     "metadata": {}
    },
    {
     "output_type": "display_data",
     "data": {
      "text/plain": [
       "<IPython.core.display.HTML object>"
      ],
      "text/html": [
       "Run data is saved locally in <code>/content/wandb/run-20250115_101429-9ff38ccb</code>"
      ]
     },
     "metadata": {}
    },
    {
     "output_type": "display_data",
     "data": {
      "text/plain": [
       "<IPython.core.display.HTML object>"
      ],
      "text/html": [
       "Syncing run <strong><a href='https://wandb.ai/hannsflip-none/Fake%20news%20comments/runs/9ff38ccb' target=\"_blank\">training_Fake news comments_trial_14</a></strong> to <a href='https://wandb.ai/hannsflip-none/Fake%20news%20comments' target=\"_blank\">Weights & Biases</a> (<a href='https://wandb.me/developer-guide' target=\"_blank\">docs</a>)<br>"
      ]
     },
     "metadata": {}
    },
    {
     "output_type": "display_data",
     "data": {
      "text/plain": [
       "<IPython.core.display.HTML object>"
      ],
      "text/html": [
       " View project at <a href='https://wandb.ai/hannsflip-none/Fake%20news%20comments' target=\"_blank\">https://wandb.ai/hannsflip-none/Fake%20news%20comments</a>"
      ]
     },
     "metadata": {}
    },
    {
     "output_type": "display_data",
     "data": {
      "text/plain": [
       "<IPython.core.display.HTML object>"
      ],
      "text/html": [
       " View run at <a href='https://wandb.ai/hannsflip-none/Fake%20news%20comments/runs/9ff38ccb' target=\"_blank\">https://wandb.ai/hannsflip-none/Fake%20news%20comments/runs/9ff38ccb</a>"
      ]
     },
     "metadata": {}
    },
    {
     "output_type": "stream",
     "name": "stdout",
     "text": [
      "Epoch 1: Train Loss=0.6974566131607478, Accuracy=0.45690083503723145, F1 Score=0.0009165902738459408\n",
      "Epoch 1: Accuracy=0.45545074343681335, F1 Score=0.0\n",
      "Early stopping counter: 1/3\n",
      "Epoch 2: Train Loss=0.6974308021221817, Accuracy=0.4566517174243927, F1 Score=0.0\n",
      "Epoch 2: Accuracy=0.45545074343681335, F1 Score=0.0\n",
      "Early stopping counter: 2/3\n",
      "Epoch 3: Train Loss=0.6974141511325522, Accuracy=0.45677629113197327, F1 Score=0.00045840017264708877\n",
      "Epoch 3: Accuracy=0.45562544465065, F1 Score=0.0\n",
      "Early stopping counter: 3/3\n",
      "Early stopping triggered. Stopping training.\n"
     ]
    },
    {
     "output_type": "stream",
     "name": "stderr",
     "text": [
      "2025/01/15 10:32:43 WARNING mlflow.utils.requirements_utils: Found torch version (2.5.1+cu121) contains a local version label (+cu121). MLflow logged a pip requirement for this package as 'torch==2.5.1' without the local version label to make it installable from PyPI. To specify pip requirements containing local version labels, please use `conda_env` or `pip_requirements`.\n",
      "2025/01/15 10:32:54 WARNING mlflow.utils.requirements_utils: The following packages were not found in the public PyPI package index as of 2024-12-04; if these packages are not present in the public PyPI index, you must install them manually before loading your model: {'google-genai'}\n",
      "2025/01/15 10:32:54 WARNING mlflow.utils.requirements_utils: Found torchvision version (0.20.1+cu121) contains a local version label (+cu121). MLflow logged a pip requirement for this package as 'torchvision==0.20.1' without the local version label to make it installable from PyPI. To specify pip requirements containing local version labels, please use `conda_env` or `pip_requirements`.\n",
      "\u001B[31m2025/01/15 10:32:55 WARNING mlflow.models.model: Model logged without a signature and input example. Please set `input_example` parameter when logging the model to auto infer the model signature.\u001B[0m\n"
     ]
    },
    {
     "output_type": "stream",
     "name": "stdout",
     "text": [
      "🏃 View run roberta_model at: https://dagshub.com/auszed/Experiments_fake_news.mlflow/#/experiments/0/runs/8c636c1eeece4963831b2325addee838\n",
      "🧪 View experiment at: https://dagshub.com/auszed/Experiments_fake_news.mlflow/#/experiments/0\n"
     ]
    },
    {
     "output_type": "display_data",
     "data": {
      "text/plain": [
       "<IPython.core.display.HTML object>"
      ],
      "text/html": []
     },
     "metadata": {}
    },
    {
     "output_type": "display_data",
     "data": {
      "text/plain": [
       "<IPython.core.display.HTML object>"
      ],
      "text/html": [
       "<br>    <style><br>        .wandb-row {<br>            display: flex;<br>            flex-direction: row;<br>            flex-wrap: wrap;<br>            justify-content: flex-start;<br>            width: 100%;<br>        }<br>        .wandb-col {<br>            display: flex;<br>            flex-direction: column;<br>            flex-basis: 100%;<br>            flex: 1;<br>            padding: 10px;<br>        }<br>    </style><br><div class=\"wandb-row\"><div class=\"wandb-col\"><h3>Run history:</h3><br/><table class=\"wandb\"><tr><td>epochs</td><td>▁▅█</td></tr><tr><td>train_accuracy</td><td>█▁▅</td></tr><tr><td>train_f1</td><td>█▁▅</td></tr><tr><td>train_loss</td><td>█▄▁</td></tr><tr><td>val_accuracy</td><td>▁▁█</td></tr><tr><td>val_f1</td><td>▁▁▁</td></tr></table><br/></div><div class=\"wandb-col\"><h3>Run summary:</h3><br/><table class=\"wandb\"><tr><td>epochs</td><td>3</td></tr><tr><td>train_accuracy</td><td>0.45678</td></tr><tr><td>train_f1</td><td>0.00046</td></tr><tr><td>train_loss</td><td>0.69741</td></tr><tr><td>val_accuracy</td><td>0.45563</td></tr><tr><td>val_f1</td><td>0</td></tr></table><br/></div></div>"
      ]
     },
     "metadata": {}
    },
    {
     "output_type": "display_data",
     "data": {
      "text/plain": [
       "<IPython.core.display.HTML object>"
      ],
      "text/html": [
       " View run <strong style=\"color:#cdcd00\">training_Fake news comments_trial_14</strong> at: <a href='https://wandb.ai/hannsflip-none/Fake%20news%20comments/runs/9ff38ccb' target=\"_blank\">https://wandb.ai/hannsflip-none/Fake%20news%20comments/runs/9ff38ccb</a><br> View project at: <a href='https://wandb.ai/hannsflip-none/Fake%20news%20comments' target=\"_blank\">https://wandb.ai/hannsflip-none/Fake%20news%20comments</a><br>Synced 5 W&B file(s), 0 media file(s), 0 artifact file(s) and 0 other file(s)"
      ]
     },
     "metadata": {}
    },
    {
     "output_type": "display_data",
     "data": {
      "text/plain": [
       "<IPython.core.display.HTML object>"
      ],
      "text/html": [
       "Find logs at: <code>./wandb/run-20250115_101429-9ff38ccb/logs</code>"
      ]
     },
     "metadata": {}
    },
    {
     "output_type": "stream",
     "name": "stderr",
     "text": [
      "[I 2025-01-15 10:33:31,816] Trial 14 finished with value: 0.0 and parameters: {'lr': 7.50025e-07, 'w_decay': 0.00750000000025, 'dropout_vals': 0.23147944011948413, 'warmup': 0.06709884082578974, 'optimizer_name': 'SGD'}. Best is trial 1 with value: 0.3890398442745209.\n"
     ]
    },
    {
     "output_type": "display_data",
     "data": {
      "text/plain": [
       "<IPython.core.display.HTML object>"
      ],
      "text/html": [
       "Tracking run with wandb version 0.19.1"
      ]
     },
     "metadata": {}
    },
    {
     "output_type": "display_data",
     "data": {
      "text/plain": [
       "<IPython.core.display.HTML object>"
      ],
      "text/html": [
       "Run data is saved locally in <code>/content/wandb/run-20250115_103331-h93vtz6j</code>"
      ]
     },
     "metadata": {}
    },
    {
     "output_type": "display_data",
     "data": {
      "text/plain": [
       "<IPython.core.display.HTML object>"
      ],
      "text/html": [
       "Syncing run <strong><a href='https://wandb.ai/hannsflip-none/Fake%20news%20comments/runs/h93vtz6j' target=\"_blank\">training_Fake news comments_trial_15</a></strong> to <a href='https://wandb.ai/hannsflip-none/Fake%20news%20comments' target=\"_blank\">Weights & Biases</a> (<a href='https://wandb.me/developer-guide' target=\"_blank\">docs</a>)<br>"
      ]
     },
     "metadata": {}
    },
    {
     "output_type": "display_data",
     "data": {
      "text/plain": [
       "<IPython.core.display.HTML object>"
      ],
      "text/html": [
       " View project at <a href='https://wandb.ai/hannsflip-none/Fake%20news%20comments' target=\"_blank\">https://wandb.ai/hannsflip-none/Fake%20news%20comments</a>"
      ]
     },
     "metadata": {}
    },
    {
     "output_type": "display_data",
     "data": {
      "text/plain": [
       "<IPython.core.display.HTML object>"
      ],
      "text/html": [
       " View run at <a href='https://wandb.ai/hannsflip-none/Fake%20news%20comments/runs/h93vtz6j' target=\"_blank\">https://wandb.ai/hannsflip-none/Fake%20news%20comments/runs/h93vtz6j</a>"
      ]
     },
     "metadata": {}
    },
    {
     "output_type": "stream",
     "name": "stdout",
     "text": [
      "Epoch 1: Train Loss=0.6974187888906676, Accuracy=0.4566517174243927, F1 Score=0.0\n",
      "Epoch 1: Accuracy=0.45510134100914, F1 Score=0.0\n",
      "Early stopping counter: 1/3\n",
      "Epoch 2: Train Loss=0.6974110513346434, Accuracy=0.4566517174243927, F1 Score=0.0\n",
      "Epoch 2: Accuracy=0.45562544465065, F1 Score=0.0\n",
      "Early stopping counter: 2/3\n",
      "Epoch 3: Train Loss=0.6973950765770826, Accuracy=0.4566517174243927, F1 Score=0.0\n",
      "Epoch 3: Accuracy=0.4552760422229767, F1 Score=0.0\n",
      "Early stopping counter: 3/3\n",
      "Early stopping triggered. Stopping training.\n"
     ]
    },
    {
     "output_type": "stream",
     "name": "stderr",
     "text": [
      "2025/01/15 10:51:45 WARNING mlflow.utils.requirements_utils: Found torch version (2.5.1+cu121) contains a local version label (+cu121). MLflow logged a pip requirement for this package as 'torch==2.5.1' without the local version label to make it installable from PyPI. To specify pip requirements containing local version labels, please use `conda_env` or `pip_requirements`.\n",
      "2025/01/15 10:51:56 WARNING mlflow.utils.requirements_utils: The following packages were not found in the public PyPI package index as of 2024-12-04; if these packages are not present in the public PyPI index, you must install them manually before loading your model: {'google-genai'}\n",
      "2025/01/15 10:51:56 WARNING mlflow.utils.requirements_utils: Found torchvision version (0.20.1+cu121) contains a local version label (+cu121). MLflow logged a pip requirement for this package as 'torchvision==0.20.1' without the local version label to make it installable from PyPI. To specify pip requirements containing local version labels, please use `conda_env` or `pip_requirements`.\n",
      "\u001B[31m2025/01/15 10:51:56 WARNING mlflow.models.model: Model logged without a signature and input example. Please set `input_example` parameter when logging the model to auto infer the model signature.\u001B[0m\n"
     ]
    },
    {
     "output_type": "stream",
     "name": "stdout",
     "text": [
      "🏃 View run roberta_model at: https://dagshub.com/auszed/Experiments_fake_news.mlflow/#/experiments/0/runs/6f844c893fc342f8a0daadca2e024c7f\n",
      "🧪 View experiment at: https://dagshub.com/auszed/Experiments_fake_news.mlflow/#/experiments/0\n"
     ]
    },
    {
     "output_type": "display_data",
     "data": {
      "text/plain": [
       "<IPython.core.display.HTML object>"
      ],
      "text/html": []
     },
     "metadata": {}
    },
    {
     "output_type": "display_data",
     "data": {
      "text/plain": [
       "<IPython.core.display.HTML object>"
      ],
      "text/html": [
       "<br>    <style><br>        .wandb-row {<br>            display: flex;<br>            flex-direction: row;<br>            flex-wrap: wrap;<br>            justify-content: flex-start;<br>            width: 100%;<br>        }<br>        .wandb-col {<br>            display: flex;<br>            flex-direction: column;<br>            flex-basis: 100%;<br>            flex: 1;<br>            padding: 10px;<br>        }<br>    </style><br><div class=\"wandb-row\"><div class=\"wandb-col\"><h3>Run history:</h3><br/><table class=\"wandb\"><tr><td>epochs</td><td>▁▅█</td></tr><tr><td>train_accuracy</td><td>▁▁▁</td></tr><tr><td>train_f1</td><td>▁▁▁</td></tr><tr><td>train_loss</td><td>█▆▁</td></tr><tr><td>val_accuracy</td><td>▁█▃</td></tr><tr><td>val_f1</td><td>▁▁▁</td></tr></table><br/></div><div class=\"wandb-col\"><h3>Run summary:</h3><br/><table class=\"wandb\"><tr><td>epochs</td><td>3</td></tr><tr><td>train_accuracy</td><td>0.45665</td></tr><tr><td>train_f1</td><td>0</td></tr><tr><td>train_loss</td><td>0.6974</td></tr><tr><td>val_accuracy</td><td>0.45528</td></tr><tr><td>val_f1</td><td>0</td></tr></table><br/></div></div>"
      ]
     },
     "metadata": {}
    },
    {
     "output_type": "display_data",
     "data": {
      "text/plain": [
       "<IPython.core.display.HTML object>"
      ],
      "text/html": [
       " View run <strong style=\"color:#cdcd00\">training_Fake news comments_trial_15</strong> at: <a href='https://wandb.ai/hannsflip-none/Fake%20news%20comments/runs/h93vtz6j' target=\"_blank\">https://wandb.ai/hannsflip-none/Fake%20news%20comments/runs/h93vtz6j</a><br> View project at: <a href='https://wandb.ai/hannsflip-none/Fake%20news%20comments' target=\"_blank\">https://wandb.ai/hannsflip-none/Fake%20news%20comments</a><br>Synced 5 W&B file(s), 0 media file(s), 0 artifact file(s) and 0 other file(s)"
      ]
     },
     "metadata": {}
    },
    {
     "output_type": "display_data",
     "data": {
      "text/plain": [
       "<IPython.core.display.HTML object>"
      ],
      "text/html": [
       "Find logs at: <code>./wandb/run-20250115_103331-h93vtz6j/logs</code>"
      ]
     },
     "metadata": {}
    },
    {
     "output_type": "stream",
     "name": "stderr",
     "text": [
      "[I 2025-01-15 10:52:32,105] Trial 15 finished with value: 0.0 and parameters: {'lr': 2.50075e-07, 'w_decay': 0.00750000000025, 'dropout_vals': 0.11280184518844671, 'warmup': 0.11428228426371892, 'optimizer_name': 'AdamW'}. Best is trial 1 with value: 0.3890398442745209.\n"
     ]
    },
    {
     "output_type": "display_data",
     "data": {
      "text/plain": [
       "<IPython.core.display.HTML object>"
      ],
      "text/html": [
       "Tracking run with wandb version 0.19.1"
      ]
     },
     "metadata": {}
    },
    {
     "output_type": "display_data",
     "data": {
      "text/plain": [
       "<IPython.core.display.HTML object>"
      ],
      "text/html": [
       "Run data is saved locally in <code>/content/wandb/run-20250115_105232-0ge4cife</code>"
      ]
     },
     "metadata": {}
    },
    {
     "output_type": "display_data",
     "data": {
      "text/plain": [
       "<IPython.core.display.HTML object>"
      ],
      "text/html": [
       "Syncing run <strong><a href='https://wandb.ai/hannsflip-none/Fake%20news%20comments/runs/0ge4cife' target=\"_blank\">training_Fake news comments_trial_16</a></strong> to <a href='https://wandb.ai/hannsflip-none/Fake%20news%20comments' target=\"_blank\">Weights & Biases</a> (<a href='https://wandb.me/developer-guide' target=\"_blank\">docs</a>)<br>"
      ]
     },
     "metadata": {}
    },
    {
     "output_type": "display_data",
     "data": {
      "text/plain": [
       "<IPython.core.display.HTML object>"
      ],
      "text/html": [
       " View project at <a href='https://wandb.ai/hannsflip-none/Fake%20news%20comments' target=\"_blank\">https://wandb.ai/hannsflip-none/Fake%20news%20comments</a>"
      ]
     },
     "metadata": {}
    },
    {
     "output_type": "display_data",
     "data": {
      "text/plain": [
       "<IPython.core.display.HTML object>"
      ],
      "text/html": [
       " View run at <a href='https://wandb.ai/hannsflip-none/Fake%20news%20comments/runs/0ge4cife' target=\"_blank\">https://wandb.ai/hannsflip-none/Fake%20news%20comments/runs/0ge4cife</a>"
      ]
     },
     "metadata": {}
    },
    {
     "output_type": "stream",
     "name": "stdout",
     "text": [
      "Epoch 1: Train Loss=0.697288190035542, Accuracy=0.45690083503723145, F1 Score=0.0009165902738459408\n",
      "Epoch 1: Accuracy=0.45545074343681335, F1 Score=0.0\n",
      "Early stopping counter: 1/3\n",
      "Epoch 2: Train Loss=0.6971348683128442, Accuracy=0.4566517174243927, F1 Score=0.0\n",
      "Epoch 2: Accuracy=0.4552760422229767, F1 Score=0.0\n",
      "Early stopping counter: 2/3\n",
      "Epoch 3: Train Loss=0.6967555594105713, Accuracy=0.45677629113197327, F1 Score=0.00045840017264708877\n",
      "Epoch 3: Accuracy=0.4545772075653076, F1 Score=0.0\n",
      "Early stopping counter: 3/3\n",
      "Early stopping triggered. Stopping training.\n"
     ]
    },
    {
     "output_type": "stream",
     "name": "stderr",
     "text": [
      "2025/01/15 11:10:45 WARNING mlflow.utils.requirements_utils: Found torch version (2.5.1+cu121) contains a local version label (+cu121). MLflow logged a pip requirement for this package as 'torch==2.5.1' without the local version label to make it installable from PyPI. To specify pip requirements containing local version labels, please use `conda_env` or `pip_requirements`.\n",
      "2025/01/15 11:10:56 WARNING mlflow.utils.requirements_utils: The following packages were not found in the public PyPI package index as of 2024-12-04; if these packages are not present in the public PyPI index, you must install them manually before loading your model: {'google-genai'}\n",
      "2025/01/15 11:10:56 WARNING mlflow.utils.requirements_utils: Found torchvision version (0.20.1+cu121) contains a local version label (+cu121). MLflow logged a pip requirement for this package as 'torchvision==0.20.1' without the local version label to make it installable from PyPI. To specify pip requirements containing local version labels, please use `conda_env` or `pip_requirements`.\n",
      "\u001B[31m2025/01/15 11:10:57 WARNING mlflow.models.model: Model logged without a signature and input example. Please set `input_example` parameter when logging the model to auto infer the model signature.\u001B[0m\n"
     ]
    },
    {
     "output_type": "stream",
     "name": "stdout",
     "text": [
      "🏃 View run roberta_model at: https://dagshub.com/auszed/Experiments_fake_news.mlflow/#/experiments/0/runs/9dfed2575e1e4d2cbf2f2805c8ddfcea\n",
      "🧪 View experiment at: https://dagshub.com/auszed/Experiments_fake_news.mlflow/#/experiments/0\n"
     ]
    },
    {
     "output_type": "display_data",
     "data": {
      "text/plain": [
       "<IPython.core.display.HTML object>"
      ],
      "text/html": []
     },
     "metadata": {}
    },
    {
     "output_type": "display_data",
     "data": {
      "text/plain": [
       "<IPython.core.display.HTML object>"
      ],
      "text/html": [
       "<br>    <style><br>        .wandb-row {<br>            display: flex;<br>            flex-direction: row;<br>            flex-wrap: wrap;<br>            justify-content: flex-start;<br>            width: 100%;<br>        }<br>        .wandb-col {<br>            display: flex;<br>            flex-direction: column;<br>            flex-basis: 100%;<br>            flex: 1;<br>            padding: 10px;<br>        }<br>    </style><br><div class=\"wandb-row\"><div class=\"wandb-col\"><h3>Run history:</h3><br/><table class=\"wandb\"><tr><td>epochs</td><td>▁▅█</td></tr><tr><td>train_accuracy</td><td>█▁▅</td></tr><tr><td>train_f1</td><td>█▁▅</td></tr><tr><td>train_loss</td><td>█▆▁</td></tr><tr><td>val_accuracy</td><td>█▇▁</td></tr><tr><td>val_f1</td><td>▁▁▁</td></tr></table><br/></div><div class=\"wandb-col\"><h3>Run summary:</h3><br/><table class=\"wandb\"><tr><td>epochs</td><td>3</td></tr><tr><td>train_accuracy</td><td>0.45678</td></tr><tr><td>train_f1</td><td>0.00046</td></tr><tr><td>train_loss</td><td>0.69676</td></tr><tr><td>val_accuracy</td><td>0.45458</td></tr><tr><td>val_f1</td><td>0</td></tr></table><br/></div></div>"
      ]
     },
     "metadata": {}
    },
    {
     "output_type": "display_data",
     "data": {
      "text/plain": [
       "<IPython.core.display.HTML object>"
      ],
      "text/html": [
       " View run <strong style=\"color:#cdcd00\">training_Fake news comments_trial_16</strong> at: <a href='https://wandb.ai/hannsflip-none/Fake%20news%20comments/runs/0ge4cife' target=\"_blank\">https://wandb.ai/hannsflip-none/Fake%20news%20comments/runs/0ge4cife</a><br> View project at: <a href='https://wandb.ai/hannsflip-none/Fake%20news%20comments' target=\"_blank\">https://wandb.ai/hannsflip-none/Fake%20news%20comments</a><br>Synced 5 W&B file(s), 0 media file(s), 0 artifact file(s) and 0 other file(s)"
      ]
     },
     "metadata": {}
    },
    {
     "output_type": "display_data",
     "data": {
      "text/plain": [
       "<IPython.core.display.HTML object>"
      ],
      "text/html": [
       "Find logs at: <code>./wandb/run-20250115_105232-0ge4cife/logs</code>"
      ]
     },
     "metadata": {}
    },
    {
     "output_type": "stream",
     "name": "stderr",
     "text": [
      "[I 2025-01-15 11:11:33,651] Trial 16 finished with value: 0.0 and parameters: {'lr': 5.0005e-07, 'w_decay': 0.00250000000075, 'dropout_vals': 0.15387713029489059, 'warmup': 0.034263325020248675, 'optimizer_name': 'AdamW'}. Best is trial 1 with value: 0.3890398442745209.\n"
     ]
    },
    {
     "output_type": "display_data",
     "data": {
      "text/plain": [
       "<IPython.core.display.HTML object>"
      ],
      "text/html": [
       "Tracking run with wandb version 0.19.1"
      ]
     },
     "metadata": {}
    },
    {
     "output_type": "display_data",
     "data": {
      "text/plain": [
       "<IPython.core.display.HTML object>"
      ],
      "text/html": [
       "Run data is saved locally in <code>/content/wandb/run-20250115_111133-vp6r3bxl</code>"
      ]
     },
     "metadata": {}
    },
    {
     "output_type": "display_data",
     "data": {
      "text/plain": [
       "<IPython.core.display.HTML object>"
      ],
      "text/html": [
       "Syncing run <strong><a href='https://wandb.ai/hannsflip-none/Fake%20news%20comments/runs/vp6r3bxl' target=\"_blank\">training_Fake news comments_trial_17</a></strong> to <a href='https://wandb.ai/hannsflip-none/Fake%20news%20comments' target=\"_blank\">Weights & Biases</a> (<a href='https://wandb.me/developer-guide' target=\"_blank\">docs</a>)<br>"
      ]
     },
     "metadata": {}
    },
    {
     "output_type": "display_data",
     "data": {
      "text/plain": [
       "<IPython.core.display.HTML object>"
      ],
      "text/html": [
       " View project at <a href='https://wandb.ai/hannsflip-none/Fake%20news%20comments' target=\"_blank\">https://wandb.ai/hannsflip-none/Fake%20news%20comments</a>"
      ]
     },
     "metadata": {}
    },
    {
     "output_type": "display_data",
     "data": {
      "text/plain": [
       "<IPython.core.display.HTML object>"
      ],
      "text/html": [
       " View run at <a href='https://wandb.ai/hannsflip-none/Fake%20news%20comments/runs/vp6r3bxl' target=\"_blank\">https://wandb.ai/hannsflip-none/Fake%20news%20comments/runs/vp6r3bxl</a>"
      ]
     },
     "metadata": {}
    },
    {
     "output_type": "stream",
     "name": "stdout",
     "text": [
      "Epoch 1: Train Loss=0.6964178562431592, Accuracy=0.4566517174243927, F1 Score=0.0\n",
      "Epoch 1: Accuracy=0.45545074343681335, F1 Score=0.0\n",
      "Early stopping counter: 1/3\n",
      "Epoch 2: Train Loss=0.6963998617880013, Accuracy=0.4566517174243927, F1 Score=0.0\n",
      "Epoch 2: Accuracy=0.45562544465065, F1 Score=0.0\n",
      "Early stopping counter: 2/3\n",
      "Epoch 3: Train Loss=0.6964311090552754, Accuracy=0.4566517174243927, F1 Score=0.0\n",
      "Epoch 3: Accuracy=0.4552760422229767, F1 Score=0.0\n",
      "Early stopping counter: 3/3\n",
      "Early stopping triggered. Stopping training.\n"
     ]
    },
    {
     "output_type": "stream",
     "name": "stderr",
     "text": [
      "2025/01/15 11:29:41 WARNING mlflow.utils.requirements_utils: Found torch version (2.5.1+cu121) contains a local version label (+cu121). MLflow logged a pip requirement for this package as 'torch==2.5.1' without the local version label to make it installable from PyPI. To specify pip requirements containing local version labels, please use `conda_env` or `pip_requirements`.\n",
      "2025/01/15 11:29:52 WARNING mlflow.utils.requirements_utils: The following packages were not found in the public PyPI package index as of 2024-12-04; if these packages are not present in the public PyPI index, you must install them manually before loading your model: {'google-genai'}\n",
      "2025/01/15 11:29:52 WARNING mlflow.utils.requirements_utils: Found torchvision version (0.20.1+cu121) contains a local version label (+cu121). MLflow logged a pip requirement for this package as 'torchvision==0.20.1' without the local version label to make it installable from PyPI. To specify pip requirements containing local version labels, please use `conda_env` or `pip_requirements`.\n",
      "\u001B[31m2025/01/15 11:29:52 WARNING mlflow.models.model: Model logged without a signature and input example. Please set `input_example` parameter when logging the model to auto infer the model signature.\u001B[0m\n"
     ]
    },
    {
     "output_type": "stream",
     "name": "stdout",
     "text": [
      "🏃 View run roberta_model at: https://dagshub.com/auszed/Experiments_fake_news.mlflow/#/experiments/0/runs/a6725d62b8ef4f35af1638647eae5b4a\n",
      "🧪 View experiment at: https://dagshub.com/auszed/Experiments_fake_news.mlflow/#/experiments/0\n"
     ]
    },
    {
     "output_type": "display_data",
     "data": {
      "text/plain": [
       "<IPython.core.display.HTML object>"
      ],
      "text/html": []
     },
     "metadata": {}
    },
    {
     "output_type": "display_data",
     "data": {
      "text/plain": [
       "<IPython.core.display.HTML object>"
      ],
      "text/html": [
       "<br>    <style><br>        .wandb-row {<br>            display: flex;<br>            flex-direction: row;<br>            flex-wrap: wrap;<br>            justify-content: flex-start;<br>            width: 100%;<br>        }<br>        .wandb-col {<br>            display: flex;<br>            flex-direction: column;<br>            flex-basis: 100%;<br>            flex: 1;<br>            padding: 10px;<br>        }<br>    </style><br><div class=\"wandb-row\"><div class=\"wandb-col\"><h3>Run history:</h3><br/><table class=\"wandb\"><tr><td>epochs</td><td>▁▅█</td></tr><tr><td>train_accuracy</td><td>▁▁▁</td></tr><tr><td>train_f1</td><td>▁▁▁</td></tr><tr><td>train_loss</td><td>▅▁█</td></tr><tr><td>val_accuracy</td><td>▅█▁</td></tr><tr><td>val_f1</td><td>▁▁▁</td></tr></table><br/></div><div class=\"wandb-col\"><h3>Run summary:</h3><br/><table class=\"wandb\"><tr><td>epochs</td><td>3</td></tr><tr><td>train_accuracy</td><td>0.45665</td></tr><tr><td>train_f1</td><td>0</td></tr><tr><td>train_loss</td><td>0.69643</td></tr><tr><td>val_accuracy</td><td>0.45528</td></tr><tr><td>val_f1</td><td>0</td></tr></table><br/></div></div>"
      ]
     },
     "metadata": {}
    },
    {
     "output_type": "display_data",
     "data": {
      "text/plain": [
       "<IPython.core.display.HTML object>"
      ],
      "text/html": [
       " View run <strong style=\"color:#cdcd00\">training_Fake news comments_trial_17</strong> at: <a href='https://wandb.ai/hannsflip-none/Fake%20news%20comments/runs/vp6r3bxl' target=\"_blank\">https://wandb.ai/hannsflip-none/Fake%20news%20comments/runs/vp6r3bxl</a><br> View project at: <a href='https://wandb.ai/hannsflip-none/Fake%20news%20comments' target=\"_blank\">https://wandb.ai/hannsflip-none/Fake%20news%20comments</a><br>Synced 5 W&B file(s), 0 media file(s), 0 artifact file(s) and 0 other file(s)"
      ]
     },
     "metadata": {}
    },
    {
     "output_type": "display_data",
     "data": {
      "text/plain": [
       "<IPython.core.display.HTML object>"
      ],
      "text/html": [
       "Find logs at: <code>./wandb/run-20250115_111133-vp6r3bxl/logs</code>"
      ]
     },
     "metadata": {}
    },
    {
     "output_type": "stream",
     "name": "stderr",
     "text": [
      "[I 2025-01-15 11:30:27,203] Trial 17 finished with value: 0.0 and parameters: {'lr': 7.50025e-07, 'w_decay': 0.0050000000005, 'dropout_vals': 0.23529181375145858, 'warmup': 0.08214635963512915, 'optimizer_name': 'SGD'}. Best is trial 1 with value: 0.3890398442745209.\n"
     ]
    },
    {
     "output_type": "display_data",
     "data": {
      "text/plain": [
       "<IPython.core.display.HTML object>"
      ],
      "text/html": [
       "Tracking run with wandb version 0.19.1"
      ]
     },
     "metadata": {}
    },
    {
     "output_type": "display_data",
     "data": {
      "text/plain": [
       "<IPython.core.display.HTML object>"
      ],
      "text/html": [
       "Run data is saved locally in <code>/content/wandb/run-20250115_113027-vhy6qbgd</code>"
      ]
     },
     "metadata": {}
    },
    {
     "output_type": "display_data",
     "data": {
      "text/plain": [
       "<IPython.core.display.HTML object>"
      ],
      "text/html": [
       "Syncing run <strong><a href='https://wandb.ai/hannsflip-none/Fake%20news%20comments/runs/vhy6qbgd' target=\"_blank\">training_Fake news comments_trial_18</a></strong> to <a href='https://wandb.ai/hannsflip-none/Fake%20news%20comments' target=\"_blank\">Weights & Biases</a> (<a href='https://wandb.me/developer-guide' target=\"_blank\">docs</a>)<br>"
      ]
     },
     "metadata": {}
    },
    {
     "output_type": "display_data",
     "data": {
      "text/plain": [
       "<IPython.core.display.HTML object>"
      ],
      "text/html": [
       " View project at <a href='https://wandb.ai/hannsflip-none/Fake%20news%20comments' target=\"_blank\">https://wandb.ai/hannsflip-none/Fake%20news%20comments</a>"
      ]
     },
     "metadata": {}
    },
    {
     "output_type": "display_data",
     "data": {
      "text/plain": [
       "<IPython.core.display.HTML object>"
      ],
      "text/html": [
       " View run at <a href='https://wandb.ai/hannsflip-none/Fake%20news%20comments/runs/vhy6qbgd' target=\"_blank\">https://wandb.ai/hannsflip-none/Fake%20news%20comments/runs/vhy6qbgd</a>"
      ]
     },
     "metadata": {}
    },
    {
     "output_type": "stream",
     "name": "stdout",
     "text": [
      "Epoch 1: Train Loss=0.6964608263363574, Accuracy=0.4566517174243927, F1 Score=0.0\n",
      "Epoch 1: Accuracy=0.4558001458644867, F1 Score=0.0\n",
      "Early stopping counter: 1/3\n",
      "Epoch 2: Train Loss=0.6964440920427776, Accuracy=0.4566517174243927, F1 Score=0.0\n",
      "Epoch 2: Accuracy=0.45492660999298096, F1 Score=0.0\n",
      "Early stopping counter: 2/3\n",
      "Epoch 3: Train Loss=0.6964054576306421, Accuracy=0.4566517174243927, F1 Score=0.0\n",
      "Epoch 3: Accuracy=0.45492660999298096, F1 Score=0.0\n",
      "Early stopping counter: 3/3\n",
      "Early stopping triggered. Stopping training.\n"
     ]
    },
    {
     "output_type": "stream",
     "name": "stderr",
     "text": [
      "2025/01/15 11:48:33 WARNING mlflow.utils.requirements_utils: Found torch version (2.5.1+cu121) contains a local version label (+cu121). MLflow logged a pip requirement for this package as 'torch==2.5.1' without the local version label to make it installable from PyPI. To specify pip requirements containing local version labels, please use `conda_env` or `pip_requirements`.\n",
      "2025/01/15 11:48:44 WARNING mlflow.utils.requirements_utils: The following packages were not found in the public PyPI package index as of 2024-12-04; if these packages are not present in the public PyPI index, you must install them manually before loading your model: {'google-genai'}\n",
      "2025/01/15 11:48:44 WARNING mlflow.utils.requirements_utils: Found torchvision version (0.20.1+cu121) contains a local version label (+cu121). MLflow logged a pip requirement for this package as 'torchvision==0.20.1' without the local version label to make it installable from PyPI. To specify pip requirements containing local version labels, please use `conda_env` or `pip_requirements`.\n",
      "\u001B[31m2025/01/15 11:48:44 WARNING mlflow.models.model: Model logged without a signature and input example. Please set `input_example` parameter when logging the model to auto infer the model signature.\u001B[0m\n"
     ]
    },
    {
     "output_type": "stream",
     "name": "stdout",
     "text": [
      "🏃 View run roberta_model at: https://dagshub.com/auszed/Experiments_fake_news.mlflow/#/experiments/0/runs/d701613480c94bf7a41a772816e24a10\n",
      "🧪 View experiment at: https://dagshub.com/auszed/Experiments_fake_news.mlflow/#/experiments/0\n"
     ]
    },
    {
     "output_type": "display_data",
     "data": {
      "text/plain": [
       "<IPython.core.display.HTML object>"
      ],
      "text/html": []
     },
     "metadata": {}
    },
    {
     "output_type": "display_data",
     "data": {
      "text/plain": [
       "<IPython.core.display.HTML object>"
      ],
      "text/html": [
       "<br>    <style><br>        .wandb-row {<br>            display: flex;<br>            flex-direction: row;<br>            flex-wrap: wrap;<br>            justify-content: flex-start;<br>            width: 100%;<br>        }<br>        .wandb-col {<br>            display: flex;<br>            flex-direction: column;<br>            flex-basis: 100%;<br>            flex: 1;<br>            padding: 10px;<br>        }<br>    </style><br><div class=\"wandb-row\"><div class=\"wandb-col\"><h3>Run history:</h3><br/><table class=\"wandb\"><tr><td>epochs</td><td>▁▅█</td></tr><tr><td>train_accuracy</td><td>▁▁▁</td></tr><tr><td>train_f1</td><td>▁▁▁</td></tr><tr><td>train_loss</td><td>█▆▁</td></tr><tr><td>val_accuracy</td><td>█▁▁</td></tr><tr><td>val_f1</td><td>▁▁▁</td></tr></table><br/></div><div class=\"wandb-col\"><h3>Run summary:</h3><br/><table class=\"wandb\"><tr><td>epochs</td><td>3</td></tr><tr><td>train_accuracy</td><td>0.45665</td></tr><tr><td>train_f1</td><td>0</td></tr><tr><td>train_loss</td><td>0.69641</td></tr><tr><td>val_accuracy</td><td>0.45493</td></tr><tr><td>val_f1</td><td>0</td></tr></table><br/></div></div>"
      ]
     },
     "metadata": {}
    },
    {
     "output_type": "display_data",
     "data": {
      "text/plain": [
       "<IPython.core.display.HTML object>"
      ],
      "text/html": [
       " View run <strong style=\"color:#cdcd00\">training_Fake news comments_trial_18</strong> at: <a href='https://wandb.ai/hannsflip-none/Fake%20news%20comments/runs/vhy6qbgd' target=\"_blank\">https://wandb.ai/hannsflip-none/Fake%20news%20comments/runs/vhy6qbgd</a><br> View project at: <a href='https://wandb.ai/hannsflip-none/Fake%20news%20comments' target=\"_blank\">https://wandb.ai/hannsflip-none/Fake%20news%20comments</a><br>Synced 5 W&B file(s), 0 media file(s), 0 artifact file(s) and 0 other file(s)"
      ]
     },
     "metadata": {}
    },
    {
     "output_type": "display_data",
     "data": {
      "text/plain": [
       "<IPython.core.display.HTML object>"
      ],
      "text/html": [
       "Find logs at: <code>./wandb/run-20250115_113027-vhy6qbgd/logs</code>"
      ]
     },
     "metadata": {}
    },
    {
     "output_type": "stream",
     "name": "stderr",
     "text": [
      "[I 2025-01-15 11:49:20,346] Trial 18 finished with value: 0.0 and parameters: {'lr': 2.50075e-07, 'w_decay': 1e-12, 'dropout_vals': 0.2545616572370933, 'warmup': 0.12760576268257628, 'optimizer_name': 'AdamW'}. Best is trial 1 with value: 0.3890398442745209.\n"
     ]
    },
    {
     "output_type": "display_data",
     "data": {
      "text/plain": [
       "<IPython.core.display.HTML object>"
      ],
      "text/html": [
       "Tracking run with wandb version 0.19.1"
      ]
     },
     "metadata": {}
    },
    {
     "output_type": "display_data",
     "data": {
      "text/plain": [
       "<IPython.core.display.HTML object>"
      ],
      "text/html": [
       "Run data is saved locally in <code>/content/wandb/run-20250115_114920-b1w6k5ij</code>"
      ]
     },
     "metadata": {}
    },
    {
     "output_type": "display_data",
     "data": {
      "text/plain": [
       "<IPython.core.display.HTML object>"
      ],
      "text/html": [
       "Syncing run <strong><a href='https://wandb.ai/hannsflip-none/Fake%20news%20comments/runs/b1w6k5ij' target=\"_blank\">training_Fake news comments_trial_19</a></strong> to <a href='https://wandb.ai/hannsflip-none/Fake%20news%20comments' target=\"_blank\">Weights & Biases</a> (<a href='https://wandb.me/developer-guide' target=\"_blank\">docs</a>)<br>"
      ]
     },
     "metadata": {}
    },
    {
     "output_type": "display_data",
     "data": {
      "text/plain": [
       "<IPython.core.display.HTML object>"
      ],
      "text/html": [
       " View project at <a href='https://wandb.ai/hannsflip-none/Fake%20news%20comments' target=\"_blank\">https://wandb.ai/hannsflip-none/Fake%20news%20comments</a>"
      ]
     },
     "metadata": {}
    },
    {
     "output_type": "display_data",
     "data": {
      "text/plain": [
       "<IPython.core.display.HTML object>"
      ],
      "text/html": [
       " View run at <a href='https://wandb.ai/hannsflip-none/Fake%20news%20comments/runs/b1w6k5ij' target=\"_blank\">https://wandb.ai/hannsflip-none/Fake%20news%20comments/runs/b1w6k5ij</a>"
      ]
     },
     "metadata": {}
    },
    {
     "output_type": "stream",
     "name": "stdout",
     "text": [
      "Epoch 1: Train Loss=0.6963927211248286, Accuracy=0.4566517174243927, F1 Score=0.0\n",
      "Epoch 1: Accuracy=0.4547519087791443, F1 Score=0.0\n",
      "Early stopping counter: 1/3\n",
      "Epoch 2: Train Loss=0.6963189634507012, Accuracy=0.4566517174243927, F1 Score=0.0\n",
      "Epoch 2: Accuracy=0.4552760422229767, F1 Score=0.0\n",
      "Early stopping counter: 2/3\n",
      "Epoch 3: Train Loss=0.6963438096780592, Accuracy=0.4566517174243927, F1 Score=0.0\n",
      "Epoch 3: Accuracy=0.45545074343681335, F1 Score=0.0\n",
      "Early stopping counter: 3/3\n",
      "Early stopping triggered. Stopping training.\n"
     ]
    },
    {
     "output_type": "stream",
     "name": "stderr",
     "text": [
      "2025/01/15 12:07:27 WARNING mlflow.utils.requirements_utils: Found torch version (2.5.1+cu121) contains a local version label (+cu121). MLflow logged a pip requirement for this package as 'torch==2.5.1' without the local version label to make it installable from PyPI. To specify pip requirements containing local version labels, please use `conda_env` or `pip_requirements`.\n",
      "2025/01/15 12:07:38 WARNING mlflow.utils.requirements_utils: The following packages were not found in the public PyPI package index as of 2024-12-04; if these packages are not present in the public PyPI index, you must install them manually before loading your model: {'google-genai'}\n",
      "2025/01/15 12:07:38 WARNING mlflow.utils.requirements_utils: Found torchvision version (0.20.1+cu121) contains a local version label (+cu121). MLflow logged a pip requirement for this package as 'torchvision==0.20.1' without the local version label to make it installable from PyPI. To specify pip requirements containing local version labels, please use `conda_env` or `pip_requirements`.\n",
      "\u001B[31m2025/01/15 12:07:38 WARNING mlflow.models.model: Model logged without a signature and input example. Please set `input_example` parameter when logging the model to auto infer the model signature.\u001B[0m\n"
     ]
    },
    {
     "output_type": "stream",
     "name": "stdout",
     "text": [
      "🏃 View run roberta_model at: https://dagshub.com/auszed/Experiments_fake_news.mlflow/#/experiments/0/runs/71210089a23842ae910c4ac101e9eba8\n",
      "🧪 View experiment at: https://dagshub.com/auszed/Experiments_fake_news.mlflow/#/experiments/0\n"
     ]
    },
    {
     "output_type": "display_data",
     "data": {
      "text/plain": [
       "<IPython.core.display.HTML object>"
      ],
      "text/html": []
     },
     "metadata": {}
    },
    {
     "output_type": "display_data",
     "data": {
      "text/plain": [
       "<IPython.core.display.HTML object>"
      ],
      "text/html": [
       "<br>    <style><br>        .wandb-row {<br>            display: flex;<br>            flex-direction: row;<br>            flex-wrap: wrap;<br>            justify-content: flex-start;<br>            width: 100%;<br>        }<br>        .wandb-col {<br>            display: flex;<br>            flex-direction: column;<br>            flex-basis: 100%;<br>            flex: 1;<br>            padding: 10px;<br>        }<br>    </style><br><div class=\"wandb-row\"><div class=\"wandb-col\"><h3>Run history:</h3><br/><table class=\"wandb\"><tr><td>epochs</td><td>▁▅█</td></tr><tr><td>train_accuracy</td><td>▁▁▁</td></tr><tr><td>train_f1</td><td>▁▁▁</td></tr><tr><td>train_loss</td><td>█▁▃</td></tr><tr><td>val_accuracy</td><td>▁▆█</td></tr><tr><td>val_f1</td><td>▁▁▁</td></tr></table><br/></div><div class=\"wandb-col\"><h3>Run summary:</h3><br/><table class=\"wandb\"><tr><td>epochs</td><td>3</td></tr><tr><td>train_accuracy</td><td>0.45665</td></tr><tr><td>train_f1</td><td>0</td></tr><tr><td>train_loss</td><td>0.69634</td></tr><tr><td>val_accuracy</td><td>0.45545</td></tr><tr><td>val_f1</td><td>0</td></tr></table><br/></div></div>"
      ]
     },
     "metadata": {}
    },
    {
     "output_type": "display_data",
     "data": {
      "text/plain": [
       "<IPython.core.display.HTML object>"
      ],
      "text/html": [
       " View run <strong style=\"color:#cdcd00\">training_Fake news comments_trial_19</strong> at: <a href='https://wandb.ai/hannsflip-none/Fake%20news%20comments/runs/b1w6k5ij' target=\"_blank\">https://wandb.ai/hannsflip-none/Fake%20news%20comments/runs/b1w6k5ij</a><br> View project at: <a href='https://wandb.ai/hannsflip-none/Fake%20news%20comments' target=\"_blank\">https://wandb.ai/hannsflip-none/Fake%20news%20comments</a><br>Synced 5 W&B file(s), 0 media file(s), 0 artifact file(s) and 0 other file(s)"
      ]
     },
     "metadata": {}
    },
    {
     "output_type": "display_data",
     "data": {
      "text/plain": [
       "<IPython.core.display.HTML object>"
      ],
      "text/html": [
       "Find logs at: <code>./wandb/run-20250115_114920-b1w6k5ij/logs</code>"
      ]
     },
     "metadata": {}
    },
    {
     "output_type": "stream",
     "name": "stderr",
     "text": [
      "[I 2025-01-15 12:08:12,937] Trial 19 finished with value: 0.0 and parameters: {'lr': 5.0005e-07, 'w_decay': 0.0050000000005, 'dropout_vals': 0.21123929554463933, 'warmup': 0.19932037638885008, 'optimizer_name': 'SGD'}. Best is trial 1 with value: 0.3890398442745209.\n"
     ]
    }
   ]
  },
  {
   "cell_type": "code",
   "source": [
    "study.best_params# Log the best hyperparameters\n",
    "print(\"Best hyperparameters:\", study.best_params)\n",
    "\n",
    "# Train final model with best hyperparameters\n",
    "best_params = study.best_params\n",
    "config.update(best_params)\n",
    "best_params"
   ],
   "metadata": {
    "id": "7oE2i1lz354y",
    "colab": {
     "base_uri": "https://localhost:8080/"
    },
    "outputId": "2ec6fe77-75fc-45ee-fa09-d806824f8c44"
   },
   "id": "7oE2i1lz354y",
   "execution_count": null,
   "outputs": [
    {
     "output_type": "stream",
     "name": "stdout",
     "text": [
      "Best hyperparameters: {'lr': 5.0005e-07, 'w_decay': 1e-12, 'dropout_vals': 0.11972520782208591, 'warmup': 0.141962425638116, 'optimizer_name': 'AdamW'}\n"
     ]
    },
    {
     "output_type": "execute_result",
     "data": {
      "text/plain": [
       "{'lr': 5.0005e-07,\n",
       " 'w_decay': 1e-12,\n",
       " 'dropout_vals': 0.11972520782208591,\n",
       " 'warmup': 0.141962425638116,\n",
       " 'optimizer_name': 'AdamW'}"
      ]
     },
     "metadata": {},
     "execution_count": 15
    }
   ]
  },
  {
   "cell_type": "code",
   "source": [
    "test_accuracy, test_f1, all_preds, all_labels, all_predict_prob  = evaluate_model(model, test_loader, device)\n",
    "print(f\"Predictions, Accuracy={test_accuracy}, F1 Score={test_f1}\")\n",
    "\n",
    "conf_matrix = confusion_matrix(all_labels, all_preds)\n",
    "\n",
    "# Print the confusion matrix\n",
    "print(\"Confusion Matrix:\")\n",
    "conf_matrix\n"
   ],
   "metadata": {
    "id": "oKcA11Vzj1wZ",
    "colab": {
     "base_uri": "https://localhost:8080/"
    },
    "outputId": "31928b35-bcaf-477c-fbb9-8d230003e380"
   },
   "id": "oKcA11Vzj1wZ",
   "execution_count": null,
   "outputs": [
    {
     "output_type": "stream",
     "name": "stdout",
     "text": [
      "Predictions, Accuracy=0.45545074343681335, F1 Score=0.0\n",
      "Confusion Matrix:\n"
     ]
    },
    {
     "output_type": "execute_result",
     "data": {
      "text/plain": [
       "array([[2607,    0],\n",
       "       [3117,    0]])"
      ]
     },
     "metadata": {},
     "execution_count": 16
    }
   ]
  },
  {
   "cell_type": "code",
   "source": [
    "plt.figure(figsize=(15, 5))\n",
    "sns.heatmap(conf_matrix, annot=True, fmt='d', cmap='Blues', xticklabels=['Real news', 'Fake news'], yticklabels=['Real news', 'Fake news'])\n",
    "plt.title('Confusion Matrix')\n",
    "plt.xlabel('Predicted Label')\n",
    "plt.ylabel('True Label')\n",
    "plt.show()"
   ],
   "metadata": {
    "id": "dHhbuPJglgMl",
    "colab": {
     "base_uri": "https://localhost:8080/",
     "height": 487
    },
    "outputId": "70e7c460-d766-4b15-8707-2f9b430a5561"
   },
   "id": "dHhbuPJglgMl",
   "execution_count": null,
   "outputs": [
    {
     "output_type": "display_data",
     "data": {
      "text/plain": [
       "<Figure size 1500x500 with 2 Axes>"
      ],
      "image/png": "[encoded data removed]"
     },
     "metadata": {}
    }
   ]
  },
  {
   "cell_type": "markdown",
   "source": [
    "# Summary  \n",
    "The model performance was suboptimal in this case. In some instances, the model failed to make meaningful predictions, defaulting to classifying all news as either fake or real. This suggests that increasing the number of parameters in the neural network might improve performance, as seen with the Roberta model. However, the Roberta model did not perform well in this case, indicating that simply increasing the model's complexity does not always guarantee better results.\n",
    "\n",
    "| Name                                            | State   | Created                | Runtime | batch_size | dataset          | dropout   | epochs | learning_rate | model_name            | optimizer | warmup     | weight_decay | COMMENTS   | train_accuracy | train_f1 | train_loss  | val_accuracy | val_f1  |\n",
    "|-------------------------------------------------|---------|------------------------|---------|------------|------------------|-----------|--------|----------------|-----------------------|-----------|------------|--------------|------------|-----------------|----------|-------------|--------------|---------|\n",
    "| training_Fake news comments_trial_0             | finished| 2025-01-15T05:48:45.000Z | 1135    | 12         | X_train_cleaned_2| 0.2769436 | 3      | 5.00E-07       | distilbert-base-uncased| SGD       | 0.081039855| 0.005        | Experiment | 0.514449418     | 0.36098  | 0.701679926 | 0.528127193  | 0.38822 |\n",
    "| training_Fake news comments_trial_1             | finished| 2025-01-15T06:07:55.000Z | 1126    | 12         | X_train_cleaned_2| 0.1197252 | 3      | 5.00E-07       | distilbert-base-uncased| AdamW     | 0.141962426| 1.00E-12     | Experiment | 0.506103635     | 0.31437  | 0.701502811 | 0.519741416  | 0.30633 |\n",
    "| training_Fake news comments_trial_2             | finished| 2025-01-15T06:26:45.000Z | 1134    | 12         | X_train_cleaned_2| 0.1833687 | 3      | 7.50E-07       | distilbert-base-uncased| SGD       | 0.035504156| 0.0025       | Experiment | 0.509093165     | 0.29284  | 0.701428181 | 0.519217312  | 0.30399 |\n",
    "| training_Fake news comments_trial_3             | finished| 2025-01-15T06:45:44.000Z | 1136    | 12         | X_train_cleaned_2| 0.1353568 | 3      | 5.00E-07       | distilbert-base-uncased| RMSprop   | 0.146859653| 1.00E-12     | Experiment | 0.507473826     | 0.25452  | 0.701262307 | 0.501048207  | 0.21538 |\n",
    "| training_Fake news comments_trial_4             | finished| 2025-01-15T07:04:44.000Z | 1132    | 12         | X_train_cleaned_2| 0.1769652 | 3      | 5.00E-07       | distilbert-base-uncased| SGD       | 0.09996852 | 1.00E-12     | Experiment | 0.503363252     | 0.22837  | 0.701192983 | 0.50139761   | 0.21507 |\n",
    "| training_Fake news comments_trial_9             | finished| 2025-01-15T08:39:27.000Z | 1136    | 12         | X_train_cleaned_2| 0.2961417 | 3      | 0.000001       | distilbert-base-uncased| SGD       | 0.141364795| 0.01         | Experiment | 0.505854487     | 0.22806  | 0.701181138 | 0.500873506  | 0.20617 |\n",
    "| training_Fake news comments_trial_8             | finished| 2025-01-15T08:20:32.000Z | 1131    | 12         | X_train_cleaned_2| 0.1755216 | 3      | 1.00E-10       | distilbert-base-uncased| RMSprop   | 0.16059203 | 0.005        | Experiment | 0.499750882     | 0.21470  | 0.701123475 | 0.500698805  | 0.20611 |\n",
    "| training_Fake news comments_trial_5             | finished| 2025-01-15T07:23:41.000Z | 1130    | 12         | X_train_cleaned_2| 0.2303222 | 3      | 2.50E-07       | distilbert-base-uncased| RMSprop   | 0.081032621| 0.01         | Experiment | 0.503238678     | 0.22533  | 0.70116198  | 0.500524104  | 0.20605 |\n",
    "| training_Fake news comments_trial_6             | finished| 2025-01-15T07:42:36.000Z | 1136    | 12         | X_train_cleaned_2| 0.1965227 | 3      | 1.00E-10       | distilbert-base-uncased| RMSprop   | 0.101228818| 0.01         | Experiment | 0.502615869     | 0.22027  | 0.701148994 | 0.500698805  | 0.20567 |\n",
    "| training_Fake news comments_trial_7             | finished| 2025-01-15T08:01:36.000Z | 1132    | 12         | X_train_cleaned_2| 0.2007332 | 3      | 1.00E-10       | distilbert-base-uncased| AdamW     | 0.125045239| 1.00E-12     | Experiment | 0.499128044     | 0.21998  | 0.701178955 | 0.500698805  | 0.20523 |\n",
    "| training_Fake news comments_trial_10            | finished| 2025-01-15T08:58:28.000Z | 1135    | 12         | X_train_cleaned_2| 0.1094253 | 3      | 0.000001       | distilbert-base-uncased| AdamW     | 0.195202427| 0.0025       | Experiment | 0.49539113      | 0.17478  | 0.700923641 | 0.482180297  | 0.10991 |\n",
    "| training_Fake news comments_trial_11            | finished| 2025-01-15T09:17:28.000Z | 1135    | 12         | X_train_cleaned_2| 0.2771423 | 3      | 7.50E-07       | distilbert-base-uncased| AdamW     | 0.055132472| 0.005        | Experiment | 0.467862487     | 0.04813  | 0.700245871 | 0.4592942    | 0.01527 |\n",
    "| training_Fake news comments_trial_19            | finished| 2025-01-15T11:49:23.000Z | 1128    | 12         | X_train_cleaned_2| 0.2112393 | 3      | 5.00E-07       | distilbert-base-uncased| SGD       | 0.199320376| 0.005        | Experiment | 0.456651717     | 0         | 0.69634381  | 0.455450743  | 0       |\n",
    "| training_Fake news comments_trial_18            | finished| 2025-01-15T11:30:31.000Z | 1127    | 12         | X_train_cleaned_2| 0.2545617 | 3      | 2.50E-07       | distilbert-base-uncased| AdamW     | 0.127605763| 1.00E-12     | Experiment | 0.456651717     | 0         | 0.696405458 | 0.45492661   | 0       |\n",
    "| training_Fake news comments_trial_17            | finished| 2025-01-15T11:11:36.000Z | 1129    | 12         | X_train_cleaned_2| 0.2352918 | 3      | 7.50E-07       | distilbert-base-uncased| SGD       | 0.08214636 | 0.005        | Experiment | 0.456651717     | 0         | 0.696431109 | 0.455276042  | 0       |\n",
    "| training_Fake news comments_trial_16            | finished| 2025-01-15T10:52:35.000Z | 1136    | 12         | X_train_cleaned_2| 0.1538771 | 3      | 5.00E-07       | distilbert-base-uncased| AdamW     | 0.034263325| 0.0025       | Experiment | 0.456776291     | 0.00046  | 0.696755559 | 0.454577208  | 0       |\n",
    "| training_Fake news comments_trial_15            | finished| 2025-01-15T10:33:34.000Z | 1136    | 12         | X_train_cleaned_2| 0.1128018 | 3      | 2.50E-07       | distilbert-base-uncased| AdamW     | 0.114282284| 0.0075       | Experiment | 0.456651717     | 0         | 0.697395077 | 0.455276042  | 0       |\n",
    "| training_Fake news comments_trial_14            | finished| 2025-01-15T10:14:32.000Z | 1137    | 12         | X_train_cleaned_2| 0.2314794 | 3      | 7.50E-07       | distilbert-base-uncased| SGD       | 0.067098841| 0.0075       | Experiment | 0.456776291     | 0.00046  | 0.697414151 | 0.455625445  | 0       |\n",
    "| training_Fake news comments_trial_13            | finished| 2025-01-15T09:55:34.000Z | 1134    | 12         | X_train_cleaned_2| 0.1403614 | 3      | 5.00E-07       | distilbert-base-uncased| SGD       | 0.173520066| 0.0025       | Experiment | 0.456776291     | 0.00046  | 0.697410841 | 0.455450743  | 0       |\n",
    "| training_Fake news comments_trial_12            | finished| 2025-01-15T09:36:27.000Z | 1142    | 12         | X_train_cleaned_2| 0.2534333 | 3      | 2.50E-07       | distilbert-base-uncased| AdamW     | 0.006714391| 0.0075       | Experiment | 0.457025409     | 0.00137  | 0.698208843 | 0.455625445  | 0       |\n",
    "\n",
    "So we will discard all these models."
   ],
   "metadata": {
    "id": "YvdviWbzTp2l"
   },
   "id": "YvdviWbzTp2l"
  }
 ],
 "metadata": {
  "kernelspec": {
   "display_name": "Python 3",
   "name": "python3"
  },
  "language_info": {
   "codemirror_mode": {
    "name": "ipython",
    "version": 2
   },
   "file_extension": ".py",
   "mimetype": "text/x-python",
   "name": "python",
   "nbconvert_exporter": "python",
   "pygments_lexer": "ipython2",
   "version": "2.7.6"
  },
  "colab": {
   "provenance": [],
   "machine_shape": "hm",
   "gpuType": "L4"
  },
  "accelerator": "GPU",
  "widgets": {
   "application/vnd.jupyter.widget-state+json": {
    "24dc411ed1034fa5b7cbedd2ae5ecf72": {
     "model_module": "@jupyter-widgets/output",
     "model_name": "OutputModel",
     "model_module_version": "1.0.0",
     "state": {
      "_dom_classes": [],
      "_model_module": "@jupyter-widgets/output",
      "_model_module_version": "1.0.0",
      "_model_name": "OutputModel",
      "_view_count": null,
      "_view_module": "@jupyter-widgets/output",
      "_view_module_version": "1.0.0",
      "_view_name": "OutputView",
      "layout": "IPY_MODEL_909d24fe0dd647d2a171fd6137c3f829",
      "msg_id": "",
      "outputs": [
       {
        "output_type": "display_data",
        "data": {
         "text/plain": "\u001B[32m⠼\u001B[0m Waiting for authorization\n",
         "text/html": "<pre style=\"white-space:pre;overflow-x:auto;line-height:normal;font-family:Menlo,'DejaVu Sans Mono',consolas,'Courier New',monospace\"><span style=\"color: #008000; text-decoration-color: #008000\">⠼</span> Waiting for authorization\n</pre>\n"
        },
        "metadata": {}
       }
      ]
     }
    },
    "909d24fe0dd647d2a171fd6137c3f829": {
     "model_module": "@jupyter-widgets/base",
     "model_name": "LayoutModel",
     "model_module_version": "1.2.0",
     "state": {
      "_model_module": "@jupyter-widgets/base",
      "_model_module_version": "1.2.0",
      "_model_name": "LayoutModel",
      "_view_count": null,
      "_view_module": "@jupyter-widgets/base",
      "_view_module_version": "1.2.0",
      "_view_name": "LayoutView",
      "align_content": null,
      "align_items": null,
      "align_self": null,
      "border": null,
      "bottom": null,
      "display": null,
      "flex": null,
      "flex_flow": null,
      "grid_area": null,
      "grid_auto_columns": null,
      "grid_auto_flow": null,
      "grid_auto_rows": null,
      "grid_column": null,
      "grid_gap": null,
      "grid_row": null,
      "grid_template_areas": null,
      "grid_template_columns": null,
      "grid_template_rows": null,
      "height": null,
      "justify_content": null,
      "justify_items": null,
      "left": null,
      "margin": null,
      "max_height": null,
      "max_width": null,
      "min_height": null,
      "min_width": null,
      "object_fit": null,
      "object_position": null,
      "order": null,
      "overflow": null,
      "overflow_x": null,
      "overflow_y": null,
      "padding": null,
      "right": null,
      "top": null,
      "visibility": null,
      "width": null
     }
    },
    "8db9b0d4d93e49b28f4dc1613eedefbb": {
     "model_module": "@jupyter-widgets/controls",
     "model_name": "HBoxModel",
     "model_module_version": "1.5.0",
     "state": {
      "_dom_classes": [],
      "_model_module": "@jupyter-widgets/controls",
      "_model_module_version": "1.5.0",
      "_model_name": "HBoxModel",
      "_view_count": null,
      "_view_module": "@jupyter-widgets/controls",
      "_view_module_version": "1.5.0",
      "_view_name": "HBoxView",
      "box_style": "",
      "children": [
       "IPY_MODEL_7a9a1bbf01584fc3bec48bfeff9dc83a",
       "IPY_MODEL_1380918043ba4082a6601909cde9c6c5",
       "IPY_MODEL_39bfcb988346421d96065d88a213dbff"
      ],
      "layout": "IPY_MODEL_97772728549148aebbf17bf148a0de80"
     }
    },
    "7a9a1bbf01584fc3bec48bfeff9dc83a": {
     "model_module": "@jupyter-widgets/controls",
     "model_name": "HTMLModel",
     "model_module_version": "1.5.0",
     "state": {
      "_dom_classes": [],
      "_model_module": "@jupyter-widgets/controls",
      "_model_module_version": "1.5.0",
      "_model_name": "HTMLModel",
      "_view_count": null,
      "_view_module": "@jupyter-widgets/controls",
      "_view_module_version": "1.5.0",
      "_view_name": "HTMLView",
      "description": "",
      "description_tooltip": null,
      "layout": "IPY_MODEL_374a0c4094cf45c89021cb312b78bf14",
      "placeholder": "​",
      "style": "IPY_MODEL_dee6aad5678f4d3da630c10b92e469b6",
      "value": "tokenizer_config.json: 100%"
     }
    },
    "1380918043ba4082a6601909cde9c6c5": {
     "model_module": "@jupyter-widgets/controls",
     "model_name": "FloatProgressModel",
     "model_module_version": "1.5.0",
     "state": {
      "_dom_classes": [],
      "_model_module": "@jupyter-widgets/controls",
      "_model_module_version": "1.5.0",
      "_model_name": "FloatProgressModel",
      "_view_count": null,
      "_view_module": "@jupyter-widgets/controls",
      "_view_module_version": "1.5.0",
      "_view_name": "ProgressView",
      "bar_style": "success",
      "description": "",
      "description_tooltip": null,
      "layout": "IPY_MODEL_0c0b7f125dfb4e7e9f5b1b92d8f09001",
      "max": 48,
      "min": 0,
      "orientation": "horizontal",
      "style": "IPY_MODEL_e58b805ce2b04f44bea05f90121956fc",
      "value": 48
     }
    },
    "39bfcb988346421d96065d88a213dbff": {
     "model_module": "@jupyter-widgets/controls",
     "model_name": "HTMLModel",
     "model_module_version": "1.5.0",
     "state": {
      "_dom_classes": [],
      "_model_module": "@jupyter-widgets/controls",
      "_model_module_version": "1.5.0",
      "_model_name": "HTMLModel",
      "_view_count": null,
      "_view_module": "@jupyter-widgets/controls",
      "_view_module_version": "1.5.0",
      "_view_name": "HTMLView",
      "description": "",
      "description_tooltip": null,
      "layout": "IPY_MODEL_92c5cf4a151e414c900c7eb229e2a414",
      "placeholder": "​",
      "style": "IPY_MODEL_350a9c54fd2b443695581afd026f5fe1",
      "value": " 48.0/48.0 [00:00&lt;00:00, 3.73kB/s]"
     }
    },
    "97772728549148aebbf17bf148a0de80": {
     "model_module": "@jupyter-widgets/base",
     "model_name": "LayoutModel",
     "model_module_version": "1.2.0",
     "state": {
      "_model_module": "@jupyter-widgets/base",
      "_model_module_version": "1.2.0",
      "_model_name": "LayoutModel",
      "_view_count": null,
      "_view_module": "@jupyter-widgets/base",
      "_view_module_version": "1.2.0",
      "_view_name": "LayoutView",
      "align_content": null,
      "align_items": null,
      "align_self": null,
      "border": null,
      "bottom": null,
      "display": null,
      "flex": null,
      "flex_flow": null,
      "grid_area": null,
      "grid_auto_columns": null,
      "grid_auto_flow": null,
      "grid_auto_rows": null,
      "grid_column": null,
      "grid_gap": null,
      "grid_row": null,
      "grid_template_areas": null,
      "grid_template_columns": null,
      "grid_template_rows": null,
      "height": null,
      "justify_content": null,
      "justify_items": null,
      "left": null,
      "margin": null,
      "max_height": null,
      "max_width": null,
      "min_height": null,
      "min_width": null,
      "object_fit": null,
      "object_position": null,
      "order": null,
      "overflow": null,
      "overflow_x": null,
      "overflow_y": null,
      "padding": null,
      "right": null,
      "top": null,
      "visibility": null,
      "width": null
     }
    },
    "374a0c4094cf45c89021cb312b78bf14": {
     "model_module": "@jupyter-widgets/base",
     "model_name": "LayoutModel",
     "model_module_version": "1.2.0",
     "state": {
      "_model_module": "@jupyter-widgets/base",
      "_model_module_version": "1.2.0",
      "_model_name": "LayoutModel",
      "_view_count": null,
      "_view_module": "@jupyter-widgets/base",
      "_view_module_version": "1.2.0",
      "_view_name": "LayoutView",
      "align_content": null,
      "align_items": null,
      "align_self": null,
      "border": null,
      "bottom": null,
      "display": null,
      "flex": null,
      "flex_flow": null,
      "grid_area": null,
      "grid_auto_columns": null,
      "grid_auto_flow": null,
      "grid_auto_rows": null,
      "grid_column": null,
      "grid_gap": null,
      "grid_row": null,
      "grid_template_areas": null,
      "grid_template_columns": null,
      "grid_template_rows": null,
      "height": null,
      "justify_content": null,
      "justify_items": null,
      "left": null,
      "margin": null,
      "max_height": null,
      "max_width": null,
      "min_height": null,
      "min_width": null,
      "object_fit": null,
      "object_position": null,
      "order": null,
      "overflow": null,
      "overflow_x": null,
      "overflow_y": null,
      "padding": null,
      "right": null,
      "top": null,
      "visibility": null,
      "width": null
     }
    },
    "dee6aad5678f4d3da630c10b92e469b6": {
     "model_module": "@jupyter-widgets/controls",
     "model_name": "DescriptionStyleModel",
     "model_module_version": "1.5.0",
     "state": {
      "_model_module": "@jupyter-widgets/controls",
      "_model_module_version": "1.5.0",
      "_model_name": "DescriptionStyleModel",
      "_view_count": null,
      "_view_module": "@jupyter-widgets/base",
      "_view_module_version": "1.2.0",
      "_view_name": "StyleView",
      "description_width": ""
     }
    },
    "0c0b7f125dfb4e7e9f5b1b92d8f09001": {
     "model_module": "@jupyter-widgets/base",
     "model_name": "LayoutModel",
     "model_module_version": "1.2.0",
     "state": {
      "_model_module": "@jupyter-widgets/base",
      "_model_module_version": "1.2.0",
      "_model_name": "LayoutModel",
      "_view_count": null,
      "_view_module": "@jupyter-widgets/base",
      "_view_module_version": "1.2.0",
      "_view_name": "LayoutView",
      "align_content": null,
      "align_items": null,
      "align_self": null,
      "border": null,
      "bottom": null,
      "display": null,
      "flex": null,
      "flex_flow": null,
      "grid_area": null,
      "grid_auto_columns": null,
      "grid_auto_flow": null,
      "grid_auto_rows": null,
      "grid_column": null,
      "grid_gap": null,
      "grid_row": null,
      "grid_template_areas": null,
      "grid_template_columns": null,
      "grid_template_rows": null,
      "height": null,
      "justify_content": null,
      "justify_items": null,
      "left": null,
      "margin": null,
      "max_height": null,
      "max_width": null,
      "min_height": null,
      "min_width": null,
      "object_fit": null,
      "object_position": null,
      "order": null,
      "overflow": null,
      "overflow_x": null,
      "overflow_y": null,
      "padding": null,
      "right": null,
      "top": null,
      "visibility": null,
      "width": null
     }
    },
    "e58b805ce2b04f44bea05f90121956fc": {
     "model_module": "@jupyter-widgets/controls",
     "model_name": "ProgressStyleModel",
     "model_module_version": "1.5.0",
     "state": {
      "_model_module": "@jupyter-widgets/controls",
      "_model_module_version": "1.5.0",
      "_model_name": "ProgressStyleModel",
      "_view_count": null,
      "_view_module": "@jupyter-widgets/base",
      "_view_module_version": "1.2.0",
      "_view_name": "StyleView",
      "bar_color": null,
      "description_width": ""
     }
    },
    "92c5cf4a151e414c900c7eb229e2a414": {
     "model_module": "@jupyter-widgets/base",
     "model_name": "LayoutModel",
     "model_module_version": "1.2.0",
     "state": {
      "_model_module": "@jupyter-widgets/base",
      "_model_module_version": "1.2.0",
      "_model_name": "LayoutModel",
      "_view_count": null,
      "_view_module": "@jupyter-widgets/base",
      "_view_module_version": "1.2.0",
      "_view_name": "LayoutView",
      "align_content": null,
      "align_items": null,
      "align_self": null,
      "border": null,
      "bottom": null,
      "display": null,
      "flex": null,
      "flex_flow": null,
      "grid_area": null,
      "grid_auto_columns": null,
      "grid_auto_flow": null,
      "grid_auto_rows": null,
      "grid_column": null,
      "grid_gap": null,
      "grid_row": null,
      "grid_template_areas": null,
      "grid_template_columns": null,
      "grid_template_rows": null,
      "height": null,
      "justify_content": null,
      "justify_items": null,
      "left": null,
      "margin": null,
      "max_height": null,
      "max_width": null,
      "min_height": null,
      "min_width": null,
      "object_fit": null,
      "object_position": null,
      "order": null,
      "overflow": null,
      "overflow_x": null,
      "overflow_y": null,
      "padding": null,
      "right": null,
      "top": null,
      "visibility": null,
      "width": null
     }
    },
    "350a9c54fd2b443695581afd026f5fe1": {
     "model_module": "@jupyter-widgets/controls",
     "model_name": "DescriptionStyleModel",
     "model_module_version": "1.5.0",
     "state": {
      "_model_module": "@jupyter-widgets/controls",
      "_model_module_version": "1.5.0",
      "_model_name": "DescriptionStyleModel",
      "_view_count": null,
      "_view_module": "@jupyter-widgets/base",
      "_view_module_version": "1.2.0",
      "_view_name": "StyleView",
      "description_width": ""
     }
    },
    "5652540cc9834cca95ce92c94fcff139": {
     "model_module": "@jupyter-widgets/controls",
     "model_name": "HBoxModel",
     "model_module_version": "1.5.0",
     "state": {
      "_dom_classes": [],
      "_model_module": "@jupyter-widgets/controls",
      "_model_module_version": "1.5.0",
      "_model_name": "HBoxModel",
      "_view_count": null,
      "_view_module": "@jupyter-widgets/controls",
      "_view_module_version": "1.5.0",
      "_view_name": "HBoxView",
      "box_style": "",
      "children": [
       "IPY_MODEL_1f21d4e044464f388f06400c4bb071ec",
       "IPY_MODEL_bc5b663305ed45bbb7cfd095455e3e20",
       "IPY_MODEL_6e4229d98eeb43fc9588bb026e2ba6c2"
      ],
      "layout": "IPY_MODEL_5c6f7f760ac744c59a9195f399eb7792"
     }
    },
    "1f21d4e044464f388f06400c4bb071ec": {
     "model_module": "@jupyter-widgets/controls",
     "model_name": "HTMLModel",
     "model_module_version": "1.5.0",
     "state": {
      "_dom_classes": [],
      "_model_module": "@jupyter-widgets/controls",
      "_model_module_version": "1.5.0",
      "_model_name": "HTMLModel",
      "_view_count": null,
      "_view_module": "@jupyter-widgets/controls",
      "_view_module_version": "1.5.0",
      "_view_name": "HTMLView",
      "description": "",
      "description_tooltip": null,
      "layout": "IPY_MODEL_3206731148454eb284f8e80f4027dca1",
      "placeholder": "​",
      "style": "IPY_MODEL_88402dbeef29489b822f8a7863bcc42b",
      "value": "config.json: 100%"
     }
    },
    "bc5b663305ed45bbb7cfd095455e3e20": {
     "model_module": "@jupyter-widgets/controls",
     "model_name": "FloatProgressModel",
     "model_module_version": "1.5.0",
     "state": {
      "_dom_classes": [],
      "_model_module": "@jupyter-widgets/controls",
      "_model_module_version": "1.5.0",
      "_model_name": "FloatProgressModel",
      "_view_count": null,
      "_view_module": "@jupyter-widgets/controls",
      "_view_module_version": "1.5.0",
      "_view_name": "ProgressView",
      "bar_style": "success",
      "description": "",
      "description_tooltip": null,
      "layout": "IPY_MODEL_1aecc4ad6aa34ca5be80b01e3db5c68b",
      "max": 483,
      "min": 0,
      "orientation": "horizontal",
      "style": "IPY_MODEL_686f2fb00716474db0ab427686be14f8",
      "value": 483
     }
    },
    "6e4229d98eeb43fc9588bb026e2ba6c2": {
     "model_module": "@jupyter-widgets/controls",
     "model_name": "HTMLModel",
     "model_module_version": "1.5.0",
     "state": {
      "_dom_classes": [],
      "_model_module": "@jupyter-widgets/controls",
      "_model_module_version": "1.5.0",
      "_model_name": "HTMLModel",
      "_view_count": null,
      "_view_module": "@jupyter-widgets/controls",
      "_view_module_version": "1.5.0",
      "_view_name": "HTMLView",
      "description": "",
      "description_tooltip": null,
      "layout": "IPY_MODEL_cced4578a6ea4933b97d5c275b0c0baa",
      "placeholder": "​",
      "style": "IPY_MODEL_026d0b05ade44f8caa28377bb35c9fa7",
      "value": " 483/483 [00:00&lt;00:00, 38.6kB/s]"
     }
    },
    "5c6f7f760ac744c59a9195f399eb7792": {
     "model_module": "@jupyter-widgets/base",
     "model_name": "LayoutModel",
     "model_module_version": "1.2.0",
     "state": {
      "_model_module": "@jupyter-widgets/base",
      "_model_module_version": "1.2.0",
      "_model_name": "LayoutModel",
      "_view_count": null,
      "_view_module": "@jupyter-widgets/base",
      "_view_module_version": "1.2.0",
      "_view_name": "LayoutView",
      "align_content": null,
      "align_items": null,
      "align_self": null,
      "border": null,
      "bottom": null,
      "display": null,
      "flex": null,
      "flex_flow": null,
      "grid_area": null,
      "grid_auto_columns": null,
      "grid_auto_flow": null,
      "grid_auto_rows": null,
      "grid_column": null,
      "grid_gap": null,
      "grid_row": null,
      "grid_template_areas": null,
      "grid_template_columns": null,
      "grid_template_rows": null,
      "height": null,
      "justify_content": null,
      "justify_items": null,
      "left": null,
      "margin": null,
      "max_height": null,
      "max_width": null,
      "min_height": null,
      "min_width": null,
      "object_fit": null,
      "object_position": null,
      "order": null,
      "overflow": null,
      "overflow_x": null,
      "overflow_y": null,
      "padding": null,
      "right": null,
      "top": null,
      "visibility": null,
      "width": null
     }
    },
    "3206731148454eb284f8e80f4027dca1": {
     "model_module": "@jupyter-widgets/base",
     "model_name": "LayoutModel",
     "model_module_version": "1.2.0",
     "state": {
      "_model_module": "@jupyter-widgets/base",
      "_model_module_version": "1.2.0",
      "_model_name": "LayoutModel",
      "_view_count": null,
      "_view_module": "@jupyter-widgets/base",
      "_view_module_version": "1.2.0",
      "_view_name": "LayoutView",
      "align_content": null,
      "align_items": null,
      "align_self": null,
      "border": null,
      "bottom": null,
      "display": null,
      "flex": null,
      "flex_flow": null,
      "grid_area": null,
      "grid_auto_columns": null,
      "grid_auto_flow": null,
      "grid_auto_rows": null,
      "grid_column": null,
      "grid_gap": null,
      "grid_row": null,
      "grid_template_areas": null,
      "grid_template_columns": null,
      "grid_template_rows": null,
      "height": null,
      "justify_content": null,
      "justify_items": null,
      "left": null,
      "margin": null,
      "max_height": null,
      "max_width": null,
      "min_height": null,
      "min_width": null,
      "object_fit": null,
      "object_position": null,
      "order": null,
      "overflow": null,
      "overflow_x": null,
      "overflow_y": null,
      "padding": null,
      "right": null,
      "top": null,
      "visibility": null,
      "width": null
     }
    },
    "88402dbeef29489b822f8a7863bcc42b": {
     "model_module": "@jupyter-widgets/controls",
     "model_name": "DescriptionStyleModel",
     "model_module_version": "1.5.0",
     "state": {
      "_model_module": "@jupyter-widgets/controls",
      "_model_module_version": "1.5.0",
      "_model_name": "DescriptionStyleModel",
      "_view_count": null,
      "_view_module": "@jupyter-widgets/base",
      "_view_module_version": "1.2.0",
      "_view_name": "StyleView",
      "description_width": ""
     }
    },
    "1aecc4ad6aa34ca5be80b01e3db5c68b": {
     "model_module": "@jupyter-widgets/base",
     "model_name": "LayoutModel",
     "model_module_version": "1.2.0",
     "state": {
      "_model_module": "@jupyter-widgets/base",
      "_model_module_version": "1.2.0",
      "_model_name": "LayoutModel",
      "_view_count": null,
      "_view_module": "@jupyter-widgets/base",
      "_view_module_version": "1.2.0",
      "_view_name": "LayoutView",
      "align_content": null,
      "align_items": null,
      "align_self": null,
      "border": null,
      "bottom": null,
      "display": null,
      "flex": null,
      "flex_flow": null,
      "grid_area": null,
      "grid_auto_columns": null,
      "grid_auto_flow": null,
      "grid_auto_rows": null,
      "grid_column": null,
      "grid_gap": null,
      "grid_row": null,
      "grid_template_areas": null,
      "grid_template_columns": null,
      "grid_template_rows": null,
      "height": null,
      "justify_content": null,
      "justify_items": null,
      "left": null,
      "margin": null,
      "max_height": null,
      "max_width": null,
      "min_height": null,
      "min_width": null,
      "object_fit": null,
      "object_position": null,
      "order": null,
      "overflow": null,
      "overflow_x": null,
      "overflow_y": null,
      "padding": null,
      "right": null,
      "top": null,
      "visibility": null,
      "width": null
     }
    },
    "686f2fb00716474db0ab427686be14f8": {
     "model_module": "@jupyter-widgets/controls",
     "model_name": "ProgressStyleModel",
     "model_module_version": "1.5.0",
     "state": {
      "_model_module": "@jupyter-widgets/controls",
      "_model_module_version": "1.5.0",
      "_model_name": "ProgressStyleModel",
      "_view_count": null,
      "_view_module": "@jupyter-widgets/base",
      "_view_module_version": "1.2.0",
      "_view_name": "StyleView",
      "bar_color": null,
      "description_width": ""
     }
    },
    "cced4578a6ea4933b97d5c275b0c0baa": {
     "model_module": "@jupyter-widgets/base",
     "model_name": "LayoutModel",
     "model_module_version": "1.2.0",
     "state": {
      "_model_module": "@jupyter-widgets/base",
      "_model_module_version": "1.2.0",
      "_model_name": "LayoutModel",
      "_view_count": null,
      "_view_module": "@jupyter-widgets/base",
      "_view_module_version": "1.2.0",
      "_view_name": "LayoutView",
      "align_content": null,
      "align_items": null,
      "align_self": null,
      "border": null,
      "bottom": null,
      "display": null,
      "flex": null,
      "flex_flow": null,
      "grid_area": null,
      "grid_auto_columns": null,
      "grid_auto_flow": null,
      "grid_auto_rows": null,
      "grid_column": null,
      "grid_gap": null,
      "grid_row": null,
      "grid_template_areas": null,
      "grid_template_columns": null,
      "grid_template_rows": null,
      "height": null,
      "justify_content": null,
      "justify_items": null,
      "left": null,
      "margin": null,
      "max_height": null,
      "max_width": null,
      "min_height": null,
      "min_width": null,
      "object_fit": null,
      "object_position": null,
      "order": null,
      "overflow": null,
      "overflow_x": null,
      "overflow_y": null,
      "padding": null,
      "right": null,
      "top": null,
      "visibility": null,
      "width": null
     }
    },
    "026d0b05ade44f8caa28377bb35c9fa7": {
     "model_module": "@jupyter-widgets/controls",
     "model_name": "DescriptionStyleModel",
     "model_module_version": "1.5.0",
     "state": {
      "_model_module": "@jupyter-widgets/controls",
      "_model_module_version": "1.5.0",
      "_model_name": "DescriptionStyleModel",
      "_view_count": null,
      "_view_module": "@jupyter-widgets/base",
      "_view_module_version": "1.2.0",
      "_view_name": "StyleView",
      "description_width": ""
     }
    },
    "660a055a7124428fa49c0cf44beda8ad": {
     "model_module": "@jupyter-widgets/controls",
     "model_name": "HBoxModel",
     "model_module_version": "1.5.0",
     "state": {
      "_dom_classes": [],
      "_model_module": "@jupyter-widgets/controls",
      "_model_module_version": "1.5.0",
      "_model_name": "HBoxModel",
      "_view_count": null,
      "_view_module": "@jupyter-widgets/controls",
      "_view_module_version": "1.5.0",
      "_view_name": "HBoxView",
      "box_style": "",
      "children": [
       "IPY_MODEL_c9c07e0dd1de4642bce07e6e61445870",
       "IPY_MODEL_acef17d517414bfca0843b77c28d9f2c",
       "IPY_MODEL_526ef68570df4f3284010f4fe926c01b"
      ],
      "layout": "IPY_MODEL_0e1e1505eb904321b334768523fc2b6c"
     }
    },
    "c9c07e0dd1de4642bce07e6e61445870": {
     "model_module": "@jupyter-widgets/controls",
     "model_name": "HTMLModel",
     "model_module_version": "1.5.0",
     "state": {
      "_dom_classes": [],
      "_model_module": "@jupyter-widgets/controls",
      "_model_module_version": "1.5.0",
      "_model_name": "HTMLModel",
      "_view_count": null,
      "_view_module": "@jupyter-widgets/controls",
      "_view_module_version": "1.5.0",
      "_view_name": "HTMLView",
      "description": "",
      "description_tooltip": null,
      "layout": "IPY_MODEL_6d02433bc5524e03a3072050bb3c1e4a",
      "placeholder": "​",
      "style": "IPY_MODEL_2793e2fa0a8a42d09bb78f3da58bb271",
      "value": "vocab.txt: 100%"
     }
    },
    "acef17d517414bfca0843b77c28d9f2c": {
     "model_module": "@jupyter-widgets/controls",
     "model_name": "FloatProgressModel",
     "model_module_version": "1.5.0",
     "state": {
      "_dom_classes": [],
      "_model_module": "@jupyter-widgets/controls",
      "_model_module_version": "1.5.0",
      "_model_name": "FloatProgressModel",
      "_view_count": null,
      "_view_module": "@jupyter-widgets/controls",
      "_view_module_version": "1.5.0",
      "_view_name": "ProgressView",
      "bar_style": "success",
      "description": "",
      "description_tooltip": null,
      "layout": "IPY_MODEL_1a6c0f22f2c3488cab2598b97e6a636d",
      "max": 231508,
      "min": 0,
      "orientation": "horizontal",
      "style": "IPY_MODEL_1a32acbaf2b44533a252e6654b38f5d4",
      "value": 231508
     }
    },
    "526ef68570df4f3284010f4fe926c01b": {
     "model_module": "@jupyter-widgets/controls",
     "model_name": "HTMLModel",
     "model_module_version": "1.5.0",
     "state": {
      "_dom_classes": [],
      "_model_module": "@jupyter-widgets/controls",
      "_model_module_version": "1.5.0",
      "_model_name": "HTMLModel",
      "_view_count": null,
      "_view_module": "@jupyter-widgets/controls",
      "_view_module_version": "1.5.0",
      "_view_name": "HTMLView",
      "description": "",
      "description_tooltip": null,
      "layout": "IPY_MODEL_f9a6b4ea75214a73b981148e478e7811",
      "placeholder": "​",
      "style": "IPY_MODEL_4cec7bd7ae6c4cda8a07ce4824ac7e9f",
      "value": " 232k/232k [00:00&lt;00:00, 13.7MB/s]"
     }
    },
    "0e1e1505eb904321b334768523fc2b6c": {
     "model_module": "@jupyter-widgets/base",
     "model_name": "LayoutModel",
     "model_module_version": "1.2.0",
     "state": {
      "_model_module": "@jupyter-widgets/base",
      "_model_module_version": "1.2.0",
      "_model_name": "LayoutModel",
      "_view_count": null,
      "_view_module": "@jupyter-widgets/base",
      "_view_module_version": "1.2.0",
      "_view_name": "LayoutView",
      "align_content": null,
      "align_items": null,
      "align_self": null,
      "border": null,
      "bottom": null,
      "display": null,
      "flex": null,
      "flex_flow": null,
      "grid_area": null,
      "grid_auto_columns": null,
      "grid_auto_flow": null,
      "grid_auto_rows": null,
      "grid_column": null,
      "grid_gap": null,
      "grid_row": null,
      "grid_template_areas": null,
      "grid_template_columns": null,
      "grid_template_rows": null,
      "height": null,
      "justify_content": null,
      "justify_items": null,
      "left": null,
      "margin": null,
      "max_height": null,
      "max_width": null,
      "min_height": null,
      "min_width": null,
      "object_fit": null,
      "object_position": null,
      "order": null,
      "overflow": null,
      "overflow_x": null,
      "overflow_y": null,
      "padding": null,
      "right": null,
      "top": null,
      "visibility": null,
      "width": null
     }
    },
    "6d02433bc5524e03a3072050bb3c1e4a": {
     "model_module": "@jupyter-widgets/base",
     "model_name": "LayoutModel",
     "model_module_version": "1.2.0",
     "state": {
      "_model_module": "@jupyter-widgets/base",
      "_model_module_version": "1.2.0",
      "_model_name": "LayoutModel",
      "_view_count": null,
      "_view_module": "@jupyter-widgets/base",
      "_view_module_version": "1.2.0",
      "_view_name": "LayoutView",
      "align_content": null,
      "align_items": null,
      "align_self": null,
      "border": null,
      "bottom": null,
      "display": null,
      "flex": null,
      "flex_flow": null,
      "grid_area": null,
      "grid_auto_columns": null,
      "grid_auto_flow": null,
      "grid_auto_rows": null,
      "grid_column": null,
      "grid_gap": null,
      "grid_row": null,
      "grid_template_areas": null,
      "grid_template_columns": null,
      "grid_template_rows": null,
      "height": null,
      "justify_content": null,
      "justify_items": null,
      "left": null,
      "margin": null,
      "max_height": null,
      "max_width": null,
      "min_height": null,
      "min_width": null,
      "object_fit": null,
      "object_position": null,
      "order": null,
      "overflow": null,
      "overflow_x": null,
      "overflow_y": null,
      "padding": null,
      "right": null,
      "top": null,
      "visibility": null,
      "width": null
     }
    },
    "2793e2fa0a8a42d09bb78f3da58bb271": {
     "model_module": "@jupyter-widgets/controls",
     "model_name": "DescriptionStyleModel",
     "model_module_version": "1.5.0",
     "state": {
      "_model_module": "@jupyter-widgets/controls",
      "_model_module_version": "1.5.0",
      "_model_name": "DescriptionStyleModel",
      "_view_count": null,
      "_view_module": "@jupyter-widgets/base",
      "_view_module_version": "1.2.0",
      "_view_name": "StyleView",
      "description_width": ""
     }
    },
    "1a6c0f22f2c3488cab2598b97e6a636d": {
     "model_module": "@jupyter-widgets/base",
     "model_name": "LayoutModel",
     "model_module_version": "1.2.0",
     "state": {
      "_model_module": "@jupyter-widgets/base",
      "_model_module_version": "1.2.0",
      "_model_name": "LayoutModel",
      "_view_count": null,
      "_view_module": "@jupyter-widgets/base",
      "_view_module_version": "1.2.0",
      "_view_name": "LayoutView",
      "align_content": null,
      "align_items": null,
      "align_self": null,
      "border": null,
      "bottom": null,
      "display": null,
      "flex": null,
      "flex_flow": null,
      "grid_area": null,
      "grid_auto_columns": null,
      "grid_auto_flow": null,
      "grid_auto_rows": null,
      "grid_column": null,
      "grid_gap": null,
      "grid_row": null,
      "grid_template_areas": null,
      "grid_template_columns": null,
      "grid_template_rows": null,
      "height": null,
      "justify_content": null,
      "justify_items": null,
      "left": null,
      "margin": null,
      "max_height": null,
      "max_width": null,
      "min_height": null,
      "min_width": null,
      "object_fit": null,
      "object_position": null,
      "order": null,
      "overflow": null,
      "overflow_x": null,
      "overflow_y": null,
      "padding": null,
      "right": null,
      "top": null,
      "visibility": null,
      "width": null
     }
    },
    "1a32acbaf2b44533a252e6654b38f5d4": {
     "model_module": "@jupyter-widgets/controls",
     "model_name": "ProgressStyleModel",
     "model_module_version": "1.5.0",
     "state": {
      "_model_module": "@jupyter-widgets/controls",
      "_model_module_version": "1.5.0",
      "_model_name": "ProgressStyleModel",
      "_view_count": null,
      "_view_module": "@jupyter-widgets/base",
      "_view_module_version": "1.2.0",
      "_view_name": "StyleView",
      "bar_color": null,
      "description_width": ""
     }
    },
    "f9a6b4ea75214a73b981148e478e7811": {
     "model_module": "@jupyter-widgets/base",
     "model_name": "LayoutModel",
     "model_module_version": "1.2.0",
     "state": {
      "_model_module": "@jupyter-widgets/base",
      "_model_module_version": "1.2.0",
      "_model_name": "LayoutModel",
      "_view_count": null,
      "_view_module": "@jupyter-widgets/base",
      "_view_module_version": "1.2.0",
      "_view_name": "LayoutView",
      "align_content": null,
      "align_items": null,
      "align_self": null,
      "border": null,
      "bottom": null,
      "display": null,
      "flex": null,
      "flex_flow": null,
      "grid_area": null,
      "grid_auto_columns": null,
      "grid_auto_flow": null,
      "grid_auto_rows": null,
      "grid_column": null,
      "grid_gap": null,
      "grid_row": null,
      "grid_template_areas": null,
      "grid_template_columns": null,
      "grid_template_rows": null,
      "height": null,
      "justify_content": null,
      "justify_items": null,
      "left": null,
      "margin": null,
      "max_height": null,
      "max_width": null,
      "min_height": null,
      "min_width": null,
      "object_fit": null,
      "object_position": null,
      "order": null,
      "overflow": null,
      "overflow_x": null,
      "overflow_y": null,
      "padding": null,
      "right": null,
      "top": null,
      "visibility": null,
      "width": null
     }
    },
    "4cec7bd7ae6c4cda8a07ce4824ac7e9f": {
     "model_module": "@jupyter-widgets/controls",
     "model_name": "DescriptionStyleModel",
     "model_module_version": "1.5.0",
     "state": {
      "_model_module": "@jupyter-widgets/controls",
      "_model_module_version": "1.5.0",
      "_model_name": "DescriptionStyleModel",
      "_view_count": null,
      "_view_module": "@jupyter-widgets/base",
      "_view_module_version": "1.2.0",
      "_view_name": "StyleView",
      "description_width": ""
     }
    },
    "db75bfbccdd646a5a18ee99a695ec68c": {
     "model_module": "@jupyter-widgets/controls",
     "model_name": "HBoxModel",
     "model_module_version": "1.5.0",
     "state": {
      "_dom_classes": [],
      "_model_module": "@jupyter-widgets/controls",
      "_model_module_version": "1.5.0",
      "_model_name": "HBoxModel",
      "_view_count": null,
      "_view_module": "@jupyter-widgets/controls",
      "_view_module_version": "1.5.0",
      "_view_name": "HBoxView",
      "box_style": "",
      "children": [
       "IPY_MODEL_133a0f11ad6548739063c8bb9f5f76a9",
       "IPY_MODEL_a99a187745034c23ad86e6b5f02ceebe",
       "IPY_MODEL_d111bde7a39d441793ab0b084b53d2d8"
      ],
      "layout": "IPY_MODEL_4066e46456d54e06b65484bc1cb236c3"
     }
    },
    "133a0f11ad6548739063c8bb9f5f76a9": {
     "model_module": "@jupyter-widgets/controls",
     "model_name": "HTMLModel",
     "model_module_version": "1.5.0",
     "state": {
      "_dom_classes": [],
      "_model_module": "@jupyter-widgets/controls",
      "_model_module_version": "1.5.0",
      "_model_name": "HTMLModel",
      "_view_count": null,
      "_view_module": "@jupyter-widgets/controls",
      "_view_module_version": "1.5.0",
      "_view_name": "HTMLView",
      "description": "",
      "description_tooltip": null,
      "layout": "IPY_MODEL_3f9b9f13aff54cd992733efd5cf8ab81",
      "placeholder": "​",
      "style": "IPY_MODEL_5946de619a1841c4b54d6d8622e4069b",
      "value": "tokenizer.json: 100%"
     }
    },
    "a99a187745034c23ad86e6b5f02ceebe": {
     "model_module": "@jupyter-widgets/controls",
     "model_name": "FloatProgressModel",
     "model_module_version": "1.5.0",
     "state": {
      "_dom_classes": [],
      "_model_module": "@jupyter-widgets/controls",
      "_model_module_version": "1.5.0",
      "_model_name": "FloatProgressModel",
      "_view_count": null,
      "_view_module": "@jupyter-widgets/controls",
      "_view_module_version": "1.5.0",
      "_view_name": "ProgressView",
      "bar_style": "success",
      "description": "",
      "description_tooltip": null,
      "layout": "IPY_MODEL_57bbecbdf29a4a39b4d0a20c822a53df",
      "max": 466062,
      "min": 0,
      "orientation": "horizontal",
      "style": "IPY_MODEL_e0e6aaf93e4d445cb05d2a9d6860ea99",
      "value": 466062
     }
    },
    "d111bde7a39d441793ab0b084b53d2d8": {
     "model_module": "@jupyter-widgets/controls",
     "model_name": "HTMLModel",
     "model_module_version": "1.5.0",
     "state": {
      "_dom_classes": [],
      "_model_module": "@jupyter-widgets/controls",
      "_model_module_version": "1.5.0",
      "_model_name": "HTMLModel",
      "_view_count": null,
      "_view_module": "@jupyter-widgets/controls",
      "_view_module_version": "1.5.0",
      "_view_name": "HTMLView",
      "description": "",
      "description_tooltip": null,
      "layout": "IPY_MODEL_fdfbfd7414694d749c09289432786f87",
      "placeholder": "​",
      "style": "IPY_MODEL_b62f5c39d877440cbae6315b5ee7a4d0",
      "value": " 466k/466k [00:00&lt;00:00, 1.10MB/s]"
     }
    },
    "4066e46456d54e06b65484bc1cb236c3": {
     "model_module": "@jupyter-widgets/base",
     "model_name": "LayoutModel",
     "model_module_version": "1.2.0",
     "state": {
      "_model_module": "@jupyter-widgets/base",
      "_model_module_version": "1.2.0",
      "_model_name": "LayoutModel",
      "_view_count": null,
      "_view_module": "@jupyter-widgets/base",
      "_view_module_version": "1.2.0",
      "_view_name": "LayoutView",
      "align_content": null,
      "align_items": null,
      "align_self": null,
      "border": null,
      "bottom": null,
      "display": null,
      "flex": null,
      "flex_flow": null,
      "grid_area": null,
      "grid_auto_columns": null,
      "grid_auto_flow": null,
      "grid_auto_rows": null,
      "grid_column": null,
      "grid_gap": null,
      "grid_row": null,
      "grid_template_areas": null,
      "grid_template_columns": null,
      "grid_template_rows": null,
      "height": null,
      "justify_content": null,
      "justify_items": null,
      "left": null,
      "margin": null,
      "max_height": null,
      "max_width": null,
      "min_height": null,
      "min_width": null,
      "object_fit": null,
      "object_position": null,
      "order": null,
      "overflow": null,
      "overflow_x": null,
      "overflow_y": null,
      "padding": null,
      "right": null,
      "top": null,
      "visibility": null,
      "width": null
     }
    },
    "3f9b9f13aff54cd992733efd5cf8ab81": {
     "model_module": "@jupyter-widgets/base",
     "model_name": "LayoutModel",
     "model_module_version": "1.2.0",
     "state": {
      "_model_module": "@jupyter-widgets/base",
      "_model_module_version": "1.2.0",
      "_model_name": "LayoutModel",
      "_view_count": null,
      "_view_module": "@jupyter-widgets/base",
      "_view_module_version": "1.2.0",
      "_view_name": "LayoutView",
      "align_content": null,
      "align_items": null,
      "align_self": null,
      "border": null,
      "bottom": null,
      "display": null,
      "flex": null,
      "flex_flow": null,
      "grid_area": null,
      "grid_auto_columns": null,
      "grid_auto_flow": null,
      "grid_auto_rows": null,
      "grid_column": null,
      "grid_gap": null,
      "grid_row": null,
      "grid_template_areas": null,
      "grid_template_columns": null,
      "grid_template_rows": null,
      "height": null,
      "justify_content": null,
      "justify_items": null,
      "left": null,
      "margin": null,
      "max_height": null,
      "max_width": null,
      "min_height": null,
      "min_width": null,
      "object_fit": null,
      "object_position": null,
      "order": null,
      "overflow": null,
      "overflow_x": null,
      "overflow_y": null,
      "padding": null,
      "right": null,
      "top": null,
      "visibility": null,
      "width": null
     }
    },
    "5946de619a1841c4b54d6d8622e4069b": {
     "model_module": "@jupyter-widgets/controls",
     "model_name": "DescriptionStyleModel",
     "model_module_version": "1.5.0",
     "state": {
      "_model_module": "@jupyter-widgets/controls",
      "_model_module_version": "1.5.0",
      "_model_name": "DescriptionStyleModel",
      "_view_count": null,
      "_view_module": "@jupyter-widgets/base",
      "_view_module_version": "1.2.0",
      "_view_name": "StyleView",
      "description_width": ""
     }
    },
    "57bbecbdf29a4a39b4d0a20c822a53df": {
     "model_module": "@jupyter-widgets/base",
     "model_name": "LayoutModel",
     "model_module_version": "1.2.0",
     "state": {
      "_model_module": "@jupyter-widgets/base",
      "_model_module_version": "1.2.0",
      "_model_name": "LayoutModel",
      "_view_count": null,
      "_view_module": "@jupyter-widgets/base",
      "_view_module_version": "1.2.0",
      "_view_name": "LayoutView",
      "align_content": null,
      "align_items": null,
      "align_self": null,
      "border": null,
      "bottom": null,
      "display": null,
      "flex": null,
      "flex_flow": null,
      "grid_area": null,
      "grid_auto_columns": null,
      "grid_auto_flow": null,
      "grid_auto_rows": null,
      "grid_column": null,
      "grid_gap": null,
      "grid_row": null,
      "grid_template_areas": null,
      "grid_template_columns": null,
      "grid_template_rows": null,
      "height": null,
      "justify_content": null,
      "justify_items": null,
      "left": null,
      "margin": null,
      "max_height": null,
      "max_width": null,
      "min_height": null,
      "min_width": null,
      "object_fit": null,
      "object_position": null,
      "order": null,
      "overflow": null,
      "overflow_x": null,
      "overflow_y": null,
      "padding": null,
      "right": null,
      "top": null,
      "visibility": null,
      "width": null
     }
    },
    "e0e6aaf93e4d445cb05d2a9d6860ea99": {
     "model_module": "@jupyter-widgets/controls",
     "model_name": "ProgressStyleModel",
     "model_module_version": "1.5.0",
     "state": {
      "_model_module": "@jupyter-widgets/controls",
      "_model_module_version": "1.5.0",
      "_model_name": "ProgressStyleModel",
      "_view_count": null,
      "_view_module": "@jupyter-widgets/base",
      "_view_module_version": "1.2.0",
      "_view_name": "StyleView",
      "bar_color": null,
      "description_width": ""
     }
    },
    "fdfbfd7414694d749c09289432786f87": {
     "model_module": "@jupyter-widgets/base",
     "model_name": "LayoutModel",
     "model_module_version": "1.2.0",
     "state": {
      "_model_module": "@jupyter-widgets/base",
      "_model_module_version": "1.2.0",
      "_model_name": "LayoutModel",
      "_view_count": null,
      "_view_module": "@jupyter-widgets/base",
      "_view_module_version": "1.2.0",
      "_view_name": "LayoutView",
      "align_content": null,
      "align_items": null,
      "align_self": null,
      "border": null,
      "bottom": null,
      "display": null,
      "flex": null,
      "flex_flow": null,
      "grid_area": null,
      "grid_auto_columns": null,
      "grid_auto_flow": null,
      "grid_auto_rows": null,
      "grid_column": null,
      "grid_gap": null,
      "grid_row": null,
      "grid_template_areas": null,
      "grid_template_columns": null,
      "grid_template_rows": null,
      "height": null,
      "justify_content": null,
      "justify_items": null,
      "left": null,
      "margin": null,
      "max_height": null,
      "max_width": null,
      "min_height": null,
      "min_width": null,
      "object_fit": null,
      "object_position": null,
      "order": null,
      "overflow": null,
      "overflow_x": null,
      "overflow_y": null,
      "padding": null,
      "right": null,
      "top": null,
      "visibility": null,
      "width": null
     }
    },
    "b62f5c39d877440cbae6315b5ee7a4d0": {
     "model_module": "@jupyter-widgets/controls",
     "model_name": "DescriptionStyleModel",
     "model_module_version": "1.5.0",
     "state": {
      "_model_module": "@jupyter-widgets/controls",
      "_model_module_version": "1.5.0",
      "_model_name": "DescriptionStyleModel",
      "_view_count": null,
      "_view_module": "@jupyter-widgets/base",
      "_view_module_version": "1.2.0",
      "_view_name": "StyleView",
      "description_width": ""
     }
    },
    "5e737a1e0c4d4de4bbe0371fe48b26e2": {
     "model_module": "@jupyter-widgets/controls",
     "model_name": "HBoxModel",
     "model_module_version": "1.5.0",
     "state": {
      "_dom_classes": [],
      "_model_module": "@jupyter-widgets/controls",
      "_model_module_version": "1.5.0",
      "_model_name": "HBoxModel",
      "_view_count": null,
      "_view_module": "@jupyter-widgets/controls",
      "_view_module_version": "1.5.0",
      "_view_name": "HBoxView",
      "box_style": "",
      "children": [
       "IPY_MODEL_18c348e8170f44bea05f5379f5e5d6d0",
       "IPY_MODEL_96bce75a8e1f4fb2ad8991a99758f9cd",
       "IPY_MODEL_e18b3832d4c141c993dc27a768a5dbd1"
      ],
      "layout": "IPY_MODEL_f0325a4d43354b1fa2c25893092f273f"
     }
    },
    "18c348e8170f44bea05f5379f5e5d6d0": {
     "model_module": "@jupyter-widgets/controls",
     "model_name": "HTMLModel",
     "model_module_version": "1.5.0",
     "state": {
      "_dom_classes": [],
      "_model_module": "@jupyter-widgets/controls",
      "_model_module_version": "1.5.0",
      "_model_name": "HTMLModel",
      "_view_count": null,
      "_view_module": "@jupyter-widgets/controls",
      "_view_module_version": "1.5.0",
      "_view_name": "HTMLView",
      "description": "",
      "description_tooltip": null,
      "layout": "IPY_MODEL_f6cc9660d69847a98060c283ef7526df",
      "placeholder": "​",
      "style": "IPY_MODEL_7eed3b5694e843a8aeafa8f4b39bbdde",
      "value": "model.safetensors: 100%"
     }
    },
    "96bce75a8e1f4fb2ad8991a99758f9cd": {
     "model_module": "@jupyter-widgets/controls",
     "model_name": "FloatProgressModel",
     "model_module_version": "1.5.0",
     "state": {
      "_dom_classes": [],
      "_model_module": "@jupyter-widgets/controls",
      "_model_module_version": "1.5.0",
      "_model_name": "FloatProgressModel",
      "_view_count": null,
      "_view_module": "@jupyter-widgets/controls",
      "_view_module_version": "1.5.0",
      "_view_name": "ProgressView",
      "bar_style": "success",
      "description": "",
      "description_tooltip": null,
      "layout": "IPY_MODEL_7b172a7c98b549c3834489d3176229fc",
      "max": 267954768,
      "min": 0,
      "orientation": "horizontal",
      "style": "IPY_MODEL_32558ef41a0147dd808b9ca5130fd96e",
      "value": 267954768
     }
    },
    "e18b3832d4c141c993dc27a768a5dbd1": {
     "model_module": "@jupyter-widgets/controls",
     "model_name": "HTMLModel",
     "model_module_version": "1.5.0",
     "state": {
      "_dom_classes": [],
      "_model_module": "@jupyter-widgets/controls",
      "_model_module_version": "1.5.0",
      "_model_name": "HTMLModel",
      "_view_count": null,
      "_view_module": "@jupyter-widgets/controls",
      "_view_module_version": "1.5.0",
      "_view_name": "HTMLView",
      "description": "",
      "description_tooltip": null,
      "layout": "IPY_MODEL_a3b91af237af418dba0b037cf086977f",
      "placeholder": "​",
      "style": "IPY_MODEL_22d98a50fb6740399c67aa138a2a4f21",
      "value": " 268M/268M [00:01&lt;00:00, 217MB/s]"
     }
    },
    "f0325a4d43354b1fa2c25893092f273f": {
     "model_module": "@jupyter-widgets/base",
     "model_name": "LayoutModel",
     "model_module_version": "1.2.0",
     "state": {
      "_model_module": "@jupyter-widgets/base",
      "_model_module_version": "1.2.0",
      "_model_name": "LayoutModel",
      "_view_count": null,
      "_view_module": "@jupyter-widgets/base",
      "_view_module_version": "1.2.0",
      "_view_name": "LayoutView",
      "align_content": null,
      "align_items": null,
      "align_self": null,
      "border": null,
      "bottom": null,
      "display": null,
      "flex": null,
      "flex_flow": null,
      "grid_area": null,
      "grid_auto_columns": null,
      "grid_auto_flow": null,
      "grid_auto_rows": null,
      "grid_column": null,
      "grid_gap": null,
      "grid_row": null,
      "grid_template_areas": null,
      "grid_template_columns": null,
      "grid_template_rows": null,
      "height": null,
      "justify_content": null,
      "justify_items": null,
      "left": null,
      "margin": null,
      "max_height": null,
      "max_width": null,
      "min_height": null,
      "min_width": null,
      "object_fit": null,
      "object_position": null,
      "order": null,
      "overflow": null,
      "overflow_x": null,
      "overflow_y": null,
      "padding": null,
      "right": null,
      "top": null,
      "visibility": null,
      "width": null
     }
    },
    "f6cc9660d69847a98060c283ef7526df": {
     "model_module": "@jupyter-widgets/base",
     "model_name": "LayoutModel",
     "model_module_version": "1.2.0",
     "state": {
      "_model_module": "@jupyter-widgets/base",
      "_model_module_version": "1.2.0",
      "_model_name": "LayoutModel",
      "_view_count": null,
      "_view_module": "@jupyter-widgets/base",
      "_view_module_version": "1.2.0",
      "_view_name": "LayoutView",
      "align_content": null,
      "align_items": null,
      "align_self": null,
      "border": null,
      "bottom": null,
      "display": null,
      "flex": null,
      "flex_flow": null,
      "grid_area": null,
      "grid_auto_columns": null,
      "grid_auto_flow": null,
      "grid_auto_rows": null,
      "grid_column": null,
      "grid_gap": null,
      "grid_row": null,
      "grid_template_areas": null,
      "grid_template_columns": null,
      "grid_template_rows": null,
      "height": null,
      "justify_content": null,
      "justify_items": null,
      "left": null,
      "margin": null,
      "max_height": null,
      "max_width": null,
      "min_height": null,
      "min_width": null,
      "object_fit": null,
      "object_position": null,
      "order": null,
      "overflow": null,
      "overflow_x": null,
      "overflow_y": null,
      "padding": null,
      "right": null,
      "top": null,
      "visibility": null,
      "width": null
     }
    },
    "7eed3b5694e843a8aeafa8f4b39bbdde": {
     "model_module": "@jupyter-widgets/controls",
     "model_name": "DescriptionStyleModel",
     "model_module_version": "1.5.0",
     "state": {
      "_model_module": "@jupyter-widgets/controls",
      "_model_module_version": "1.5.0",
      "_model_name": "DescriptionStyleModel",
      "_view_count": null,
      "_view_module": "@jupyter-widgets/base",
      "_view_module_version": "1.2.0",
      "_view_name": "StyleView",
      "description_width": ""
     }
    },
    "7b172a7c98b549c3834489d3176229fc": {
     "model_module": "@jupyter-widgets/base",
     "model_name": "LayoutModel",
     "model_module_version": "1.2.0",
     "state": {
      "_model_module": "@jupyter-widgets/base",
      "_model_module_version": "1.2.0",
      "_model_name": "LayoutModel",
      "_view_count": null,
      "_view_module": "@jupyter-widgets/base",
      "_view_module_version": "1.2.0",
      "_view_name": "LayoutView",
      "align_content": null,
      "align_items": null,
      "align_self": null,
      "border": null,
      "bottom": null,
      "display": null,
      "flex": null,
      "flex_flow": null,
      "grid_area": null,
      "grid_auto_columns": null,
      "grid_auto_flow": null,
      "grid_auto_rows": null,
      "grid_column": null,
      "grid_gap": null,
      "grid_row": null,
      "grid_template_areas": null,
      "grid_template_columns": null,
      "grid_template_rows": null,
      "height": null,
      "justify_content": null,
      "justify_items": null,
      "left": null,
      "margin": null,
      "max_height": null,
      "max_width": null,
      "min_height": null,
      "min_width": null,
      "object_fit": null,
      "object_position": null,
      "order": null,
      "overflow": null,
      "overflow_x": null,
      "overflow_y": null,
      "padding": null,
      "right": null,
      "top": null,
      "visibility": null,
      "width": null
     }
    },
    "32558ef41a0147dd808b9ca5130fd96e": {
     "model_module": "@jupyter-widgets/controls",
     "model_name": "ProgressStyleModel",
     "model_module_version": "1.5.0",
     "state": {
      "_model_module": "@jupyter-widgets/controls",
      "_model_module_version": "1.5.0",
      "_model_name": "ProgressStyleModel",
      "_view_count": null,
      "_view_module": "@jupyter-widgets/base",
      "_view_module_version": "1.2.0",
      "_view_name": "StyleView",
      "bar_color": null,
      "description_width": ""
     }
    },
    "a3b91af237af418dba0b037cf086977f": {
     "model_module": "@jupyter-widgets/base",
     "model_name": "LayoutModel",
     "model_module_version": "1.2.0",
     "state": {
      "_model_module": "@jupyter-widgets/base",
      "_model_module_version": "1.2.0",
      "_model_name": "LayoutModel",
      "_view_count": null,
      "_view_module": "@jupyter-widgets/base",
      "_view_module_version": "1.2.0",
      "_view_name": "LayoutView",
      "align_content": null,
      "align_items": null,
      "align_self": null,
      "border": null,
      "bottom": null,
      "display": null,
      "flex": null,
      "flex_flow": null,
      "grid_area": null,
      "grid_auto_columns": null,
      "grid_auto_flow": null,
      "grid_auto_rows": null,
      "grid_column": null,
      "grid_gap": null,
      "grid_row": null,
      "grid_template_areas": null,
      "grid_template_columns": null,
      "grid_template_rows": null,
      "height": null,
      "justify_content": null,
      "justify_items": null,
      "left": null,
      "margin": null,
      "max_height": null,
      "max_width": null,
      "min_height": null,
      "min_width": null,
      "object_fit": null,
      "object_position": null,
      "order": null,
      "overflow": null,
      "overflow_x": null,
      "overflow_y": null,
      "padding": null,
      "right": null,
      "top": null,
      "visibility": null,
      "width": null
     }
    },
    "22d98a50fb6740399c67aa138a2a4f21": {
     "model_module": "@jupyter-widgets/controls",
     "model_name": "DescriptionStyleModel",
     "model_module_version": "1.5.0",
     "state": {
      "_model_module": "@jupyter-widgets/controls",
      "_model_module_version": "1.5.0",
      "_model_name": "DescriptionStyleModel",
      "_view_count": null,
      "_view_module": "@jupyter-widgets/base",
      "_view_module_version": "1.2.0",
      "_view_name": "StyleView",
      "description_width": ""
     }
    },
    "dfd4c9dde08840028aa1be1e694069a1": {
     "model_module": "@jupyter-widgets/controls",
     "model_name": "VBoxModel",
     "model_module_version": "1.5.0",
     "state": {
      "_dom_classes": [],
      "_model_module": "@jupyter-widgets/controls",
      "_model_module_version": "1.5.0",
      "_model_name": "VBoxModel",
      "_view_count": null,
      "_view_module": "@jupyter-widgets/controls",
      "_view_module_version": "1.5.0",
      "_view_name": "VBoxView",
      "box_style": "",
      "children": [
       "IPY_MODEL_2fae04e093a54880935f6c164a12fbe1",
       "IPY_MODEL_24555e2bb4cc4a68a752edd9e5214459"
      ],
      "layout": "IPY_MODEL_246c88f138a6429c8007688fa88f945d"
     }
    },
    "2fae04e093a54880935f6c164a12fbe1": {
     "model_module": "@jupyter-widgets/controls",
     "model_name": "LabelModel",
     "model_module_version": "1.5.0",
     "state": {
      "_dom_classes": [],
      "_model_module": "@jupyter-widgets/controls",
      "_model_module_version": "1.5.0",
      "_model_name": "LabelModel",
      "_view_count": null,
      "_view_module": "@jupyter-widgets/controls",
      "_view_module_version": "1.5.0",
      "_view_name": "LabelView",
      "description": "",
      "description_tooltip": null,
      "layout": "IPY_MODEL_0de743f6092f4d9ba4e780ea7654236d",
      "placeholder": "​",
      "style": "IPY_MODEL_d637c1aa6d99486996a12a33f7ec077e",
      "value": "Waiting for wandb.init()...\r"
     }
    },
    "24555e2bb4cc4a68a752edd9e5214459": {
     "model_module": "@jupyter-widgets/controls",
     "model_name": "FloatProgressModel",
     "model_module_version": "1.5.0",
     "state": {
      "_dom_classes": [],
      "_model_module": "@jupyter-widgets/controls",
      "_model_module_version": "1.5.0",
      "_model_name": "FloatProgressModel",
      "_view_count": null,
      "_view_module": "@jupyter-widgets/controls",
      "_view_module_version": "1.5.0",
      "_view_name": "ProgressView",
      "bar_style": "",
      "description": "",
      "description_tooltip": null,
      "layout": "IPY_MODEL_20c297d7702a44f6b85a19cda550dde5",
      "max": 1,
      "min": 0,
      "orientation": "horizontal",
      "style": "IPY_MODEL_8010584ac6f74ec0b9a04b8637e8c1e0",
      "value": 1
     }
    },
    "246c88f138a6429c8007688fa88f945d": {
     "model_module": "@jupyter-widgets/base",
     "model_name": "LayoutModel",
     "model_module_version": "1.2.0",
     "state": {
      "_model_module": "@jupyter-widgets/base",
      "_model_module_version": "1.2.0",
      "_model_name": "LayoutModel",
      "_view_count": null,
      "_view_module": "@jupyter-widgets/base",
      "_view_module_version": "1.2.0",
      "_view_name": "LayoutView",
      "align_content": null,
      "align_items": null,
      "align_self": null,
      "border": null,
      "bottom": null,
      "display": null,
      "flex": null,
      "flex_flow": null,
      "grid_area": null,
      "grid_auto_columns": null,
      "grid_auto_flow": null,
      "grid_auto_rows": null,
      "grid_column": null,
      "grid_gap": null,
      "grid_row": null,
      "grid_template_areas": null,
      "grid_template_columns": null,
      "grid_template_rows": null,
      "height": null,
      "justify_content": null,
      "justify_items": null,
      "left": null,
      "margin": null,
      "max_height": null,
      "max_width": null,
      "min_height": null,
      "min_width": null,
      "object_fit": null,
      "object_position": null,
      "order": null,
      "overflow": null,
      "overflow_x": null,
      "overflow_y": null,
      "padding": null,
      "right": null,
      "top": null,
      "visibility": null,
      "width": null
     }
    },
    "0de743f6092f4d9ba4e780ea7654236d": {
     "model_module": "@jupyter-widgets/base",
     "model_name": "LayoutModel",
     "model_module_version": "1.2.0",
     "state": {
      "_model_module": "@jupyter-widgets/base",
      "_model_module_version": "1.2.0",
      "_model_name": "LayoutModel",
      "_view_count": null,
      "_view_module": "@jupyter-widgets/base",
      "_view_module_version": "1.2.0",
      "_view_name": "LayoutView",
      "align_content": null,
      "align_items": null,
      "align_self": null,
      "border": null,
      "bottom": null,
      "display": null,
      "flex": null,
      "flex_flow": null,
      "grid_area": null,
      "grid_auto_columns": null,
      "grid_auto_flow": null,
      "grid_auto_rows": null,
      "grid_column": null,
      "grid_gap": null,
      "grid_row": null,
      "grid_template_areas": null,
      "grid_template_columns": null,
      "grid_template_rows": null,
      "height": null,
      "justify_content": null,
      "justify_items": null,
      "left": null,
      "margin": null,
      "max_height": null,
      "max_width": null,
      "min_height": null,
      "min_width": null,
      "object_fit": null,
      "object_position": null,
      "order": null,
      "overflow": null,
      "overflow_x": null,
      "overflow_y": null,
      "padding": null,
      "right": null,
      "top": null,
      "visibility": null,
      "width": null
     }
    },
    "d637c1aa6d99486996a12a33f7ec077e": {
     "model_module": "@jupyter-widgets/controls",
     "model_name": "DescriptionStyleModel",
     "model_module_version": "1.5.0",
     "state": {
      "_model_module": "@jupyter-widgets/controls",
      "_model_module_version": "1.5.0",
      "_model_name": "DescriptionStyleModel",
      "_view_count": null,
      "_view_module": "@jupyter-widgets/base",
      "_view_module_version": "1.2.0",
      "_view_name": "StyleView",
      "description_width": ""
     }
    },
    "20c297d7702a44f6b85a19cda550dde5": {
     "model_module": "@jupyter-widgets/base",
     "model_name": "LayoutModel",
     "model_module_version": "1.2.0",
     "state": {
      "_model_module": "@jupyter-widgets/base",
      "_model_module_version": "1.2.0",
      "_model_name": "LayoutModel",
      "_view_count": null,
      "_view_module": "@jupyter-widgets/base",
      "_view_module_version": "1.2.0",
      "_view_name": "LayoutView",
      "align_content": null,
      "align_items": null,
      "align_self": null,
      "border": null,
      "bottom": null,
      "display": null,
      "flex": null,
      "flex_flow": null,
      "grid_area": null,
      "grid_auto_columns": null,
      "grid_auto_flow": null,
      "grid_auto_rows": null,
      "grid_column": null,
      "grid_gap": null,
      "grid_row": null,
      "grid_template_areas": null,
      "grid_template_columns": null,
      "grid_template_rows": null,
      "height": null,
      "justify_content": null,
      "justify_items": null,
      "left": null,
      "margin": null,
      "max_height": null,
      "max_width": null,
      "min_height": null,
      "min_width": null,
      "object_fit": null,
      "object_position": null,
      "order": null,
      "overflow": null,
      "overflow_x": null,
      "overflow_y": null,
      "padding": null,
      "right": null,
      "top": null,
      "visibility": null,
      "width": null
     }
    },
    "8010584ac6f74ec0b9a04b8637e8c1e0": {
     "model_module": "@jupyter-widgets/controls",
     "model_name": "ProgressStyleModel",
     "model_module_version": "1.5.0",
     "state": {
      "_model_module": "@jupyter-widgets/controls",
      "_model_module_version": "1.5.0",
      "_model_name": "ProgressStyleModel",
      "_view_count": null,
      "_view_module": "@jupyter-widgets/base",
      "_view_module_version": "1.2.0",
      "_view_name": "StyleView",
      "bar_color": null,
      "description_width": ""
     }
    }
   }
  }
 },
 "nbformat": 4,
 "nbformat_minor": 5
}
