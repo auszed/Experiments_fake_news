{
 "cells": [
  {
   "cell_type": "markdown",
   "id": "c52669539e283167",
   "metadata": {
    "id": "c52669539e283167"
   },
   "source": [
    "# Roberta  \n",
    "In this experiment, we will train the model using the entire training dataset, ensuring there is enough data for the model to learn from. After training, we will review the results, and we expect to see some improvement in the performance."
   ]
  },
  {
   "cell_type": "code",
   "execution_count": null,
   "id": "evpgMd9r17SF",
   "metadata": {
    "id": "evpgMd9r17SF"
   },
   "outputs": [],
   "source": [
    "%%capture\n",
    "!pip install mlflow dagshub wandb"
   ]
  },
  {
   "cell_type": "code",
   "execution_count": null,
   "id": "initial_id",
   "metadata": {
    "colab": {
     "base_uri": "https://localhost:8080/",
     "height": 255
    },
    "collapsed": true,
    "id": "initial_id",
    "outputId": "e69e32b7-a4c8-4e1e-ca18-e3cf89ca26be"
   },
   "outputs": [
    {
     "output_type": "stream",
     "name": "stdout",
     "text": [
      "Drive already mounted at /content/drive; to attempt to forcibly remount, call drive.mount(\"/content/drive\", force_remount=True).\n",
      "Number of available CPU cores: 12\n",
      "Setting num_workers to: 11\n"
     ]
    },
    {
     "output_type": "display_data",
     "data": {
      "text/plain": [
       "Initialized MLflow to track repo \u001B[32m\"auszed/Experiments_fake_news\"\u001B[0m\n"
      ],
      "text/html": [
       "<pre style=\"white-space:pre;overflow-x:auto;line-height:normal;font-family:Menlo,'DejaVu Sans Mono',consolas,'Courier New',monospace\">Initialized MLflow to track repo <span style=\"color: #008000; text-decoration-color: #008000\">\"auszed/Experiments_fake_news\"</span>\n",
       "</pre>\n"
      ]
     },
     "metadata": {}
    },
    {
     "output_type": "display_data",
     "data": {
      "text/plain": [
       "Repository auszed/Experiments_fake_news initialized!\n"
      ],
      "text/html": [
       "<pre style=\"white-space:pre;overflow-x:auto;line-height:normal;font-family:Menlo,'DejaVu Sans Mono',consolas,'Courier New',monospace\">Repository auszed/Experiments_fake_news initialized!\n",
       "</pre>\n"
      ]
     },
     "metadata": {}
    },
    {
     "output_type": "stream",
     "name": "stderr",
     "text": [
      "[nltk_data] Downloading package stopwords to /root/nltk_data...\n",
      "[nltk_data]   Package stopwords is already up-to-date!\n"
     ]
    },
    {
     "output_type": "stream",
     "name": "stdout",
     "text": [
      "(26759, 1) (26759, 1)\n",
      "(5734, 1) (5734, 1)\n",
      "(5735, 1) (5735, 1)\n"
     ]
    },
    {
     "output_type": "execute_result",
     "data": {
      "text/plain": [
       "[(0.21176470588235294, 0.807843137254902, 0.5411764705882353),\n",
       " (0.4549019607843137, 0.21176470588235294, 0.9607843137254902),\n",
       " (0.21568627450980393, 0.21176470588235294, 0.9568627450980393),\n",
       " (0.21176470588235294, 0.6823529411764706, 0.9607843137254902),\n",
       " (0.7019607843137254, 0.21176470588235294, 0.9607843137254902),\n",
       " (0.9725490196078431, 0.08627450980392157, 0.3686274509803922),\n",
       " (0.21176470588235294, 0.4392156862745098, 0.6039215686274509),\n",
       " (0.21176470588235294, 0.4470588235294118, 0.9607843137254902),\n",
       " (0.47843137254901963, 0.807843137254902, 0.36470588235294116)]"
      ],
      "text/html": [
       "<svg  width=\"495\" height=\"55\"><rect x=\"0\" y=\"0\" width=\"55\" height=\"55\" style=\"fill:#36ce8a;stroke-width:2;stroke:rgb(255,255,255)\"/><rect x=\"55\" y=\"0\" width=\"55\" height=\"55\" style=\"fill:#7436f5;stroke-width:2;stroke:rgb(255,255,255)\"/><rect x=\"110\" y=\"0\" width=\"55\" height=\"55\" style=\"fill:#3736f4;stroke-width:2;stroke:rgb(255,255,255)\"/><rect x=\"165\" y=\"0\" width=\"55\" height=\"55\" style=\"fill:#36aef5;stroke-width:2;stroke:rgb(255,255,255)\"/><rect x=\"220\" y=\"0\" width=\"55\" height=\"55\" style=\"fill:#b336f5;stroke-width:2;stroke:rgb(255,255,255)\"/><rect x=\"275\" y=\"0\" width=\"55\" height=\"55\" style=\"fill:#f8165e;stroke-width:2;stroke:rgb(255,255,255)\"/><rect x=\"330\" y=\"0\" width=\"55\" height=\"55\" style=\"fill:#36709a;stroke-width:2;stroke:rgb(255,255,255)\"/><rect x=\"385\" y=\"0\" width=\"55\" height=\"55\" style=\"fill:#3672f5;stroke-width:2;stroke:rgb(255,255,255)\"/><rect x=\"440\" y=\"0\" width=\"55\" height=\"55\" style=\"fill:#7ace5d;stroke-width:2;stroke:rgb(255,255,255)\"/></svg>"
      ]
     },
     "metadata": {},
     "execution_count": 20
    }
   ],
   "source": [
    "# Standard Library Imports\n",
    "import math\n",
    "import os\n",
    "from typing import Dict, List\n",
    "\n",
    "# Third-party Libraries\n",
    "import mlflow\n",
    "import mlflow.pytorch\n",
    "import nltk\n",
    "import numpy as np\n",
    "import pandas as pd\n",
    "import seaborn as sns\n",
    "import torch\n",
    "import wandb\n",
    "from matplotlib.colors import LinearSegmentedColormap\n",
    "import matplotlib.pyplot as plt\n",
    "from sklearn.metrics import accuracy_score, confusion_matrix, f1_score, recall_score\n",
    "from torch.optim import AdamW, RMSprop, SGD\n",
    "from torch.utils.data import DataLoader, Dataset\n",
    "from wordcloud import WordCloud\n",
    "\n",
    "# Hugging Face Transformers\n",
    "from transformers import (\n",
    "    AdamW,\n",
    "    AutoModel,\n",
    "    AutoTokenizer,\n",
    "    BertModel,\n",
    "    BertTokenizer,\n",
    "    get_linear_schedule_with_warmup\n",
    ")\n",
    "\n",
    "# PyTorch Libraries\n",
    "import torch.nn as nn\n",
    "import torch.nn.functional as F\n",
    "\n",
    "\n",
    "# import google drive\n",
    "from google.colab import drive, files\n",
    "drive.mount('/content/drive')\n",
    "device = torch.device('cuda' if torch.cuda.is_available() else 'cpu')\n",
    "\n",
    "\"\"\"Import the modules from google colab\"\"\"\n",
    "import sys\n",
    "PATH_helper = \"/content/drive/MyDrive/turing_college_experiments/16/helper\"\n",
    "sys.path.append(PATH_helper)\n",
    "# Custom imports\n",
    "from helper_eda import (proportion_balance_classes, extractions_text_description, histogram_bins,\n",
    "                                plot_distribution_tokens_per_word, dimensionality_reduction_chart_tsne,\n",
    "                               components_pca_3d_chart)\n",
    "from helper_model import (CustomDataset, custom_collate_fn, pytorch_metrics_calculations, train_model, evaluate_model)\n",
    "\n",
    "\"\"\"\n",
    "Verify the cores and gpu in the colab\n",
    "\"\"\"\n",
    "num_cores = os.cpu_count()  # Get the number of CPU cores\n",
    "print(f'Number of available CPU cores: {num_cores}')\n",
    "NUM_WORKERS = num_cores - 1\n",
    "print(f'Setting num_workers to: {NUM_WORKERS}')\n",
    "\n",
    "num_gpus_colab = torch.cuda.device_count()\n",
    "GPU_LIST = [torch.cuda.get_device_name(i) for i in range(num_gpus_colab)]\n",
    "NUM_WORKERS, GPU_LIST\n",
    "\n",
    "enable_code_paths = True\n",
    "enable_block = False\n",
    "\n",
    "# weight and biases\n",
    "wandb.login()\n",
    "\n",
    "# ml versioning control\n",
    "import dagshub\n",
    "import mlflow\n",
    "import mlflow.sklearn\n",
    "dagshub.init(repo_owner='auszed', repo_name='Experiments_fake_news', mlflow=True)\n",
    "\n",
    "# tracking experiments\n",
    "os.environ['MLFLOW_TRACKING_USERNAME'] = 'auszed'\n",
    "os.environ['MLFLOW_TRACKING_PASSWORD'] = '4390ce1796189f46f62a5e643463dcaffede3ebf'\n",
    "os.environ['MLFLOW_TRACKING_URI'] = 'https://dagshub.com/auszed/Experiments_fake_news.mlflow'\n",
    "\n",
    "\n",
    "# Download the stopwords if you haven't already\n",
    "nltk.download('stopwords')\n",
    "\n",
    "# Inline plotting for Jupyter Notebooks\n",
    "%matplotlib inline\n",
    "custom_colors = ['#36CE8A', \"#7436F5\",\"#3736F4\",   \"#36AEF5\", \"#B336F5\", \"#f8165e\", \"#36709A\",  \"#3672F5\", \"#7ACE5D\"]\n",
    "gradient_colors = [ \"#36CE8A\", '#7436F5']\n",
    "color_palette_custom  = sns.set_palette(custom_colors)\n",
    "theme_color = sns.color_palette(color_palette_custom, 9)\n",
    "cmap_theme = LinearSegmentedColormap.from_list('custom_colormap', gradient_colors)\n",
    "\n",
    "# File paths\n",
    "X_train = pd.read_csv(\"/content/drive/MyDrive/turing_college_experiments/16/dataset/X_train_cleaned_2.csv\")\n",
    "y_train = pd.read_csv(\"/content/drive/MyDrive/turing_college_experiments/16/dataset/y_train.csv\")\n",
    "X_val = pd.read_csv(\"/content/drive/MyDrive/turing_college_experiments/16/dataset/X_val_cleaned_2.csv\")\n",
    "y_val = pd.read_csv(\"/content/drive/MyDrive/turing_college_experiments/16/dataset/y_val.csv\")\n",
    "X_test = pd.read_csv(\"/content/drive/MyDrive/turing_college_experiments/16/dataset/X_test_cleaned_2.csv\")\n",
    "y_test = pd.read_csv(\"/content/drive/MyDrive/turing_college_experiments/16/dataset/y_test.csv\")\n",
    "\n",
    "X_train = X_train[[\"title_text_join\"]]\n",
    "X_val = X_val[[\"title_text_join\"]]\n",
    "X_test = X_test[[\"title_text_join\"]]\n",
    "\n",
    "print(X_train.shape,y_train.shape )\n",
    "print(X_val.shape,y_val.shape )\n",
    "print(X_test.shape,y_test.shape )\n",
    "theme_color"
   ]
  },
  {
   "cell_type": "code",
   "execution_count": null,
   "id": "6dcbd7a0cc15f927",
   "metadata": {
    "colab": {
     "base_uri": "https://localhost:8080/",
     "height": 316
    },
    "id": "6dcbd7a0cc15f927",
    "outputId": "4fbbc03b-1a2a-4f74-e27c-c638e2dba0f0"
   },
   "outputs": [
    {
     "output_type": "stream",
     "name": "stdout",
     "text": [
      "TRAIN Dataset: (26759, 1)\n",
      "VALIDATION Dataset: (5734, 1)\n",
      "TEST Dataset: (5735, 1)\n",
      "TRAIN Dataset y: (26759, 1)\n",
      "VALIDATION Dataset y: (5734, 1)\n",
      "TEST Dataset y: (5735, 1)\n"
     ]
    },
    {
     "output_type": "execute_result",
     "data": {
      "text/plain": [
       "                                         title_text_join\n",
       "2166   fox news ’ james rosen : “ sheer scale ” spyin...\n",
       "16203  taiwan allow visa free entry visitors philippi...\n",
       "23080  fbi found related emails devices belonging aid...\n",
       "2848   iraq declare final victory islamic state deser...\n",
       "18351  london life laid bare rubbish along thameslond..."
      ],
      "text/html": [
       "\n",
       "  <div id=\"df-9fb81671-ae3d-44c5-97c4-4415fea71b90\" class=\"colab-df-container\">\n",
       "    <div>\n",
       "<style scoped>\n",
       "    .dataframe tbody tr th:only-of-type {\n",
       "        vertical-align: middle;\n",
       "    }\n",
       "\n",
       "    .dataframe tbody tr th {\n",
       "        vertical-align: top;\n",
       "    }\n",
       "\n",
       "    .dataframe thead th {\n",
       "        text-align: right;\n",
       "    }\n",
       "</style>\n",
       "<table border=\"1\" class=\"dataframe\">\n",
       "  <thead>\n",
       "    <tr style=\"text-align: right;\">\n",
       "      <th></th>\n",
       "      <th>title_text_join</th>\n",
       "    </tr>\n",
       "  </thead>\n",
       "  <tbody>\n",
       "    <tr>\n",
       "      <th>2166</th>\n",
       "      <td>fox news ’ james rosen : “ sheer scale ” spyin...</td>\n",
       "    </tr>\n",
       "    <tr>\n",
       "      <th>16203</th>\n",
       "      <td>taiwan allow visa free entry visitors philippi...</td>\n",
       "    </tr>\n",
       "    <tr>\n",
       "      <th>23080</th>\n",
       "      <td>fbi found related emails devices belonging aid...</td>\n",
       "    </tr>\n",
       "    <tr>\n",
       "      <th>2848</th>\n",
       "      <td>iraq declare final victory islamic state deser...</td>\n",
       "    </tr>\n",
       "    <tr>\n",
       "      <th>18351</th>\n",
       "      <td>london life laid bare rubbish along thameslond...</td>\n",
       "    </tr>\n",
       "  </tbody>\n",
       "</table>\n",
       "</div>\n",
       "    <div class=\"colab-df-buttons\">\n",
       "\n",
       "  <div class=\"colab-df-container\">\n",
       "    <button class=\"colab-df-convert\" onclick=\"convertToInteractive('df-9fb81671-ae3d-44c5-97c4-4415fea71b90')\"\n",
       "            title=\"Convert this dataframe to an interactive table.\"\n",
       "            style=\"display:none;\">\n",
       "\n",
       "  <svg xmlns=\"http://www.w3.org/2000/svg\" height=\"24px\" viewBox=\"0 -960 960 960\">\n",
       "    <path d=\"M120-120v-720h720v720H120Zm60-500h600v-160H180v160Zm220 220h160v-160H400v160Zm0 220h160v-160H400v160ZM180-400h160v-160H180v160Zm440 0h160v-160H620v160ZM180-180h160v-160H180v160Zm440 0h160v-160H620v160Z\"/>\n",
       "  </svg>\n",
       "    </button>\n",
       "\n",
       "  <style>\n",
       "    .colab-df-container {\n",
       "      display:flex;\n",
       "      gap: 12px;\n",
       "    }\n",
       "\n",
       "    .colab-df-convert {\n",
       "      background-color: #E8F0FE;\n",
       "      border: none;\n",
       "      border-radius: 50%;\n",
       "      cursor: pointer;\n",
       "      display: none;\n",
       "      fill: #1967D2;\n",
       "      height: 32px;\n",
       "      padding: 0 0 0 0;\n",
       "      width: 32px;\n",
       "    }\n",
       "\n",
       "    .colab-df-convert:hover {\n",
       "      background-color: #E2EBFA;\n",
       "      box-shadow: 0px 1px 2px rgba(60, 64, 67, 0.3), 0px 1px 3px 1px rgba(60, 64, 67, 0.15);\n",
       "      fill: #174EA6;\n",
       "    }\n",
       "\n",
       "    .colab-df-buttons div {\n",
       "      margin-bottom: 4px;\n",
       "    }\n",
       "\n",
       "    [theme=dark] .colab-df-convert {\n",
       "      background-color: #3B4455;\n",
       "      fill: #D2E3FC;\n",
       "    }\n",
       "\n",
       "    [theme=dark] .colab-df-convert:hover {\n",
       "      background-color: #434B5C;\n",
       "      box-shadow: 0px 1px 3px 1px rgba(0, 0, 0, 0.15);\n",
       "      filter: drop-shadow(0px 1px 2px rgba(0, 0, 0, 0.3));\n",
       "      fill: #FFFFFF;\n",
       "    }\n",
       "  </style>\n",
       "\n",
       "    <script>\n",
       "      const buttonEl =\n",
       "        document.querySelector('#df-9fb81671-ae3d-44c5-97c4-4415fea71b90 button.colab-df-convert');\n",
       "      buttonEl.style.display =\n",
       "        google.colab.kernel.accessAllowed ? 'block' : 'none';\n",
       "\n",
       "      async function convertToInteractive(key) {\n",
       "        const element = document.querySelector('#df-9fb81671-ae3d-44c5-97c4-4415fea71b90');\n",
       "        const dataTable =\n",
       "          await google.colab.kernel.invokeFunction('convertToInteractive',\n",
       "                                                    [key], {});\n",
       "        if (!dataTable) return;\n",
       "\n",
       "        const docLinkHtml = 'Like what you see? Visit the ' +\n",
       "          '<a target=\"_blank\" href=https://colab.research.google.com/notebooks/data_table.ipynb>data table notebook</a>'\n",
       "          + ' to learn more about interactive tables.';\n",
       "        element.innerHTML = '';\n",
       "        dataTable['output_type'] = 'display_data';\n",
       "        await google.colab.output.renderOutput(dataTable, element);\n",
       "        const docLink = document.createElement('div');\n",
       "        docLink.innerHTML = docLinkHtml;\n",
       "        element.appendChild(docLink);\n",
       "      }\n",
       "    </script>\n",
       "  </div>\n",
       "\n",
       "\n",
       "<div id=\"df-93003f2e-3c94-466a-a266-f51c9853b2f8\">\n",
       "  <button class=\"colab-df-quickchart\" onclick=\"quickchart('df-93003f2e-3c94-466a-a266-f51c9853b2f8')\"\n",
       "            title=\"Suggest charts\"\n",
       "            style=\"display:none;\">\n",
       "\n",
       "<svg xmlns=\"http://www.w3.org/2000/svg\" height=\"24px\"viewBox=\"0 0 24 24\"\n",
       "     width=\"24px\">\n",
       "    <g>\n",
       "        <path d=\"M19 3H5c-1.1 0-2 .9-2 2v14c0 1.1.9 2 2 2h14c1.1 0 2-.9 2-2V5c0-1.1-.9-2-2-2zM9 17H7v-7h2v7zm4 0h-2V7h2v10zm4 0h-2v-4h2v4z\"/>\n",
       "    </g>\n",
       "</svg>\n",
       "  </button>\n",
       "\n",
       "<style>\n",
       "  .colab-df-quickchart {\n",
       "      --bg-color: #E8F0FE;\n",
       "      --fill-color: #1967D2;\n",
       "      --hover-bg-color: #E2EBFA;\n",
       "      --hover-fill-color: #174EA6;\n",
       "      --disabled-fill-color: #AAA;\n",
       "      --disabled-bg-color: #DDD;\n",
       "  }\n",
       "\n",
       "  [theme=dark] .colab-df-quickchart {\n",
       "      --bg-color: #3B4455;\n",
       "      --fill-color: #D2E3FC;\n",
       "      --hover-bg-color: #434B5C;\n",
       "      --hover-fill-color: #FFFFFF;\n",
       "      --disabled-bg-color: #3B4455;\n",
       "      --disabled-fill-color: #666;\n",
       "  }\n",
       "\n",
       "  .colab-df-quickchart {\n",
       "    background-color: var(--bg-color);\n",
       "    border: none;\n",
       "    border-radius: 50%;\n",
       "    cursor: pointer;\n",
       "    display: none;\n",
       "    fill: var(--fill-color);\n",
       "    height: 32px;\n",
       "    padding: 0;\n",
       "    width: 32px;\n",
       "  }\n",
       "\n",
       "  .colab-df-quickchart:hover {\n",
       "    background-color: var(--hover-bg-color);\n",
       "    box-shadow: 0 1px 2px rgba(60, 64, 67, 0.3), 0 1px 3px 1px rgba(60, 64, 67, 0.15);\n",
       "    fill: var(--button-hover-fill-color);\n",
       "  }\n",
       "\n",
       "  .colab-df-quickchart-complete:disabled,\n",
       "  .colab-df-quickchart-complete:disabled:hover {\n",
       "    background-color: var(--disabled-bg-color);\n",
       "    fill: var(--disabled-fill-color);\n",
       "    box-shadow: none;\n",
       "  }\n",
       "\n",
       "  .colab-df-spinner {\n",
       "    border: 2px solid var(--fill-color);\n",
       "    border-color: transparent;\n",
       "    border-bottom-color: var(--fill-color);\n",
       "    animation:\n",
       "      spin 1s steps(1) infinite;\n",
       "  }\n",
       "\n",
       "  @keyframes spin {\n",
       "    0% {\n",
       "      border-color: transparent;\n",
       "      border-bottom-color: var(--fill-color);\n",
       "      border-left-color: var(--fill-color);\n",
       "    }\n",
       "    20% {\n",
       "      border-color: transparent;\n",
       "      border-left-color: var(--fill-color);\n",
       "      border-top-color: var(--fill-color);\n",
       "    }\n",
       "    30% {\n",
       "      border-color: transparent;\n",
       "      border-left-color: var(--fill-color);\n",
       "      border-top-color: var(--fill-color);\n",
       "      border-right-color: var(--fill-color);\n",
       "    }\n",
       "    40% {\n",
       "      border-color: transparent;\n",
       "      border-right-color: var(--fill-color);\n",
       "      border-top-color: var(--fill-color);\n",
       "    }\n",
       "    60% {\n",
       "      border-color: transparent;\n",
       "      border-right-color: var(--fill-color);\n",
       "    }\n",
       "    80% {\n",
       "      border-color: transparent;\n",
       "      border-right-color: var(--fill-color);\n",
       "      border-bottom-color: var(--fill-color);\n",
       "    }\n",
       "    90% {\n",
       "      border-color: transparent;\n",
       "      border-bottom-color: var(--fill-color);\n",
       "    }\n",
       "  }\n",
       "</style>\n",
       "\n",
       "  <script>\n",
       "    async function quickchart(key) {\n",
       "      const quickchartButtonEl =\n",
       "        document.querySelector('#' + key + ' button');\n",
       "      quickchartButtonEl.disabled = true;  // To prevent multiple clicks.\n",
       "      quickchartButtonEl.classList.add('colab-df-spinner');\n",
       "      try {\n",
       "        const charts = await google.colab.kernel.invokeFunction(\n",
       "            'suggestCharts', [key], {});\n",
       "      } catch (error) {\n",
       "        console.error('Error during call to suggestCharts:', error);\n",
       "      }\n",
       "      quickchartButtonEl.classList.remove('colab-df-spinner');\n",
       "      quickchartButtonEl.classList.add('colab-df-quickchart-complete');\n",
       "    }\n",
       "    (() => {\n",
       "      let quickchartButtonEl =\n",
       "        document.querySelector('#df-93003f2e-3c94-466a-a266-f51c9853b2f8 button');\n",
       "      quickchartButtonEl.style.display =\n",
       "        google.colab.kernel.accessAllowed ? 'block' : 'none';\n",
       "    })();\n",
       "  </script>\n",
       "</div>\n",
       "\n",
       "    </div>\n",
       "  </div>\n"
      ],
      "application/vnd.google.colaboratory.intrinsic+json": {
       "type": "dataframe",
       "summary": "{\n  \"name\": \"X_train\",\n  \"rows\": 5,\n  \"fields\": [\n    {\n      \"column\": \"title_text_join\",\n      \"properties\": {\n        \"dtype\": \"string\",\n        \"num_unique_values\": 5,\n        \"samples\": [\n          \"taiwan allow visa free entry visitors philippinestaipei taiwan allow visa free entry visitors philippines hopes southeast asian nation reciprocate gesture , spokesman self ruled island cabinet said thursday . taiwan formal diplomatic relations philippines , recognizes one china policy manila acknowledges chinese position one china taiwan part . china considers taiwan renegade province taken back force , necessary . whether visa free policy takes effect october november decided foreign ministry , said hsu kong yung , spokesman taiwan executive yuan , cabinet . open visa free arrangements , view equal mutual benefits , also hope make visa free arrangements taiwan , told news conference . taiwan already visa free arrangements atralia , malaysia , new zealand singapore . government continuing year pilot scheme brunei thailand kicked last year . also considering visa free arrangements indonesia vietnam , according government document seen . government spokesman immediat answer telephone calls seekment indonesia vietnam plans .\",\n          \"london life laid bare rubbish along thameslondon bones , moldy hot water bottle , pair rty pliers pristine pair women pants among eclectic cast offs photographer stefan wermuth found along river thames . wermuth spent two months collecting items along riverside give snapshot litter finds way waterway runs heart london . photo essay , click : reut.rs gold plated watch , letter lithuanian bottle mobile phone also retrieved along shores river , undergone extensive cleanups since natural history meum declared thames biologica dead 1957. today , marine life including seals , porpoises dolphins spotted swimming alongside fish hard drive wermuth found littering murky waters . pollution remains problem . march , thames water handed record 20 million pound $ 26 million fine pumping sewage river . waterpany apologized failings said working improve rivers . london municipal authorities say 4,000 plastic bottles removed river one month period alone last year , demonstrating scale waste problem . impact pollution marine life thames recent years prompted campaigns encourage londoners make sure rubbish goes bin rather water .\",\n          \"fbi found related emails devices belonging aide , ex congressman : nytwashington new emails fbi examining related democratic ial candidate hillary \\u2019 e privateputer server discovered agency seized electronic devices belonging aide huma abedin hband , anthony weiner , new york times reported friday , citing law enforcement officials .\"\n        ],\n        \"semantic_type\": \"\",\n        \"description\": \"\"\n      }\n    }\n  ]\n}"
      }
     },
     "metadata": {},
     "execution_count": 21
    }
   ],
   "source": [
    "#@title sample dataset for experiments\n",
    "# sample size\n",
    "enable_samples: bool = True #@param\n",
    "SAMPLE_PERCENTAGE_X_train = 1 #@param\n",
    "SAMPLE_PERCENTAGE_X_val = 1 #@param\n",
    "SAMPLE_PERCENTAGE_X_test = 1 #@param\n",
    "\n",
    "MODEL_NAME = \"roberta-base\" #@param\n",
    "VERSION_MODEL = \"010\" #@param\n",
    "NAME_EXPERIMENTS = \"Fake news comments\" #@param\n",
    "DATASET_NAME = \"X_train_cleaned_2\" #@param title\n",
    "HYPERPARAMETERS_EXPERIMENTS = 1 #@param\n",
    "BATCH_SIZE = 8 #@param\n",
    "NUM_LABELS = 1 #@param\n",
    "EPOCHS = 3 #@param\n",
    "THRESHOLD_PROBABILITIES_MODEL = 0.5 #@param\n",
    "MAX_TOKENS = 512 #@param\n",
    "\n",
    "# COMMENTS = \"Some hyperparameter tunning with the clean dataset where we take out some values\" #@param\n",
    "COMMENTS = \"Update of the model full training\" #@param\n",
    "# PATIENCE_EARLY_STOP = 3 #@param\n",
    "LEARNING_RATE = 0.002500000075 #@param\n",
    "WEIGHT_DECAY = 0.01 #@param\n",
    "DROPOUT_VALUE = 0.139164305582066 #@param\n",
    "WARMUP_RATIO = 0.192605760830724 #@param\n",
    "OPTIMIZER_NAME = \"AdamW\" #@param\n",
    "\n",
    "\n",
    "URL_SAVE_MODEL = f\"/content/drive/MyDrive/turing_college_experiments/16/model_save/{MODEL_NAME}_{VERSION_MODEL}.pth\"\n",
    "\n",
    "if enable_samples:\n",
    "    # Concatenating the datasets\n",
    "    concat_values_train = pd.concat([X_train, y_train], axis=1)\n",
    "    concat_values_val = pd.concat([X_val, y_val], axis=1)\n",
    "    concat_values_test = pd.concat([X_test, y_test], axis=1)\n",
    "\n",
    "    # Sampling the datasets\n",
    "    concat_values_train = concat_values_train.sample(frac=SAMPLE_PERCENTAGE_X_train, random_state=42)\n",
    "    concat_values_val = concat_values_val.sample(frac=SAMPLE_PERCENTAGE_X_val, random_state=42)\n",
    "    concat_values_test = concat_values_test.sample(frac=SAMPLE_PERCENTAGE_X_test, random_state=42)\n",
    "\n",
    "    # Resetting the index without using inplace\n",
    "    concat_values_train = concat_values_train.reset_index(drop=True)\n",
    "    concat_values_val = concat_values_val.reset_index(drop=True)\n",
    "    concat_values_test = concat_values_test.reset_index(drop=True)\n",
    "\n",
    "    # Extracting features and targets\n",
    "    X_train = pd.DataFrame(concat_values_train[\"title_text_join\"])\n",
    "    X_val = pd.DataFrame(concat_values_val[\"title_text_join\"])\n",
    "    X_test = pd.DataFrame(concat_values_test[\"title_text_join\"])\n",
    "\n",
    "    y_train = pd.DataFrame(concat_values_train[\"target_variable\"])\n",
    "    y_val = pd.DataFrame(concat_values_val[\"target_variable\"])\n",
    "    y_test = pd.DataFrame(concat_values_test[\"target_variable\"])\n",
    "\n",
    "\n",
    "print(\"TRAIN Dataset: {}\".format(X_train.shape))\n",
    "print(\"VALIDATION Dataset: {}\".format(X_val.shape))\n",
    "print(\"TEST Dataset: {}\".format(X_test.shape))\n",
    "print(\"TRAIN Dataset y: {}\".format(y_train.shape))\n",
    "print(\"VALIDATION Dataset y: {}\".format(y_val.shape))\n",
    "print(\"TEST Dataset y: {}\".format(y_test.shape))\n",
    "\n",
    "sample_data = 5 #@param\n",
    "X_train.sample(sample_data)"
   ]
  },
  {
   "cell_type": "code",
   "execution_count": null,
   "id": "MC9gtviLLxZh",
   "metadata": {
    "colab": {
     "base_uri": "https://localhost:8080/",
     "height": 453
    },
    "id": "MC9gtviLLxZh",
    "outputId": "646072f7-232c-4df3-b1f7-b16f4f5c85d6",
    "cellView": "form"
   },
   "outputs": [
    {
     "output_type": "display_data",
     "data": {
      "text/plain": [
       "<Figure size 1800x600 with 3 Axes>"
      ],
      "image/png": "[encoded data removed]"
     },
     "metadata": {}
    }
   ],
   "source": [
    "#@title Split of the dataset\n",
    "# Get counts for each dataset\n",
    "train_counts = y_train.value_counts().reset_index()\n",
    "val_counts = y_val.value_counts().reset_index()\n",
    "test_counts = y_test.value_counts().reset_index()\n",
    "train_counts.columns = ['Class', 'Frequency']\n",
    "val_counts.columns = ['Class', 'Frequency']\n",
    "test_counts.columns = ['Class', 'Frequency']\n",
    "\n",
    "real_values = train_counts['Frequency'][0]\n",
    "fake_values = train_counts['Frequency'][1]\n",
    "total_values = train_counts['Frequency'].sum()\n",
    "real_percentage = (real_values / total_values)\n",
    "fake_percentage = (fake_values / total_values)\n",
    "\n",
    "normalized_weights = torch.tensor([real_percentage, fake_percentage], dtype=torch.float)\n",
    "\n",
    "fig, ax = plt.subplots(1, 3, figsize=(18, 6))\n",
    "\n",
    "# Plot for train data\n",
    "ax[0].bar(train_counts['Class'], train_counts['Frequency'])\n",
    "ax[0].set_title('Train Data Counts')\n",
    "ax[0].set_xlabel('Class')\n",
    "ax[0].set_ylabel('Frequency')\n",
    "\n",
    "# Plot for validation data\n",
    "ax[1].bar(val_counts['Class'], val_counts['Frequency'])\n",
    "ax[1].set_title('Validation Data Counts')\n",
    "ax[1].set_xlabel('Class')\n",
    "ax[1].set_ylabel('Frequency')\n",
    "\n",
    "# Plot for test data\n",
    "ax[2].bar(test_counts['Class'], test_counts['Frequency'])\n",
    "ax[2].set_title('Test Data Counts')\n",
    "ax[2].set_xlabel('Class')\n",
    "ax[2].set_ylabel('Frequency')\n",
    "\n",
    "# Show the plots\n",
    "plt.tight_layout()\n",
    "plt.show()"
   ]
  },
  {
   "cell_type": "code",
   "execution_count": null,
   "id": "iB2SY0BdzVxt",
   "metadata": {
    "colab": {
     "base_uri": "https://localhost:8080/"
    },
    "id": "iB2SY0BdzVxt",
    "outputId": "89c2f2cb-be41-4757-dcaf-446bde89b6c4"
   },
   "outputs": [
    {
     "output_type": "stream",
     "name": "stderr",
     "text": [
      "Token indices sequence length is longer than the specified maximum sequence length for this model (560 > 512). Running this sequence through the model will result in indexing errors\n"
     ]
    },
    {
     "output_type": "stream",
     "name": "stdout",
     "text": [
      "Dataset train length: 26759\n",
      "Dataset val length: 5734\n",
      "Dataset test length: 5735\n",
      "Sample input IDs shape: torch.Size([3, 512])\n",
      "Sample attention masks shape: torch.Size([3, 512])\n",
      "Sample labels: tensor([1.])\n"
     ]
    }
   ],
   "source": [
    "#@title Dataloader\n",
    "# Model configuration\n",
    "model_name = MODEL_NAME\n",
    "tokenizer_model = AutoTokenizer.from_pretrained(model_name)\n",
    "\n",
    "# dataloaders for training, val, test\n",
    "dataset_loader_X_train = CustomDataset(\n",
    "    dataframe=X_train,\n",
    "    comment_str_title='title_text_join',\n",
    "    target_variable=y_train,\n",
    "    tokenizer=tokenizer_model,\n",
    "    max_token_len=MAX_TOKENS\n",
    ")\n",
    "dataset_loader_X_val = CustomDataset(\n",
    "    dataframe=X_val,\n",
    "    comment_str_title='title_text_join',\n",
    "    target_variable=y_val,\n",
    "    tokenizer=tokenizer_model,\n",
    "    max_token_len=MAX_TOKENS\n",
    ")\n",
    "dataset_loader_X_test = CustomDataset(\n",
    "    dataframe=X_test,\n",
    "    comment_str_title='title_text_join',\n",
    "    target_variable=y_test,\n",
    "    tokenizer=tokenizer_model,\n",
    "    max_token_len=MAX_TOKENS\n",
    ")\n",
    "\n",
    "# Test the dataset\n",
    "print(\"Dataset train length:\", len(dataset_loader_X_train))\n",
    "print(\"Dataset val length:\", len(dataset_loader_X_val))\n",
    "print(\"Dataset test length:\", len(dataset_loader_X_test))\n",
    "sample = dataset_loader_X_train[0]\n",
    "print(\"Sample input IDs shape:\", sample[\"input_ids\"].shape)\n",
    "print(\"Sample attention masks shape:\", sample[\"attention_masks\"].shape)\n",
    "print(\"Sample labels:\", sample[\"labels\"])\n"
   ]
  },
  {
   "cell_type": "code",
   "execution_count": null,
   "id": "uVXGGEW4Hngk",
   "metadata": {
    "colab": {
     "base_uri": "https://localhost:8080/"
    },
    "id": "uVXGGEW4Hngk",
    "outputId": "f8e5e08e-ddd8-4e0e-b7b6-b2ff89ebe7e7",
    "cellView": "form"
   },
   "outputs": [
    {
     "output_type": "stream",
     "name": "stdout",
     "text": [
      "3344 train_loader batch\n",
      "716 val_loader batch\n",
      "716 test_loader batch\n"
     ]
    }
   ],
   "source": [
    "#@title Batches\n",
    "\n",
    "# Create DataLoader with custom collate function\n",
    "train_loader = DataLoader(\n",
    "    dataset=dataset_loader_X_train,\n",
    "    batch_size=BATCH_SIZE,  # Adjust based on your GPU memory\n",
    "    shuffle=True,\n",
    "    collate_fn=custom_collate_fn,\n",
    "    num_workers= NUM_WORKERS,  # Adjust based on your CPU cores\n",
    "    pin_memory=True,  # Set to True if using GPU\n",
    "    drop_last=True\n",
    ")\n",
    "val_loader = DataLoader(\n",
    "    dataset=dataset_loader_X_val,\n",
    "    batch_size=BATCH_SIZE,\n",
    "    shuffle=True,\n",
    "    collate_fn=custom_collate_fn,\n",
    "    num_workers= NUM_WORKERS,\n",
    "    pin_memory=True,\n",
    "    drop_last=True\n",
    ")\n",
    "test_loader = DataLoader(\n",
    "    dataset=dataset_loader_X_test,\n",
    "    batch_size=BATCH_SIZE,\n",
    "    shuffle=False,\n",
    "    collate_fn=custom_collate_fn,\n",
    "    num_workers= NUM_WORKERS,\n",
    "    pin_memory=True,\n",
    "    drop_last=True\n",
    ")\n",
    "\n",
    "print(len(train_loader), \"train_loader batch\")\n",
    "print(len(val_loader), \"val_loader batch\")\n",
    "print(len(test_loader), \"test_loader batch\")"
   ]
  },
  {
   "cell_type": "code",
   "execution_count": null,
   "id": "rpIIZ9ZwcgQE",
   "metadata": {
    "colab": {
     "base_uri": "https://localhost:8080/"
    },
    "id": "rpIIZ9ZwcgQE",
    "outputId": "a2439dc2-8c67-424e-ae1f-ef37b9e3f79b",
    "cellView": "form"
   },
   "outputs": [
    {
     "output_type": "stream",
     "name": "stderr",
     "text": [
      "Some weights of RobertaModel were not initialized from the model checkpoint at roberta-base and are newly initialized: ['roberta.pooler.dense.bias', 'roberta.pooler.dense.weight']\n",
      "You should probably TRAIN this model on a down-stream task to be able to use it for predictions and inference.\n"
     ]
    },
    {
     "output_type": "stream",
     "name": "stdout",
     "text": [
      "y_train shape: (26759, 1)\n",
      "Sample label: target_variable    1\n",
      "Name: 0, dtype: int64\n"
     ]
    },
    {
     "output_type": "execute_result",
     "data": {
      "text/plain": [
       "ClassifierModel(\n",
       "  (pretrained_model): RobertaModel(\n",
       "    (embeddings): RobertaEmbeddings(\n",
       "      (word_embeddings): Embedding(50265, 768, padding_idx=1)\n",
       "      (position_embeddings): Embedding(514, 768, padding_idx=1)\n",
       "      (token_type_embeddings): Embedding(1, 768)\n",
       "      (LayerNorm): LayerNorm((768,), eps=1e-05, elementwise_affine=True)\n",
       "      (dropout): Dropout(p=0.1, inplace=False)\n",
       "    )\n",
       "    (encoder): RobertaEncoder(\n",
       "      (layer): ModuleList(\n",
       "        (0-11): 12 x RobertaLayer(\n",
       "          (attention): RobertaAttention(\n",
       "            (self): RobertaSdpaSelfAttention(\n",
       "              (query): Linear(in_features=768, out_features=768, bias=True)\n",
       "              (key): Linear(in_features=768, out_features=768, bias=True)\n",
       "              (value): Linear(in_features=768, out_features=768, bias=True)\n",
       "              (dropout): Dropout(p=0.1, inplace=False)\n",
       "            )\n",
       "            (output): RobertaSelfOutput(\n",
       "              (dense): Linear(in_features=768, out_features=768, bias=True)\n",
       "              (LayerNorm): LayerNorm((768,), eps=1e-05, elementwise_affine=True)\n",
       "              (dropout): Dropout(p=0.1, inplace=False)\n",
       "            )\n",
       "          )\n",
       "          (intermediate): RobertaIntermediate(\n",
       "            (dense): Linear(in_features=768, out_features=3072, bias=True)\n",
       "            (intermediate_act_fn): GELUActivation()\n",
       "          )\n",
       "          (output): RobertaOutput(\n",
       "            (dense): Linear(in_features=3072, out_features=768, bias=True)\n",
       "            (LayerNorm): LayerNorm((768,), eps=1e-05, elementwise_affine=True)\n",
       "            (dropout): Dropout(p=0.1, inplace=False)\n",
       "          )\n",
       "        )\n",
       "      )\n",
       "    )\n",
       "    (pooler): RobertaPooler(\n",
       "      (dense): Linear(in_features=768, out_features=768, bias=True)\n",
       "      (activation): Tanh()\n",
       "    )\n",
       "  )\n",
       "  (hidden): Linear(in_features=768, out_features=768, bias=True)\n",
       "  (classification): Linear(in_features=768, out_features=1, bias=True)\n",
       "  (loss_function): BCEWithLogitsLoss()\n",
       "  (dropout): Dropout(p=0.139164305582066, inplace=False)\n",
       ")"
      ]
     },
     "metadata": {},
     "execution_count": 25
    }
   ],
   "source": [
    "#@title Model architecture\n",
    "\n",
    "class ClassifierModel(nn.Module):\n",
    "    def __init__(self, config):\n",
    "        super(ClassifierModel, self).__init__()\n",
    "        self.config = config\n",
    "\n",
    "        # Pretrained model\n",
    "        self.pretrained_model = AutoModel.from_pretrained(config['model_name'], return_dict=True)\n",
    "\n",
    "        # Layers\n",
    "        self.hidden = nn.Linear(self.pretrained_model.config.hidden_size, self.pretrained_model.config.hidden_size)\n",
    "        self.classification = nn.Linear(self.pretrained_model.config.hidden_size, self.config['n_labels'])\n",
    "\n",
    "        # Initialize weights\n",
    "        nn.init.xavier_uniform_(self.hidden.weight)  # Use Xavier initialization\n",
    "        nn.init.zeros_(self.hidden.bias)  # Initialize bias to zero\n",
    "        nn.init.xavier_uniform_(self.classification.weight)  # Use Xavier initialization\n",
    "        nn.init.zeros_(self.classification.bias)  # Initialize bias to zero\n",
    "\n",
    "        # Loss function\n",
    "        # self.loss_function = nn.BCEWithLogitsLoss(weight=normalized_weights)\n",
    "        self.loss_function = nn.BCEWithLogitsLoss()\n",
    "\n",
    "        # Dropout\n",
    "        self.dropout = nn.Dropout(config['dropout_vals'])\n",
    "\n",
    "    def forward(self, input_ids, attention_mask, chunk_attention_mask=None):\n",
    "        batch_size, num_chunks, seq_length = input_ids.size()\n",
    "        input_ids = input_ids.view(-1, seq_length)\n",
    "        attention_mask = attention_mask.view(-1, seq_length)\n",
    "\n",
    "        # Forward pass through the pretrained model\n",
    "        output = self.pretrained_model(input_ids=input_ids, attention_mask=attention_mask)\n",
    "        pooled_output = torch.mean(output.last_hidden_state, 1)\n",
    "        pooled_output = pooled_output.view(batch_size, num_chunks, -1)\n",
    "        pooled_output = self.dropout(pooled_output)\n",
    "\n",
    "        if chunk_attention_mask is not None:\n",
    "            chunk_attention_mask = chunk_attention_mask.float().unsqueeze(-1)\n",
    "            pooled_output = (pooled_output * chunk_attention_mask).sum(dim=1) / chunk_attention_mask.sum(dim=1).clamp(min=1)\n",
    "        else:\n",
    "            pooled_output = pooled_output.mean(dim=1)\n",
    "\n",
    "        # Classification layers\n",
    "        pooled_output = self.hidden(pooled_output)\n",
    "        pooled_output = F.relu(pooled_output)\n",
    "        pooled_output = F.normalize(pooled_output)\n",
    "        logits = self.classification(pooled_output)\n",
    "        logits = F.sigmoid(logits)\n",
    "        return logits\n",
    "\n",
    "\n",
    "print(\"y_train shape:\", y_train.shape)\n",
    "print(\"Sample label:\", y_train.iloc[0])\n",
    "\n",
    "config = {\n",
    "    \"model_name\": MODEL_NAME,\n",
    "    \"n_labels\": NUM_LABELS,\n",
    "    \"lr\": LEARNING_RATE,\n",
    "    \"w_decay\": WEIGHT_DECAY,\n",
    "    \"dropout_vals\": DROPOUT_VALUE,\n",
    "    \"batch_size\": BATCH_SIZE,\n",
    "    \"epochs\": EPOCHS,\n",
    "    \"train_size\": len(dataset_loader_X_train),\n",
    "    \"warmup\": WARMUP_RATIO\n",
    "}\n",
    "\n",
    "\n",
    "# Reinitialize the model with the updated config\n",
    "model = ClassifierModel(config)\n",
    "model.to(device)\n",
    "model"
   ]
  },
  {
   "cell_type": "code",
   "execution_count": null,
   "id": "lW51WO_nIY76",
   "metadata": {
    "colab": {
     "base_uri": "https://localhost:8080/"
    },
    "id": "lW51WO_nIY76",
    "outputId": "9eb93867-aa15-46e1-b75e-5dceefef29ef"
   },
   "outputs": [
    {
     "output_type": "stream",
     "name": "stdout",
     "text": [
      "Trainable Parameters:\n",
      "pretrained_model.embeddings.word_embeddings.weight: Frozen\n",
      "pretrained_model.embeddings.position_embeddings.weight: Frozen\n",
      "pretrained_model.embeddings.token_type_embeddings.weight: Frozen\n",
      "pretrained_model.embeddings.LayerNorm.weight: Frozen\n",
      "pretrained_model.embeddings.LayerNorm.bias: Frozen\n",
      "pretrained_model.encoder.layer.0.attention.self.query.weight: Frozen\n",
      "pretrained_model.encoder.layer.0.attention.self.query.bias: Frozen\n",
      "pretrained_model.encoder.layer.0.attention.self.key.weight: Frozen\n",
      "pretrained_model.encoder.layer.0.attention.self.key.bias: Frozen\n",
      "pretrained_model.encoder.layer.0.attention.self.value.weight: Frozen\n",
      "pretrained_model.encoder.layer.0.attention.self.value.bias: Frozen\n",
      "pretrained_model.encoder.layer.0.attention.output.dense.weight: Frozen\n",
      "pretrained_model.encoder.layer.0.attention.output.dense.bias: Frozen\n",
      "pretrained_model.encoder.layer.0.attention.output.LayerNorm.weight: Frozen\n",
      "pretrained_model.encoder.layer.0.attention.output.LayerNorm.bias: Frozen\n",
      "pretrained_model.encoder.layer.0.intermediate.dense.weight: Frozen\n",
      "pretrained_model.encoder.layer.0.intermediate.dense.bias: Frozen\n",
      "pretrained_model.encoder.layer.0.output.dense.weight: Frozen\n",
      "pretrained_model.encoder.layer.0.output.dense.bias: Frozen\n",
      "pretrained_model.encoder.layer.0.output.LayerNorm.weight: Frozen\n",
      "pretrained_model.encoder.layer.0.output.LayerNorm.bias: Frozen\n",
      "pretrained_model.encoder.layer.1.attention.self.query.weight: Frozen\n",
      "pretrained_model.encoder.layer.1.attention.self.query.bias: Frozen\n",
      "pretrained_model.encoder.layer.1.attention.self.key.weight: Frozen\n",
      "pretrained_model.encoder.layer.1.attention.self.key.bias: Frozen\n",
      "pretrained_model.encoder.layer.1.attention.self.value.weight: Frozen\n",
      "pretrained_model.encoder.layer.1.attention.self.value.bias: Frozen\n",
      "pretrained_model.encoder.layer.1.attention.output.dense.weight: Frozen\n",
      "pretrained_model.encoder.layer.1.attention.output.dense.bias: Frozen\n",
      "pretrained_model.encoder.layer.1.attention.output.LayerNorm.weight: Frozen\n",
      "pretrained_model.encoder.layer.1.attention.output.LayerNorm.bias: Frozen\n",
      "pretrained_model.encoder.layer.1.intermediate.dense.weight: Frozen\n",
      "pretrained_model.encoder.layer.1.intermediate.dense.bias: Frozen\n",
      "pretrained_model.encoder.layer.1.output.dense.weight: Frozen\n",
      "pretrained_model.encoder.layer.1.output.dense.bias: Frozen\n",
      "pretrained_model.encoder.layer.1.output.LayerNorm.weight: Frozen\n",
      "pretrained_model.encoder.layer.1.output.LayerNorm.bias: Frozen\n",
      "pretrained_model.encoder.layer.2.attention.self.query.weight: Frozen\n",
      "pretrained_model.encoder.layer.2.attention.self.query.bias: Frozen\n",
      "pretrained_model.encoder.layer.2.attention.self.key.weight: Frozen\n",
      "pretrained_model.encoder.layer.2.attention.self.key.bias: Frozen\n",
      "pretrained_model.encoder.layer.2.attention.self.value.weight: Frozen\n",
      "pretrained_model.encoder.layer.2.attention.self.value.bias: Frozen\n",
      "pretrained_model.encoder.layer.2.attention.output.dense.weight: Frozen\n",
      "pretrained_model.encoder.layer.2.attention.output.dense.bias: Frozen\n",
      "pretrained_model.encoder.layer.2.attention.output.LayerNorm.weight: Frozen\n",
      "pretrained_model.encoder.layer.2.attention.output.LayerNorm.bias: Frozen\n",
      "pretrained_model.encoder.layer.2.intermediate.dense.weight: Frozen\n",
      "pretrained_model.encoder.layer.2.intermediate.dense.bias: Frozen\n",
      "pretrained_model.encoder.layer.2.output.dense.weight: Frozen\n",
      "pretrained_model.encoder.layer.2.output.dense.bias: Frozen\n",
      "pretrained_model.encoder.layer.2.output.LayerNorm.weight: Frozen\n",
      "pretrained_model.encoder.layer.2.output.LayerNorm.bias: Frozen\n",
      "pretrained_model.encoder.layer.3.attention.self.query.weight: Frozen\n",
      "pretrained_model.encoder.layer.3.attention.self.query.bias: Frozen\n",
      "pretrained_model.encoder.layer.3.attention.self.key.weight: Frozen\n",
      "pretrained_model.encoder.layer.3.attention.self.key.bias: Frozen\n",
      "pretrained_model.encoder.layer.3.attention.self.value.weight: Frozen\n",
      "pretrained_model.encoder.layer.3.attention.self.value.bias: Frozen\n",
      "pretrained_model.encoder.layer.3.attention.output.dense.weight: Frozen\n",
      "pretrained_model.encoder.layer.3.attention.output.dense.bias: Frozen\n",
      "pretrained_model.encoder.layer.3.attention.output.LayerNorm.weight: Frozen\n",
      "pretrained_model.encoder.layer.3.attention.output.LayerNorm.bias: Frozen\n",
      "pretrained_model.encoder.layer.3.intermediate.dense.weight: Frozen\n",
      "pretrained_model.encoder.layer.3.intermediate.dense.bias: Frozen\n",
      "pretrained_model.encoder.layer.3.output.dense.weight: Frozen\n",
      "pretrained_model.encoder.layer.3.output.dense.bias: Frozen\n",
      "pretrained_model.encoder.layer.3.output.LayerNorm.weight: Frozen\n",
      "pretrained_model.encoder.layer.3.output.LayerNorm.bias: Frozen\n",
      "pretrained_model.encoder.layer.4.attention.self.query.weight: Frozen\n",
      "pretrained_model.encoder.layer.4.attention.self.query.bias: Frozen\n",
      "pretrained_model.encoder.layer.4.attention.self.key.weight: Frozen\n",
      "pretrained_model.encoder.layer.4.attention.self.key.bias: Frozen\n",
      "pretrained_model.encoder.layer.4.attention.self.value.weight: Frozen\n",
      "pretrained_model.encoder.layer.4.attention.self.value.bias: Frozen\n",
      "pretrained_model.encoder.layer.4.attention.output.dense.weight: Frozen\n",
      "pretrained_model.encoder.layer.4.attention.output.dense.bias: Frozen\n",
      "pretrained_model.encoder.layer.4.attention.output.LayerNorm.weight: Frozen\n",
      "pretrained_model.encoder.layer.4.attention.output.LayerNorm.bias: Frozen\n",
      "pretrained_model.encoder.layer.4.intermediate.dense.weight: Frozen\n",
      "pretrained_model.encoder.layer.4.intermediate.dense.bias: Frozen\n",
      "pretrained_model.encoder.layer.4.output.dense.weight: Frozen\n",
      "pretrained_model.encoder.layer.4.output.dense.bias: Frozen\n",
      "pretrained_model.encoder.layer.4.output.LayerNorm.weight: Frozen\n",
      "pretrained_model.encoder.layer.4.output.LayerNorm.bias: Frozen\n",
      "pretrained_model.encoder.layer.5.attention.self.query.weight: Frozen\n",
      "pretrained_model.encoder.layer.5.attention.self.query.bias: Frozen\n",
      "pretrained_model.encoder.layer.5.attention.self.key.weight: Frozen\n",
      "pretrained_model.encoder.layer.5.attention.self.key.bias: Frozen\n",
      "pretrained_model.encoder.layer.5.attention.self.value.weight: Frozen\n",
      "pretrained_model.encoder.layer.5.attention.self.value.bias: Frozen\n",
      "pretrained_model.encoder.layer.5.attention.output.dense.weight: Frozen\n",
      "pretrained_model.encoder.layer.5.attention.output.dense.bias: Frozen\n",
      "pretrained_model.encoder.layer.5.attention.output.LayerNorm.weight: Frozen\n",
      "pretrained_model.encoder.layer.5.attention.output.LayerNorm.bias: Frozen\n",
      "pretrained_model.encoder.layer.5.intermediate.dense.weight: Frozen\n",
      "pretrained_model.encoder.layer.5.intermediate.dense.bias: Frozen\n",
      "pretrained_model.encoder.layer.5.output.dense.weight: Frozen\n",
      "pretrained_model.encoder.layer.5.output.dense.bias: Frozen\n",
      "pretrained_model.encoder.layer.5.output.LayerNorm.weight: Frozen\n",
      "pretrained_model.encoder.layer.5.output.LayerNorm.bias: Frozen\n",
      "pretrained_model.encoder.layer.6.attention.self.query.weight: Frozen\n",
      "pretrained_model.encoder.layer.6.attention.self.query.bias: Frozen\n",
      "pretrained_model.encoder.layer.6.attention.self.key.weight: Frozen\n",
      "pretrained_model.encoder.layer.6.attention.self.key.bias: Frozen\n",
      "pretrained_model.encoder.layer.6.attention.self.value.weight: Frozen\n",
      "pretrained_model.encoder.layer.6.attention.self.value.bias: Frozen\n",
      "pretrained_model.encoder.layer.6.attention.output.dense.weight: Frozen\n",
      "pretrained_model.encoder.layer.6.attention.output.dense.bias: Frozen\n",
      "pretrained_model.encoder.layer.6.attention.output.LayerNorm.weight: Frozen\n",
      "pretrained_model.encoder.layer.6.attention.output.LayerNorm.bias: Frozen\n",
      "pretrained_model.encoder.layer.6.intermediate.dense.weight: Frozen\n",
      "pretrained_model.encoder.layer.6.intermediate.dense.bias: Frozen\n",
      "pretrained_model.encoder.layer.6.output.dense.weight: Frozen\n",
      "pretrained_model.encoder.layer.6.output.dense.bias: Frozen\n",
      "pretrained_model.encoder.layer.6.output.LayerNorm.weight: Frozen\n",
      "pretrained_model.encoder.layer.6.output.LayerNorm.bias: Frozen\n",
      "pretrained_model.encoder.layer.7.attention.self.query.weight: Frozen\n",
      "pretrained_model.encoder.layer.7.attention.self.query.bias: Frozen\n",
      "pretrained_model.encoder.layer.7.attention.self.key.weight: Frozen\n",
      "pretrained_model.encoder.layer.7.attention.self.key.bias: Frozen\n",
      "pretrained_model.encoder.layer.7.attention.self.value.weight: Frozen\n",
      "pretrained_model.encoder.layer.7.attention.self.value.bias: Frozen\n",
      "pretrained_model.encoder.layer.7.attention.output.dense.weight: Frozen\n",
      "pretrained_model.encoder.layer.7.attention.output.dense.bias: Frozen\n",
      "pretrained_model.encoder.layer.7.attention.output.LayerNorm.weight: Frozen\n",
      "pretrained_model.encoder.layer.7.attention.output.LayerNorm.bias: Frozen\n",
      "pretrained_model.encoder.layer.7.intermediate.dense.weight: Frozen\n",
      "pretrained_model.encoder.layer.7.intermediate.dense.bias: Frozen\n",
      "pretrained_model.encoder.layer.7.output.dense.weight: Frozen\n",
      "pretrained_model.encoder.layer.7.output.dense.bias: Frozen\n",
      "pretrained_model.encoder.layer.7.output.LayerNorm.weight: Frozen\n",
      "pretrained_model.encoder.layer.7.output.LayerNorm.bias: Frozen\n",
      "pretrained_model.encoder.layer.8.attention.self.query.weight: Frozen\n",
      "pretrained_model.encoder.layer.8.attention.self.query.bias: Frozen\n",
      "pretrained_model.encoder.layer.8.attention.self.key.weight: Frozen\n",
      "pretrained_model.encoder.layer.8.attention.self.key.bias: Frozen\n",
      "pretrained_model.encoder.layer.8.attention.self.value.weight: Frozen\n",
      "pretrained_model.encoder.layer.8.attention.self.value.bias: Frozen\n",
      "pretrained_model.encoder.layer.8.attention.output.dense.weight: Frozen\n",
      "pretrained_model.encoder.layer.8.attention.output.dense.bias: Frozen\n",
      "pretrained_model.encoder.layer.8.attention.output.LayerNorm.weight: Frozen\n",
      "pretrained_model.encoder.layer.8.attention.output.LayerNorm.bias: Frozen\n",
      "pretrained_model.encoder.layer.8.intermediate.dense.weight: Frozen\n",
      "pretrained_model.encoder.layer.8.intermediate.dense.bias: Frozen\n",
      "pretrained_model.encoder.layer.8.output.dense.weight: Frozen\n",
      "pretrained_model.encoder.layer.8.output.dense.bias: Frozen\n",
      "pretrained_model.encoder.layer.8.output.LayerNorm.weight: Frozen\n",
      "pretrained_model.encoder.layer.8.output.LayerNorm.bias: Frozen\n",
      "pretrained_model.encoder.layer.9.attention.self.query.weight: Frozen\n",
      "pretrained_model.encoder.layer.9.attention.self.query.bias: Frozen\n",
      "pretrained_model.encoder.layer.9.attention.self.key.weight: Frozen\n",
      "pretrained_model.encoder.layer.9.attention.self.key.bias: Frozen\n",
      "pretrained_model.encoder.layer.9.attention.self.value.weight: Frozen\n",
      "pretrained_model.encoder.layer.9.attention.self.value.bias: Frozen\n",
      "pretrained_model.encoder.layer.9.attention.output.dense.weight: Frozen\n",
      "pretrained_model.encoder.layer.9.attention.output.dense.bias: Frozen\n",
      "pretrained_model.encoder.layer.9.attention.output.LayerNorm.weight: Frozen\n",
      "pretrained_model.encoder.layer.9.attention.output.LayerNorm.bias: Frozen\n",
      "pretrained_model.encoder.layer.9.intermediate.dense.weight: Frozen\n",
      "pretrained_model.encoder.layer.9.intermediate.dense.bias: Frozen\n",
      "pretrained_model.encoder.layer.9.output.dense.weight: Frozen\n",
      "pretrained_model.encoder.layer.9.output.dense.bias: Frozen\n",
      "pretrained_model.encoder.layer.9.output.LayerNorm.weight: Frozen\n",
      "pretrained_model.encoder.layer.9.output.LayerNorm.bias: Frozen\n",
      "pretrained_model.encoder.layer.10.attention.self.query.weight: Trainable\n",
      "pretrained_model.encoder.layer.10.attention.self.query.bias: Trainable\n",
      "pretrained_model.encoder.layer.10.attention.self.key.weight: Trainable\n",
      "pretrained_model.encoder.layer.10.attention.self.key.bias: Trainable\n",
      "pretrained_model.encoder.layer.10.attention.self.value.weight: Trainable\n",
      "pretrained_model.encoder.layer.10.attention.self.value.bias: Trainable\n",
      "pretrained_model.encoder.layer.10.attention.output.dense.weight: Trainable\n",
      "pretrained_model.encoder.layer.10.attention.output.dense.bias: Trainable\n",
      "pretrained_model.encoder.layer.10.attention.output.LayerNorm.weight: Trainable\n",
      "pretrained_model.encoder.layer.10.attention.output.LayerNorm.bias: Trainable\n",
      "pretrained_model.encoder.layer.10.intermediate.dense.weight: Trainable\n",
      "pretrained_model.encoder.layer.10.intermediate.dense.bias: Trainable\n",
      "pretrained_model.encoder.layer.10.output.dense.weight: Trainable\n",
      "pretrained_model.encoder.layer.10.output.dense.bias: Trainable\n",
      "pretrained_model.encoder.layer.10.output.LayerNorm.weight: Trainable\n",
      "pretrained_model.encoder.layer.10.output.LayerNorm.bias: Trainable\n",
      "pretrained_model.encoder.layer.11.attention.self.query.weight: Trainable\n",
      "pretrained_model.encoder.layer.11.attention.self.query.bias: Trainable\n",
      "pretrained_model.encoder.layer.11.attention.self.key.weight: Trainable\n",
      "pretrained_model.encoder.layer.11.attention.self.key.bias: Trainable\n",
      "pretrained_model.encoder.layer.11.attention.self.value.weight: Trainable\n",
      "pretrained_model.encoder.layer.11.attention.self.value.bias: Trainable\n",
      "pretrained_model.encoder.layer.11.attention.output.dense.weight: Trainable\n",
      "pretrained_model.encoder.layer.11.attention.output.dense.bias: Trainable\n",
      "pretrained_model.encoder.layer.11.attention.output.LayerNorm.weight: Trainable\n",
      "pretrained_model.encoder.layer.11.attention.output.LayerNorm.bias: Trainable\n",
      "pretrained_model.encoder.layer.11.intermediate.dense.weight: Trainable\n",
      "pretrained_model.encoder.layer.11.intermediate.dense.bias: Trainable\n",
      "pretrained_model.encoder.layer.11.output.dense.weight: Trainable\n",
      "pretrained_model.encoder.layer.11.output.dense.bias: Trainable\n",
      "pretrained_model.encoder.layer.11.output.LayerNorm.weight: Trainable\n",
      "pretrained_model.encoder.layer.11.output.LayerNorm.bias: Trainable\n",
      "pretrained_model.pooler.dense.weight: Trainable\n",
      "pretrained_model.pooler.dense.bias: Trainable\n",
      "hidden.weight: Trainable\n",
      "hidden.bias: Trainable\n",
      "classification.weight: Trainable\n",
      "classification.bias: Trainable\n"
     ]
    }
   ],
   "source": [
    "\n",
    "# Freeze all layers initially\n",
    "for param in model.pretrained_model.parameters():\n",
    "    param.requires_grad = False\n",
    "\n",
    "# Enable only the 10th and 11th layers\n",
    "for layer_idx in [10, 11]:\n",
    "    for param in model.pretrained_model.encoder.layer[layer_idx].parameters():\n",
    "        param.requires_grad = True\n",
    "\n",
    "# Enable the pooler layer\n",
    "for param in model.pretrained_model.pooler.parameters():\n",
    "    param.requires_grad = True\n",
    "\n",
    "# Verify which layers are trainable\n",
    "print(\"Trainable Parameters:\")\n",
    "for name, param in model.named_parameters():\n",
    "    status = \"Trainable\" if param.requires_grad else \"Frozen\"\n",
    "    print(f\"{name}: {status}\")"
   ]
  },
  {
   "cell_type": "code",
   "execution_count": null,
   "id": "IBCcYKCXfHN9",
   "metadata": {
    "colab": {
     "base_uri": "https://localhost:8080/",
     "height": 894
    },
    "id": "IBCcYKCXfHN9",
    "outputId": "ac75724e-06d8-4cc8-dbb6-6a41666b48c0"
   },
   "outputs": [
    {
     "output_type": "stream",
     "name": "stderr",
     "text": [
      "/usr/local/lib/python3.11/dist-packages/transformers/optimization.py:591: FutureWarning: This implementation of AdamW is deprecated and will be removed in a future version. Use the PyTorch implementation torch.optim.AdamW instead, or set `no_deprecation_warning=True` to disable this warning\n",
      "  warnings.warn(\n"
     ]
    },
    {
     "output_type": "display_data",
     "data": {
      "text/plain": [
       "<IPython.core.display.HTML object>"
      ],
      "text/html": [
       "Tracking run with wandb version 0.19.2"
      ]
     },
     "metadata": {}
    },
    {
     "output_type": "display_data",
     "data": {
      "text/plain": [
       "<IPython.core.display.HTML object>"
      ],
      "text/html": [
       "Run data is saved locally in <code>/content/wandb/run-20250117_180311-3dp2riwr</code>"
      ]
     },
     "metadata": {}
    },
    {
     "output_type": "display_data",
     "data": {
      "text/plain": [
       "<IPython.core.display.HTML object>"
      ],
      "text/html": [
       "Syncing run <strong><a href='https://wandb.ai/hannsflip-none/Fake%20news%20comments/runs/3dp2riwr' target=\"_blank\">training_Fake news comments_longer_model</a></strong> to <a href='https://wandb.ai/hannsflip-none/Fake%20news%20comments' target=\"_blank\">Weights & Biases</a> (<a href='https://wandb.me/developer-guide' target=\"_blank\">docs</a>)<br>"
      ]
     },
     "metadata": {}
    },
    {
     "output_type": "display_data",
     "data": {
      "text/plain": [
       "<IPython.core.display.HTML object>"
      ],
      "text/html": [
       " View project at <a href='https://wandb.ai/hannsflip-none/Fake%20news%20comments' target=\"_blank\">https://wandb.ai/hannsflip-none/Fake%20news%20comments</a>"
      ]
     },
     "metadata": {}
    },
    {
     "output_type": "display_data",
     "data": {
      "text/plain": [
       "<IPython.core.display.HTML object>"
      ],
      "text/html": [
       " View run at <a href='https://wandb.ai/hannsflip-none/Fake%20news%20comments/runs/3dp2riwr' target=\"_blank\">https://wandb.ai/hannsflip-none/Fake%20news%20comments/runs/3dp2riwr</a>"
      ]
     },
     "metadata": {}
    },
    {
     "output_type": "stream",
     "name": "stdout",
     "text": [
      "Epoch 1: Train Loss=0.7031, Accuracy=0.5404, F1 Score=0.7004\n",
      "Epoch 1: Val Accuracy=0.5445, F1 Score=0.7051\n",
      "Epoch 2: Train Loss=0.6003, Accuracy=0.9588, F1 Score=0.9613\n",
      "Epoch 2: Val Accuracy=0.9963, F1 Score=0.9966\n",
      "Epoch 3: Train Loss=0.5658, Accuracy=0.9934, F1 Score=0.9939\n",
      "Epoch 3: Val Accuracy=0.9946, F1 Score=0.9950\n"
     ]
    },
    {
     "output_type": "stream",
     "name": "stderr",
     "text": [
      "2025/01/17 19:37:33 WARNING mlflow.utils.requirements_utils: Found torch version (2.5.1+cu121) contains a local version label (+cu121). MLflow logged a pip requirement for this package as 'torch==2.5.1' without the local version label to make it installable from PyPI. To specify pip requirements containing local version labels, please use `conda_env` or `pip_requirements`.\n",
      "2025/01/17 19:37:44 WARNING mlflow.utils.requirements_utils: The following packages were not found in the public PyPI package index as of 2024-12-04; if these packages are not present in the public PyPI index, you must install them manually before loading your model: {'google-genai'}\n",
      "2025/01/17 19:37:44 WARNING mlflow.utils.requirements_utils: Found torchvision version (0.20.1+cu121) contains a local version label (+cu121). MLflow logged a pip requirement for this package as 'torchvision==0.20.1' without the local version label to make it installable from PyPI. To specify pip requirements containing local version labels, please use `conda_env` or `pip_requirements`.\n",
      "\u001B[31m2025/01/17 19:37:44 WARNING mlflow.models.model: Model logged without a signature and input example. Please set `input_example` parameter when logging the model to auto infer the model signature.\u001B[0m\n"
     ]
    },
    {
     "output_type": "stream",
     "name": "stdout",
     "text": [
      "🏃 View run roberta_model at: https://dagshub.com/auszed/Experiments_fake_news.mlflow/#/experiments/0/runs/7ad1fa9b55514c96b25a83fe214931b5\n",
      "🧪 View experiment at: https://dagshub.com/auszed/Experiments_fake_news.mlflow/#/experiments/0\n"
     ]
    },
    {
     "output_type": "display_data",
     "data": {
      "text/plain": [
       "<IPython.core.display.HTML object>"
      ],
      "text/html": []
     },
     "metadata": {}
    },
    {
     "output_type": "display_data",
     "data": {
      "text/plain": [
       "<IPython.core.display.HTML object>"
      ],
      "text/html": [
       "<br>    <style><br>        .wandb-row {<br>            display: flex;<br>            flex-direction: row;<br>            flex-wrap: wrap;<br>            justify-content: flex-start;<br>            width: 100%;<br>        }<br>        .wandb-col {<br>            display: flex;<br>            flex-direction: column;<br>            flex-basis: 100%;<br>            flex: 1;<br>            padding: 10px;<br>        }<br>    </style><br><div class=\"wandb-row\"><div class=\"wandb-col\"><h3>Run history:</h3><br/><table class=\"wandb\"><tr><td>epochs</td><td>▁▅█</td></tr><tr><td>train_accuracy</td><td>▁▇█</td></tr><tr><td>train_f1</td><td>▁▇█</td></tr><tr><td>train_loss</td><td>█▃▁</td></tr><tr><td>val_accuracy</td><td>▁██</td></tr><tr><td>val_f1</td><td>▁██</td></tr></table><br/></div><div class=\"wandb-col\"><h3>Run summary:</h3><br/><table class=\"wandb\"><tr><td>epochs</td><td>3</td></tr><tr><td>train_accuracy</td><td>0.99342</td></tr><tr><td>train_f1</td><td>0.99394</td></tr><tr><td>train_loss</td><td>0.56583</td></tr><tr><td>val_accuracy</td><td>0.99459</td></tr><tr><td>val_f1</td><td>0.99501</td></tr></table><br/></div></div>"
      ]
     },
     "metadata": {}
    },
    {
     "output_type": "display_data",
     "data": {
      "text/plain": [
       "<IPython.core.display.HTML object>"
      ],
      "text/html": [
       " View run <strong style=\"color:#cdcd00\">training_Fake news comments_longer_model</strong> at: <a href='https://wandb.ai/hannsflip-none/Fake%20news%20comments/runs/3dp2riwr' target=\"_blank\">https://wandb.ai/hannsflip-none/Fake%20news%20comments/runs/3dp2riwr</a><br> View project at: <a href='https://wandb.ai/hannsflip-none/Fake%20news%20comments' target=\"_blank\">https://wandb.ai/hannsflip-none/Fake%20news%20comments</a><br>Synced 5 W&B file(s), 0 media file(s), 3 artifact file(s) and 0 other file(s)"
      ]
     },
     "metadata": {}
    },
    {
     "output_type": "display_data",
     "data": {
      "text/plain": [
       "<IPython.core.display.HTML object>"
      ],
      "text/html": [
       "Find logs at: <code>./wandb/run-20250117_180311-3dp2riwr/logs</code>"
      ]
     },
     "metadata": {}
    }
   ],
   "source": [
    "#@title Train the model\n",
    "config = {\n",
    "        \"model_name\": MODEL_NAME,\n",
    "        \"lr\": LEARNING_RATE,\n",
    "        \"w_decay\": WEIGHT_DECAY,\n",
    "        \"dropout_vals\": DROPOUT_VALUE,\n",
    "        \"batch_size\": BATCH_SIZE,\n",
    "        \"warmup\": WARMUP_RATIO,\n",
    "        \"epochs\": EPOCHS,\n",
    "        \"train_size\": len(dataset_loader_X_train),\n",
    "        \"beta_f1\" : 1\n",
    "    }\n",
    "\n",
    "# Select optimizer\n",
    "optimizer = AdamW(model.parameters(), lr=config['lr'], weight_decay=config['w_decay'])\n",
    "\n",
    "# Scheduler setup\n",
    "total_steps = config['train_size'] // config['batch_size']\n",
    "warmup_steps = int(total_steps * config['warmup'])\n",
    "scheduler = get_linear_schedule_with_warmup(optimizer, num_warmup_steps=warmup_steps, num_training_steps=total_steps)\n",
    "\n",
    "# Initialize Weights & Biases\n",
    "wandb.init(\n",
    "    project=NAME_EXPERIMENTS,\n",
    "    config={\n",
    "        \"model_name\": config['model_name'],\n",
    "        \"learning_rate\": config['lr'],\n",
    "        \"batch_size\": config['batch_size'],\n",
    "        \"dropout\": config['dropout_vals'],\n",
    "        \"epochs\": config['epochs'],\n",
    "        \"weight_decay\": config['w_decay'],\n",
    "        \"warmup\": config['warmup'],\n",
    "        \"dataset\": DATASET_NAME,\n",
    "        \"optimizer\": OPTIMIZER_NAME,\n",
    "        \"COMMENTS\": COMMENTS,\n",
    "    },\n",
    "    name=f\"training_{NAME_EXPERIMENTS}_longer_model\"\n",
    ")\n",
    "\n",
    "# Training loop\n",
    "with mlflow.start_run(run_name=\"roberta_model\"):\n",
    "    mlflow.log_params({\n",
    "        \"model_name\": config['model_name'],\n",
    "        \"learning_rate\": config['lr'],\n",
    "        \"batch_size\": config['batch_size'],\n",
    "        \"dropout\": config['dropout_vals'],\n",
    "        \"epochs\": config['epochs'],\n",
    "        \"weight_decay\": config['w_decay'],\n",
    "        \"warmup\": config['warmup'],\n",
    "        \"dataset\": DATASET_NAME,\n",
    "        \"optimizer\": OPTIMIZER_NAME,\n",
    "        \"COMMENTS\": COMMENTS\n",
    "    })\n",
    "\n",
    "    for epoch in range(config['epochs']):\n",
    "        train_loss, train_accuracy, train_f1 = train_model(model, train_loader, optimizer, scheduler, device, THRESHOLD_PROBABILITIES_MODEL, config[\"beta_f1\"])\n",
    "        val_accuracy, val_f1, _, _, _,_ = evaluate_model(model, val_loader, device, THRESHOLD_PROBABILITIES_MODEL, config[\"beta_f1\"])\n",
    "\n",
    "        print(f\"Epoch {epoch + 1}: Train Loss={train_loss:.4f}, Accuracy={train_accuracy:.4f}, F1 Score={train_f1:.4f}\")\n",
    "        print(f\"Epoch {epoch + 1}: Val Accuracy={val_accuracy:.4f}, F1 Score={val_f1:.4f}\")\n",
    "\n",
    "        # Update scheduler\n",
    "        scheduler.step()\n",
    "\n",
    "        # Log metrics\n",
    "        mlflow.log_metrics({\n",
    "            \"train_loss\": train_loss,\n",
    "            \"train_accuracy\": train_accuracy,\n",
    "            \"train_f1\": train_f1,\n",
    "            \"val_accuracy\": val_accuracy,\n",
    "            \"val_f1\": val_f1,\n",
    "        }, step=epoch)\n",
    "\n",
    "        wandb.log({\n",
    "            \"epochs\": epoch + 1,\n",
    "            \"train_loss\": train_loss,\n",
    "            \"train_accuracy\": train_accuracy,\n",
    "            \"train_f1\": train_f1,\n",
    "            \"val_accuracy\": val_accuracy,\n",
    "            \"val_f1\": val_f1,\n",
    "        })\n",
    "\n",
    "    # Log final model to MLflow\n",
    "    mlflow.pytorch.log_model(model, f\"{MODEL_NAME}_{VERSION_MODEL}\")\n",
    "\n",
    "    file_path = \"/content/\"\n",
    "    torch.save(model, f\"{file_path}{MODEL_NAME}_{VERSION_MODEL}.pth\")\n",
    "    torch.save(model.state_dict(), f\"{file_path}{MODEL_NAME}_{VERSION_MODEL}_weights.pth\")\n",
    "\n",
    "    artifact = wandb.Artifact(f\"{MODEL_NAME}_artifact\", type=\"model\")\n",
    "    artifact.add_file(f\"{file_path}{MODEL_NAME}_{VERSION_MODEL}.pth\")\n",
    "    artifact.add_file(f\"{file_path}{MODEL_NAME}_{VERSION_MODEL}_weights.pth\")\n",
    "    wandb.log_artifact(artifact)\n",
    "\n",
    "\n",
    "\n",
    "# Close services\n",
    "wandb.finish()"
   ]
  },
  {
   "cell_type": "code",
   "execution_count": null,
   "id": "oKcA11Vzj1wZ",
   "metadata": {
    "id": "oKcA11Vzj1wZ",
    "colab": {
     "base_uri": "https://localhost:8080/"
    },
    "outputId": "ad3e58dc-bbb5-40bd-aea1-ebaa68db5972"
   },
   "outputs": [
    {
     "output_type": "stream",
     "name": "stdout",
     "text": [
      "Predictions, Accuracy=0.9952862858772278, F1 Score=0.9956556558609009\n",
      "Confusion Matrix:\n"
     ]
    },
    {
     "output_type": "execute_result",
     "data": {
      "text/plain": [
       "array([[2607,    3],\n",
       "       [  24, 3094]])"
      ]
     },
     "metadata": {},
     "execution_count": 28
    }
   ],
   "source": [
    "test_accuracy, test_f1, all_preds, all_labels, all_predict_prob,_  = evaluate_model(model, test_loader, device, THRESHOLD_PROBABILITIES_MODEL)\n",
    "print(f\"Predictions, Accuracy={test_accuracy}, F1 Score={test_f1}\")\n",
    "\n",
    "conf_matrix = confusion_matrix(all_labels, all_preds)\n",
    "\n",
    "# Print the confusion matrix\n",
    "print(\"Confusion Matrix:\")\n",
    "conf_matrix\n"
   ]
  },
  {
   "cell_type": "code",
   "execution_count": null,
   "id": "dHhbuPJglgMl",
   "metadata": {
    "id": "dHhbuPJglgMl",
    "colab": {
     "base_uri": "https://localhost:8080/",
     "height": 487
    },
    "outputId": "345b676b-42cf-49a0-d275-1661a389c868"
   },
   "outputs": [
    {
     "output_type": "display_data",
     "data": {
      "text/plain": [
       "<Figure size 1500x500 with 2 Axes>"
      ],
      "image/png": "[encoded data removed]"
     },
     "metadata": {}
    }
   ],
   "source": [
    "plt.figure(figsize=(15, 5))\n",
    "sns.heatmap(conf_matrix, annot=True, fmt='d', cmap='Blues', xticklabels=['Real news', 'Fake news'], yticklabels=['Real news', 'Fake news'])\n",
    "plt.title('Confusion Matrix')\n",
    "plt.xlabel('Predicted Label')\n",
    "plt.ylabel('True Label')\n",
    "plt.show()"
   ]
  },
  {
   "cell_type": "markdown",
   "id": "YvdviWbzTp2l",
   "metadata": {
    "id": "YvdviWbzTp2l"
   },
   "source": [
    "# Summary\n",
    "\n",
    "After running the model for 3 epochs, we observed that it was making accurate predictions, which could indicate overfitting. In the next experiment, we will examine some of the model's predictions to gain a better understanding of its performance and behavior."
   ]
  }
 ],
 "metadata": {
  "accelerator": "GPU",
  "colab": {
   "gpuType": "L4",
   "machine_shape": "hm",
   "provenance": []
  },
  "kernelspec": {
   "display_name": "Python 3",
   "name": "python3"
  },
  "language_info": {
   "codemirror_mode": {
    "name": "ipython",
    "version": 2
   },
   "file_extension": ".py",
   "mimetype": "text/x-python",
   "name": "python",
   "nbconvert_exporter": "python",
   "pygments_lexer": "ipython2",
   "version": "2.7.6"
  }
 },
 "nbformat": 4,
 "nbformat_minor": 5
}
